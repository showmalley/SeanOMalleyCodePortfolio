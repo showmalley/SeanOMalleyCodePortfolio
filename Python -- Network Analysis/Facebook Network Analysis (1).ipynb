{
 "cells": [
  {
   "attachments": {},
   "cell_type": "markdown",
   "metadata": {},
   "source": [
    "# Facebook Social Network Analysis\n",
    "## Sean O'Malley\n",
    "\n",
    "------------------------------------------------\n",
    "\n",
    "__Network Analysis__ comes from concept of network theory, which is the representation of symmetric relations between discrete objects. This analysis can be used to graph and understand various social and transportation networks. Primarily, network analysis helps us model relationships between entities, entity importance and find community structure within a network. \n",
    "\n",
    "Using Facebook survey participant data from the <a href=\"http://snap.stanford.edu/data/ego-Facebook.html\">Stanford Network Analysis Project</a> we aim to: \n",
    "\n",
    "* _Understand the Network Structure_\n",
    "    * Nodes\n",
    "    * Edges\n",
    "    * Degree \n",
    "    * Degree Centrality\n",
    "    * Betweenness centrality\n",
    "    \n",
    "* _Visualize the Network_\n",
    "    * Matrix\n",
    "    * Circos\n",
    "    * Arc\n",
    "\n",
    "* _Find Groups Within the Network_\n",
    "    * Triangles\n",
    "    * Cliques\n",
    "    * Maximal Cliques\n",
    "    \n",
    "* _Explore Subsets of Interest_\n",
    "\n",
    "* _Determine the Network Influencers_\n",
    "    * Characteristics of these nodes\n",
    "    * Visualize within network\n",
    "    \n",
    "* _Recommend Friend Connections_\n",
    "    * Open triangles\n",
    "\n",
    "* _Summary_\n",
    "\n",
    "* _Challenges & Lessons Learned_\n",
    "\n",
    "A majority of the Facebook data has been anonymized by replacing the internal ids with new values, while also obsucring interpretation of many features. Allowing us to make connections by features, but without knowing their exact value and protecting the user.\n",
    "\n",
    "------------------------------------------------\n",
    "\n",
    "\n",
    "### __Import Packages__ : Facebook Network Analysis"
   ]
  },
  {
   "cell_type": "code",
   "execution_count": 1,
   "metadata": {},
   "outputs": [],
   "source": [
    "import os\n",
    "from glob import iglob\n",
    "import numpy as np \n",
    "import pandas as pd\n",
    "import networkx as nx\n",
    "import gzip\n",
    "import matplotlib.pyplot as plt"
   ]
  },
  {
   "cell_type": "code",
   "execution_count": 8,
   "metadata": {},
   "outputs": [],
   "source": [
    "import nxviz as nv"
   ]
  },
  {
   "cell_type": "markdown",
   "metadata": {},
   "source": [
    "### __Ingestion__ : Facebook Network Analysis"
   ]
  },
  {
   "cell_type": "code",
   "execution_count": 9,
   "metadata": {},
   "outputs": [],
   "source": [
    "# Read in file, cast as string for cleaning\n",
    "f = gzip.open('facebook_combined.txt.gz','rb')\n",
    "content = str(f.read())\n",
    "f.close()\n",
    "\n",
    "# Clean up and cut off messy bookends\n",
    "content = content[4:-8]\n",
    "content = content.replace(\"\\\\n\",\",\")\n",
    "content = content.replace(\" \",\";\")\n",
    "content = content.split(\";\")\n",
    "    \n",
    "# Initialize Lists\n",
    "output = []\n",
    "clean = []\n",
    "    \n",
    "# Build list of lists\n",
    "for i in content:\n",
    "    x = i.split(\",\") \n",
    "    output.append(x)\n",
    "        \n",
    "# Cast as integers  \n",
    "clean = [[int(x) for x in y] for y in output]"
   ]
  },
  {
   "cell_type": "markdown",
   "metadata": {},
   "source": [
    "### __Understand__ : Facebook Network Analysis\n"
   ]
  },
  {
   "cell_type": "code",
   "execution_count": 10,
   "metadata": {},
   "outputs": [],
   "source": [
    "g = nx.Graph()\n",
    "g.add_edges_from(clean)"
   ]
  },
  {
   "cell_type": "code",
   "execution_count": 11,
   "metadata": {},
   "outputs": [
    {
     "name": "stdout",
     "output_type": "stream",
     "text": [
      "------------------------------------------\n",
      "The network has 4039 nodes and 88074 edges. Confirming SNAP data structure.\n",
      "------------------------------------------\n"
     ]
    }
   ],
   "source": [
    "print(\"------------------------------------------\")\n",
    "print(\"The network has \" + str(len(g.nodes())) + \" nodes and \" + str(len(g.edges())) + \" edges. Confirming SNAP data structure.\")\n",
    "print(\"------------------------------------------\")"
   ]
  },
  {
   "cell_type": "markdown",
   "metadata": {},
   "source": [
    "##### Remove Self Loops\n",
    "\n",
    "We want to take a quick moment to find and remove any self loops. A self loop is a node connected to itself. We don't want these in our Facebook analysis because a self loop means someone who is friends with themselves. "
   ]
  },
  {
   "cell_type": "code",
   "execution_count": 12,
   "metadata": {},
   "outputs": [],
   "source": [
    "def find_selfloop_nodes(a):\n",
    "    \n",
    "    nodes_in_selfloops = []\n",
    "    \n",
    "    # Iterate over all the edges of G\n",
    "    for k, v in a.edges(data=False):\n",
    "        if k == v:\n",
    "            nodes_in_selfloops.append(k)\n",
    "            \n",
    "    return nodes_in_selfloops"
   ]
  },
  {
   "cell_type": "code",
   "execution_count": 13,
   "metadata": {},
   "outputs": [
    {
     "name": "stdout",
     "output_type": "stream",
     "text": [
      "------------------------------------------\n",
      "We can see we have 6 self loops that need to be removed.\n",
      "[339, 1254, 1894, 657, 809, 2642]\n",
      "------------------------------------------\n"
     ]
    }
   ],
   "source": [
    "print(\"------------------------------------------\")\n",
    "print(\"We can see we have \" + str(g.number_of_selfloops()) + \" self loops that need to be removed.\")\n",
    "print(str(find_selfloop_nodes(g)))\n",
    "print(\"------------------------------------------\")"
   ]
  },
  {
   "cell_type": "code",
   "execution_count": 14,
   "metadata": {},
   "outputs": [],
   "source": [
    "g.remove_edges_from(g.selfloop_edges())"
   ]
  },
  {
   "cell_type": "code",
   "execution_count": 15,
   "metadata": {},
   "outputs": [
    {
     "name": "stdout",
     "output_type": "stream",
     "text": [
      "------------------------------------------\n",
      "We now have 0 self loops remaining.\n",
      "------------------------------------------\n"
     ]
    }
   ],
   "source": [
    "print(\"------------------------------------------\")\n",
    "print(\"We now have \" + str(g.number_of_selfloops()) + \" self loops remaining.\")\n",
    "print(\"------------------------------------------\")"
   ]
  },
  {
   "cell_type": "markdown",
   "metadata": {},
   "source": [
    "The following descriptive statistical network analysis methodologies attempt to answer the question.\n",
    "\n",
    "> __How do you determine how important a node is, or is not?__\n",
    "\n",
    "\n",
    "##### Degree \n",
    "\n",
    "The degree of a node in a network is the number of connections it has, while the degree distribution is the probability distribution of the degrees of nodes across the entire network.\n",
    "\n",
    "To explore the degree of nodes from a high level, I have created a UDF to find the number of nodes given a number of connections. I placed this UDF into a loop in order to get a distribution of nodes by neighbor count."
   ]
  },
  {
   "cell_type": "code",
   "execution_count": 26,
   "metadata": {},
   "outputs": [
    {
     "name": "stdout",
     "output_type": "stream",
     "text": [
      "{3074, 6, 3091, 2580, 533, 32, 44, 3632, 2100, 3127, 2621, 63, 3660, 77, 3661, 3665, 86, 3161, 95, 102, 3175, 1133, 2671, 117, 1151, 1664, 3724, 655, 1168, 3217, 3727, 147, 2721, 3745, 163, 3749, 3751, 691, 3270, 2767, 2774, 2776, 219, 3806, 1759, 229, 237, 1263, 1792, 2824, 3848, 269, 1297, 3859, 1301, 3370, 1838, 3893, 2358, 825, 1855, 2884, 2375, 846, 2899, 340, 2388, 3936, 1890, 3432, 873, 874, 365, 879, 3441, 3447, 887, 890, 3963, 895, 3457, 3970, 1924, 390, 3977, 3985, 3989, 3477, 3993, 3513, 2493, 2517, 1498, 987, 476, 3044, 3055, 1521, 498}\n"
     ]
    }
   ],
   "source": [
    "def nodes_with_neighbors(G,m):\n",
    "    nodes = set()\n",
    "    for n in G.nodes(data=False):\n",
    "        if len(list(G.neighbors(n))) == m:\n",
    "            nodes.add(n)\n",
    "    return nodes\n",
    "\n",
    "six_nbrs = nodes_with_neighbors(g, m = 6)\n",
    "print(six_nbrs)"
   ]
  },
  {
   "cell_type": "code",
   "execution_count": 22,
   "metadata": {},
   "outputs": [],
   "source": [
    "dg = [len(list(g.neighbors(n))) for n in g.nodes(data=False)]"
   ]
  },
  {
   "cell_type": "markdown",
   "metadata": {},
   "source": [
    "##### Degree Centrality\n",
    "\n",
    "The degree centrality takes the degree process a step further, by giving an importance score based on the number of links held by each node. Providing a measure of node connectivity in a simple equation\n",
    "\n",
    "> __degree centrality__ = number of neighbors / number of total possible neighbors"
   ]
  },
  {
   "cell_type": "code",
   "execution_count": 17,
   "metadata": {},
   "outputs": [],
   "source": [
    "dc = nx.degree_centrality(g)"
   ]
  },
  {
   "cell_type": "code",
   "execution_count": 18,
   "metadata": {},
   "outputs": [
    {
     "data": {
      "image/png": "[encoded data removed]",
      "text/plain": [
       "<Figure size 432x288 with 1 Axes>"
      ]
     },
     "metadata": {},
     "output_type": "display_data"
    }
   ],
   "source": [
    "plt.figure()\n",
    "plt.hist(list(dc.values()))\n",
    "plt.show()"
   ]
  },
  {
   "cell_type": "code",
   "execution_count": 23,
   "metadata": {},
   "outputs": [
    {
     "data": {
      "image/png": "[encoded data removed]",
      "text/plain": [
       "<Figure size 432x288 with 1 Axes>"
      ]
     },
     "metadata": {},
     "output_type": "display_data"
    }
   ],
   "source": [
    "plt.figure()\n",
    "plt.scatter(dg,list(dc.values()))\n",
    "plt.show()"
   ]
  },
  {
   "cell_type": "markdown",
   "metadata": {},
   "source": [
    "##### Betweenness Centrality \n",
    "\n"
   ]
  },
  {
   "cell_type": "markdown",
   "metadata": {},
   "source": [
    "##### Breadth First Search"
   ]
  },
  {
   "cell_type": "code",
   "execution_count": null,
   "metadata": {},
   "outputs": [],
   "source": []
  }
 ],
 "metadata": {
  "kernelspec": {
   "display_name": "Python 3",
   "language": "python",
   "name": "python3"
  },
  "language_info": {
   "codemirror_mode": {
    "name": "ipython",
    "version": 3
   },
   "file_extension": ".py",
   "mimetype": "text/x-python",
   "name": "python",
   "nbconvert_exporter": "python",
   "pygments_lexer": "ipython3",
   "version": "3.6.4"
  }
 },
 "nbformat": 4,
 "nbformat_minor": 2
}
