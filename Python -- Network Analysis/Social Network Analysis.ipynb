{
 "cells": [
  {
   "cell_type": "markdown",
   "metadata": {},
   "source": [
    "# Social Network Analysis\n",
    "## Sean O'Malley\n",
    "\n",
    "------------------------------------------------\n",
    "\n",
    "The intent of this analysis is to be able to take a large network of undirected connections and make sense of that network, while also giving shape to the possible networks within. This entire analysis is framed as a test case for maximizing understanding of a community given minimal input. \n",
    "\n",
    "This analysis is of interest to me as I have most recently been volunteering, researching and practicing data science in the poorest areas of Perú, with a specific focus on the communities of Pamplona Alta and Ayaviri with the aim of __understanding urban and rural poverty__ in the developing world better. We hope to one day be able to map and __interpret community structures__ in order to help them more. \n",
    "\n",
    "The analysis used is __network analysis__, which comes from the concept of network (graph) theory. Network theory is the representation of symmetric relations between discrete objects. This analysis can be used to graph and understand various social and transportation networks. Primarily, network analysis helps us model relationships between entities, determine entity importance and find community structures within a network. \n",
    "\n",
    "The test data used is a list of __Facebook__ friend relationships from <a href=\"http://snap.stanford.edu/data/ego-Facebook.html\">Stanford Network Analysis Project</a>, and using this data we aim to perform the following analyses:\n",
    "\n",
    "* _Understand the Network Structure_\n",
    "    * Nodes\n",
    "    * Edges\n",
    "    * Degree \n",
    "    * Degree Centrality\n",
    "    * Betweenness Centrality\n",
    "    \n",
    "* _Visualize the Network_\n",
    "    * Matrix\n",
    "    * Circos\n",
    "    * Arc\n",
    "\n",
    "* _Find Groups Within the Network_\n",
    "    * Triangles\n",
    "    * Cliques\n",
    "    * Maximal Cliques\n",
    "    \n",
    "* _Explore Subsets of Interest_\n",
    "\n",
    "* _Determine the Network Influencers_\n",
    "    * Characteristics\n",
    "    * Visualize\n",
    "    \n",
    "* _Recommend Friend Connections_\n",
    "    * Open Triangles\n",
    "\n",
    "* _Summary_\n",
    "\n",
    "* _Challenges & Lessons Learned_\n",
    "\n",
    "------------------------------------------------\n",
    "\n",
    "_The data has been anonymized by replacing the Facebook internal ids with new values_\n",
    "\n",
    "------------------------------------------------\n",
    "\n",
    "\n",
    "### Import Packages : _Facebook Network Analysis_"
   ]
  },
  {
   "cell_type": "code",
   "execution_count": 1,
   "metadata": {},
   "outputs": [],
   "source": [
    "import os\n",
    "from glob import iglob\n",
    "import numpy as np \n",
    "import pandas as pd\n",
    "import networkx as nx\n",
    "import gzip\n",
    "import matplotlib.pyplot as plt"
   ]
  },
  {
   "cell_type": "code",
   "execution_count": 2,
   "metadata": {},
   "outputs": [],
   "source": [
    "import nxviz as nv"
   ]
  },
  {
   "cell_type": "markdown",
   "metadata": {},
   "source": [
    "### Ingestion : _Facebook Network Analysis_"
   ]
  },
  {
   "cell_type": "code",
   "execution_count": 3,
   "metadata": {},
   "outputs": [],
   "source": [
    "# Read in file, cast as string for cleaning\n",
    "f = gzip.open('facebook_combined.txt.gz','rb')\n",
    "content = str(f.read())\n",
    "f.close()\n",
    "\n",
    "# Clean up and cut off messy bookends\n",
    "content = content[4:-8]\n",
    "content = content.replace(\"\\\\n\",\",\")\n",
    "content = content.replace(\" \",\";\")\n",
    "content = content.split(\";\")\n",
    "    \n",
    "# Initialize Lists\n",
    "output = []\n",
    "clean = []\n",
    "    \n",
    "# Build list of lists\n",
    "for i in content:\n",
    "    x = i.split(\",\") \n",
    "    output.append(x)\n",
    "        \n",
    "# Cast as integers  \n",
    "clean = [[int(x) for x in y] for y in output]"
   ]
  },
  {
   "cell_type": "markdown",
   "metadata": {},
   "source": [
    "__Quick irregularity check__\n",
    "\n",
    "We built two lists then concatenated to determine a count of all nodes mentioned in our original list of lists in order to spot any irregularities on ingestion."
   ]
  },
  {
   "cell_type": "code",
   "execution_count": 150,
   "metadata": {},
   "outputs": [],
   "source": [
    "list0 = []\n",
    "list1 = []\n",
    "\n",
    "for i in range(len(clean)):\n",
    "    x = clean[i][0]\n",
    "    list0.append(x)\n",
    "    \n",
    "for i in range(len(clean)):\n",
    "    x = clean[i][1]\n",
    "    list1.append(x)\n",
    "    \n",
    "qq = list0 + list1"
   ]
  },
  {
   "cell_type": "code",
   "execution_count": 161,
   "metadata": {},
   "outputs": [
    {
     "data": {
      "image/png": "[encoded data removed]",
      "text/plain": [
       "<Figure size 1200x480 with 1 Axes>"
      ]
     },
     "metadata": {},
     "output_type": "display_data"
    }
   ],
   "source": [
    "plt.figure(figsize=(15, 6), dpi=80, facecolor='lightgray')\n",
    "plt.hist(qq, bins = list(np.arange(0, len(list(set(qq))), 1)))\n",
    "plt.suptitle('Quick Node Count', fontsize=20)\n",
    "plt.xlabel('Node ID', fontsize=16)\n",
    "plt.ylabel('Count of Occurrances', fontsize=16)\n",
    "plt.ylim((0,275))\n",
    "plt.show()"
   ]
  },
  {
   "cell_type": "markdown",
   "metadata": {},
   "source": [
    "### Understand : _Facebook Network Analysis_\n",
    "#### Statistical Data Exploration"
   ]
  },
  {
   "cell_type": "code",
   "execution_count": 4,
   "metadata": {},
   "outputs": [],
   "source": [
    "g = nx.Graph()\n",
    "g.add_edges_from(clean)"
   ]
  },
  {
   "cell_type": "code",
   "execution_count": 5,
   "metadata": {},
   "outputs": [
    {
     "name": "stdout",
     "output_type": "stream",
     "text": [
      "------------------------------------------\n",
      "The network has 4039 nodes and 88074 edges. Confirming SNAP data structure.\n",
      "------------------------------------------\n"
     ]
    }
   ],
   "source": [
    "print(\"------------------------------------------\")\n",
    "print(\"The network has \" + str(len(g.nodes())) + \" nodes and \" + str(len(g.edges())) + \" edges. Confirming SNAP data structure.\")\n",
    "print(\"------------------------------------------\")"
   ]
  },
  {
   "cell_type": "markdown",
   "metadata": {},
   "source": [
    "##### Remove Self Loops\n",
    "\n",
    "We want to take a quick moment to find and remove any self loops. A self loop is a node connected to itself. We don't want these in our Facebook analysis because a self loop means someone who is friends with themselves. "
   ]
  },
  {
   "cell_type": "code",
   "execution_count": 6,
   "metadata": {},
   "outputs": [],
   "source": [
    "def find_selfloop_nodes(a):\n",
    "    \n",
    "    nodes_in_selfloops = []\n",
    "    \n",
    "    # Iterate over all the edges of G\n",
    "    for k, v in a.edges(data=False):\n",
    "        if k == v:\n",
    "            nodes_in_selfloops.append(k)\n",
    "            \n",
    "    return nodes_in_selfloops"
   ]
  },
  {
   "cell_type": "code",
   "execution_count": 7,
   "metadata": {},
   "outputs": [
    {
     "name": "stdout",
     "output_type": "stream",
     "text": [
      "------------------------------------------\n",
      "We can see we have 6 self loops that need to be removed.\n",
      "[339, 1254, 1894, 657, 809, 2642]\n",
      "------------------------------------------\n"
     ]
    }
   ],
   "source": [
    "print(\"------------------------------------------\")\n",
    "print(\"We can see we have \" + str(g.number_of_selfloops()) + \" self loops that need to be removed.\")\n",
    "print(str(find_selfloop_nodes(g)))\n",
    "print(\"------------------------------------------\")"
   ]
  },
  {
   "cell_type": "code",
   "execution_count": 8,
   "metadata": {},
   "outputs": [],
   "source": [
    "g.remove_edges_from(g.selfloop_edges())"
   ]
  },
  {
   "cell_type": "code",
   "execution_count": 9,
   "metadata": {},
   "outputs": [
    {
     "name": "stdout",
     "output_type": "stream",
     "text": [
      "------------------------------------------\n",
      "We now have 0 self loops remaining.\n",
      "------------------------------------------\n"
     ]
    }
   ],
   "source": [
    "print(\"------------------------------------------\")\n",
    "print(\"We now have \" + str(g.number_of_selfloops()) + \" self loops remaining.\")\n",
    "print(\"------------------------------------------\")"
   ]
  },
  {
   "cell_type": "markdown",
   "metadata": {},
   "source": [
    "##### Degree \n",
    "\n",
    "The degree of a node in a network is the number of connections it has, while the degree distribution is the probability distribution of the degrees of nodes across the entire network.\n",
    "\n",
    "To explore the degree of nodes from a high level, I have created a UDF to find the number of nodes given a number of connections. I placed this UDF into a loop in order to get a distribution of nodes by neighbor count."
   ]
  },
  {
   "cell_type": "code",
   "execution_count": 10,
   "metadata": {},
   "outputs": [],
   "source": [
    "def nodes_with_neighbors(a,m):\n",
    "    nodes = set()\n",
    "    for n in a.nodes(data=False):\n",
    "        if len(list(a.neighbors(n))) == m:\n",
    "            nodes.add(n)\n",
    "    return nodes"
   ]
  },
  {
   "cell_type": "markdown",
   "metadata": {},
   "source": [
    "We need to understand the distribution of degree across nodes, meaning that we have to determine a count of nodes given a number of neighbors. To do so we placed our UDF into a loop that creates a list of node counts, given x amount of neighbors. We selected the range of 0 to 200 neighbors to visualize."
   ]
  },
  {
   "cell_type": "code",
   "execution_count": 11,
   "metadata": {},
   "outputs": [],
   "source": [
    "n = 0\n",
    "neb_num = []\n",
    "\n",
    "for n in range(201):\n",
    "    x = len(nodes_with_neighbors(g, m = n))\n",
    "    neb_num.append(x)\n",
    "    n += 1\n",
    "    \n",
    "neb = pd.DataFrame()\n",
    "neb['n_neighbors'] = list(range(201))\n",
    "neb['n_nodes'] = neb_num"
   ]
  },
  {
   "cell_type": "code",
   "execution_count": 12,
   "metadata": {},
   "outputs": [
    {
     "data": {
      "image/png": "[encoded data removed]",
      "text/plain": [
       "<Figure size 1200x480 with 1 Axes>"
      ]
     },
     "metadata": {},
     "output_type": "display_data"
    }
   ],
   "source": [
    "plt.figure(figsize=(15, 6), dpi=80, facecolor='lightgray')\n",
    "plt.bar(neb['n_neighbors'],neb['n_nodes'])\n",
    "plt.suptitle('Distribution of Neighbors (Degree)', fontsize=20)\n",
    "plt.xlabel('Number of Neighbors', fontsize=16)\n",
    "plt.ylabel('Count of Nodes', fontsize=16)\n",
    "plt.show()"
   ]
  },
  {
   "cell_type": "markdown",
   "metadata": {},
   "source": [
    "##### Degree Centrality\n",
    "\n",
    "The degree centrality takes the degree process a step further, by giving an importance score based on the number of links held by each node. Providing a measure of node connectivity in a simple equation\n",
    "\n",
    "> __degree centrality__ = number of neighbors / number of total possible neighbors"
   ]
  },
  {
   "cell_type": "code",
   "execution_count": 13,
   "metadata": {},
   "outputs": [],
   "source": [
    "dc = nx.degree_centrality(g)"
   ]
  },
  {
   "cell_type": "code",
   "execution_count": 51,
   "metadata": {},
   "outputs": [],
   "source": [
    "dc_v = list(dc.values())"
   ]
  },
  {
   "cell_type": "code",
   "execution_count": 54,
   "metadata": {},
   "outputs": [
    {
     "name": "stdout",
     "output_type": "stream",
     "text": [
      "---------------------\n",
      "The median is 0.006191183754333828 and the mode is 0.010799607246876387\n",
      "Meaning that, True, the dc mean is higher than the median and the distribution is positively skewed.\n",
      "---------------------\n"
     ]
    }
   ],
   "source": [
    "print(\"---------------------\")\n",
    "print(\"The median is \" + str(np.median(dc_v)) + \" and the mode is \" + str(np.mean(dc_v)))\n",
    "print(\"Meaning that, \" + str(np.mean(dc_v)>np.median(dc_v)) + \", the dc mean is higher than the median and the distribution is positively skewed.\")\n",
    "print(\"---------------------\")"
   ]
  },
  {
   "cell_type": "code",
   "execution_count": 60,
   "metadata": {},
   "outputs": [
    {
     "data": {
      "image/png": "[encoded data removed]",
      "text/plain": [
       "<Figure size 1200x480 with 1 Axes>"
      ]
     },
     "metadata": {},
     "output_type": "display_data"
    }
   ],
   "source": [
    "plt.figure(figsize=(15, 6), dpi=80, facecolor='lightgray')\n",
    "plt.hist(list(dc.values()),bins = list(np.arange(0, 0.06, 0.00018)))\n",
    "plt.suptitle('Distribution of Degree Centrality', fontsize=20)\n",
    "plt.xlabel('Degree Centrality Score', fontsize=16)\n",
    "plt.ylabel('Count of Nodes', fontsize=16)\n",
    "plt.show()"
   ]
  },
  {
   "cell_type": "markdown",
   "metadata": {},
   "source": [
    "The graph above lets us know that the majority of nodes have a degree centrality score below 0.01, which is ordinarily low, so there may be more to explore with the ways in which these nodes are connected.\n",
    "\n",
    "_Top Performing DC_\n",
    "\n",
    "Given this largest network view, lets determine the node with the highest degree centrality score. Do do so, we'll make a UDF."
   ]
  },
  {
   "cell_type": "code",
   "execution_count": 22,
   "metadata": {},
   "outputs": [],
   "source": [
    "def highest_deg_cent(a):\n",
    "    \n",
    "    dc = nx.degree_centrality(a)\n",
    "    \n",
    "    max_dc = max(list(dc.values()))\n",
    "    \n",
    "    nodes = set()\n",
    "    \n",
    "    for k, v in dc.items():\n",
    "        if v == max_dc:\n",
    "            nodes.add(k)\n",
    "            \n",
    "    return (nodes,max_dc)"
   ]
  },
  {
   "cell_type": "code",
   "execution_count": 32,
   "metadata": {},
   "outputs": [],
   "source": [
    "best_dc_n,best_dc = highest_deg_cent(g)"
   ]
  },
  {
   "cell_type": "code",
   "execution_count": 39,
   "metadata": {},
   "outputs": [
    {
     "name": "stdout",
     "output_type": "stream",
     "text": [
      "---------------------\n",
      "Node 107 had the highest centrality score of 0.2588\n",
      "---------------------\n"
     ]
    }
   ],
   "source": [
    "print(\"---------------------\")\n",
    "print(\"Node \" +  str(list(best_dc_n)[0]) + \" had the highest centrality score of \" + str(round(best_dc,4)))\n",
    "print(\"---------------------\")"
   ]
  },
  {
   "cell_type": "markdown",
   "metadata": {},
   "source": [
    "##### Betweenness Centrality \n",
    "\n",
    "Betweenness centrality is based on the concept of the shortest path, which states, for every pair of nodes in a connected graph there is a shortest path available between the those nodes. The betweenness centrality score is a quantification of the count of shortest paths that pass through a specific node. Thus, the betweenness centrality score works as another measure for node (user) importance. \n"
   ]
  },
  {
   "cell_type": "code",
   "execution_count": 43,
   "metadata": {},
   "outputs": [],
   "source": [
    "bc = nx.betweenness_centrality(g)"
   ]
  },
  {
   "cell_type": "code",
   "execution_count": 57,
   "metadata": {},
   "outputs": [],
   "source": [
    "bc_v = list(bc.values())\n",
    "bc_k = list(bc.keys())"
   ]
  },
  {
   "cell_type": "code",
   "execution_count": 58,
   "metadata": {},
   "outputs": [
    {
     "name": "stdout",
     "output_type": "stream",
     "text": [
      "---------------------\n",
      "The median is 6.578615388887847e-06 and the mode is 0.0006389049066857799\n",
      "Meaning that, True, the bc mean is higher than the median and the distribution is positively skewed.\n",
      "---------------------\n"
     ]
    }
   ],
   "source": [
    "print(\"---------------------\")\n",
    "print(\"The median is \" + str(np.median(bc_v)) + \" and the mode is \" + str(np.mean(bc_v)))\n",
    "print(\"Meaning that, \" + str(np.mean(bc_v)>np.median(bc_v)) + \", the bc mean is higher than the median and the distribution is positively skewed.\")\n",
    "print(\"---------------------\")"
   ]
  },
  {
   "cell_type": "code",
   "execution_count": 179,
   "metadata": {},
   "outputs": [
    {
     "data": {
      "image/png": "[encoded data removed]",
      "text/plain": [
       "<Figure size 1200x480 with 1 Axes>"
      ]
     },
     "metadata": {},
     "output_type": "display_data"
    }
   ],
   "source": [
    "plt.figure(figsize=(15, 6), dpi=80, facecolor='lightgray')\n",
    "plt.hist(bc_v, bins = list(np.arange(0, 0.00175, 0.000001)))\n",
    "plt.suptitle('Distribution of Betweenness Centrality', fontsize=20)\n",
    "plt.xlabel('Betweenness Centrality Score', fontsize=16)\n",
    "plt.ylabel('Count of Nodes', fontsize=16)\n",
    "plt.ylim((0,400))\n",
    "plt.show()"
   ]
  },
  {
   "cell_type": "code",
   "execution_count": 180,
   "metadata": {},
   "outputs": [
    {
     "data": {
      "image/png": "[encoded data removed]",
      "text/plain": [
       "<Figure size 1200x480 with 1 Axes>"
      ]
     },
     "metadata": {},
     "output_type": "display_data"
    }
   ],
   "source": [
    "plt.figure(figsize=(15, 6), dpi=80, facecolor='lightgray')\n",
    "plt.scatter(bc_v,bc_k)\n",
    "plt.boxplot(bc_v, vert=False)\n",
    "plt.suptitle('Distribution of Betweenness Centrality', fontsize=20)\n",
    "plt.xlabel('Betweenness Centrality Score', fontsize=16)\n",
    "plt.show()"
   ]
  },
  {
   "cell_type": "markdown",
   "metadata": {},
   "source": [
    "Confirming what we saw with degree centrality, the betweenness centrality scores show us that the majority of nodes are extremely low, suggesting much of the graph is less connected.\n",
    "\n",
    "_Top Performing BC_\n",
    "\n",
    "Given this largest network view, lets determine the node with the highest betweenness centrality score. Do do so, we'll make a UDF."
   ]
  },
  {
   "cell_type": "code",
   "execution_count": 36,
   "metadata": {},
   "outputs": [],
   "source": [
    "def highest_bet_cent(a):\n",
    "    \n",
    "    bc = nx.betweenness_centrality(a)\n",
    "    \n",
    "    max_bc = max(list(bc.values()))\n",
    "    \n",
    "    nodes = set()\n",
    "    \n",
    "    for k, v in bc.items():\n",
    "        if v == max_bc:\n",
    "            nodes.add(k)\n",
    "            \n",
    "    return (nodes,max_bc)"
   ]
  },
  {
   "cell_type": "code",
   "execution_count": 37,
   "metadata": {},
   "outputs": [],
   "source": [
    "best_bc_n, best_bc = highest_bet_cent(g)"
   ]
  },
  {
   "cell_type": "code",
   "execution_count": 38,
   "metadata": {},
   "outputs": [
    {
     "name": "stdout",
     "output_type": "stream",
     "text": [
      "---------------------\n",
      "The 107 node had the highest centrality score of 0.421\n",
      "---------------------\n"
     ]
    }
   ],
   "source": [
    "print(\"---------------------\")\n",
    "print(\"Node \" +  str(list(best_bc_n)[0]) + \" had the highest centrality score of \" + str(round(best_bc,4)))\n",
    "print(\"---------------------\")"
   ]
  },
  {
   "cell_type": "markdown",
   "metadata": {},
   "source": [
    "##### Add Scores to node metadata\n",
    "\n",
    "Now that we have assessed the degree centrality and betweenness centrality of the various nodes in context of the larger network, we need to add this data to the metadata of the corresponding nodes. Doing so I will also add the suffix '\\_big' in order to indicate the scores based on the larger network dataset."
   ]
  },
  {
   "cell_type": "code",
   "execution_count": 183,
   "metadata": {},
   "outputs": [],
   "source": [
    "nx.set_node_attributes(g, values=bet_cen, name='betweenness_big')\n",
    "nx.set_node_attributes(g, values=dc, name='degree_centrality_big')"
   ]
  },
  {
   "cell_type": "code",
   "execution_count": 199,
   "metadata": {},
   "outputs": [
    {
     "name": "stdout",
     "output_type": "stream",
     "text": [
      "Node 0:{'betweenness_big': 0.13382523651261172, 'degree_centrality_big': 0.08568598315998019}\n",
      "Node 1:{'betweenness_big': 4.463599717680394e-05, 'degree_centrality_big': 0.004210004952947003}\n",
      "Node 2:{'betweenness_big': 5.564813594255961e-07, 'degree_centrality_big': 0.0024764735017335313}\n",
      "Node 3:{'betweenness_big': 2.21117453181869e-06, 'degree_centrality_big': 0.004210004952947003}\n",
      "Node 4:{'betweenness_big': 6.175336450528663e-07, 'degree_centrality_big': 0.0024764735017335313}\n"
     ]
    }
   ],
   "source": [
    "for i in range(5):\n",
    "    print(\"Node \" + str(i) + \":\" + str(g.node[i]))"
   ]
  },
  {
   "cell_type": "markdown",
   "metadata": {},
   "source": [
    "#### Statistical Data Exploration: _Conclusion_\n",
    "\n"
   ]
  },
  {
   "cell_type": "markdown",
   "metadata": {},
   "source": [
    "Something noticed from the above statistical exploratory analysis is the low connectivity figures to the larger groups, but high connectivity figures with other segments. This implies that our dataset has multiple groups that have little to do with one another, but strong connectivity within.\n",
    "\n",
    "To understand the general shape of the data we are to work with we will use a MatrixPlot to visualize graphs in a rational fashion. matrix plot returns the matrix form of the graph where each node is one column and one row, and an edge between the two nodes is indicated by the value 1. \n",
    "\n",
    "The chart below confirms our statistical analysis, showing that there are separate groups that are largely unconnected to one another in the larger network. "
   ]
  },
  {
   "cell_type": "code",
   "execution_count": 182,
   "metadata": {},
   "outputs": [
    {
     "data": {
      "image/png": "[encoded data removed]",
      "text/plain": [
       "<Figure size 432x432 with 1 Axes>"
      ]
     },
     "metadata": {},
     "output_type": "display_data"
    }
   ],
   "source": [
    "m = nv.MatrixPlot(g)\n",
    "m.draw()\n",
    "plt.show()"
   ]
  },
  {
   "cell_type": "markdown",
   "metadata": {},
   "source": [
    "### Find Communities : _Facebook Network Analysis_\n",
    "\n",
    "The issue above is one that is anticipated during our development work with poor communities in Perú. These communies will largely be isolated, therefore we need to separate these groups in the larger dataset in order to understand the various communities within a dataset. \n",
    "\n",
    "\n",
    "##### Community Detection\n",
    "\n",
    "The __Girvan–Newman Algorithm__ detects communities by progressively removing edges from the original network. The connected components of the remaining network are the communities. Instead of trying to construct a measure that tells us which edges are the most central to communities, the Girvan–Newman algorithm focuses on edges that are most likely \"between\" communities, extending on the definition of edge betweenness. \n",
    "\n",
    "If there is more than one shortest path between a pair of nodes, each path is assigned equal weight such that the total weight of all of the paths is equal to unity. If a network contains communities or groups that are only loosely connected by a few inter-group edges, then all shortest paths between different communities must go along one of these few edges. Thus, the edges connecting communities will have high edge betweenness. By removing these edges, the groups are separated from one another and so the underlying community structure of the network is revealed.\n",
    "\n",
    "The algorithm's steps for community detection:\n",
    "\n",
    "* The betweenness of all existing edges in the network is calculated first.\n",
    "* The edge with the highest betweenness is removed.\n",
    "* The betweenness of all edges affected by the removal is recalculated.\n",
    "* Steps 2 and 3 are repeated until no edges remain.\n",
    "\n",
    "Definition Source: <a href=\"https://en.wikipedia.org/wiki/Girvan%E2%80%93Newman_algorithm\">Wikipedia</a>"
   ]
  },
  {
   "cell_type": "markdown",
   "metadata": {},
   "source": [
    "part = community.best_partition(G) assigns a community to each node - part is a dict, and part[node] is the community the node belongs to (each is assigned an integer). \n",
    "\n",
    "Later values = [part.get(node) for node in G.nodes()] creates a list with the community number for each node in the order the nodes appear in G.nodes()."
   ]
  },
  {
   "cell_type": "code",
   "execution_count": 114,
   "metadata": {},
   "outputs": [
    {
     "name": "stdout",
     "output_type": "stream",
     "text": [
      "---------------------\n",
      "50.46% of the nodes exist within a triad.\n",
      "---------------------\n"
     ]
    }
   ],
   "source": [
    "poss_triangles = nx.transitivity(g)\n",
    "print(\"---------------------\")\n",
    "print(str(round(poss_triangles*100,2)) + \"% of the nodes exist within a triad.\")\n",
    "print(\"---------------------\")"
   ]
  },
  {
   "cell_type": "code",
   "execution_count": 116,
   "metadata": {},
   "outputs": [],
   "source": [
    "from networkx.algorithms import community as nxc"
   ]
  },
  {
   "cell_type": "code",
   "execution_count": 184,
   "metadata": {},
   "outputs": [],
   "source": [
    "communities_generator = nxc.girvan_newman(g)\n",
    "top_level_communities = next(communities_generator)\n",
    "next_level_communities = next(communities_generator)\n",
    "communities_output = sorted(map(sorted, next_level_communities))"
   ]
  },
  {
   "cell_type": "markdown",
   "metadata": {},
   "source": [
    "The above code was incredibly computationally expensive to run, so lets save off the code."
   ]
  },
  {
   "cell_type": "code",
   "execution_count": 199,
   "metadata": {},
   "outputs": [],
   "source": [
    "communities_output_df = pd.DataFrame(communities_output)"
   ]
  },
  {
   "cell_type": "code",
   "execution_count": 200,
   "metadata": {},
   "outputs": [],
   "source": [
    "communities_output_df.to_csv('communities_output_df.csv')"
   ]
  },
  {
   "cell_type": "code",
   "execution_count": 207,
   "metadata": {},
   "outputs": [
    {
     "name": "stdout",
     "output_type": "stream",
     "text": [
      "---------------------\n",
      "We can see that we have 3 communities that appeared given the girvan-newman algorithm\n",
      "The community sizes are 3285, 206, 548 respectively\n",
      "---------------------\n"
     ]
    }
   ],
   "source": [
    "print(\"---------------------\")\n",
    "print(\"We can see that we have \" + str(len(communities_output)) + \" communities that appeared given the girvan-newman algorithm\")\n",
    "print(\"The community sizes are \" + str([len(x) for x in communities_output])[1:-1] + \" respectively\")\n",
    "print(\"---------------------\")"
   ]
  },
  {
   "cell_type": "markdown",
   "metadata": {},
   "source": [
    "I am not happy with the community sizes because we visualized that there were far more partitions that three with our above visual EDA. Therefore, I am going to do another level partitions using girvan-newman"
   ]
  },
  {
   "cell_type": "code",
   "execution_count": 208,
   "metadata": {},
   "outputs": [],
   "source": [
    "last_level_communities = next(communities_generator)\n",
    "last_communities_output = sorted(map(sorted, last_level_communities))"
   ]
  },
  {
   "cell_type": "code",
   "execution_count": 209,
   "metadata": {},
   "outputs": [
    {
     "name": "stdout",
     "output_type": "stream",
     "text": [
      "---------------------\n",
      "We can see that we have 4 communities that appeared given the girvan-newman algorithm\n",
      "The community sizes are 1096, 2189, 206, 548 respectively\n",
      "---------------------\n"
     ]
    }
   ],
   "source": [
    "print(\"---------------------\")\n",
    "print(\"We can see that we have \" + str(len(last_communities_output)) + \" communities that appeared given the girvan-newman algorithm\")\n",
    "print(\"The community sizes are \" + str([len(x) for x in last_communities_output])[1:-1] + \" respectively\")\n",
    "print(\"---------------------\")"
   ]
  },
  {
   "cell_type": "markdown",
   "metadata": {},
   "source": [
    "Let's save it off quickly"
   ]
  },
  {
   "cell_type": "code",
   "execution_count": 212,
   "metadata": {},
   "outputs": [],
   "source": [
    "last_communities_output_df = pd.DataFrame(last_communities_output)\n",
    "last_communities_output_df.to_csv('last_communities_output_df.csv')"
   ]
  },
  {
   "cell_type": "code",
   "execution_count": 203,
   "metadata": {},
   "outputs": [],
   "source": [
    "g2 = nxc.is_partition(g,communities_output)"
   ]
  },
  {
   "cell_type": "code",
   "execution_count": null,
   "metadata": {},
   "outputs": [],
   "source": []
  },
  {
   "cell_type": "code",
   "execution_count": null,
   "metadata": {},
   "outputs": [],
   "source": [
    "# Plot, color nodes using community structure\n",
    "values = [part.get(node) for node in g2.nodes()]\n",
    "nx.draw_spring(G, cmap=plt.get_cmap('jet'), node_color = values, node_size=30, with_labels=False)\n",
    "plt.show()"
   ]
  },
  {
   "cell_type": "markdown",
   "metadata": {},
   "source": [
    "#### Separate Communities\n"
   ]
  },
  {
   "cell_type": "markdown",
   "metadata": {},
   "source": [
    "#### Community Identifier to Metadata\n"
   ]
  },
  {
   "cell_type": "markdown",
   "metadata": {},
   "source": [
    "#### Visualize Graph with Community Identifiers"
   ]
  },
  {
   "cell_type": "markdown",
   "metadata": {},
   "source": [
    "#### Build Separate Community Networks"
   ]
  },
  {
   "cell_type": "markdown",
   "metadata": {},
   "source": [
    "### Understand Communities: _Facebook Network Analysis_\n",
    "#### Statistical Data Exploration"
   ]
  },
  {
   "cell_type": "markdown",
   "metadata": {},
   "source": [
    "#### Degree"
   ]
  },
  {
   "cell_type": "markdown",
   "metadata": {},
   "source": [
    "#### Degree Centrality"
   ]
  },
  {
   "cell_type": "markdown",
   "metadata": {},
   "source": [
    "#### Betweenness Centrality"
   ]
  },
  {
   "cell_type": "markdown",
   "metadata": {},
   "source": [
    "### Find Cliques and Triangles within Communities: _Facebook Network Analysis_\n",
    "#### Triangles"
   ]
  },
  {
   "cell_type": "markdown",
   "metadata": {},
   "source": [
    "#### Maximal Cliques"
   ]
  },
  {
   "cell_type": "markdown",
   "metadata": {},
   "source": [
    "#### Visualize Maximal Cliques"
   ]
  },
  {
   "cell_type": "markdown",
   "metadata": {},
   "source": [
    "### Open Triangle Recommendation Engine: _Facebook Network Analysis_\n",
    "#### Build"
   ]
  },
  {
   "cell_type": "markdown",
   "metadata": {},
   "source": [
    "#### Open Triangles Across Communities"
   ]
  },
  {
   "cell_type": "markdown",
   "metadata": {},
   "source": [
    "### Determine Cliques to the Larger Community: _Facebook Network Analysis_\n",
    "#### Aggregate Clique Connections\n",
    "#### Determine Clique Values to Community\n",
    "#### Recommend Clique Leader Connections"
   ]
  },
  {
   "cell_type": "markdown",
   "metadata": {},
   "source": [
    "### Conclusion \n",
    "\n",
    "#### Accomplishments"
   ]
  },
  {
   "cell_type": "markdown",
   "metadata": {},
   "source": [
    "#### Challenges\n",
    "\n",
    "* packages surrounding network analysis are still in their infancy and many options still have bugs"
   ]
  },
  {
   "cell_type": "code",
   "execution_count": null,
   "metadata": {},
   "outputs": [],
   "source": []
  }
 ],
 "metadata": {
  "kernelspec": {
   "display_name": "Python 3",
   "language": "python",
   "name": "python3"
  },
  "language_info": {
   "codemirror_mode": {
    "name": "ipython",
    "version": 3
   },
   "file_extension": ".py",
   "mimetype": "text/x-python",
   "name": "python",
   "nbconvert_exporter": "python",
   "pygments_lexer": "ipython3",
   "version": "3.6.4"
  }
 },
 "nbformat": 4,
 "nbformat_minor": 2
}
