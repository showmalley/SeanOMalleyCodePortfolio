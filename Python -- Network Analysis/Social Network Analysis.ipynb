{
 "cells": [
  {
   "cell_type": "markdown",
   "metadata": {},
   "source": [
    "# Social Network Analysis\n",
    "## Sean O'Malley\n",
    "\n",
    "------------------------------------------------\n",
    "\n",
    "The intent of this analysis is to be able to take a large network of undirected connections and make sense of that network, additionally giving shape to the possible networks within. This entire analysis is framed as a test case for maximizing understanding of a community given minimal input. \n",
    "\n",
    "This analysis is of interest to me as I have most recently been volunteering, researching and practicing data science in the poorest areas of Perú, with a specific focus on the communities of Pamplona Alta and Ayaviri in order to gain an understanding of both urban and rural poverty in the developing world. \n",
    "\n",
    "The analysis used is __Network Analysis__, which comes from the concept of network (graph) theory. Network theory is the representation of symmetric relations between discrete objects. This analysis can be used to graph and understand various social and transportation networks. Primarily, network analysis helps us model relationships between entities, determine entity importance and find community structures within a network. \n",
    "\n",
    "The data used is __Facebook survey participant data__ from the <a href=\"http://snap.stanford.edu/data/ego-Facebook.html\">Stanford Network Analysis Project</a>, and using this day we aim to perform the following analyses:\n",
    "\n",
    "* _Understand the Network Structure_\n",
    "    * Nodes\n",
    "    * Edges\n",
    "    * Degree \n",
    "    * Degree Centrality\n",
    "    * Betweenness Centrality\n",
    "    * Breadth First Search\n",
    "    \n",
    "* _Visualize the Network_\n",
    "    * Matrix\n",
    "    * Circos\n",
    "    * Arc\n",
    "\n",
    "* _Find Groups Within the Network_\n",
    "    * Triangles\n",
    "    * Cliques\n",
    "    * Maximal Cliques\n",
    "    \n",
    "* _Explore Subsets of Interest_\n",
    "\n",
    "* _Determine the Network Influencers_\n",
    "    * Characteristics\n",
    "    * Visualize\n",
    "    \n",
    "* _Recommend Friend Connections_\n",
    "    * Open Triangles\n",
    "\n",
    "* _Summary_\n",
    "\n",
    "* _Challenges & Lessons Learned_\n",
    "\n",
    "The Facebook data has been anonymized by replacing the internal ids with new values, allowing us to make connections without knowing their exact value and protecting the user.\n",
    "\n",
    "------------------------------------------------\n",
    "\n",
    "\n",
    "### __Import Packages__ : Facebook Network Analysis"
   ]
  },
  {
   "cell_type": "code",
   "execution_count": 4,
   "metadata": {},
   "outputs": [],
   "source": [
    "import os\n",
    "from glob import iglob\n",
    "import numpy as np \n",
    "import pandas as pd\n",
    "import networkx as nx\n",
    "import gzip\n",
    "import matplotlib.pyplot as plt"
   ]
  },
  {
   "cell_type": "code",
   "execution_count": 5,
   "metadata": {},
   "outputs": [],
   "source": [
    "import nxviz as nv"
   ]
  },
  {
   "cell_type": "markdown",
   "metadata": {},
   "source": [
    "### __Ingestion__ : Facebook Network Analysis"
   ]
  },
  {
   "cell_type": "code",
   "execution_count": 6,
   "metadata": {},
   "outputs": [],
   "source": [
    "# Read in file, cast as string for cleaning\n",
    "f = gzip.open('facebook_combined.txt.gz','rb')\n",
    "content = str(f.read())\n",
    "f.close()\n",
    "\n",
    "# Clean up and cut off messy bookends\n",
    "content = content[4:-8]\n",
    "content = content.replace(\"\\\\n\",\",\")\n",
    "content = content.replace(\" \",\";\")\n",
    "content = content.split(\";\")\n",
    "    \n",
    "# Initialize Lists\n",
    "output = []\n",
    "clean = []\n",
    "    \n",
    "# Build list of lists\n",
    "for i in content:\n",
    "    x = i.split(\",\") \n",
    "    output.append(x)\n",
    "        \n",
    "# Cast as integers  \n",
    "clean = [[int(x) for x in y] for y in output]"
   ]
  },
  {
   "cell_type": "markdown",
   "metadata": {},
   "source": [
    "### __Understand__ : Facebook Network Analysis\n"
   ]
  },
  {
   "cell_type": "code",
   "execution_count": 7,
   "metadata": {},
   "outputs": [],
   "source": [
    "g = nx.Graph()\n",
    "g.add_edges_from(clean)"
   ]
  },
  {
   "cell_type": "code",
   "execution_count": 8,
   "metadata": {},
   "outputs": [
    {
     "name": "stdout",
     "output_type": "stream",
     "text": [
      "------------------------------------------\n",
      "The network has 4039 nodes and 88074 edges. Confirming SNAP data structure.\n",
      "------------------------------------------\n"
     ]
    }
   ],
   "source": [
    "print(\"------------------------------------------\")\n",
    "print(\"The network has \" + str(len(g.nodes())) + \" nodes and \" + str(len(g.edges())) + \" edges. Confirming SNAP data structure.\")\n",
    "print(\"------------------------------------------\")"
   ]
  },
  {
   "cell_type": "markdown",
   "metadata": {},
   "source": [
    "##### Remove Self Loops\n",
    "\n",
    "We want to take a quick moment to find and remove any self loops. A self loop is a node connected to itself. We don't want these in our Facebook analysis because a self loop means someone who is friends with themselves. "
   ]
  },
  {
   "cell_type": "code",
   "execution_count": 9,
   "metadata": {},
   "outputs": [],
   "source": [
    "def find_selfloop_nodes(a):\n",
    "    \n",
    "    nodes_in_selfloops = []\n",
    "    \n",
    "    # Iterate over all the edges of G\n",
    "    for k, v in a.edges(data=False):\n",
    "        if k == v:\n",
    "            nodes_in_selfloops.append(k)\n",
    "            \n",
    "    return nodes_in_selfloops"
   ]
  },
  {
   "cell_type": "code",
   "execution_count": 10,
   "metadata": {},
   "outputs": [
    {
     "name": "stdout",
     "output_type": "stream",
     "text": [
      "------------------------------------------\n",
      "We can see we have 6 self loops that need to be removed.\n",
      "[339, 1254, 1894, 657, 809, 2642]\n",
      "------------------------------------------\n"
     ]
    }
   ],
   "source": [
    "print(\"------------------------------------------\")\n",
    "print(\"We can see we have \" + str(g.number_of_selfloops()) + \" self loops that need to be removed.\")\n",
    "print(str(find_selfloop_nodes(g)))\n",
    "print(\"------------------------------------------\")"
   ]
  },
  {
   "cell_type": "code",
   "execution_count": 11,
   "metadata": {},
   "outputs": [],
   "source": [
    "g.remove_edges_from(g.selfloop_edges())"
   ]
  },
  {
   "cell_type": "code",
   "execution_count": 12,
   "metadata": {},
   "outputs": [
    {
     "name": "stdout",
     "output_type": "stream",
     "text": [
      "------------------------------------------\n",
      "We now have 0 self loops remaining.\n",
      "------------------------------------------\n"
     ]
    }
   ],
   "source": [
    "print(\"------------------------------------------\")\n",
    "print(\"We now have \" + str(g.number_of_selfloops()) + \" self loops remaining.\")\n",
    "print(\"------------------------------------------\")"
   ]
  },
  {
   "cell_type": "markdown",
   "metadata": {},
   "source": [
    "The following descriptive statistical network analysis methodologies attempt to answer the question.\n",
    "\n",
    "> __How do you determine how important a node is, or is not?__\n",
    "\n",
    "\n",
    "##### Degree \n",
    "\n",
    "The degree of a node in a network is the number of connections it has, while the degree distribution is the probability distribution of the degrees of nodes across the entire network.\n",
    "\n",
    "To explore the degree of nodes from a high level, I have created a UDF to find the number of nodes given a number of connections. I placed this UDF into a loop in order to get a distribution of nodes by neighbor count."
   ]
  },
  {
   "cell_type": "code",
   "execution_count": 13,
   "metadata": {},
   "outputs": [],
   "source": [
    "def nodes_with_neighbors(a,m):\n",
    "    nodes = set()\n",
    "    for n in a.nodes(data=False):\n",
    "        if len(list(a.neighbors(n))) == m:\n",
    "            nodes.add(n)\n",
    "    return nodes"
   ]
  },
  {
   "cell_type": "markdown",
   "metadata": {},
   "source": [
    "We need to understand the distribution of degree across nodes, meaning that we have to determine a count of nodes given a number of neighbors. To do so we placed our UDF into a loop that creates a list of node counts, given x amount of neighbors. We selected the range of 0 to 200 neighbors to visualize."
   ]
  },
  {
   "cell_type": "code",
   "execution_count": 59,
   "metadata": {},
   "outputs": [],
   "source": [
    "n = 0\n",
    "neb_num = []\n",
    "\n",
    "for n in range(201):\n",
    "    x = len(nodes_with_neighbors(g, m = n))\n",
    "    neb_num.append(x)\n",
    "    n += 1\n",
    "    \n",
    "neb = pd.DataFrame()\n",
    "neb['n_neighbors'] = list(range(201))\n",
    "neb['n_nodes'] = neb_num"
   ]
  },
  {
   "cell_type": "code",
   "execution_count": 63,
   "metadata": {},
   "outputs": [
    {
     "data": {
      "image/png": "[encoded data removed]",
      "text/plain": [
       "<Figure size 1200x480 with 1 Axes>"
      ]
     },
     "metadata": {},
     "output_type": "display_data"
    }
   ],
   "source": [
    "plt.figure(figsize=(15, 6), dpi=80, facecolor='lightgray')\n",
    "plt.bar(neb['n_neighbors'],neb['n_nodes'])\n",
    "plt.suptitle('Distribution of Neighbors (Degree)', fontsize=20)\n",
    "plt.xlabel('Number of Neighbors', fontsize=16)\n",
    "plt.ylabel('Count of Nodes', fontsize=16)\n",
    "plt.show()"
   ]
  },
  {
   "cell_type": "markdown",
   "metadata": {},
   "source": [
    "##### Degree Centrality\n",
    "\n",
    "The degree centrality takes the degree process a step further, by giving an importance score based on the number of links held by each node. Providing a measure of node connectivity in a simple equation\n",
    "\n",
    "> __degree centrality__ = number of neighbors / number of total possible neighbors"
   ]
  },
  {
   "cell_type": "code",
   "execution_count": 91,
   "metadata": {},
   "outputs": [],
   "source": [
    "dc = nx.degree_centrality(g)"
   ]
  },
  {
   "cell_type": "code",
   "execution_count": 100,
   "metadata": {},
   "outputs": [
    {
     "data": {
      "image/png": "[encoded data removed]",
      "text/plain": [
       "<Figure size 1200x480 with 1 Axes>"
      ]
     },
     "metadata": {},
     "output_type": "display_data"
    }
   ],
   "source": [
    "plt.figure(figsize=(15, 6), dpi=80, facecolor='lightgray')\n",
    "plt.hist(list(dc.values()),bins = list(np.arange(0, 0.06, 0.00018)))\n",
    "plt.suptitle('Distribution of Degree Centrality', fontsize=20)\n",
    "plt.xlabel('Degree Centrality Score', fontsize=16)\n",
    "plt.ylabel('Count of Nodes', fontsize=16)\n",
    "plt.show()"
   ]
  },
  {
   "cell_type": "markdown",
   "metadata": {},
   "source": [
    "##### Betweenness Centrality \n",
    "\n"
   ]
  },
  {
   "cell_type": "code",
   "execution_count": 109,
   "metadata": {},
   "outputs": [
    {
     "data": {
      "text/plain": [
       "[0, 342, 67, 142, 169, 200, 277, 285, 291, 323]"
      ]
     },
     "execution_count": 109,
     "metadata": {},
     "output_type": "execute_result"
    }
   ],
   "source": [
    "list(g.neighbors(10))"
   ]
  },
  {
   "cell_type": "markdown",
   "metadata": {},
   "source": [
    "##### Breadth First Search\n",
    "\n",
    "Breadth-first Search algorithm (BFS) essentially works as a start node and a destination node. As we are in the starting node, we see who our neighbors are, then our neighbors neighbors, until we arrive upon the destination node."
   ]
  },
  {
   "cell_type": "markdown",
   "metadata": {},
   "source": [
    "This data in its most raw form is extremely difficult to understand and even more so, to gain relevant context. To highlight this I will display the matrix plot for the entire network.\n",
    "\n",
    "To understand the general shape of the data we are to work with we will use a MatrixPlot to visualize graphs in a rational fashion. matrix plot returns the matrix form of the graph where each node is one column and one row, and an edge between the two nodes is indicated by the value 1. \n",
    "\n",
    "This shows that we can see there are separate groups that are largely unconnected to one another in the network. "
   ]
  },
  {
   "cell_type": "code",
   "execution_count": 116,
   "metadata": {},
   "outputs": [
    {
     "data": {
      "image/png": "[encoded data removed]",
      "text/plain": [
       "<Figure size 432x432 with 1 Axes>"
      ]
     },
     "metadata": {},
     "output_type": "display_data"
    }
   ],
   "source": [
    "m = nv.MatrixPlot(g)\n",
    "m.draw()\n",
    "plt.show()"
   ]
  },
  {
   "cell_type": "code",
   "execution_count": null,
   "metadata": {},
   "outputs": [],
   "source": []
  }
 ],
 "metadata": {
  "kernelspec": {
   "display_name": "Python 3",
   "language": "python",
   "name": "python3"
  },
  "language_info": {
   "codemirror_mode": {
    "name": "ipython",
    "version": 3
   },
   "file_extension": ".py",
   "mimetype": "text/x-python",
   "name": "python",
   "nbconvert_exporter": "python",
   "pygments_lexer": "ipython3",
   "version": "3.6.4"
  }
 },
 "nbformat": 4,
 "nbformat_minor": 2
}
