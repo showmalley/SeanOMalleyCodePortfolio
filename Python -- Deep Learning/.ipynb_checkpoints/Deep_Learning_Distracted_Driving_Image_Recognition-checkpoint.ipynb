{
 "cells": [
  {
   "cell_type": "markdown",
   "metadata": {
    "colab_type": "text",
    "id": "gcMVViIH__4D"
   },
   "source": [
    "# Distracted Driving Prediction\n",
    "## Deep Learning with python, keras & tensorflow\n",
    "### Sean O'Malley\n",
    "\n",
    "\n",
    "The goal of this analysis is to identify the various types of distracted driving scenarios simply using images. We will accomplish this by using deep learning in python with the keras and a tensorflow backend. \n",
    "\n",
    "<a href=\"https://www.kaggle.com/c/state-farm-distracted-driver-detection#description\">State Farm Distracted Driving Kaggle Competition</a>\n",
    "\n",
    "As a contextual reference, deep learning is a subset of machine learning that allows algorithms to train itself in order to perform tasks like image and speech recognition. Deep learning accomplishes this by revealing immense amounts of data to multi-layered neural networks.\n",
    "\n",
    "__This document will walk you through the entire process of:__ \n",
    "* Initiate Google Drive feature in Colaboratory utilize cloud computing power\n",
    "* Ingest a list of images\n",
    "* Transform them into something that can be understood by a computer\n",
    "* Split into test and training groups\n",
    "* Prepare data to fit into a deep learning model\n",
    "* Model builds\n",
    "\n",
    "__The Following Model Types Will Be Built:__\n",
    "1. Sequential API Convolutional Neural Net\n",
    "2. Functional API Convolutional Neural Net  _with inception module architecture_ + Kaggle Submission\n",
    "3. Functional API Convolutional Neural Net  _inception module architecture using BatchNormalization_ + Kaggle Submission\n",
    "    \n",
    "I will provide commentary, summary statistics and visualization along the way, to help determine the most successful model to move forward with in identifying distracted driving via images. \n",
    "\n",
    "We will conclude with a summary of the strengths, weaknesses and opportunities for improvement in the models to help fully understand the data, the models and the ultimate application of the analysis."
   ]
  },
  {
   "cell_type": "markdown",
   "metadata": {
    "colab_type": "text",
    "id": "A9AU0LFQfbuo"
   },
   "source": [
    "---\n",
    "## __Package Import__"
   ]
  },
  {
   "cell_type": "code",
   "execution_count": 4,
   "metadata": {
    "colab": {
     "autoexec": {
      "startup": false,
      "wait_interval": 0
     },
     "base_uri": "https://localhost:8080/",
     "height": 34
    },
    "colab_type": "code",
    "executionInfo": {
     "elapsed": 1919,
     "status": "ok",
     "timestamp": 1525750238956,
     "user": {
      "displayName": "Sean O'Malley",
      "photoUrl": "//lh5.googleusercontent.com/-KT7F5-vJBhk/AAAAAAAAAAI/AAAAAAAALt4/70yOi3FMzSc/s50-c-k-no/photo.jpg",
      "userId": "103837524288819033453"
     },
     "user_tz": 360
    },
    "id": "RNNE3-jv__4G",
    "outputId": "46a82a36-fa63-4656-d9f9-b5cf5860f4a1"
   },
   "outputs": [
    {
     "name": "stderr",
     "output_type": "stream",
     "text": [
      "Using TensorFlow backend.\n"
     ]
    }
   ],
   "source": [
    "# Basic Packages\n",
    "import time\n",
    "import numpy as np\n",
    "import pandas as pd\n",
    "import os, sys\n",
    "\n",
    "# Deep Learning Packages\n",
    "from keras.models import Sequential, Model, model_from_json\n",
    "from keras.layers import Input, Concatenate, Dense, Dropout, Flatten, Activation\n",
    "from keras.layers.convolutional import Conv2D, MaxPooling2D\n",
    "from keras.layers.normalization import BatchNormalization\n",
    "from keras.utils import to_categorical, np_utils\n",
    "from keras import backend as K\n",
    "from keras.optimizers import Adam, RMSprop\n",
    "import h5py\n",
    "\n",
    "# Image Import & View Packages\n",
    "import glob\n",
    "import matplotlib.pyplot as plt\n",
    "from PIL import Image\n"
   ]
  },
  {
   "cell_type": "markdown",
   "metadata": {
    "colab_type": "text",
    "id": "z7QQpPnJXFUc"
   },
   "source": [
    "---\n",
    "## __Uploading Files From Google Drive into Colaboratory environment__\n",
    "\n",
    "Much of the data creation is included in this document, however many of the processes after the creation of HDF5 files are actually performed locally, and then I moved the script to the Colaboratory environment where I could take advantage of the increased cloud computing."
   ]
  },
  {
   "cell_type": "code",
   "execution_count": 0,
   "metadata": {
    "colab": {
     "autoexec": {
      "startup": false,
      "wait_interval": 0
     }
    },
    "colab_type": "code",
    "id": "oJ-OjqETDj8C"
   },
   "outputs": [],
   "source": [
    "!apt-get install -y -qq software-properties-common python-software-properties module-init-tools\n",
    "!add-apt-repository -y ppa:alessandro-strada/ppa 2>&1 > /dev/null\n",
    "!apt-get update -qq 2>&1 > /dev/null\n",
    "!apt-get -y install -qq google-drive-ocamlfuse fuse"
   ]
  },
  {
   "cell_type": "code",
   "execution_count": 0,
   "metadata": {
    "colab": {
     "autoexec": {
      "startup": false,
      "wait_interval": 0
     }
    },
    "colab_type": "code",
    "id": "ILVo9QxCDl_3"
   },
   "outputs": [],
   "source": [
    "# Generate auth tokens for Colab\n",
    "from google.colab import auth\n",
    "auth.authenticate_user()"
   ]
  },
  {
   "cell_type": "code",
   "execution_count": 8,
   "metadata": {
    "colab": {
     "autoexec": {
      "startup": false,
      "wait_interval": 0
     },
     "base_uri": "https://localhost:8080/",
     "height": 105
    },
    "colab_type": "code",
    "executionInfo": {
     "elapsed": 20062,
     "status": "ok",
     "timestamp": 1525750350708,
     "user": {
      "displayName": "Sean O'Malley",
      "photoUrl": "//lh5.googleusercontent.com/-KT7F5-vJBhk/AAAAAAAAAAI/AAAAAAAALt4/70yOi3FMzSc/s50-c-k-no/photo.jpg",
      "userId": "103837524288819033453"
     },
     "user_tz": 360
    },
    "id": "FdktK5g2D5mf",
    "outputId": "bccab94b-71a1-4ecb-94eb-0124c5cd3be1"
   },
   "outputs": [
    {
     "name": "stdout",
     "output_type": "stream",
     "text": [
      "Please, open the following URL in a web browser: https://accounts.google.com/o/oauth2/auth?client_id=32555940559.apps.googleusercontent.com&redirect_uri=urn%3Aietf%3Awg%3Aoauth%3A2.0%3Aoob&scope=https%3A%2F%2Fwww.googleapis.com%2Fauth%2Fdrive&response_type=code&access_type=offline&approval_prompt=force\r\n",
      "··········\n",
      "Please, open the following URL in a web browser: https://accounts.google.com/o/oauth2/auth?client_id=32555940559.apps.googleusercontent.com&redirect_uri=urn%3Aietf%3Awg%3Aoauth%3A2.0%3Aoob&scope=https%3A%2F%2Fwww.googleapis.com%2Fauth%2Fdrive&response_type=code&access_type=offline&approval_prompt=force\n",
      "Please enter the verification code: Access token retrieved correctly.\n"
     ]
    }
   ],
   "source": [
    "# Generate creds for the Drive FUSE library.\n",
    "from oauth2client.client import GoogleCredentials\n",
    "creds = GoogleCredentials.get_application_default()\n",
    "import getpass\n",
    "!google-drive-ocamlfuse -headless -id={creds.client_id} -secret={creds.client_secret} < /dev/null 2>&1 | grep URL\n",
    "vcode = getpass.getpass()\n",
    "!echo {vcode} | google-drive-ocamlfuse -headless -id={creds.client_id} -secret={creds.client_secret}"
   ]
  },
  {
   "cell_type": "code",
   "execution_count": 0,
   "metadata": {
    "colab": {
     "autoexec": {
      "startup": false,
      "wait_interval": 0
     }
    },
    "colab_type": "code",
    "id": "PdVZSYSjEH_-"
   },
   "outputs": [],
   "source": [
    "# Create a directory and mount Google Drive using that directory.\n",
    "!mkdir -p drive\n",
    "!google-drive-ocamlfuse drive"
   ]
  },
  {
   "cell_type": "code",
   "execution_count": 0,
   "metadata": {
    "colab": {
     "autoexec": {
      "startup": false,
      "wait_interval": 0
     }
    },
    "colab_type": "code",
    "id": "K7hQkiwGEIOG"
   },
   "outputs": [],
   "source": [
    "# Create a folder to use the competition. once this is run there is no longer a need to run again. The directory should be present in the Google Drive\n",
    "!mkdir -p /content/drive/competition/"
   ]
  },
  {
   "cell_type": "code",
   "execution_count": 11,
   "metadata": {
    "colab": {
     "autoexec": {
      "startup": false,
      "wait_interval": 0
     },
     "base_uri": "https://localhost:8080/",
     "height": 221
    },
    "colab_type": "code",
    "executionInfo": {
     "elapsed": 1747,
     "status": "ok",
     "timestamp": 1525750366372,
     "user": {
      "displayName": "Sean O'Malley",
      "photoUrl": "//lh5.googleusercontent.com/-KT7F5-vJBhk/AAAAAAAAAAI/AAAAAAAALt4/70yOi3FMzSc/s50-c-k-no/photo.jpg",
      "userId": "103837524288819033453"
     },
     "user_tz": 360
    },
    "id": "yeNoYNY_EeZn",
    "outputId": "7600eddc-9dbb-411a-9344-42726c9e883c"
   },
   "outputs": [
    {
     "name": "stdout",
     "output_type": "stream",
     "text": [
      "best_model_pred.csv\r\n",
      "Deep_Learning_Distracted_Driving_Image_Recognition.ipynb\r\n",
      "functional_cnn_model1.h5\r\n",
      "functional_cnn_model1.json\r\n",
      "pred_filenames.csv\r\n",
      "sample_submission.csv\r\n",
      "sequential_cnn_model.h5\r\n",
      "sequential_cnn_model.json\r\n",
      "simple_sequential_model_pred.csv\r\n",
      "submission1.png\r\n",
      "testdata.hdf5\r\n",
      "traindata.hdf5\r\n"
     ]
    }
   ],
   "source": [
    "!ls /content/drive/competition/ "
   ]
  },
  {
   "cell_type": "code",
   "execution_count": 0,
   "metadata": {
    "colab": {
     "autoexec": {
      "startup": false,
      "wait_interval": 0
     }
    },
    "colab_type": "code",
    "id": "_G54OFVLYPwG"
   },
   "outputs": [],
   "source": [
    "os.chdir('/content/drive/competition/')"
   ]
  },
  {
   "cell_type": "code",
   "execution_count": 13,
   "metadata": {
    "colab": {
     "autoexec": {
      "startup": false,
      "wait_interval": 0
     },
     "base_uri": "https://localhost:8080/",
     "height": 221
    },
    "colab_type": "code",
    "executionInfo": {
     "elapsed": 1418,
     "status": "ok",
     "timestamp": 1525750371656,
     "user": {
      "displayName": "Sean O'Malley",
      "photoUrl": "//lh5.googleusercontent.com/-KT7F5-vJBhk/AAAAAAAAAAI/AAAAAAAALt4/70yOi3FMzSc/s50-c-k-no/photo.jpg",
      "userId": "103837524288819033453"
     },
     "user_tz": 360
    },
    "id": "jLswfHxsYUEV",
    "outputId": "e2d10309-17ae-40c7-ca58-2a054d814525"
   },
   "outputs": [
    {
     "name": "stdout",
     "output_type": "stream",
     "text": [
      "best_model_pred.csv\r\n",
      "Deep_Learning_Distracted_Driving_Image_Recognition.ipynb\r\n",
      "functional_cnn_model1.h5\r\n",
      "functional_cnn_model1.json\r\n",
      "pred_filenames.csv\r\n",
      "sample_submission.csv\r\n",
      "sequential_cnn_model.h5\r\n",
      "sequential_cnn_model.json\r\n",
      "simple_sequential_model_pred.csv\r\n",
      "submission1.png\r\n",
      "testdata.hdf5\r\n",
      "traindata.hdf5\r\n"
     ]
    }
   ],
   "source": [
    "!ls"
   ]
  },
  {
   "cell_type": "markdown",
   "metadata": {
    "colab_type": "text",
    "id": "koHmuiaY__4N"
   },
   "source": [
    "---\n",
    "## __Exploratory Data Analysis__\n",
    "\n",
    "Ingest and view summaries of csv's to help us gain an understanding of the data we have. Looking at the data below, you'll see that we have 10 classes of images, living in separate photos. The photos are already categorized in their predefined classes by folders."
   ]
  },
  {
   "cell_type": "code",
   "execution_count": 0,
   "metadata": {
    "colab": {
     "autoexec": {
      "startup": false,
      "wait_interval": 0
     }
    },
    "colab_type": "code",
    "id": "uXhbEsTk__4O"
   },
   "outputs": [],
   "source": [
    "sample_submission = pd.read_csv('sample_submission.csv')"
   ]
  },
  {
   "cell_type": "markdown",
   "metadata": {
    "colab_type": "text",
    "id": "S7ODsKtc__4b"
   },
   "source": [
    "Keep in mind that what we see below will need to be the format we follow for our analysis submission."
   ]
  },
  {
   "cell_type": "code",
   "execution_count": 26,
   "metadata": {
    "colab": {
     "autoexec": {
      "startup": false,
      "wait_interval": 0
     },
     "base_uri": "https://localhost:8080/",
     "height": 204
    },
    "colab_type": "code",
    "executionInfo": {
     "elapsed": 512,
     "status": "ok",
     "timestamp": 1525659358160,
     "user": {
      "displayName": "Sean O'Malley",
      "photoUrl": "//lh5.googleusercontent.com/-KT7F5-vJBhk/AAAAAAAAAAI/AAAAAAAALt4/70yOi3FMzSc/s50-c-k-no/photo.jpg",
      "userId": "103837524288819033453"
     },
     "user_tz": 360
    },
    "id": "b3wwOzvy__4d",
    "outputId": "2d0c5d4c-3847-4131-a0ff-0d4498760bb6"
   },
   "outputs": [
    {
     "data": {
      "text/html": [
       "<div>\n",
       "<style scoped>\n",
       "    .dataframe tbody tr th:only-of-type {\n",
       "        vertical-align: middle;\n",
       "    }\n",
       "\n",
       "    .dataframe tbody tr th {\n",
       "        vertical-align: top;\n",
       "    }\n",
       "\n",
       "    .dataframe thead th {\n",
       "        text-align: right;\n",
       "    }\n",
       "</style>\n",
       "<table border=\"1\" class=\"dataframe\">\n",
       "  <thead>\n",
       "    <tr style=\"text-align: right;\">\n",
       "      <th></th>\n",
       "      <th>img</th>\n",
       "      <th>c0</th>\n",
       "      <th>c1</th>\n",
       "      <th>c2</th>\n",
       "      <th>c3</th>\n",
       "      <th>c4</th>\n",
       "      <th>c5</th>\n",
       "      <th>c6</th>\n",
       "      <th>c7</th>\n",
       "      <th>c8</th>\n",
       "      <th>c9</th>\n",
       "    </tr>\n",
       "  </thead>\n",
       "  <tbody>\n",
       "    <tr>\n",
       "      <th>0</th>\n",
       "      <td>img_1.jpg</td>\n",
       "      <td>0.1</td>\n",
       "      <td>0.1</td>\n",
       "      <td>0.1</td>\n",
       "      <td>0.1</td>\n",
       "      <td>0.1</td>\n",
       "      <td>0.1</td>\n",
       "      <td>0.1</td>\n",
       "      <td>0.1</td>\n",
       "      <td>0.1</td>\n",
       "      <td>0.1</td>\n",
       "    </tr>\n",
       "    <tr>\n",
       "      <th>1</th>\n",
       "      <td>img_10.jpg</td>\n",
       "      <td>0.1</td>\n",
       "      <td>0.1</td>\n",
       "      <td>0.1</td>\n",
       "      <td>0.1</td>\n",
       "      <td>0.1</td>\n",
       "      <td>0.1</td>\n",
       "      <td>0.1</td>\n",
       "      <td>0.1</td>\n",
       "      <td>0.1</td>\n",
       "      <td>0.1</td>\n",
       "    </tr>\n",
       "    <tr>\n",
       "      <th>2</th>\n",
       "      <td>img_100.jpg</td>\n",
       "      <td>0.1</td>\n",
       "      <td>0.1</td>\n",
       "      <td>0.1</td>\n",
       "      <td>0.1</td>\n",
       "      <td>0.1</td>\n",
       "      <td>0.1</td>\n",
       "      <td>0.1</td>\n",
       "      <td>0.1</td>\n",
       "      <td>0.1</td>\n",
       "      <td>0.1</td>\n",
       "    </tr>\n",
       "    <tr>\n",
       "      <th>3</th>\n",
       "      <td>img_1000.jpg</td>\n",
       "      <td>0.1</td>\n",
       "      <td>0.1</td>\n",
       "      <td>0.1</td>\n",
       "      <td>0.1</td>\n",
       "      <td>0.1</td>\n",
       "      <td>0.1</td>\n",
       "      <td>0.1</td>\n",
       "      <td>0.1</td>\n",
       "      <td>0.1</td>\n",
       "      <td>0.1</td>\n",
       "    </tr>\n",
       "    <tr>\n",
       "      <th>4</th>\n",
       "      <td>img_100000.jpg</td>\n",
       "      <td>0.1</td>\n",
       "      <td>0.1</td>\n",
       "      <td>0.1</td>\n",
       "      <td>0.1</td>\n",
       "      <td>0.1</td>\n",
       "      <td>0.1</td>\n",
       "      <td>0.1</td>\n",
       "      <td>0.1</td>\n",
       "      <td>0.1</td>\n",
       "      <td>0.1</td>\n",
       "    </tr>\n",
       "  </tbody>\n",
       "</table>\n",
       "</div>"
      ],
      "text/plain": [
       "              img   c0   c1   c2   c3   c4   c5   c6   c7   c8   c9\n",
       "0       img_1.jpg  0.1  0.1  0.1  0.1  0.1  0.1  0.1  0.1  0.1  0.1\n",
       "1      img_10.jpg  0.1  0.1  0.1  0.1  0.1  0.1  0.1  0.1  0.1  0.1\n",
       "2     img_100.jpg  0.1  0.1  0.1  0.1  0.1  0.1  0.1  0.1  0.1  0.1\n",
       "3    img_1000.jpg  0.1  0.1  0.1  0.1  0.1  0.1  0.1  0.1  0.1  0.1\n",
       "4  img_100000.jpg  0.1  0.1  0.1  0.1  0.1  0.1  0.1  0.1  0.1  0.1"
      ]
     },
     "execution_count": 26,
     "metadata": {
      "tags": []
     },
     "output_type": "execute_result"
    }
   ],
   "source": [
    "sample_submission.head()"
   ]
  },
  {
   "cell_type": "markdown",
   "metadata": {
    "colab_type": "text",
    "id": "vsdMvLvo__4i"
   },
   "source": [
    "__Image Characteristics__\n",
    "\n",
    "We see that the images are jpegs, 640x480 pixels and in full RGB color and that we are in fact attempting to identify distracted driver images. "
   ]
  },
  {
   "cell_type": "code",
   "execution_count": 0,
   "metadata": {
    "colab": {
     "autoexec": {
      "startup": false,
      "wait_interval": 0
     }
    },
    "colab_type": "code",
    "id": "qOY3nsAT__4j",
    "outputId": "6ffef33a-4eca-461e-9c25-75f169992f89"
   },
   "outputs": [
    {
     "name": "stdout",
     "output_type": "stream",
     "text": [
      "JPEG (640, 480) RGB\n"
     ]
    },
    {
     "data": {
      "text/plain": [
       "<matplotlib.image.AxesImage at 0x1790dc860>"
      ]
     },
     "execution_count": 214,
     "metadata": {
      "tags": []
     },
     "output_type": "execute_result"
    },
    {
     "data": {
      "image/png": "[encoded data removed]",
      "text/plain": [
       "<Figure size 432x288 with 1 Axes>"
      ]
     },
     "metadata": {
      "tags": []
     },
     "output_type": "display_data"
    }
   ],
   "source": [
    "%matplotlib inline\n",
    "\n",
    "imagetest = Image.open('imgs/test/img_2200.jpg')\n",
    "\n",
    "print(imagetest.format, imagetest.size, imagetest.mode)\n",
    "\n",
    "plt.imshow(imagetest)"
   ]
  },
  {
   "cell_type": "markdown",
   "metadata": {
    "colab_type": "text",
    "id": "R0f29eKV__4r"
   },
   "source": [
    "## __Manipulate and Transform Image Data__\n"
   ]
  },
  {
   "cell_type": "markdown",
   "metadata": {
    "colab_type": "text",
    "id": "jQq_b35Mf8mk"
   },
   "source": [
    "The below outer for loop ingests each image from their respective folders while maintaining the classification of the image.\n",
    "\n",
    "The nested for loop takes each image, converts it to black and white, reduces the image by a magnitued of 10, puts the image pixel values into a numpy array, appending values to the respective X (train) and y (test) lists."
   ]
  },
  {
   "cell_type": "code",
   "execution_count": 0,
   "metadata": {
    "colab": {
     "autoexec": {
      "startup": false,
      "wait_interval": 0
     }
    },
    "colab_type": "code",
    "id": "254MZOvK__4s",
    "outputId": "56a8c5ff-1501-477d-a493-8e8b720d2176"
   },
   "outputs": [
    {
     "name": "stdout",
     "output_type": "stream",
     "text": [
      "Load folder c0\n",
      "Number of train images: 2489\n",
      "Load folder c1\n",
      "Number of train images: 4756\n",
      "Load folder c2\n",
      "Number of train images: 7073\n",
      "Load folder c3\n",
      "Number of train images: 9419\n",
      "Load folder c4\n",
      "Number of train images: 11745\n",
      "Load folder c5\n",
      "Number of train images: 14057\n",
      "Load folder c6\n",
      "Number of train images: 16382\n",
      "Load folder c7\n",
      "Number of train images: 18384\n",
      "Load folder c8\n",
      "Number of train images: 20295\n",
      "Load folder c9\n",
      "Number of train images: 22424\n"
     ]
    }
   ],
   "source": [
    "X = []\n",
    "y = []\n",
    "for j in range(10):\n",
    "    print('Load folder c{}'.format(j))\n",
    "    path = os.path.join('imgs', 'train', 'c' + str(j), '*.jpg')\n",
    "    img_list = glob.glob(path)\n",
    "    for file in img_list:\n",
    "        img = Image.open(file).convert('L')\n",
    "        height, width = img.size\n",
    "       # thumbnail is a in-place operation\n",
    "        img = img.resize(( int(height/10), int(width/10) ), Image.ANTIALIAS) #, Image.ANTIALIAS\n",
    "        pix = np.array(img.getdata()).reshape(img.size[0],img.size[1],1)\n",
    "        X.append(pix)\n",
    "        y.append(j)\n",
    "        \n",
    "    print(\"Number of train images: %s\" % len(X))"
   ]
  },
  {
   "cell_type": "code",
   "execution_count": 0,
   "metadata": {
    "colab": {
     "autoexec": {
      "startup": false,
      "wait_interval": 0
     }
    },
    "colab_type": "code",
    "id": "c1NFAXEpLsyu"
   },
   "outputs": [],
   "source": [
    "with h5py.File('traindata.hdf5','w') as f:\n",
    "    f.create_dataset('X', data=Xs)\n",
    "    f.create_dataset('Y', data=Ys)"
   ]
  },
  {
   "cell_type": "code",
   "execution_count": 0,
   "metadata": {
    "colab": {
     "autoexec": {
      "startup": false,
      "wait_interval": 0
     }
    },
    "colab_type": "code",
    "id": "p3-KTUVtLyNW"
   },
   "outputs": [],
   "source": [
    "with h5py.File('traindata.hdf5','r') as f:\n",
    "    X_train = f['X'][()] \n",
    "    Y_train = f['Y'][()]"
   ]
  },
  {
   "cell_type": "markdown",
   "metadata": {
    "colab_type": "text",
    "id": "FYtAWc-6ZFJP"
   },
   "source": [
    "__Ingest The Final Test Data__\n",
    "\n",
    "This is the final test data our model will attempt to classify. We do now have a access to the actual classification values of this test data, so to test / train our model we will divide the previously classified data into test and train data then run the model we built against this unknown distracted driver data."
   ]
  },
  {
   "cell_type": "code",
   "execution_count": 0,
   "metadata": {
    "colab": {
     "autoexec": {
      "startup": false,
      "wait_interval": 0
     }
    },
    "colab_type": "code",
    "id": "1gAvlzm-Y1RG"
   },
   "outputs": [],
   "source": [
    "X_Final_Test1 = []\n",
    "path = os.path.join('imgs', 'test','*.jpg')\n",
    "img_list = glob.glob(path)\n",
    "print(len(img_list))\n",
    "\n",
    "for file in img_list:\n",
    "    img = Image.open(file).convert('L')\n",
    "    height, width = img.size\n",
    "    # thumbnail is a in-place operation\n",
    "    img = img.resize(( int(height/10), int(width/10) ), Image.ANTIALIAS) #, Image.ANTIALIAS\n",
    "    pix = np.array(img.getdata()).reshape(img.size[0],img.size[1],1)\n",
    "    X_Final_Test1.append(pix)\n",
    "        \n",
    "print(\"Number of test images: %s\" % len(X_test))\n"
   ]
  },
  {
   "cell_type": "code",
   "execution_count": 0,
   "metadata": {
    "colab": {
     "autoexec": {
      "startup": false,
      "wait_interval": 0
     }
    },
    "colab_type": "code",
    "id": "cO2PKRC1C3F3"
   },
   "outputs": [],
   "source": [
    "X_Final_Test = np.array(X_Final_Test, dtype = 'float32')\n",
    "X_Final_Test = (X_Final_Test1-(X_Final_Test1.max()/2))/X_Final_Test1.max()      \n",
    "print(X_Final_Test.shape)"
   ]
  },
  {
   "cell_type": "markdown",
   "metadata": {
    "colab_type": "text",
    "id": "IzyNiIYVcOgT"
   },
   "source": [
    "__Save Final Test Data__"
   ]
  },
  {
   "cell_type": "code",
   "execution_count": 0,
   "metadata": {
    "colab": {
     "autoexec": {
      "startup": false,
      "wait_interval": 0
     }
    },
    "colab_type": "code",
    "id": "G14CRg7qcNoQ"
   },
   "outputs": [],
   "source": [
    "with h5py.File('testdata.hdf5','w') as f:\n",
    "    f.create_dataset('X', data=X_Final_Test)"
   ]
  },
  {
   "cell_type": "markdown",
   "metadata": {
    "colab_type": "text",
    "id": "2MnP13CI__4x"
   },
   "source": [
    "__Encode X and y__\n",
    "\n",
    "Because we are attempting to classify the images, we need to change y to categorical data for keras to understand what it is trying to classify. We also need to alter X to be a numpy array because the loop outputs a list."
   ]
  },
  {
   "cell_type": "code",
   "execution_count": 0,
   "metadata": {
    "colab": {
     "autoexec": {
      "startup": false,
      "wait_interval": 0
     }
    },
    "colab_type": "code",
    "id": "Xor83arP__43",
    "outputId": "a84a632d-4b93-45eb-d10c-958342cf1e97"
   },
   "outputs": [
    {
     "name": "stdout",
     "output_type": "stream",
     "text": [
      "(22424, 10)\n"
     ]
    }
   ],
   "source": [
    "Y = to_categorical(y)\n",
    "print(Y.shape)"
   ]
  },
  {
   "cell_type": "code",
   "execution_count": 0,
   "metadata": {
    "colab": {
     "autoexec": {
      "startup": false,
      "wait_interval": 0
     }
    },
    "colab_type": "code",
    "id": "V1M_uJOT__5B",
    "outputId": "0f11505c-5e05-48ad-c730-211317659359"
   },
   "outputs": [
    {
     "name": "stdout",
     "output_type": "stream",
     "text": [
      "(22424, 64, 48, 1)\n"
     ]
    }
   ],
   "source": [
    "X = np.array(X) \n",
    "print(X.shape)"
   ]
  },
  {
   "cell_type": "markdown",
   "metadata": {
    "colab_type": "text",
    "id": "Dtsd_FHG__5H"
   },
   "source": [
    "__Test / Train Shuffle and Split__\n",
    "\n",
    "We then take the X and y lists and turn them into float value numpy arrays. After that, we shuffle the order of the data image by index and then split into test and train groups."
   ]
  },
  {
   "cell_type": "markdown",
   "metadata": {
    "colab_type": "text",
    "id": "_oyYyreJ__5L"
   },
   "source": [
    "Prep Shuffle on index"
   ]
  },
  {
   "cell_type": "code",
   "execution_count": 0,
   "metadata": {
    "colab": {
     "autoexec": {
      "startup": false,
      "wait_interval": 0
     }
    },
    "colab_type": "code",
    "id": "GYJJQ2w___5L",
    "outputId": "4caa617d-baf7-40c6-e0da-69a4aa7b6ebe"
   },
   "outputs": [
    {
     "name": "stdout",
     "output_type": "stream",
     "text": [
      "[ 9994  4965  5208  2681 15911  5972   547 12219 18670 16198]\n"
     ]
    }
   ],
   "source": [
    "ind = np.array(list(range(22424)))\n",
    "seed = 500\n",
    "np.random.seed(seed)\n",
    "np.random.shuffle(ind)\n",
    "print(ind[:10])"
   ]
  },
  {
   "cell_type": "markdown",
   "metadata": {
    "colab_type": "text",
    "id": "orf5Dd4G__5Q"
   },
   "source": [
    "Apply shuffle to test and train"
   ]
  },
  {
   "cell_type": "code",
   "execution_count": 0,
   "metadata": {
    "colab": {
     "autoexec": {
      "startup": false,
      "wait_interval": 0
     }
    },
    "colab_type": "code",
    "id": "zFKLsfCI__5T"
   },
   "outputs": [],
   "source": [
    "Xs = X[ind]\n",
    "Ys = Y[ind]"
   ]
  },
  {
   "cell_type": "markdown",
   "metadata": {
    "colab_type": "text",
    "id": "zTFJDBca__5Y"
   },
   "source": [
    "__Determine validity of split__\n",
    "\n",
    "Comparing X with Xs we can see that we have properly shuffled our test / train split."
   ]
  },
  {
   "cell_type": "code",
   "execution_count": 0,
   "metadata": {
    "colab": {
     "autoexec": {
      "startup": false,
      "wait_interval": 0
     }
    },
    "colab_type": "code",
    "id": "pdehSeQt__5Z",
    "outputId": "93d9666a-c305-4aab-db2b-c284a2ec1e96"
   },
   "outputs": [
    {
     "name": "stdout",
     "output_type": "stream",
     "text": [
      "shape of Ys:(22424, 10)\n",
      "shape of Xs:(22424, 64, 48, 1)\n"
     ]
    }
   ],
   "source": [
    "print(\"shape of Ys:\" + str(Ys.shape))\n",
    "print(\"shape of Xs:\" + str(Xs.shape))"
   ]
  },
  {
   "cell_type": "markdown",
   "metadata": {
    "colab_type": "text",
    "id": "YZP7AvAz__5i"
   },
   "source": [
    "Y looks properly shuffled"
   ]
  },
  {
   "cell_type": "code",
   "execution_count": 0,
   "metadata": {
    "colab": {
     "autoexec": {
      "startup": false,
      "wait_interval": 0
     }
    },
    "colab_type": "code",
    "id": "-7b0aH0I__5j",
    "outputId": "18313982-8867-4c60-ad4c-b65ece5971c7"
   },
   "outputs": [
    {
     "name": "stdout",
     "output_type": "stream",
     "text": [
      "[ 1.  0.  0.  0.  0.  0.  0.  0.  0.  0.] [ 0.  0.  0.  0.  1.  0.  0.  0.  0.  0.]\n"
     ]
    }
   ],
   "source": [
    "print(Y[0], Ys[0])"
   ]
  },
  {
   "cell_type": "markdown",
   "metadata": {
    "colab_type": "text",
    "id": "1u5uHYjp__5o"
   },
   "source": [
    "X also looks like things have been shuffled correctly"
   ]
  },
  {
   "cell_type": "code",
   "execution_count": 0,
   "metadata": {
    "colab": {
     "autoexec": {
      "startup": false,
      "wait_interval": 0
     }
    },
    "colab_type": "code",
    "id": "-uvqefgS__5q",
    "outputId": "674505eb-b2e6-4de5-bae1-5628b4b196bf"
   },
   "outputs": [
    {
     "data": {
      "text/plain": [
       "35584"
      ]
     },
     "execution_count": 222,
     "metadata": {
      "tags": []
     },
     "output_type": "execute_result"
    }
   ],
   "source": [
    "X[0].sum() - Xs[0].sum()"
   ]
  },
  {
   "cell_type": "markdown",
   "metadata": {
    "colab_type": "text",
    "id": "k1gYipmG__5v"
   },
   "source": [
    "__Normalization Process__"
   ]
  },
  {
   "cell_type": "code",
   "execution_count": 0,
   "metadata": {
    "colab": {
     "autoexec": {
      "startup": false,
      "wait_interval": 0
     }
    },
    "colab_type": "code",
    "id": "06_GQJk3__5x",
    "outputId": "470ff32f-a2ca-49c7-f583-377588ebc896"
   },
   "outputs": [
    {
     "name": "stdout",
     "output_type": "stream",
     "text": [
      "int64\n",
      "255\n"
     ]
    }
   ],
   "source": [
    "print(Xs.dtype)\n",
    "print(Xs.max()) "
   ]
  },
  {
   "cell_type": "code",
   "execution_count": 0,
   "metadata": {
    "colab": {
     "autoexec": {
      "startup": false,
      "wait_interval": 0
     }
    },
    "colab_type": "code",
    "id": "loLF5ktA__55"
   },
   "outputs": [],
   "source": [
    "Xs = (Xs-(Xs.max()/2))/Xs.max()"
   ]
  },
  {
   "cell_type": "code",
   "execution_count": 0,
   "metadata": {
    "colab": {
     "autoexec": {
      "startup": false,
      "wait_interval": 0
     }
    },
    "colab_type": "code",
    "id": "dgECdLJi__58",
    "outputId": "b6fab34c-15f8-4b64-9e03-c7624f171f9d"
   },
   "outputs": [
    {
     "name": "stdout",
     "output_type": "stream",
     "text": [
      "float64\n",
      "-0.142253596592\n",
      "0.5\n",
      "-0.5\n"
     ]
    }
   ],
   "source": [
    "print(Xs.dtype)\n",
    "print(Xs.mean())\n",
    "print(Xs.max())\n",
    "print(Xs.min())"
   ]
  },
  {
   "cell_type": "markdown",
   "metadata": {
    "colab_type": "text",
    "id": "7F9tJitN__6B"
   },
   "source": [
    "Alter datatype to float to create more disk space"
   ]
  },
  {
   "cell_type": "code",
   "execution_count": 0,
   "metadata": {
    "colab": {
     "autoexec": {
      "startup": false,
      "wait_interval": 0
     }
    },
    "colab_type": "code",
    "id": "zazFNxvp__6C",
    "outputId": "e6bd511a-e2ba-4446-f185-b2dd7ebdc372"
   },
   "outputs": [
    {
     "name": "stdout",
     "output_type": "stream",
     "text": [
      "original disk space with float64 is 0.551092224\n",
      "new disk space: float32 is 0.275546112\n"
     ]
    }
   ],
   "source": [
    "print(\"original disk space with \" + str(Xs.dtype) + \" is \" + str(Xs.nbytes/10**9)) \n",
    "Xs = Xs.astype('float32')\n",
    "print(\"new disk space: \"  + str(Xs.dtype) + \" is \" + str(Xs.nbytes/10**9)) "
   ]
  },
  {
   "cell_type": "markdown",
   "metadata": {
    "colab_type": "text",
    "id": "cGB0Wj4R__6G"
   },
   "source": [
    "__Save to HDF5 file type__\n",
    "\n",
    "Due to size and hierarchical data structure I am saving off a copy of the afore-created data results. I will also re-ingest the data in a way that automatically creates the test and train groups for our model to learn on. \n"
   ]
  },
  {
   "cell_type": "code",
   "execution_count": 0,
   "metadata": {
    "colab": {
     "autoexec": {
      "startup": false,
      "wait_interval": 0
     }
    },
    "colab_type": "code",
    "id": "qegLRZwu__6I"
   },
   "outputs": [],
   "source": [
    "with h5py.File('traindata.hdf5','w') as f:\n",
    "    f.create_dataset('X', data=Xs)\n",
    "    f.create_dataset('Y', data=Ys)"
   ]
  },
  {
   "cell_type": "markdown",
   "metadata": {
    "colab_type": "text",
    "id": "tT9E6-w1__6L"
   },
   "source": [
    "__Read HDF5 file type__"
   ]
  },
  {
   "cell_type": "code",
   "execution_count": 0,
   "metadata": {
    "colab": {
     "autoexec": {
      "startup": false,
      "wait_interval": 0
     }
    },
    "colab_type": "code",
    "id": "vv93CURg__6R"
   },
   "outputs": [],
   "source": [
    "with h5py.File('traindata.hdf5','r') as f:\n",
    "    X_train = f['X'][()] \n",
    "    Y_train = f['Y'][()]"
   ]
  },
  {
   "cell_type": "markdown",
   "metadata": {
    "colab_type": "text",
    "id": "zgKxHEcG__6T"
   },
   "source": [
    "__Visualize Shape before modeling__\n",
    "\n",
    "We want to see the structure of the data we are using to teach our model."
   ]
  },
  {
   "cell_type": "code",
   "execution_count": 28,
   "metadata": {
    "colab": {
     "autoexec": {
      "startup": false,
      "wait_interval": 0
     },
     "base_uri": "https://localhost:8080/",
     "height": 85
    },
    "colab_type": "code",
    "executionInfo": {
     "elapsed": 1404,
     "status": "ok",
     "timestamp": 1525659684889,
     "user": {
      "displayName": "Sean O'Malley",
      "photoUrl": "//lh5.googleusercontent.com/-KT7F5-vJBhk/AAAAAAAAAAI/AAAAAAAALt4/70yOi3FMzSc/s50-c-k-no/photo.jpg",
      "userId": "103837524288819033453"
     },
     "user_tz": 360
    },
    "id": "8WbTKkxF__6U",
    "outputId": "03570f94-c420-4075-b647-e253d4df6be0"
   },
   "outputs": [
    {
     "name": "stdout",
     "output_type": "stream",
     "text": [
      "X Train\n",
      "(22424, 64, 48, 1)\n",
      "Y Train:\n",
      "(22424, 10)\n"
     ]
    }
   ],
   "source": [
    "print(\"X Train\")\n",
    "print(X_train.shape)\n",
    "\n",
    "print(\"Y Train:\")\n",
    "print(Y_train.shape)"
   ]
  },
  {
   "cell_type": "markdown",
   "metadata": {
    "colab_type": "text",
    "id": "ZQms-WvG__6X"
   },
   "source": [
    "__Prep Before Model Builds__\n",
    "\n",
    "We first want to prep the inputs to the model. Pulling out the number of classes and ensuring that y is categorical "
   ]
  },
  {
   "cell_type": "code",
   "execution_count": 29,
   "metadata": {
    "colab": {
     "autoexec": {
      "startup": false,
      "wait_interval": 0
     },
     "base_uri": "https://localhost:8080/",
     "height": 51
    },
    "colab_type": "code",
    "executionInfo": {
     "elapsed": 528,
     "status": "ok",
     "timestamp": 1525659739613,
     "user": {
      "displayName": "Sean O'Malley",
      "photoUrl": "//lh5.googleusercontent.com/-KT7F5-vJBhk/AAAAAAAAAAI/AAAAAAAALt4/70yOi3FMzSc/s50-c-k-no/photo.jpg",
      "userId": "103837524288819033453"
     },
     "user_tz": 360
    },
    "id": "spA3C1cc__6Z",
    "outputId": "7584b658-255c-400b-d9fa-5929c93950db"
   },
   "outputs": [
    {
     "name": "stdout",
     "output_type": "stream",
     "text": [
      "3072\n",
      "10\n"
     ]
    }
   ],
   "source": [
    "num_pixels = X_train.shape[1] * X_train.shape[2]\n",
    "print(num_pixels)\n",
    "\n",
    "num_classes = Y_train.shape[1]\n",
    "print(num_classes)"
   ]
  },
  {
   "cell_type": "markdown",
   "metadata": {
    "colab_type": "text",
    "id": "dGFVtS06__6f"
   },
   "source": [
    "---\n",
    "## __CNN with Sequential API__\n",
    "\n",
    "The <a href=\"https://keras.io/models/sequential/\">Sequential API</a> allows you to create models layer by layer after initiating the _Sequential()_ function in a model. The operations are limited in that Sequential does not allow you to create models that share layers or have multiple inputs or outputs. However this simple model can prove incredibly effective, permitting you to summarize, fit, evaluate and make predictions.\n",
    "\n",
    "\n",
    "The inner model mathematics we use is what is called a <a href=\"https://keras.io/layers/convolutional/#conv2d\">Convolutional Neural Net</a>, which is a design that is inspired by the visual cortex in the brain. A CNN is an acyclic graph composed of layers of increasingly few nodes, where each layer feeds into the next. Unlike artificial neural nets, convolutional neural nets have identical numbers of nodes, with the same weight values and parameters.\n",
    "\n",
    "\n",
    "Now, lets build the a sequential convolutional neural net model and see how it performs"
   ]
  },
  {
   "cell_type": "code",
   "execution_count": 0,
   "metadata": {
    "colab": {
     "autoexec": {
      "startup": false,
      "wait_interval": 0
     }
    },
    "colab_type": "code",
    "id": "WUX9_aAD__6g"
   },
   "outputs": [],
   "source": [
    "# Create Model as Function\n",
    "def sequential_cnn_model():\n",
    "    model = Sequential()\n",
    "    model.add(Conv2D(32, kernel_size = (3,3), activation = 'relu', input_shape = (64, 48, 1)))\n",
    "    model.add(MaxPooling2D(pool_size=(2,2)))\n",
    "\n",
    "    model.add(Flatten())\n",
    "    model.add(Dense(units = num_pixels, activation = 'relu'))\n",
    "    model.add(Dense(units = num_classes, activation = 'softmax'))\n",
    "\n",
    "    model.compile(loss= 'categorical_crossentropy' , optimizer= 'adam' , metrics=['accuracy'])\n",
    "    return model"
   ]
  },
  {
   "cell_type": "markdown",
   "metadata": {
    "colab_type": "text",
    "id": "mu-VE1L4tlIF"
   },
   "source": [
    "__CNN with Sequential API:__ _Build_"
   ]
  },
  {
   "cell_type": "code",
   "execution_count": 31,
   "metadata": {
    "colab": {
     "autoexec": {
      "startup": false,
      "wait_interval": 0
     },
     "base_uri": "https://localhost:8080/",
     "height": 323
    },
    "colab_type": "code",
    "executionInfo": {
     "elapsed": 2528,
     "status": "ok",
     "timestamp": 1525659828184,
     "user": {
      "displayName": "Sean O'Malley",
      "photoUrl": "//lh5.googleusercontent.com/-KT7F5-vJBhk/AAAAAAAAAAI/AAAAAAAALt4/70yOi3FMzSc/s50-c-k-no/photo.jpg",
      "userId": "103837524288819033453"
     },
     "user_tz": 360
    },
    "id": "-o2M-H2e__6l",
    "outputId": "8746a9db-6651-4850-bbe0-b81be7894abc"
   },
   "outputs": [
    {
     "name": "stdout",
     "output_type": "stream",
     "text": [
      "_________________________________________________________________\n",
      "Layer (type)                 Output Shape              Param #   \n",
      "=================================================================\n",
      "conv2d_1 (Conv2D)            (None, 62, 46, 32)        320       \n",
      "_________________________________________________________________\n",
      "max_pooling2d_1 (MaxPooling2 (None, 31, 23, 32)        0         \n",
      "_________________________________________________________________\n",
      "flatten_1 (Flatten)          (None, 22816)             0         \n",
      "_________________________________________________________________\n",
      "dense_1 (Dense)              (None, 3072)              70093824  \n",
      "_________________________________________________________________\n",
      "dense_2 (Dense)              (None, 10)                30730     \n",
      "=================================================================\n",
      "Total params: 70,124,874\n",
      "Trainable params: 70,124,874\n",
      "Non-trainable params: 0\n",
      "_________________________________________________________________\n",
      "None\n"
     ]
    }
   ],
   "source": [
    "# Build Model\n",
    "model = sequential_cnn_model()\n",
    "\n",
    "# View Model Summary\n",
    "print(model.summary())"
   ]
  },
  {
   "cell_type": "markdown",
   "metadata": {
    "colab_type": "text",
    "id": "neFYCsMWs701"
   },
   "source": [
    "__CNN with Sequential API:__ _Run_"
   ]
  },
  {
   "cell_type": "code",
   "execution_count": 32,
   "metadata": {
    "colab": {
     "autoexec": {
      "startup": false,
      "wait_interval": 0
     },
     "base_uri": "https://localhost:8080/",
     "height": 714
    },
    "colab_type": "code",
    "executionInfo": {
     "elapsed": 5016113,
     "status": "ok",
     "timestamp": 1525664893849,
     "user": {
      "displayName": "Sean O'Malley",
      "photoUrl": "//lh5.googleusercontent.com/-KT7F5-vJBhk/AAAAAAAAAAI/AAAAAAAALt4/70yOi3FMzSc/s50-c-k-no/photo.jpg",
      "userId": "103837524288819033453"
     },
     "user_tz": 360
    },
    "id": "PQ1vBi7VaVWY",
    "outputId": "51ddaada-41aa-4b2d-9e8e-ed1b47cccb91"
   },
   "outputs": [
    {
     "name": "stdout",
     "output_type": "stream",
     "text": [
      "Train on 16818 samples, validate on 5606 samples\n",
      "Epoch 1/20\n",
      " - 254s - loss: 6.9925 - acc: 0.3945 - val_loss: 6.4614 - val_acc: 0.5656\n",
      "Epoch 2/20\n",
      " - 251s - loss: 6.3711 - acc: 0.5871 - val_loss: 6.3460 - val_acc: 0.5956\n",
      "Epoch 3/20\n",
      " - 250s - loss: 6.3055 - acc: 0.6030 - val_loss: 6.3235 - val_acc: 0.5976\n",
      "Epoch 4/20\n",
      " - 251s - loss: 6.2866 - acc: 0.6064 - val_loss: 6.3188 - val_acc: 0.6001\n",
      "Epoch 5/20\n",
      " - 251s - loss: 6.2745 - acc: 0.6088 - val_loss: 6.2940 - val_acc: 0.6060\n",
      "Epoch 6/20\n",
      " - 251s - loss: 6.2682 - acc: 0.6105 - val_loss: 6.2980 - val_acc: 0.6040\n",
      "Epoch 7/20\n",
      " - 251s - loss: 6.2675 - acc: 0.6103 - val_loss: 6.2894 - val_acc: 0.6060\n",
      "Epoch 8/20\n",
      " - 251s - loss: 6.2633 - acc: 0.6112 - val_loss: 6.2880 - val_acc: 0.6063\n",
      "Epoch 9/20\n",
      " - 251s - loss: 6.2661 - acc: 0.6102 - val_loss: 6.2909 - val_acc: 0.6068\n",
      "Epoch 10/20\n",
      " - 250s - loss: 6.2610 - acc: 0.6115 - val_loss: 6.2872 - val_acc: 0.6072\n",
      "Epoch 11/20\n",
      " - 250s - loss: 6.2606 - acc: 0.6117 - val_loss: 6.2871 - val_acc: 0.6063\n",
      "Epoch 12/20\n",
      " - 250s - loss: 6.2602 - acc: 0.6117 - val_loss: 6.2868 - val_acc: 0.6070\n",
      "Epoch 13/20\n",
      " - 250s - loss: 6.2598 - acc: 0.6117 - val_loss: 6.2865 - val_acc: 0.6070\n",
      "Epoch 14/20\n",
      " - 250s - loss: 6.2598 - acc: 0.6117 - val_loss: 6.2865 - val_acc: 0.6072\n",
      "Epoch 15/20\n",
      " - 250s - loss: 6.2596 - acc: 0.6117 - val_loss: 6.2872 - val_acc: 0.6070\n",
      "Epoch 16/20\n",
      " - 251s - loss: 6.2596 - acc: 0.6117 - val_loss: 6.2876 - val_acc: 0.6070\n",
      "Epoch 17/20\n",
      " - 251s - loss: 6.2595 - acc: 0.6117 - val_loss: 6.2865 - val_acc: 0.6072\n",
      "Epoch 18/20\n",
      " - 250s - loss: 6.2595 - acc: 0.6117 - val_loss: 6.2876 - val_acc: 0.6070\n",
      "Epoch 19/20\n",
      " - 250s - loss: 6.2595 - acc: 0.6117 - val_loss: 6.2868 - val_acc: 0.6074\n",
      "Epoch 20/20\n",
      " - 252s - loss: 6.2595 - acc: 0.6117 - val_loss: 6.2871 - val_acc: 0.6074\n"
     ]
    }
   ],
   "source": [
    "# Fit Model\n",
    "history = model.fit(X_train, Y_train, validation_split = 0.25, epochs=20, batch_size=200, verbose=2)"
   ]
  },
  {
   "cell_type": "markdown",
   "metadata": {
    "colab_type": "text",
    "id": "hZ2v4MkW__6r"
   },
   "source": [
    "__CNN with Sequential API:__  _Evaluate_\n",
    "\n",
    "The model above is incredibly simplistic and performed much better than guessing, however it is certainly not satisfactory in properly classifying distracted driving images in the training dataset. We will need to significantly increase the complexity in the next model iterations in hopes of increasing accuracy."
   ]
  },
  {
   "cell_type": "code",
   "execution_count": 33,
   "metadata": {
    "colab": {
     "autoexec": {
      "startup": false,
      "wait_interval": 0
     },
     "base_uri": "https://localhost:8080/",
     "height": 381
    },
    "colab_type": "code",
    "executionInfo": {
     "elapsed": 109502,
     "status": "ok",
     "timestamp": 1525665016266,
     "user": {
      "displayName": "Sean O'Malley",
      "photoUrl": "//lh5.googleusercontent.com/-KT7F5-vJBhk/AAAAAAAAAAI/AAAAAAAALt4/70yOi3FMzSc/s50-c-k-no/photo.jpg",
      "userId": "103837524288819033453"
     },
     "user_tz": 360
    },
    "id": "o1Prt5NQ__6x",
    "outputId": "c7cd5c55-2b5a-4f31-9936-3e82664799fc"
   },
   "outputs": [
    {
     "name": "stdout",
     "output_type": "stream",
     "text": [
      "Baseline Error: 38.94%\n"
     ]
    },
    {
     "data": {
      "text/plain": [
       "[<matplotlib.lines.Line2D at 0x7f92148650b8>]"
      ]
     },
     "execution_count": 33,
     "metadata": {
      "tags": []
     },
     "output_type": "execute_result"
    },
    {
     "data": {
      "image/png": "[encoded data removed]",
      "text/plain": [
       "<matplotlib.figure.Figure at 0x7f9214865160>"
      ]
     },
     "metadata": {
      "tags": []
     },
     "output_type": "display_data"
    }
   ],
   "source": [
    "# Evaluate Model Accuracy\n",
    "scores = model.evaluate(X_train, Y_train, verbose=0)\n",
    "print(\"Baseline Error: %.2f%%\" % (100-scores[1]*100))\n",
    "\n",
    "# Visualize Model\n",
    "plt.plot(history.history['acc'],'b') #train acc\n",
    "plt.plot(history.history['val_acc'],'g') #val acc"
   ]
  },
  {
   "cell_type": "markdown",
   "metadata": {
    "colab_type": "text",
    "id": "wnHJq0sW__61"
   },
   "source": [
    "__CNN with Sequential API:__  _Save_\n",
    "\n",
    "We want so save this specific model off as a json, and weights to hdf5 for reusability purposes"
   ]
  },
  {
   "cell_type": "code",
   "execution_count": 34,
   "metadata": {
    "colab": {
     "autoexec": {
      "startup": false,
      "wait_interval": 0
     },
     "base_uri": "https://localhost:8080/",
     "height": 34
    },
    "colab_type": "code",
    "executionInfo": {
     "elapsed": 43812,
     "status": "ok",
     "timestamp": 1525665273153,
     "user": {
      "displayName": "Sean O'Malley",
      "photoUrl": "//lh5.googleusercontent.com/-KT7F5-vJBhk/AAAAAAAAAAI/AAAAAAAALt4/70yOi3FMzSc/s50-c-k-no/photo.jpg",
      "userId": "103837524288819033453"
     },
     "user_tz": 360
    },
    "id": "GWZYu61C__61",
    "outputId": "188010be-96e2-45fc-8448-37971e4d3520"
   },
   "outputs": [
    {
     "name": "stdout",
     "output_type": "stream",
     "text": [
      "Saved model to disk\n"
     ]
    }
   ],
   "source": [
    "# serialize model to JSON\n",
    "model_json = model.to_json()\n",
    "with open(\"sequential_cnn_model.json\", \"w\") as json_file:\n",
    "    json_file.write(model_json)\n",
    "\n",
    "# serialize weights to HDF5\n",
    "model.save_weights(\"sequential_cnn_model.h5\")\n",
    "print(\"Saved model to disk\")"
   ]
  },
  {
   "cell_type": "markdown",
   "metadata": {
    "colab_type": "text",
    "id": "kOBwZGF_i1w_"
   },
   "source": [
    "---\n",
    "## __Inception Module CNN with Functional API__\n",
    "\n",
    "The <a href=\"https://keras.io/getting-started/functional-api-guide/\">Functional API</a> allows much more flexibility than the Sequential API because you can create models that share layers or have multiple inputs or outputs. Models are then essentially the creation of layer instances and connecting them directly to each other in pairs. The steps usually include the definition of input based on the image data, connection of inception modules concluding with flattening and compiling the model. \n",
    "\n",
    "Functional API's have found that certain network structures work better than others. Specifically, Google created what is called the <a href=\"https://www.cv-foundation.org/openaccess/content_cvpr_2015/papers/Szegedy_Going_Deeper_With_2015_CVPR_paper.pdf\">Inception Module</a>. This structure stacks inception layers to create a deep convolutional neural net, all the while controling for dimensionality reduction through the use of all filter types used all at once along with a pooling layer before output to the next inception occurs\n",
    "\n",
    "Now, lets build the an inception module convolutional neural net model and see how it performs"
   ]
  },
  {
   "cell_type": "markdown",
   "metadata": {
    "colab_type": "text",
    "id": "MeOWLzUHrShW"
   },
   "source": [
    "__Inception Module CNN with Functional API:__ _Define Inception Module_"
   ]
  },
  {
   "cell_type": "code",
   "execution_count": 0,
   "metadata": {
    "colab": {
     "autoexec": {
      "startup": false,
      "wait_interval": 0
     }
    },
    "colab_type": "code",
    "id": "uyxhw_8Wrtqh"
   },
   "outputs": [],
   "source": [
    "def inception(x, n = 32):\n",
    "    p1 = Conv2D(n, 1, activation ='relu', padding='same')(x)\n",
    "    \n",
    "    p2 = Conv2D(n, 1, activation ='relu', padding='same')(x)\n",
    "    p2 = Conv2D(n, 3, activation ='relu', padding='same')(p2)\n",
    "    \n",
    "    p3 = Conv2D(n, 1, activation ='relu', padding='same')(x)\n",
    "    p3 = Conv2D(n, 5, activation ='relu', padding='same')(p3)\n",
    "    \n",
    "    p4 = MaxPooling2D((3,3), strides=(1, 1), padding='same')(x)\n",
    "    p4 = Conv2D(n, 1, activation ='relu', padding='same')(p4)\n",
    "    \n",
    "    c =  Concatenate(axis=-1)([p1,p2,p3,p4])\n",
    "    return c"
   ]
  },
  {
   "cell_type": "markdown",
   "metadata": {
    "colab_type": "text",
    "id": "GpfIWQUmreJQ"
   },
   "source": [
    "__Inception Module CNN with Functional API:__ _Define Functional API Model_"
   ]
  },
  {
   "cell_type": "code",
   "execution_count": 0,
   "metadata": {
    "colab": {
     "autoexec": {
      "startup": false,
      "wait_interval": 0
     }
    },
    "colab_type": "code",
    "id": "39PnyY15ruZC"
   },
   "outputs": [],
   "source": [
    "def functional_cnn_model1():\n",
    "    inputs = Input(X_train.shape[1:])\n",
    "    i1 = inception(inputs)\n",
    "    \n",
    "    mp1 = MaxPooling2D((2,2))(i1)\n",
    "    i2 = inception(mp1)\n",
    "    \n",
    "    mp2 = MaxPooling2D((2,2))(i2) \n",
    "    f = Flatten()(mp2)\n",
    "    \n",
    "    d = Dense(128, activation='relu')(f)\n",
    "    out = Dense(10, activation='softmax')(d)\n",
    "    model = Model(inputs, out)\n",
    "    return model"
   ]
  },
  {
   "cell_type": "markdown",
   "metadata": {
    "colab_type": "text",
    "id": "54lFmPDwtFQy"
   },
   "source": [
    "__Inception Module CNN with Functional API:__ _Build_\n",
    "\n",
    "Note the inception module's structure in that it enables a reduction of dimensionality to hopefully reduce noise, increase model speed and inrease worthwhile/transferrable accuracy."
   ]
  },
  {
   "cell_type": "code",
   "execution_count": 20,
   "metadata": {
    "colab": {
     "autoexec": {
      "startup": false,
      "wait_interval": 0
     },
     "base_uri": "https://localhost:8080/",
     "height": 1003
    },
    "colab_type": "code",
    "executionInfo": {
     "elapsed": 412,
     "status": "ok",
     "timestamp": 1525703667566,
     "user": {
      "displayName": "Sean O'Malley",
      "photoUrl": "//lh5.googleusercontent.com/-KT7F5-vJBhk/AAAAAAAAAAI/AAAAAAAALt4/70yOi3FMzSc/s50-c-k-no/photo.jpg",
      "userId": "103837524288819033453"
     },
     "user_tz": 360
    },
    "id": "rFuAmxv3tFbv",
    "outputId": "5e65113f-e557-45cd-c8e7-c3f2754314dd"
   },
   "outputs": [
    {
     "name": "stdout",
     "output_type": "stream",
     "text": [
      "__________________________________________________________________________________________________\n",
      "Layer (type)                    Output Shape         Param #     Connected to                     \n",
      "==================================================================================================\n",
      "input_1 (InputLayer)            (None, 64, 48, 1)    0                                            \n",
      "__________________________________________________________________________________________________\n",
      "conv2d_2 (Conv2D)               (None, 64, 48, 32)   64          input_1[0][0]                    \n",
      "__________________________________________________________________________________________________\n",
      "conv2d_4 (Conv2D)               (None, 64, 48, 32)   64          input_1[0][0]                    \n",
      "__________________________________________________________________________________________________\n",
      "max_pooling2d_1 (MaxPooling2D)  (None, 64, 48, 1)    0           input_1[0][0]                    \n",
      "__________________________________________________________________________________________________\n",
      "conv2d_1 (Conv2D)               (None, 64, 48, 32)   64          input_1[0][0]                    \n",
      "__________________________________________________________________________________________________\n",
      "conv2d_3 (Conv2D)               (None, 64, 48, 32)   9248        conv2d_2[0][0]                   \n",
      "__________________________________________________________________________________________________\n",
      "conv2d_5 (Conv2D)               (None, 64, 48, 32)   25632       conv2d_4[0][0]                   \n",
      "__________________________________________________________________________________________________\n",
      "conv2d_6 (Conv2D)               (None, 64, 48, 32)   64          max_pooling2d_1[0][0]            \n",
      "__________________________________________________________________________________________________\n",
      "concatenate_1 (Concatenate)     (None, 64, 48, 128)  0           conv2d_1[0][0]                   \n",
      "                                                                 conv2d_3[0][0]                   \n",
      "                                                                 conv2d_5[0][0]                   \n",
      "                                                                 conv2d_6[0][0]                   \n",
      "__________________________________________________________________________________________________\n",
      "max_pooling2d_2 (MaxPooling2D)  (None, 32, 24, 128)  0           concatenate_1[0][0]              \n",
      "__________________________________________________________________________________________________\n",
      "conv2d_8 (Conv2D)               (None, 32, 24, 32)   4128        max_pooling2d_2[0][0]            \n",
      "__________________________________________________________________________________________________\n",
      "conv2d_10 (Conv2D)              (None, 32, 24, 32)   4128        max_pooling2d_2[0][0]            \n",
      "__________________________________________________________________________________________________\n",
      "max_pooling2d_3 (MaxPooling2D)  (None, 32, 24, 128)  0           max_pooling2d_2[0][0]            \n",
      "__________________________________________________________________________________________________\n",
      "conv2d_7 (Conv2D)               (None, 32, 24, 32)   4128        max_pooling2d_2[0][0]            \n",
      "__________________________________________________________________________________________________\n",
      "conv2d_9 (Conv2D)               (None, 32, 24, 32)   9248        conv2d_8[0][0]                   \n",
      "__________________________________________________________________________________________________\n",
      "conv2d_11 (Conv2D)              (None, 32, 24, 32)   25632       conv2d_10[0][0]                  \n",
      "__________________________________________________________________________________________________\n",
      "conv2d_12 (Conv2D)              (None, 32, 24, 32)   4128        max_pooling2d_3[0][0]            \n",
      "__________________________________________________________________________________________________\n",
      "concatenate_2 (Concatenate)     (None, 32, 24, 128)  0           conv2d_7[0][0]                   \n",
      "                                                                 conv2d_9[0][0]                   \n",
      "                                                                 conv2d_11[0][0]                  \n",
      "                                                                 conv2d_12[0][0]                  \n",
      "__________________________________________________________________________________________________\n",
      "max_pooling2d_4 (MaxPooling2D)  (None, 16, 12, 128)  0           concatenate_2[0][0]              \n",
      "__________________________________________________________________________________________________\n",
      "flatten_1 (Flatten)             (None, 24576)        0           max_pooling2d_4[0][0]            \n",
      "__________________________________________________________________________________________________\n",
      "dense_1 (Dense)                 (None, 128)          3145856     flatten_1[0][0]                  \n",
      "__________________________________________________________________________________________________\n",
      "dense_2 (Dense)                 (None, 10)           1290        dense_1[0][0]                    \n",
      "==================================================================================================\n",
      "Total params: 3,233,674\n",
      "Trainable params: 3,233,674\n",
      "Non-trainable params: 0\n",
      "__________________________________________________________________________________________________\n",
      "None\n"
     ]
    }
   ],
   "source": [
    "# Build Model\n",
    "model = functional_cnn_model1()\n",
    "\n",
    "# View Model Summary\n",
    "print(model.summary())\n",
    "\n",
    "# Compile Model\n",
    "model.compile(loss= 'categorical_crossentropy' , optimizer = 'adam' , metrics=['accuracy'])"
   ]
  },
  {
   "cell_type": "markdown",
   "metadata": {
    "colab_type": "text",
    "id": "FulW6hX2tFnC"
   },
   "source": [
    "__Inception Module CNN with Functional API:__ _Run_"
   ]
  },
  {
   "cell_type": "code",
   "execution_count": 21,
   "metadata": {
    "colab": {
     "autoexec": {
      "startup": false,
      "wait_interval": 0
     },
     "base_uri": "https://localhost:8080/",
     "height": 561
    },
    "colab_type": "code",
    "executionInfo": {
     "elapsed": 11656037,
     "status": "ok",
     "timestamp": 1525715330641,
     "user": {
      "displayName": "Sean O'Malley",
      "photoUrl": "//lh5.googleusercontent.com/-KT7F5-vJBhk/AAAAAAAAAAI/AAAAAAAALt4/70yOi3FMzSc/s50-c-k-no/photo.jpg",
      "userId": "103837524288819033453"
     },
     "user_tz": 360
    },
    "id": "W2j8FO5qtFy2",
    "outputId": "60471a3a-83d9-4279-dc22-9ab1bb278d36"
   },
   "outputs": [
    {
     "name": "stdout",
     "output_type": "stream",
     "text": [
      "Train on 16818 samples, validate on 5606 samples\n",
      "Epoch 1/15\n",
      " - 780s - loss: 1.9933 - acc: 0.3044 - val_loss: 1.3515 - val_acc: 0.5439\n",
      "Epoch 2/15\n",
      " - 776s - loss: 0.6920 - acc: 0.7894 - val_loss: 0.3390 - val_acc: 0.9119\n",
      "Epoch 3/15\n",
      " - 778s - loss: 0.1748 - acc: 0.9540 - val_loss: 0.1592 - val_acc: 0.9613\n",
      "Epoch 4/15\n",
      " - 777s - loss: 0.0767 - acc: 0.9792 - val_loss: 0.0941 - val_acc: 0.9786\n",
      "Epoch 5/15\n",
      " - 776s - loss: 0.0404 - acc: 0.9882 - val_loss: 0.1012 - val_acc: 0.9748\n",
      "Epoch 6/15\n",
      " - 776s - loss: 0.0329 - acc: 0.9910 - val_loss: 0.0832 - val_acc: 0.9813\n",
      "Epoch 7/15\n",
      " - 777s - loss: 0.0127 - acc: 0.9971 - val_loss: 0.0617 - val_acc: 0.9864\n",
      "Epoch 8/15\n",
      " - 776s - loss: 0.0107 - acc: 0.9971 - val_loss: 0.0914 - val_acc: 0.9791\n",
      "Epoch 9/15\n",
      " - 780s - loss: 0.0061 - acc: 0.9987 - val_loss: 0.0575 - val_acc: 0.9889\n",
      "Epoch 10/15\n",
      " - 779s - loss: 0.0012 - acc: 0.9999 - val_loss: 0.0538 - val_acc: 0.9891\n",
      "Epoch 11/15\n",
      " - 775s - loss: 0.0011 - acc: 0.9998 - val_loss: 0.0902 - val_acc: 0.9814\n",
      "Epoch 12/15\n",
      " - 777s - loss: 0.0199 - acc: 0.9941 - val_loss: 0.1157 - val_acc: 0.9711\n",
      "Epoch 13/15\n",
      " - 776s - loss: 0.0262 - acc: 0.9914 - val_loss: 0.0829 - val_acc: 0.9831\n",
      "Epoch 14/15\n",
      " - 776s - loss: 0.0095 - acc: 0.9967 - val_loss: 0.0652 - val_acc: 0.9873\n",
      "Epoch 15/15\n",
      " - 777s - loss: 0.0028 - acc: 0.9993 - val_loss: 0.0764 - val_acc: 0.9848\n",
      "11656.96498632431  seconds\n"
     ]
    }
   ],
   "source": [
    "# Fit Model\n",
    "t0=time.time()\n",
    "history = model.fit(X_train, Y_train, validation_split = 0.25, epochs=15, batch_size=200, verbose=2)\n",
    "t1=time.time()\n",
    "print(t1-t0,\" seconds\")"
   ]
  },
  {
   "cell_type": "markdown",
   "metadata": {
    "colab_type": "text",
    "id": "uX3oKM0kxmTA"
   },
   "source": [
    "__Inception Module CNN with Functional API:__ _Evaluate_\n",
    "\n",
    "Looking really good, but overfitting a little. Lets see if we can improve by adding batch normalization. I think its fair to say that we will test both of functional api models against the testing dataset."
   ]
  },
  {
   "cell_type": "code",
   "execution_count": 22,
   "metadata": {
    "colab": {
     "autoexec": {
      "startup": false,
      "wait_interval": 0
     },
     "base_uri": "https://localhost:8080/",
     "height": 381
    },
    "colab_type": "code",
    "executionInfo": {
     "elapsed": 225000,
     "status": "ok",
     "timestamp": 1525716308331,
     "user": {
      "displayName": "Sean O'Malley",
      "photoUrl": "//lh5.googleusercontent.com/-KT7F5-vJBhk/AAAAAAAAAAI/AAAAAAAALt4/70yOi3FMzSc/s50-c-k-no/photo.jpg",
      "userId": "103837524288819033453"
     },
     "user_tz": 360
    },
    "id": "nVu9wALtxmg0",
    "outputId": "3e16403d-fdc7-4782-a1b8-ab57a3af9ea9"
   },
   "outputs": [
    {
     "name": "stdout",
     "output_type": "stream",
     "text": [
      "Baseline Error: 0.51%\n"
     ]
    },
    {
     "data": {
      "text/plain": [
       "[<matplotlib.lines.Line2D at 0x7f031200b828>]"
      ]
     },
     "execution_count": 22,
     "metadata": {
      "tags": []
     },
     "output_type": "execute_result"
    },
    {
     "data": {
      "image/png": "[encoded data removed]",
      "text/plain": [
       "<matplotlib.figure.Figure at 0x7f030f7be780>"
      ]
     },
     "metadata": {
      "tags": []
     },
     "output_type": "display_data"
    }
   ],
   "source": [
    "# Evaluate Model Accuracy\n",
    "scores = model.evaluate(X_train, Y_train, verbose=0)\n",
    "print(\"Baseline Error: %.2f%%\" % (100-scores[1]*100))\n",
    "\n",
    "# Visualize Model\n",
    "plt.plot(history.history['acc'],'b') #train acc\n",
    "plt.plot(history.history['val_acc'],'g') #val acc"
   ]
  },
  {
   "cell_type": "markdown",
   "metadata": {
    "colab_type": "text",
    "id": "J4rxcxLKtGEK"
   },
   "source": [
    "__Inception CNN Modules with Functional API:__ _Save_"
   ]
  },
  {
   "cell_type": "code",
   "execution_count": 23,
   "metadata": {
    "colab": {
     "autoexec": {
      "startup": false,
      "wait_interval": 0
     },
     "base_uri": "https://localhost:8080/",
     "height": 34
    },
    "colab_type": "code",
    "executionInfo": {
     "elapsed": 6163,
     "status": "ok",
     "timestamp": 1525716898204,
     "user": {
      "displayName": "Sean O'Malley",
      "photoUrl": "//lh5.googleusercontent.com/-KT7F5-vJBhk/AAAAAAAAAAI/AAAAAAAALt4/70yOi3FMzSc/s50-c-k-no/photo.jpg",
      "userId": "103837524288819033453"
     },
     "user_tz": 360
    },
    "id": "Um_jIpkLtGT5",
    "outputId": "d63a2b8e-fa7f-4d88-dd60-000f5a6349ac"
   },
   "outputs": [
    {
     "name": "stdout",
     "output_type": "stream",
     "text": [
      "Saved model to disk\n"
     ]
    }
   ],
   "source": [
    "# serialize model to JSON\n",
    "model_json = model.to_json()\n",
    "with open(\"functional_cnn_model1.json\", \"w\") as json_file:\n",
    "    json_file.write(model_json)\n",
    "\n",
    "# serialize weights to HDF5\n",
    "model.save_weights(\"functional_cnn_model1.h5\")\n",
    "print(\"Saved model to disk\")"
   ]
  },
  {
   "cell_type": "markdown",
   "metadata": {
    "colab_type": "text",
    "id": "guWh-ZZ9oXZM"
   },
   "source": [
    "__Inception Module CNN with Functional API:__ _Predict_\n",
    "\n",
    "We will ingest the HDF5 data to predict how well the model performs in the competition, after prediction estimates we will manipulate the data to where it all fits nicely in a dataframe, then a csv for submission."
   ]
  },
  {
   "cell_type": "code",
   "execution_count": 0,
   "metadata": {
    "colab": {
     "autoexec": {
      "startup": false,
      "wait_interval": 0
     }
    },
    "colab_type": "code",
    "id": "PlsudAEsoh5-"
   },
   "outputs": [],
   "source": [
    "with h5py.File('testdata.hdf5','r') as f:\n",
    "    X_Final_Test = f['X'][()] "
   ]
  },
  {
   "cell_type": "code",
   "execution_count": 0,
   "metadata": {
    "colab": {
     "autoexec": {
      "startup": false,
      "wait_interval": 0
     }
    },
    "colab_type": "code",
    "id": "d8n4hzmbosuB"
   },
   "outputs": [],
   "source": [
    "best_model_pred = model.predict(X_Final_Test)"
   ]
  },
  {
   "cell_type": "code",
   "execution_count": 0,
   "metadata": {
    "colab": {
     "autoexec": {
      "startup": false,
      "wait_interval": 0
     }
    },
    "colab_type": "code",
    "id": "kR6R2KecpNtR"
   },
   "outputs": [],
   "source": [
    "pred_names = ['c0','c1','c2','c3','c4','c5','c6','c7','c8','c9']\n",
    "\n",
    "pred_filenames_df = pd.read_csv(\"pred_filenames.csv\")\n",
    "pred_filenames = list(pred_filenames_df.iloc[:,1])\n"
   ]
  },
  {
   "cell_type": "code",
   "execution_count": 27,
   "metadata": {
    "colab": {
     "autoexec": {
      "startup": false,
      "wait_interval": 0
     },
     "base_uri": "https://localhost:8080/",
     "height": 51
    },
    "colab_type": "code",
    "executionInfo": {
     "elapsed": 175,
     "status": "ok",
     "timestamp": 1525717796170,
     "user": {
      "displayName": "Sean O'Malley",
      "photoUrl": "//lh5.googleusercontent.com/-KT7F5-vJBhk/AAAAAAAAAAI/AAAAAAAALt4/70yOi3FMzSc/s50-c-k-no/photo.jpg",
      "userId": "103837524288819033453"
     },
     "user_tz": 360
    },
    "id": "uNwR9Cd1pN5S",
    "outputId": "2d75a6d4-00f2-46b4-f97e-99cd1bc6d132"
   },
   "outputs": [
    {
     "name": "stdout",
     "output_type": "stream",
     "text": [
      "Length of filenames: 79726\n",
      "Length of simple_sequential_model_pred: 79726\n"
     ]
    }
   ],
   "source": [
    "print(\"Length of filenames: \" + str(len(pred_filenames)))\n",
    "print(\"Length of simple_sequential_model_pred: \" + str(best_model_pred.shape[0]))"
   ]
  },
  {
   "cell_type": "code",
   "execution_count": 28,
   "metadata": {
    "colab": {
     "autoexec": {
      "startup": false,
      "wait_interval": 0
     },
     "base_uri": "https://localhost:8080/",
     "height": 289
    },
    "colab_type": "code",
    "executionInfo": {
     "elapsed": 236,
     "status": "ok",
     "timestamp": 1525717815925,
     "user": {
      "displayName": "Sean O'Malley",
      "photoUrl": "//lh5.googleusercontent.com/-KT7F5-vJBhk/AAAAAAAAAAI/AAAAAAAALt4/70yOi3FMzSc/s50-c-k-no/photo.jpg",
      "userId": "103837524288819033453"
     },
     "user_tz": 360
    },
    "id": "kPiYOhfxpS5i",
    "outputId": "7a2f1db9-52fc-4dec-97f9-494e72275d0d"
   },
   "outputs": [
    {
     "data": {
      "text/html": [
       "<div>\n",
       "<style scoped>\n",
       "    .dataframe tbody tr th:only-of-type {\n",
       "        vertical-align: middle;\n",
       "    }\n",
       "\n",
       "    .dataframe tbody tr th {\n",
       "        vertical-align: top;\n",
       "    }\n",
       "\n",
       "    .dataframe thead th {\n",
       "        text-align: right;\n",
       "    }\n",
       "</style>\n",
       "<table border=\"1\" class=\"dataframe\">\n",
       "  <thead>\n",
       "    <tr style=\"text-align: right;\">\n",
       "      <th></th>\n",
       "      <th>img</th>\n",
       "      <th>c0</th>\n",
       "      <th>c1</th>\n",
       "      <th>c2</th>\n",
       "      <th>c3</th>\n",
       "      <th>c4</th>\n",
       "      <th>c5</th>\n",
       "      <th>c6</th>\n",
       "      <th>c7</th>\n",
       "      <th>c8</th>\n",
       "      <th>c9</th>\n",
       "    </tr>\n",
       "  </thead>\n",
       "  <tbody>\n",
       "    <tr>\n",
       "      <th>0</th>\n",
       "      <td>img_1.jpg</td>\n",
       "      <td>2.969293e-13</td>\n",
       "      <td>6.826481e-09</td>\n",
       "      <td>1.938540e-07</td>\n",
       "      <td>3.420098e-11</td>\n",
       "      <td>3.123956e-12</td>\n",
       "      <td>9.999993e-01</td>\n",
       "      <td>1.283151e-11</td>\n",
       "      <td>1.188116e-10</td>\n",
       "      <td>3.797234e-13</td>\n",
       "      <td>5.359357e-07</td>\n",
       "    </tr>\n",
       "    <tr>\n",
       "      <th>1</th>\n",
       "      <td>img_10.jpg</td>\n",
       "      <td>8.031030e-08</td>\n",
       "      <td>2.690666e-06</td>\n",
       "      <td>6.422636e-08</td>\n",
       "      <td>8.300275e-01</td>\n",
       "      <td>4.841516e-05</td>\n",
       "      <td>9.378550e-02</td>\n",
       "      <td>2.661294e-09</td>\n",
       "      <td>7.613263e-02</td>\n",
       "      <td>3.192020e-06</td>\n",
       "      <td>2.259026e-11</td>\n",
       "    </tr>\n",
       "    <tr>\n",
       "      <th>2</th>\n",
       "      <td>img_100.jpg</td>\n",
       "      <td>9.987236e-01</td>\n",
       "      <td>2.831646e-07</td>\n",
       "      <td>2.159854e-09</td>\n",
       "      <td>1.150157e-06</td>\n",
       "      <td>6.148370e-05</td>\n",
       "      <td>1.700687e-10</td>\n",
       "      <td>4.759057e-08</td>\n",
       "      <td>1.115440e-09</td>\n",
       "      <td>2.643904e-05</td>\n",
       "      <td>1.187109e-03</td>\n",
       "    </tr>\n",
       "    <tr>\n",
       "      <th>3</th>\n",
       "      <td>img_1000.jpg</td>\n",
       "      <td>2.936937e-02</td>\n",
       "      <td>2.108406e-05</td>\n",
       "      <td>1.783601e-03</td>\n",
       "      <td>1.092255e-06</td>\n",
       "      <td>8.697861e-01</td>\n",
       "      <td>1.882642e-08</td>\n",
       "      <td>9.709492e-02</td>\n",
       "      <td>2.934579e-08</td>\n",
       "      <td>1.943823e-03</td>\n",
       "      <td>8.174086e-11</td>\n",
       "    </tr>\n",
       "    <tr>\n",
       "      <th>4</th>\n",
       "      <td>img_100000.jpg</td>\n",
       "      <td>3.293543e-06</td>\n",
       "      <td>3.372787e-09</td>\n",
       "      <td>9.563728e-09</td>\n",
       "      <td>3.614487e-02</td>\n",
       "      <td>3.559760e-02</td>\n",
       "      <td>9.282525e-01</td>\n",
       "      <td>9.653728e-10</td>\n",
       "      <td>5.743759e-07</td>\n",
       "      <td>9.873531e-08</td>\n",
       "      <td>1.073328e-06</td>\n",
       "    </tr>\n",
       "  </tbody>\n",
       "</table>\n",
       "</div>"
      ],
      "text/plain": [
       "              img            c0            c1            c2            c3  \\\n",
       "0       img_1.jpg  2.969293e-13  6.826481e-09  1.938540e-07  3.420098e-11   \n",
       "1      img_10.jpg  8.031030e-08  2.690666e-06  6.422636e-08  8.300275e-01   \n",
       "2     img_100.jpg  9.987236e-01  2.831646e-07  2.159854e-09  1.150157e-06   \n",
       "3    img_1000.jpg  2.936937e-02  2.108406e-05  1.783601e-03  1.092255e-06   \n",
       "4  img_100000.jpg  3.293543e-06  3.372787e-09  9.563728e-09  3.614487e-02   \n",
       "\n",
       "             c4            c5            c6            c7            c8  \\\n",
       "0  3.123956e-12  9.999993e-01  1.283151e-11  1.188116e-10  3.797234e-13   \n",
       "1  4.841516e-05  9.378550e-02  2.661294e-09  7.613263e-02  3.192020e-06   \n",
       "2  6.148370e-05  1.700687e-10  4.759057e-08  1.115440e-09  2.643904e-05   \n",
       "3  8.697861e-01  1.882642e-08  9.709492e-02  2.934579e-08  1.943823e-03   \n",
       "4  3.559760e-02  9.282525e-01  9.653728e-10  5.743759e-07  9.873531e-08   \n",
       "\n",
       "             c9  \n",
       "0  5.359357e-07  \n",
       "1  2.259026e-11  \n",
       "2  1.187109e-03  \n",
       "3  8.174086e-11  \n",
       "4  1.073328e-06  "
      ]
     },
     "execution_count": 28,
     "metadata": {
      "tags": []
     },
     "output_type": "execute_result"
    }
   ],
   "source": [
    "best_model_pred_df = pd.DataFrame(best_model_pred, \n",
    "                                               index = pred_filenames, \n",
    "                                               columns = pred_names)\n",
    "\n",
    "best_model_pred_df = best_model_pred_df.reset_index()\n",
    "best_model_pred_df.rename(columns={'index': 'img'}, inplace=True)\n",
    "best_model_pred_df.head()"
   ]
  },
  {
   "cell_type": "code",
   "execution_count": 0,
   "metadata": {
    "colab": {
     "autoexec": {
      "startup": false,
      "wait_interval": 0
     }
    },
    "colab_type": "code",
    "id": "IXCx2nOLpbWc"
   },
   "outputs": [],
   "source": [
    "best_model_pred_df.to_csv('best_model_pred.csv', index=False, sep = ',')"
   ]
  },
  {
   "cell_type": "markdown",
   "metadata": {
    "colab_type": "text",
    "id": "S7rNjVX8qaha"
   },
   "source": [
    "__Inception Module CNN with Functional API:__ _Submission Results_\n",
    "\n",
    "We submitted our most basic model with expected results. We rank fairly decent with a score of 4.4. I think that additional models with more complexity and controls for overfitting could be our best bet to improving the model significantly.\n",
    "\n",
    "We can see below the overall probability sums by classification. Making a judgement call on the sample size of each data type, it could be argued that c4 and c2 could be running into some confusion (talking on the phone yes, but not sure which hand). Another possible issue we can see is that the model also has issues classifying c5 and c9 (tuning the radio vs. facing passenger). I can also see how visually those those two issues would suggest that we need increased model complexity."
   ]
  },
  {
   "cell_type": "code",
   "execution_count": 30,
   "metadata": {
    "colab": {
     "autoexec": {
      "startup": false,
      "wait_interval": 0
     },
     "base_uri": "https://localhost:8080/",
     "height": 204
    },
    "colab_type": "code",
    "executionInfo": {
     "elapsed": 202,
     "status": "ok",
     "timestamp": 1525717897553,
     "user": {
      "displayName": "Sean O'Malley",
      "photoUrl": "//lh5.googleusercontent.com/-KT7F5-vJBhk/AAAAAAAAAAI/AAAAAAAALt4/70yOi3FMzSc/s50-c-k-no/photo.jpg",
      "userId": "103837524288819033453"
     },
     "user_tz": 360
    },
    "id": "_WvhvmXGq9fp",
    "outputId": "31449db1-6988-444f-d95a-d9e85237de43"
   },
   "outputs": [
    {
     "data": {
      "text/plain": [
       "c0     8015.543457\n",
       "c1     5260.963379\n",
       "c2     5060.885254\n",
       "c3     6218.187500\n",
       "c4    13737.688477\n",
       "c5    12204.382812\n",
       "c6     5722.176758\n",
       "c7     9634.083984\n",
       "c8     9888.830078\n",
       "c9     3979.662842\n",
       "dtype: float32"
      ]
     },
     "execution_count": 30,
     "metadata": {
      "tags": []
     },
     "output_type": "execute_result"
    }
   ],
   "source": [
    "best_model_pred_df[best_model_pred_df.columns[1:]].sum()"
   ]
  },
  {
   "cell_type": "code",
   "execution_count": 31,
   "metadata": {
    "colab": {
     "autoexec": {
      "startup": false,
      "wait_interval": 0
     },
     "base_uri": "https://localhost:8080/",
     "height": 257
    },
    "colab_type": "code",
    "executionInfo": {
     "elapsed": 2358,
     "status": "ok",
     "timestamp": 1525718053787,
     "user": {
      "displayName": "Sean O'Malley",
      "photoUrl": "//lh5.googleusercontent.com/-KT7F5-vJBhk/AAAAAAAAAAI/AAAAAAAALt4/70yOi3FMzSc/s50-c-k-no/photo.jpg",
      "userId": "103837524288819033453"
     },
     "user_tz": 360
    },
    "id": "TzR2Zo42q9jZ",
    "outputId": "9cb7fb3d-09b0-49f9-f2a4-718592a96b79"
   },
   "outputs": [
    {
     "data": {
      "text/plain": [
       "<matplotlib.image.AxesImage at 0x7f030f8a7d68>"
      ]
     },
     "execution_count": 31,
     "metadata": {
      "tags": []
     },
     "output_type": "execute_result"
    },
    {
     "data": {
      "image/png": "[encoded data removed]",
      "text/plain": [
       "<matplotlib.figure.Figure at 0x7f032f1e8eb8>"
      ]
     },
     "metadata": {
      "tags": []
     },
     "output_type": "display_data"
    }
   ],
   "source": [
    "%matplotlib inline\n",
    "\n",
    "RESULTS_simple_sequential_model_pred = Image.open('submission1.png')\n",
    "\n",
    "plt.figure(figsize = (15,5))\n",
    "plt.imshow(RESULTS_simple_sequential_model_pred)"
   ]
  },
  {
   "cell_type": "markdown",
   "metadata": {
    "colab_type": "text",
    "id": "aq7Wz7oz5Rrl"
   },
   "source": [
    "__Inception Module CNN with Functional API:__ _Commentary and Concerns_\n",
    "\n",
    "Ways to improve this model would be to attend to overfitting and increase the complexity of the model significantly. Many of my tuning pitfalls are around my inability to iterate more quickly because even when using Colaboratory, it takes over 3 hours to run even the simple inception model above. I will continue to create further iterations to improve my kaggle score, but those exploits may have to occur over a multi-day period.\n",
    "\n",
    "Nevertheless, deep learning shows incredible accuracy on the training dataset and appears to scale relatively well to the testing dataset. Convolutional neural nets within a deep set of inception modules continues to prove its effectiveness at identifying image data.\n"
   ]
  },
  {
   "cell_type": "markdown",
   "metadata": {
    "colab_type": "text",
    "id": "JOCRvi7_Ddif"
   },
   "source": [
    "---\n",
    "## __Inception Module CNN with Functional API and Batch Normalization__\n",
    "\n",
    "The addition of <a href=\"https://keras.io/layers/normalization/\">Batch Normalization</a> in a deep neural net is that it provides normalization of data scale to add bias. This is one of the primary tools available within inception modeling to combat overfitting of the training data. I chose to explore this option further because of prior model's accuracy overfitting issues."
   ]
  },
  {
   "cell_type": "markdown",
   "metadata": {
    "colab_type": "text",
    "id": "6KdWNE8iGfHG"
   },
   "source": [
    "__Inception Module CNN with Functional API and Batch Normalization:__ _Define BN Inception Module_"
   ]
  },
  {
   "cell_type": "code",
   "execution_count": 0,
   "metadata": {
    "colab": {
     "autoexec": {
      "startup": false,
      "wait_interval": 0
     }
    },
    "colab_type": "code",
    "id": "b_UYDty6Dds5"
   },
   "outputs": [],
   "source": [
    "def inception_b(x, n = 32):\n",
    "    p1 = Conv2D(n, 1, padding='same')(x)\n",
    "    p1 = BatchNormalization()(p1)\n",
    "    p1 = Activation('relu')(p1)\n",
    "    \n",
    "    p2 = Conv2D(n, 1, padding='same')(x)\n",
    "    p2 = BatchNormalization()(p2)\n",
    "    p2 = Activation('relu')(p2)\n",
    "    p2 = Conv2D(n, 3, padding='same')(p2)\n",
    "    p2 = BatchNormalization()(p2)\n",
    "    p2 = Activation('relu')(p2)    \n",
    "    \n",
    "    p3 = Conv2D(n, 1, padding='same')(x)\n",
    "    p3 = BatchNormalization()(p3)\n",
    "    p3 = Activation('relu')(p3)    \n",
    "    p3 = Conv2D(n, 5, padding='same')(p3)\n",
    "    p3 = BatchNormalization()(p3)\n",
    "    p3 = Activation('relu')(p3)  \n",
    "    \n",
    "    p4 = MaxPooling2D((3,3), strides=(1, 1), padding='same')(x)    \n",
    "    p4 = Conv2D(n, 1, padding='same')(p4)\n",
    "    p4 = BatchNormalization()(p4)\n",
    "    p4 = Activation('relu')(p4)     \n",
    "\n",
    "    c =  Concatenate(axis=-1)([p1,p2,p3,p4])\n",
    "    return c"
   ]
  },
  {
   "cell_type": "markdown",
   "metadata": {
    "colab_type": "text",
    "id": "vEjarXCADd2q"
   },
   "source": [
    "__Inception Module CNN with Functional API and Batch Normalization:__ _Define BN Functional API_"
   ]
  },
  {
   "cell_type": "code",
   "execution_count": 0,
   "metadata": {
    "colab": {
     "autoexec": {
      "startup": false,
      "wait_interval": 0
     }
    },
    "colab_type": "code",
    "id": "xMhdjfGYDeAp"
   },
   "outputs": [],
   "source": [
    "def functional_cnn_model2():\n",
    "    inputs = Input(X_train.shape[1:])\n",
    "    i1 = inception_b(inputs)\n",
    "    \n",
    "    mp1 = MaxPooling2D((2,2))(i1)\n",
    "    i2 = inception_b(mp1)\n",
    "    \n",
    "    mp2 = MaxPooling2D((2,2))(i2) \n",
    "    f = Flatten()(mp2)\n",
    "    d = Dense(128)(f)\n",
    "    d = BatchNormalization()(d)\n",
    "    d = Activation('relu')(d)\n",
    "    out = Dense(10, activation='softmax')(d)\n",
    "    model = Model(inputs, out)\n",
    "    return model"
   ]
  },
  {
   "cell_type": "markdown",
   "metadata": {
    "colab_type": "text",
    "id": "s-8cR13zDeKd"
   },
   "source": [
    "__Inception Module CNN with Functional API and Batch Normalization:__ _Build_"
   ]
  },
  {
   "cell_type": "code",
   "execution_count": 27,
   "metadata": {
    "colab": {
     "autoexec": {
      "startup": false,
      "wait_interval": 0
     },
     "base_uri": "https://localhost:8080/",
     "height": 1887
    },
    "colab_type": "code",
    "executionInfo": {
     "elapsed": 2021,
     "status": "ok",
     "timestamp": 1525754928046,
     "user": {
      "displayName": "Sean O'Malley",
      "photoUrl": "//lh5.googleusercontent.com/-KT7F5-vJBhk/AAAAAAAAAAI/AAAAAAAALt4/70yOi3FMzSc/s50-c-k-no/photo.jpg",
      "userId": "103837524288819033453"
     },
     "user_tz": 360
    },
    "id": "KOBhfFJvDeUd",
    "outputId": "b3822b6b-aeb9-4e04-b3f1-a6274fadb551"
   },
   "outputs": [
    {
     "name": "stdout",
     "output_type": "stream",
     "text": [
      "__________________________________________________________________________________________________\n",
      "Layer (type)                    Output Shape         Param #     Connected to                     \n",
      "==================================================================================================\n",
      "input_3 (InputLayer)            (None, 64, 48, 1)    0                                            \n",
      "__________________________________________________________________________________________________\n",
      "conv2d_26 (Conv2D)              (None, 64, 48, 32)   64          input_3[0][0]                    \n",
      "__________________________________________________________________________________________________\n",
      "conv2d_28 (Conv2D)              (None, 64, 48, 32)   64          input_3[0][0]                    \n",
      "__________________________________________________________________________________________________\n",
      "batch_normalization_28 (BatchNo (None, 64, 48, 32)   128         conv2d_26[0][0]                  \n",
      "__________________________________________________________________________________________________\n",
      "batch_normalization_30 (BatchNo (None, 64, 48, 32)   128         conv2d_28[0][0]                  \n",
      "__________________________________________________________________________________________________\n",
      "activation_28 (Activation)      (None, 64, 48, 32)   0           batch_normalization_28[0][0]     \n",
      "__________________________________________________________________________________________________\n",
      "activation_30 (Activation)      (None, 64, 48, 32)   0           batch_normalization_30[0][0]     \n",
      "__________________________________________________________________________________________________\n",
      "max_pooling2d_9 (MaxPooling2D)  (None, 64, 48, 1)    0           input_3[0][0]                    \n",
      "__________________________________________________________________________________________________\n",
      "conv2d_25 (Conv2D)              (None, 64, 48, 32)   64          input_3[0][0]                    \n",
      "__________________________________________________________________________________________________\n",
      "conv2d_27 (Conv2D)              (None, 64, 48, 32)   9248        activation_28[0][0]              \n",
      "__________________________________________________________________________________________________\n",
      "conv2d_29 (Conv2D)              (None, 64, 48, 32)   25632       activation_30[0][0]              \n",
      "__________________________________________________________________________________________________\n",
      "conv2d_30 (Conv2D)              (None, 64, 48, 32)   64          max_pooling2d_9[0][0]            \n",
      "__________________________________________________________________________________________________\n",
      "batch_normalization_27 (BatchNo (None, 64, 48, 32)   128         conv2d_25[0][0]                  \n",
      "__________________________________________________________________________________________________\n",
      "batch_normalization_29 (BatchNo (None, 64, 48, 32)   128         conv2d_27[0][0]                  \n",
      "__________________________________________________________________________________________________\n",
      "batch_normalization_31 (BatchNo (None, 64, 48, 32)   128         conv2d_29[0][0]                  \n",
      "__________________________________________________________________________________________________\n",
      "batch_normalization_32 (BatchNo (None, 64, 48, 32)   128         conv2d_30[0][0]                  \n",
      "__________________________________________________________________________________________________\n",
      "activation_27 (Activation)      (None, 64, 48, 32)   0           batch_normalization_27[0][0]     \n",
      "__________________________________________________________________________________________________\n",
      "activation_29 (Activation)      (None, 64, 48, 32)   0           batch_normalization_29[0][0]     \n",
      "__________________________________________________________________________________________________\n",
      "activation_31 (Activation)      (None, 64, 48, 32)   0           batch_normalization_31[0][0]     \n",
      "__________________________________________________________________________________________________\n",
      "activation_32 (Activation)      (None, 64, 48, 32)   0           batch_normalization_32[0][0]     \n",
      "__________________________________________________________________________________________________\n",
      "concatenate_5 (Concatenate)     (None, 64, 48, 128)  0           activation_27[0][0]              \n",
      "                                                                 activation_29[0][0]              \n",
      "                                                                 activation_31[0][0]              \n",
      "                                                                 activation_32[0][0]              \n",
      "__________________________________________________________________________________________________\n",
      "max_pooling2d_10 (MaxPooling2D) (None, 32, 24, 128)  0           concatenate_5[0][0]              \n",
      "__________________________________________________________________________________________________\n",
      "conv2d_32 (Conv2D)              (None, 32, 24, 32)   4128        max_pooling2d_10[0][0]           \n",
      "__________________________________________________________________________________________________\n",
      "conv2d_34 (Conv2D)              (None, 32, 24, 32)   4128        max_pooling2d_10[0][0]           \n",
      "__________________________________________________________________________________________________\n",
      "batch_normalization_34 (BatchNo (None, 32, 24, 32)   128         conv2d_32[0][0]                  \n",
      "__________________________________________________________________________________________________\n",
      "batch_normalization_36 (BatchNo (None, 32, 24, 32)   128         conv2d_34[0][0]                  \n",
      "__________________________________________________________________________________________________\n",
      "activation_34 (Activation)      (None, 32, 24, 32)   0           batch_normalization_34[0][0]     \n",
      "__________________________________________________________________________________________________\n",
      "activation_36 (Activation)      (None, 32, 24, 32)   0           batch_normalization_36[0][0]     \n",
      "__________________________________________________________________________________________________\n",
      "max_pooling2d_11 (MaxPooling2D) (None, 32, 24, 128)  0           max_pooling2d_10[0][0]           \n",
      "__________________________________________________________________________________________________\n",
      "conv2d_31 (Conv2D)              (None, 32, 24, 32)   4128        max_pooling2d_10[0][0]           \n",
      "__________________________________________________________________________________________________\n",
      "conv2d_33 (Conv2D)              (None, 32, 24, 32)   9248        activation_34[0][0]              \n",
      "__________________________________________________________________________________________________\n",
      "conv2d_35 (Conv2D)              (None, 32, 24, 32)   25632       activation_36[0][0]              \n",
      "__________________________________________________________________________________________________\n",
      "conv2d_36 (Conv2D)              (None, 32, 24, 32)   4128        max_pooling2d_11[0][0]           \n",
      "__________________________________________________________________________________________________\n",
      "batch_normalization_33 (BatchNo (None, 32, 24, 32)   128         conv2d_31[0][0]                  \n",
      "__________________________________________________________________________________________________\n",
      "batch_normalization_35 (BatchNo (None, 32, 24, 32)   128         conv2d_33[0][0]                  \n",
      "__________________________________________________________________________________________________\n",
      "batch_normalization_37 (BatchNo (None, 32, 24, 32)   128         conv2d_35[0][0]                  \n",
      "__________________________________________________________________________________________________\n",
      "batch_normalization_38 (BatchNo (None, 32, 24, 32)   128         conv2d_36[0][0]                  \n",
      "__________________________________________________________________________________________________\n",
      "activation_33 (Activation)      (None, 32, 24, 32)   0           batch_normalization_33[0][0]     \n",
      "__________________________________________________________________________________________________\n",
      "activation_35 (Activation)      (None, 32, 24, 32)   0           batch_normalization_35[0][0]     \n",
      "__________________________________________________________________________________________________\n",
      "activation_37 (Activation)      (None, 32, 24, 32)   0           batch_normalization_37[0][0]     \n",
      "__________________________________________________________________________________________________\n",
      "activation_38 (Activation)      (None, 32, 24, 32)   0           batch_normalization_38[0][0]     \n",
      "__________________________________________________________________________________________________\n",
      "concatenate_6 (Concatenate)     (None, 32, 24, 128)  0           activation_33[0][0]              \n",
      "                                                                 activation_35[0][0]              \n",
      "                                                                 activation_37[0][0]              \n",
      "                                                                 activation_38[0][0]              \n",
      "__________________________________________________________________________________________________\n",
      "max_pooling2d_12 (MaxPooling2D) (None, 16, 12, 128)  0           concatenate_6[0][0]              \n",
      "__________________________________________________________________________________________________\n",
      "flatten_3 (Flatten)             (None, 24576)        0           max_pooling2d_12[0][0]           \n",
      "__________________________________________________________________________________________________\n",
      "dense_5 (Dense)                 (None, 128)          3145856     flatten_3[0][0]                  \n",
      "__________________________________________________________________________________________________\n",
      "batch_normalization_39 (BatchNo (None, 128)          512         dense_5[0][0]                    \n",
      "__________________________________________________________________________________________________\n",
      "activation_39 (Activation)      (None, 128)          0           batch_normalization_39[0][0]     \n",
      "__________________________________________________________________________________________________\n",
      "dense_6 (Dense)                 (None, 10)           1290        activation_39[0][0]              \n",
      "==================================================================================================\n",
      "Total params: 3,235,722\n",
      "Trainable params: 3,234,698\n",
      "Non-trainable params: 1,024\n",
      "__________________________________________________________________________________________________\n",
      "None\n"
     ]
    }
   ],
   "source": [
    "# Build Model\n",
    "model_f = functional_cnn_model2()\n",
    "\n",
    "# View Model Summary\n",
    "print(model_f.summary())\n",
    "\n",
    "# Edit Optimizer\n",
    "adam = Adam(lr=0.01)\n",
    "\n",
    "# Compile Model\n",
    "model_f.compile(loss= 'categorical_crossentropy' , optimizer = adam , metrics=['accuracy'])"
   ]
  },
  {
   "cell_type": "markdown",
   "metadata": {
    "colab_type": "text",
    "id": "eC3qDIogDeeP"
   },
   "source": [
    "__Inception Module CNN with Functional API and Batch Normalization:__ _Run_"
   ]
  },
  {
   "cell_type": "code",
   "execution_count": 28,
   "metadata": {
    "colab": {
     "autoexec": {
      "startup": false,
      "wait_interval": 0
     },
     "base_uri": "https://localhost:8080/",
     "height": 561
    },
    "colab_type": "code",
    "executionInfo": {
     "elapsed": 26397824,
     "status": "ok",
     "timestamp": 1525781329135,
     "user": {
      "displayName": "Sean O'Malley",
      "photoUrl": "//lh5.googleusercontent.com/-KT7F5-vJBhk/AAAAAAAAAAI/AAAAAAAALt4/70yOi3FMzSc/s50-c-k-no/photo.jpg",
      "userId": "103837524288819033453"
     },
     "user_tz": 360
    },
    "id": "r39_qRkGDepc",
    "outputId": "80b76dd8-1412-490a-9da0-34981b59d03b"
   },
   "outputs": [
    {
     "name": "stdout",
     "output_type": "stream",
     "text": [
      "Train on 16818 samples, validate on 5606 samples\n",
      "Epoch 1/15\n",
      " - 1803s - loss: 0.5048 - acc: 0.8575 - val_loss: 0.8999 - val_acc: 0.6843\n",
      "Epoch 2/15\n",
      " - 1748s - loss: 0.0338 - acc: 0.9921 - val_loss: 0.1454 - val_acc: 0.9568\n",
      "Epoch 3/15\n",
      " - 1740s - loss: 0.0143 - acc: 0.9969 - val_loss: 0.2645 - val_acc: 0.9231\n",
      "Epoch 4/15\n",
      " - 1751s - loss: 0.0045 - acc: 0.9993 - val_loss: 0.0555 - val_acc: 0.9866\n",
      "Epoch 5/15\n",
      " - 1756s - loss: 0.0100 - acc: 0.9982 - val_loss: 0.2906 - val_acc: 0.9071\n",
      "Epoch 6/15\n",
      " - 1765s - loss: 0.0096 - acc: 0.9976 - val_loss: 0.3897 - val_acc: 0.8837\n",
      "Epoch 7/15\n",
      " - 1743s - loss: 0.0074 - acc: 0.9982 - val_loss: 0.1871 - val_acc: 0.9458\n",
      "Epoch 8/15\n",
      " - 1738s - loss: 0.0095 - acc: 0.9980 - val_loss: 0.3304 - val_acc: 0.9228\n",
      "Epoch 9/15\n",
      " - 1739s - loss: 0.0961 - acc: 0.9763 - val_loss: 2.8128 - val_acc: 0.5858\n",
      "Epoch 10/15\n",
      " - 1745s - loss: 0.0094 - acc: 0.9974 - val_loss: 0.2515 - val_acc: 0.9279\n",
      "Epoch 11/15\n",
      " - 1745s - loss: 0.0018 - acc: 0.9996 - val_loss: 0.0593 - val_acc: 0.9854\n",
      "Epoch 12/15\n",
      " - 1761s - loss: 8.7815e-04 - acc: 0.9998 - val_loss: 0.0447 - val_acc: 0.9916\n",
      "Epoch 13/15\n",
      " - 1772s - loss: 4.1189e-04 - acc: 0.9999 - val_loss: 0.0311 - val_acc: 0.9945\n",
      "Epoch 14/15\n",
      " - 1768s - loss: 1.1734e-04 - acc: 1.0000 - val_loss: 0.0294 - val_acc: 0.9952\n",
      "Epoch 15/15\n",
      " - 1821s - loss: 9.5044e-05 - acc: 1.0000 - val_loss: 0.0284 - val_acc: 0.9952\n",
      "26397.493233442307  seconds\n"
     ]
    }
   ],
   "source": [
    "# Fit Model\n",
    "t0=time.time()\n",
    "history = model_f.fit(X_train, Y_train, validation_split = 0.25, epochs=15, batch_size=200, verbose=2)\n",
    "t1=time.time()\n",
    "print(t1-t0,\" seconds\")"
   ]
  },
  {
   "cell_type": "markdown",
   "metadata": {
    "colab_type": "text",
    "id": "aFju2QPkHYFc"
   },
   "source": [
    "__Inception Module CNN with Functional API and Batch Normalization:__ _Evaluate_\n",
    "\n",
    "Despite taking a weird accuracy trajectory through epochs, the model learned really well and appears to have not overfit with the addition of BatchNormalization into the inception module architecture. Again, this model was extremely expensive computationally, taking over 7 hours to run.\n",
    "\n",
    "Nevertheless, this model is extremely accurate on the training data with an error rate of 0.12%. Next, we will see how it performs on the competition test dataset. "
   ]
  },
  {
   "cell_type": "code",
   "execution_count": 29,
   "metadata": {
    "colab": {
     "autoexec": {
      "startup": false,
      "wait_interval": 0
     },
     "base_uri": "https://localhost:8080/",
     "height": 381
    },
    "colab_type": "code",
    "executionInfo": {
     "elapsed": 716326,
     "status": "ok",
     "timestamp": 1525782045503,
     "user": {
      "displayName": "Sean O'Malley",
      "photoUrl": "//lh5.googleusercontent.com/-KT7F5-vJBhk/AAAAAAAAAAI/AAAAAAAALt4/70yOi3FMzSc/s50-c-k-no/photo.jpg",
      "userId": "103837524288819033453"
     },
     "user_tz": 360
    },
    "id": "EAdmMhx8HYXJ",
    "outputId": "07f5658f-77d0-4eb9-fb7a-6115dc5a797c"
   },
   "outputs": [
    {
     "name": "stdout",
     "output_type": "stream",
     "text": [
      "Baseline Error: 0.12%\n"
     ]
    },
    {
     "data": {
      "text/plain": [
       "[<matplotlib.lines.Line2D at 0x7fc2e1fed908>]"
      ]
     },
     "execution_count": 29,
     "metadata": {
      "tags": []
     },
     "output_type": "execute_result"
    },
    {
     "data": {
      "image/png": "[encoded data removed]",
      "text/plain": [
       "<matplotlib.figure.Figure at 0x7fc2e1fed3c8>"
      ]
     },
     "metadata": {
      "tags": []
     },
     "output_type": "display_data"
    }
   ],
   "source": [
    "# Evaluate Model Accuracy\n",
    "scores = model_f.evaluate(X_train, Y_train, verbose=0)\n",
    "print(\"Baseline Error: %.2f%%\" % (100-scores[1]*100))\n",
    "\n",
    "# Visualize Model\n",
    "plt.plot(history.history['acc'],'b') #train acc\n",
    "plt.plot(history.history['val_acc'],'g') #val acc"
   ]
  },
  {
   "cell_type": "markdown",
   "metadata": {
    "colab_type": "text",
    "id": "XJVSyf76KK8e"
   },
   "source": [
    "__Inception Module CNN with Functional API and Batch Normalization:__ _Save_\n",
    "\n"
   ]
  },
  {
   "cell_type": "code",
   "execution_count": 30,
   "metadata": {
    "colab": {
     "autoexec": {
      "startup": false,
      "wait_interval": 0
     },
     "base_uri": "https://localhost:8080/",
     "height": 34
    },
    "colab_type": "code",
    "executionInfo": {
     "elapsed": 10252,
     "status": "ok",
     "timestamp": 1525782055768,
     "user": {
      "displayName": "Sean O'Malley",
      "photoUrl": "//lh5.googleusercontent.com/-KT7F5-vJBhk/AAAAAAAAAAI/AAAAAAAALt4/70yOi3FMzSc/s50-c-k-no/photo.jpg",
      "userId": "103837524288819033453"
     },
     "user_tz": 360
    },
    "id": "pa_Z7c_1KLGL",
    "outputId": "04cea0c0-4212-4f21-f79d-5a554898b9cf"
   },
   "outputs": [
    {
     "name": "stdout",
     "output_type": "stream",
     "text": [
      "Saved model to disk\n"
     ]
    }
   ],
   "source": [
    "# serialize model to JSON\n",
    "model_json = model_f.to_json()\n",
    "with open(\"functional_cnn_model2.json\", \"w\") as json_file:\n",
    "    json_file.write(model_json)\n",
    "\n",
    "# serialize weights to HDF5\n",
    "model_f.save_weights(\"functional_cnn_model2.h5\")\n",
    "print(\"Saved model to disk\")"
   ]
  },
  {
   "cell_type": "markdown",
   "metadata": {
    "colab_type": "text",
    "id": "ECQ5Kpux__7A"
   },
   "source": [
    "__Inception Module CNN with Functional API and Batch Normalization:__ _Predict_\n"
   ]
  },
  {
   "cell_type": "code",
   "execution_count": 0,
   "metadata": {
    "colab": {
     "autoexec": {
      "startup": false,
      "wait_interval": 0
     }
    },
    "colab_type": "code",
    "id": "-PPFDSuD__7B"
   },
   "outputs": [],
   "source": [
    "best_model_pred2 = model_f.predict(X_Final_Test)"
   ]
  },
  {
   "cell_type": "code",
   "execution_count": 36,
   "metadata": {
    "colab": {
     "autoexec": {
      "startup": false,
      "wait_interval": 0
     },
     "base_uri": "https://localhost:8080/",
     "height": 51
    },
    "colab_type": "code",
    "executionInfo": {
     "elapsed": 374,
     "status": "ok",
     "timestamp": 1525788251526,
     "user": {
      "displayName": "Sean O'Malley",
      "photoUrl": "//lh5.googleusercontent.com/-KT7F5-vJBhk/AAAAAAAAAAI/AAAAAAAALt4/70yOi3FMzSc/s50-c-k-no/photo.jpg",
      "userId": "103837524288819033453"
     },
     "user_tz": 360
    },
    "id": "Dc6gsmKv__7I",
    "outputId": "2ee24469-3204-4462-ce76-23c36d7b4803"
   },
   "outputs": [
    {
     "name": "stdout",
     "output_type": "stream",
     "text": [
      "Length of filenames: 79726\n",
      "Length of simple_sequential_model_pred: 79726\n"
     ]
    }
   ],
   "source": [
    "print(\"Length of filenames: \" + str(len(pred_filenames)))\n",
    "print(\"Length of simple_sequential_model_pred: \" + str(best_model_pred2.shape[0]))"
   ]
  },
  {
   "cell_type": "code",
   "execution_count": 37,
   "metadata": {
    "colab": {
     "autoexec": {
      "startup": false,
      "wait_interval": 0
     },
     "base_uri": "https://localhost:8080/",
     "height": 289
    },
    "colab_type": "code",
    "executionInfo": {
     "elapsed": 401,
     "status": "ok",
     "timestamp": 1525788257368,
     "user": {
      "displayName": "Sean O'Malley",
      "photoUrl": "//lh5.googleusercontent.com/-KT7F5-vJBhk/AAAAAAAAAAI/AAAAAAAALt4/70yOi3FMzSc/s50-c-k-no/photo.jpg",
      "userId": "103837524288819033453"
     },
     "user_tz": 360
    },
    "id": "QSAjwQlm__7N",
    "outputId": "c6116439-209f-493f-97d4-462dd483753a"
   },
   "outputs": [
    {
     "data": {
      "text/html": [
       "<div>\n",
       "<style scoped>\n",
       "    .dataframe tbody tr th:only-of-type {\n",
       "        vertical-align: middle;\n",
       "    }\n",
       "\n",
       "    .dataframe tbody tr th {\n",
       "        vertical-align: top;\n",
       "    }\n",
       "\n",
       "    .dataframe thead th {\n",
       "        text-align: right;\n",
       "    }\n",
       "</style>\n",
       "<table border=\"1\" class=\"dataframe\">\n",
       "  <thead>\n",
       "    <tr style=\"text-align: right;\">\n",
       "      <th></th>\n",
       "      <th>img</th>\n",
       "      <th>c0</th>\n",
       "      <th>c1</th>\n",
       "      <th>c2</th>\n",
       "      <th>c3</th>\n",
       "      <th>c4</th>\n",
       "      <th>c5</th>\n",
       "      <th>c6</th>\n",
       "      <th>c7</th>\n",
       "      <th>c8</th>\n",
       "      <th>c9</th>\n",
       "    </tr>\n",
       "  </thead>\n",
       "  <tbody>\n",
       "    <tr>\n",
       "      <th>0</th>\n",
       "      <td>img_1.jpg</td>\n",
       "      <td>2.770110e-08</td>\n",
       "      <td>0.000001</td>\n",
       "      <td>1.774197e-03</td>\n",
       "      <td>4.991919e-07</td>\n",
       "      <td>0.000007</td>\n",
       "      <td>9.978952e-01</td>\n",
       "      <td>1.048210e-07</td>\n",
       "      <td>3.218622e-04</td>\n",
       "      <td>3.907457e-08</td>\n",
       "      <td>2.196971e-07</td>\n",
       "    </tr>\n",
       "    <tr>\n",
       "      <th>1</th>\n",
       "      <td>img_10.jpg</td>\n",
       "      <td>1.256948e-03</td>\n",
       "      <td>0.000004</td>\n",
       "      <td>5.650503e-04</td>\n",
       "      <td>1.049892e-01</td>\n",
       "      <td>0.000500</td>\n",
       "      <td>8.476827e-01</td>\n",
       "      <td>2.266766e-05</td>\n",
       "      <td>4.443556e-02</td>\n",
       "      <td>5.436197e-04</td>\n",
       "      <td>7.426904e-09</td>\n",
       "    </tr>\n",
       "    <tr>\n",
       "      <th>2</th>\n",
       "      <td>img_100.jpg</td>\n",
       "      <td>9.661768e-01</td>\n",
       "      <td>0.000687</td>\n",
       "      <td>1.343693e-06</td>\n",
       "      <td>5.556488e-03</td>\n",
       "      <td>0.000043</td>\n",
       "      <td>5.327803e-05</td>\n",
       "      <td>8.970049e-05</td>\n",
       "      <td>1.163977e-03</td>\n",
       "      <td>1.264507e-02</td>\n",
       "      <td>1.358307e-02</td>\n",
       "    </tr>\n",
       "    <tr>\n",
       "      <th>3</th>\n",
       "      <td>img_1000.jpg</td>\n",
       "      <td>5.727644e-04</td>\n",
       "      <td>0.000689</td>\n",
       "      <td>8.198997e-04</td>\n",
       "      <td>5.451273e-07</td>\n",
       "      <td>0.001662</td>\n",
       "      <td>1.027461e-07</td>\n",
       "      <td>5.313550e-02</td>\n",
       "      <td>7.243407e-07</td>\n",
       "      <td>9.431189e-01</td>\n",
       "      <td>6.635536e-07</td>\n",
       "    </tr>\n",
       "    <tr>\n",
       "      <th>4</th>\n",
       "      <td>img_100000.jpg</td>\n",
       "      <td>4.501562e-02</td>\n",
       "      <td>0.000020</td>\n",
       "      <td>2.643701e-07</td>\n",
       "      <td>1.037203e-01</td>\n",
       "      <td>0.004478</td>\n",
       "      <td>8.449838e-01</td>\n",
       "      <td>5.161928e-05</td>\n",
       "      <td>1.674423e-03</td>\n",
       "      <td>3.819778e-05</td>\n",
       "      <td>1.782355e-05</td>\n",
       "    </tr>\n",
       "  </tbody>\n",
       "</table>\n",
       "</div>"
      ],
      "text/plain": [
       "              img            c0        c1            c2            c3  \\\n",
       "0       img_1.jpg  2.770110e-08  0.000001  1.774197e-03  4.991919e-07   \n",
       "1      img_10.jpg  1.256948e-03  0.000004  5.650503e-04  1.049892e-01   \n",
       "2     img_100.jpg  9.661768e-01  0.000687  1.343693e-06  5.556488e-03   \n",
       "3    img_1000.jpg  5.727644e-04  0.000689  8.198997e-04  5.451273e-07   \n",
       "4  img_100000.jpg  4.501562e-02  0.000020  2.643701e-07  1.037203e-01   \n",
       "\n",
       "         c4            c5            c6            c7            c8  \\\n",
       "0  0.000007  9.978952e-01  1.048210e-07  3.218622e-04  3.907457e-08   \n",
       "1  0.000500  8.476827e-01  2.266766e-05  4.443556e-02  5.436197e-04   \n",
       "2  0.000043  5.327803e-05  8.970049e-05  1.163977e-03  1.264507e-02   \n",
       "3  0.001662  1.027461e-07  5.313550e-02  7.243407e-07  9.431189e-01   \n",
       "4  0.004478  8.449838e-01  5.161928e-05  1.674423e-03  3.819778e-05   \n",
       "\n",
       "             c9  \n",
       "0  2.196971e-07  \n",
       "1  7.426904e-09  \n",
       "2  1.358307e-02  \n",
       "3  6.635536e-07  \n",
       "4  1.782355e-05  "
      ]
     },
     "execution_count": 37,
     "metadata": {
      "tags": []
     },
     "output_type": "execute_result"
    }
   ],
   "source": [
    "best_model_pred2_df = pd.DataFrame(best_model_pred2, \n",
    "                                               index = pred_filenames, \n",
    "                                               columns = pred_names)\n",
    "\n",
    "best_model_pred2_df = best_model_pred2_df.reset_index()\n",
    "best_model_pred2_df.rename(columns={'index': 'img'}, inplace=True)\n",
    "best_model_pred2_df.head()"
   ]
  },
  {
   "cell_type": "code",
   "execution_count": 0,
   "metadata": {
    "colab": {
     "autoexec": {
      "startup": false,
      "wait_interval": 0
     }
    },
    "colab_type": "code",
    "id": "LrVibSXR__7X"
   },
   "outputs": [],
   "source": [
    "best_model_pred2_df.to_csv('best_model_pred2.csv', index=False, sep = ',')"
   ]
  },
  {
   "cell_type": "markdown",
   "metadata": {
    "colab_type": "text",
    "id": "eQtRhCHu__7b"
   },
   "source": [
    "__Inception Module CNN with Functional API and Batch Normalization:__ _Submission Results_\n"
   ]
  },
  {
   "cell_type": "code",
   "execution_count": 39,
   "metadata": {
    "colab": {
     "autoexec": {
      "startup": false,
      "wait_interval": 0
     },
     "base_uri": "https://localhost:8080/",
     "height": 204
    },
    "colab_type": "code",
    "executionInfo": {
     "elapsed": 374,
     "status": "ok",
     "timestamp": 1525788321393,
     "user": {
      "displayName": "Sean O'Malley",
      "photoUrl": "//lh5.googleusercontent.com/-KT7F5-vJBhk/AAAAAAAAAAI/AAAAAAAALt4/70yOi3FMzSc/s50-c-k-no/photo.jpg",
      "userId": "103837524288819033453"
     },
     "user_tz": 360
    },
    "id": "QhQxtqziqxsw",
    "outputId": "376d03dd-3210-4475-881a-2d91b3c61d07"
   },
   "outputs": [
    {
     "data": {
      "text/plain": [
       "c0     9021.160156\n",
       "c1     6544.642578\n",
       "c2     4016.077881\n",
       "c3     4821.009766\n",
       "c4     7269.676758\n",
       "c5    11687.906250\n",
       "c6     7415.647949\n",
       "c7    12277.219727\n",
       "c8    12571.954102\n",
       "c9     4095.086914\n",
       "dtype: float32"
      ]
     },
     "execution_count": 39,
     "metadata": {
      "tags": []
     },
     "output_type": "execute_result"
    }
   ],
   "source": [
    "best_model_pred2_df[best_model_pred2_df.columns[1:]].sum()"
   ]
  },
  {
   "cell_type": "code",
   "execution_count": 40,
   "metadata": {
    "colab": {
     "autoexec": {
      "startup": false,
      "wait_interval": 0
     },
     "base_uri": "https://localhost:8080/",
     "height": 253
    },
    "colab_type": "code",
    "executionInfo": {
     "elapsed": 4560,
     "status": "ok",
     "timestamp": 1525788636485,
     "user": {
      "displayName": "Sean O'Malley",
      "photoUrl": "//lh5.googleusercontent.com/-KT7F5-vJBhk/AAAAAAAAAAI/AAAAAAAALt4/70yOi3FMzSc/s50-c-k-no/photo.jpg",
      "userId": "103837524288819033453"
     },
     "user_tz": 360
    },
    "id": "Wf-YKiIB__7d",
    "outputId": "29f7e4e7-6d8b-46ac-a23d-cc581dfafa52"
   },
   "outputs": [
    {
     "data": {
      "text/plain": [
       "<matplotlib.image.AxesImage at 0x7fc2dc148278>"
      ]
     },
     "execution_count": 40,
     "metadata": {
      "tags": []
     },
     "output_type": "execute_result"
    },
    {
     "data": {
      "image/png": "[encoded data removed]",
      "text/plain": [
       "<matplotlib.figure.Figure at 0x7fc30687ee80>"
      ]
     },
     "metadata": {
      "tags": []
     },
     "output_type": "display_data"
    }
   ],
   "source": [
    "%matplotlib inline\n",
    "\n",
    "submission2 = Image.open('submission2.png')\n",
    "\n",
    "plt.figure(figsize = (15,5))\n",
    "plt.imshow(submission2)"
   ]
  },
  {
   "cell_type": "markdown",
   "metadata": {
    "colab_type": "text",
    "id": "X61DGLSuUFX4"
   },
   "source": [
    "__Inception Module CNN with Functional API and Batch Normalization:__ _Commentary and Concerns_\n",
    "\n",
    "We submitted our model with batch normalization and it performed much better than the original inception module. There is always room for improvement available, however the computational processing limitations probably left us out of scope for this specific competition. \n",
    "\n",
    "Nevertheless a score of 2.8 is pretty solid and places in the top 5% of models created for this competition. \n"
   ]
  },
  {
   "cell_type": "markdown",
   "metadata": {
    "colab_type": "text",
    "id": "3gsmzFcCHaZa"
   },
   "source": [
    "## __Conclusion__\n",
    "\n",
    "I was able to build a model that correctly identified 99.52% of the training dataset, and was robust enough to place in the top 5% of all Kaggle submissions. In short, the model built allows a computer to determine 10 different types of driving behavior with striking accuracy, simply using the photograph of the driver. This was accomplished despite the large computational expense issues, which slowed the model building iteration & processing cycle.\n",
    "\n",
    "All files output from this analysis can be located <a href=\"https://drive.google.com/open?id=1IUaiV5H2K21tQCO4d7Nn3qswAxBcm3N1\">here</a>.\n"
   ]
  }
 ],
 "metadata": {
  "colab": {
   "collapsed_sections": [
    "A9AU0LFQfbuo",
    "z7QQpPnJXFUc",
    "koHmuiaY__4N",
    "R0f29eKV__4r",
    "dGFVtS06__6f",
    "kOBwZGF_i1w_",
    "JOCRvi7_Ddif"
   ],
   "default_view": {},
   "name": "Deep_Learning_Distracted_Driving_Image_Recognition.ipynb",
   "provenance": [],
   "version": "0.3.2",
   "views": {}
  },
  "kernelspec": {
   "display_name": "Python 3",
   "language": "python",
   "name": "python3"
  },
  "language_info": {
   "codemirror_mode": {
    "name": "ipython",
    "version": 3
   },
   "file_extension": ".py",
   "mimetype": "text/x-python",
   "name": "python",
   "nbconvert_exporter": "python",
   "pygments_lexer": "ipython3",
   "version": "3.6.4"
  }
 },
 "nbformat": 4,
 "nbformat_minor": 1
}
