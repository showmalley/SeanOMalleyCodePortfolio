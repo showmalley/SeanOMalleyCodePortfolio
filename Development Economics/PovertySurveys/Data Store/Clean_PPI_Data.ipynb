{
 "cells": [
  {
   "cell_type": "code",
   "execution_count": null,
   "metadata": {},
   "outputs": [],
   "source": [
    "import pandas as pd\n",
    "import numpy as np\n",
    "import os"
   ]
  },
  {
   "cell_type": "code",
   "execution_count": null,
   "metadata": {},
   "outputs": [],
   "source": [
    "df1 = pd.read_csv(\"/Users/SeanOMalley1/Downloads/Final_CajaDelAmor_2018_PPI.csv\")\n",
    "\n",
    "# isolate parents dataset\n",
    "df1_1 = df1.iloc[:,:6]\n",
    "\n",
    "# clean parents dataset\n",
    "df1_1 = df1_1[df1_1['Nº FAM'].isnull() == False]\n",
    "df1_1.rename(columns={'Nº FAM':'FAM_N'}, inplace=True)\n",
    "df1_1.FAM_N = df1_1.FAM_N.astype('int')\n",
    "\n",
    "# father present\n",
    "df1_1['PADRE'] = np.where(df1_1['APELLIDOS  PADRE'].isnull() == True, 0, 1)\n",
    "\n",
    "# mother present\n",
    "df1_1['MADRE'] = np.where(df1_1['APELLIDOS MADRE'].isnull() == True, 0, 1)\n",
    "\n",
    "# reduce it to just what we want\n",
    "df_padres = df1_1.iloc[:,[0,-3,-2,-1]]\n",
    "\n",
    "# isolate rest of household dataset\n",
    "df1_2 = df1.iloc[:,6:-1]\n",
    "\n",
    "# clean parents dataset\n",
    "df1_2 = df1_2[df1_2['Nº FAM.1'].isnull() == False]\n",
    "df1_2.rename(columns={'Nº FAM.1':'FAM_N'}, inplace=True)\n",
    "df1_2.FAM_N = df1_2.FAM_N.astype('int')\n",
    "df1_2.EDAD = np.where(df1_2.EDAD.str.contains('MESES')|df1_2.EDAD.str.contains('MES') == True, '0.5', df1_2.EDAD)\n",
    "df1_2.EDAD = df1_2.EDAD.astype('float64')\n",
    "\n",
    "# count females\n",
    "df1_2['F'] = np.where(df1_2['SEXO'] == 'F', 1, 0)\n",
    "\n",
    "# count males\n",
    "df1_2['M'] = np.where(df1_2['SEXO'] == 'M', 1, 0)\n",
    "\n",
    "# count children\n",
    "df1_2['NINOS'] = np.where(df1_2['EDAD'] <= 18, 1, 0)\n",
    "\n",
    "# could old\n",
    "df1_2['MAYORES'] = np.where(df1_2['EDAD'] >= 65, 1, 0)\n",
    "\n",
    "# reduce it to just what we want\n",
    "df_familia = df1_2.groupby(['FAM_N'])['F','M','NINOS','MAYORES'].sum().reset_index()\n",
    "\n",
    "# combine both dataframes\n",
    "\n",
    "df_todo = df_padres.merge(df_familia, left_on='FAM_N', right_on='FAM_N', how='outer')\n",
    "\n",
    "# add father and mother to F & M totals\n",
    "\n",
    "df_todo['F'] = df_todo['F'] + df_todo['MADRE']\n",
    "df_todo['M'] = df_todo['M'] + df_todo['PADRE']\n",
    "\n",
    "df_todo.to_csv('/Users/SeanOMalley1/AnacondaProjects/SeanOMalleyCodePortfolio/Development Economics/PovertySurveys/CDA_PPI_CLEAN_2018.csv')\n"
   ]
  }
 ],
 "metadata": {
  "kernelspec": {
   "display_name": "Python 3",
   "language": "python",
   "name": "python3"
  },
  "language_info": {
   "codemirror_mode": {
    "name": "ipython",
    "version": 3
   },
   "file_extension": ".py",
   "mimetype": "text/x-python",
   "name": "python",
   "nbconvert_exporter": "python",
   "pygments_lexer": "ipython3",
   "version": "3.6.4"
  }
 },
 "nbformat": 4,
 "nbformat_minor": 2
}
