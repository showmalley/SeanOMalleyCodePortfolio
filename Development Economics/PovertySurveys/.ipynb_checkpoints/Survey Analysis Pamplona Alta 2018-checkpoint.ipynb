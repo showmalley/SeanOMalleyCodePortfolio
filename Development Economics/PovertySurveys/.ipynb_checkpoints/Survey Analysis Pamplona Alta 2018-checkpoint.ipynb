{
 "cells": [
  {
   "cell_type": "markdown",
   "metadata": {},
   "source": [
    "## Poverty Assessment: Pamplona Alta\n",
    "### Caja del Amor Survey Results\n",
    "### Sean O'Malley"
   ]
  },
  {
   "cell_type": "markdown",
   "metadata": {},
   "source": [
    "#### Project\n",
    "\n",
    "Every year, in partnership with the Solidaridad en Marcha, Catholic churches throughout the city of Lima, Peru deliver thousands of Christmas gift boxes to the poorest residents in the city. The campaign, called Caja Del Amor, has been in operation for years and has subsequently built long-term and well-sustained relationships with many community leaders in these areas. \n",
    "\n",
    "\n",
    "The list of gift recipients is built in coordination with the local community leaders, most of whom oversee around 150 families. These leaders choose the 5 to 10 families in most need of assistance in their respective community to receive the gift boxes.\n",
    "\n",
    "\n",
    "These networks served as a point of strength when we began to explore the creation of an in-depth survey to better understand the poorest urban populations in Peru. However, our focus needed to also be on action-ability of insight and the concrete opportunity of enacting positive change in the lives those we surveyed. \n",
    "\n",
    "\n",
    "Therefore, we decided to focus on a region of high need, and an area where Solidaridad en Marcha had a significant footprint. This process of elimination lead us to the region of Pamplona Alta near the San Juan de Miraflores municipality of Lima."
   ]
  },
  {
   "cell_type": "markdown",
   "metadata": {},
   "source": [
    "#### Understand Pamplona Alta\n",
    "\n",
    "Pamplona Alta is a shanty town riddled with extreme poverty, it has an absence of infrastructure, and a large portion of its community is without access to many basic human needs. The region has no public works, no paved roads, no public electricity, nor public access to water and sewage. If these services exist at all, they are provided by private companies at a premium price.\n",
    "\n",
    "\n",
    "Water trucks provide the only (non-drinkable) water and they often cannot access many of the homes, especially in the upper portions of the region. Shallow latrines serve as a poor substitute for sewage and along with the pig farms, contribute to a high rate of parasitic infections, particularly among children.\n",
    "\n",
    "\n",
    "The area was first populated in the 1990’s as a result of a decade of terrorism that affected the entire country of Peru. During that period, populations from the surrounding regions began a mass migration to the outskirts of Lima, leaving the lives they knew to find safety in the proximity of the city. Many only spoke Quechua, few had employment for years after arrival, and none of these new residents owned the land on the edge of Lima where they would now call home.\n",
    "\n",
    "In the opinion of many close to the matter, it has predominantly been this issue of land ownership that has ensured the continued impoverishment of the people of Pamplona Alta. Why land ownership? Well, owning the land is necessary, according to the government of Peru, for those in Pamplona Alta to receive basic municipal services. In order to attain roads, plumbing, water, schools and many other basic human needs, they must first own the land on which their homes sit.\n",
    "\n",
    "The land is rocky, mountainous and un-arable, yet to the people of Pamplona Alta, it is home. Inside of this difficult landscape, there are two prevailing realities: those who squatted on public land and those who squatted on private land.\n",
    "\n",
    "The valleys of this mountainous region were owned predominantly by pig farmers upon arrival, and even today many families live side by side to pigs in the lower part of Pamplona Alta. The owners of the land have lacked the resources to forcibly evict their unwanted tenants since their arrival, yet these tenants have now called Pamplona Alta home for over 20 years and despite their best hopes, still, have a nearly impossible chance of owning the land on which their homes sit. As a result, many of these structures lack stewardship, the inability to own does not reasonably warrant investment and in turn, the homes exist in squalor.\n",
    "\n",
    "\n",
    "The story of those in the upper mountain portions of Pamplona Alta is a different, yet only a slightly less dire narrative. For people who have built their homes on government-owned land, ownership is possible, however, only after a laundry list of nearly impossible requirements, given by the government of Peru, is achieved. Land ownership is possible to those who squatted on government land if they have: \n",
    "\n",
    "*\tbeen there for longer than 5 years\n",
    "*\taccess to water\n",
    "*\taccess to electricity\n",
    "*\tsafe access to home\n",
    "*\tcommunity centers/parks within close proximity of their house\n",
    "\n",
    "\n",
    "In practice, the government of Peru is asking the poorest and least advantaged people in their country to not only sustain life on a few dollars a day, but also build a road to create access for a privately priced water truck to get to their home, to pay to bring privately priced electricity to their home, to build community centers and to construct safe access to their homes from the bottom of the mountain. \n",
    "\n",
    "This task is absolutely impossible on their own, and organizations like Solidaridad en Marcha have helped make home ownership a reality to some of the people of Pamplona Alta, however, this battle is still uphill, and full of rocks and mud.\n",
    "\n",
    "The subsequent reality for the people of Pamplona Alta is that their children are frequently sick, their jobs are too far away, their under-education is inevitable, many families are broken and the lack of government support ensures the existence of a dark economy, thus extending their lack of access to upward mobility. \n",
    "\n",
    "Deeper than these economic indicators of poverty, the people of Pamplona suffer from the poverty of dignity. Many members refer to themselves as “the forgotten ones,” election promises come and go without much change and through the confusing red tape and legalities, they still find themselves without access to basic human needs."
   ]
  },
  {
   "cell_type": "markdown",
   "metadata": {},
   "source": [
    "#### Data\n",
    "\n",
    "Understanding the many facets of those in Pamplona Alta was integral in the way we built our survey, the questions we asked, and the way we asked them. We raised some questions that we heuristically had an intuitive idea of the answer, but needed to understand the severity. Yet, others we asked in order to gain insight into the tools we may have available to us within our solution set. \n",
    "\n",
    "Lastly, we inquired of economic indicators, religious factors and family structure. All intended to paint a picture of the lives of those in Pamplona Alta and to possibly determine causality between the various characteristics.  \n",
    "\n",
    "We were able to fully survey over 500 families and after extracting all personably identifiable data, we built a dataset that held great potential for a greater understanding of the lives of those in Pamplona Alta and the possible routes available to help them.\n",
    "\n",
    "The completed dataset built from the original survey contains 21 variables and 507 observations of which to explore, visualize and perform analysis on. The complete dataset can be found on my GitHub account, here. Also note, for binary variables, 1 is yes and 0 is no.\n",
    "\n",
    "1.\t__fam_n__\t– _numeric factor_ – Unique identifier for each family.\n",
    "2.\t__internet__ – _binary_ – Does your phone have internet?\n",
    "3.\t__agua__ –\t_binary_ – Can the water truck get to your house?\n",
    "4.\t__banco__ – _binary_ – Do you have a bank account?\n",
    "5.\t__iglesia__ – _binary_ – Do you go to church at least once a month?\n",
    "6.\t__dejar_hijos__ –  _binary_ – Do you leave your children home alone (when you go to work)?\n",
    "7.\t__cuantas_personas__ – _numeric_ – How many people live in your house?\n",
    "8.\t__tiempo_casa__ – _numeric_ – How long have you lived in your house?\n",
    "9.\t__primer_hijo__ – _numeric_ – At what age did you have your first child?\n",
    "10.\t__cuantas_trabajan__ – _numeric_ – How many people in your house work?\n",
    "11.\t__tiempo_trabajan__ – _numeric_ – How long does it take to get to your job?\t\n",
    "12.\t__pierden_colegio__ – _numeric_ – How many days a month do your children miss school?\n",
    "13.\t__ingreso__ – _numeric_ – What is your monthly household income?\n",
    "14.\t__bautizadas__ – _numeric_ – How many people in your family are baptized?\n",
    "15.\t__direccion__ – _character factor_ – Name of neighborhood.\n",
    "16.\t__padre__ – _binary_ – Does the father of the children live in the home?\n",
    "17.\t__madre__ – _binary_ – Does the mother of the children live in the home?\n",
    "18.\t__F__ – _numeric_ – Count of females in the home.\n",
    "19.\t__M__ – _numeric_ – Count of males in the home.\n",
    "20.\t__niños__ – _numeric_ – Count of children 18 and younger in the home.\n",
    "21.\t__mayores__ – _numeric_ – Count of adults 65 and older in the home.\n",
    "\n",
    "Months of conversations, meetings, reading and collaboration with community members came into building this survey. Qualitative analysis helped us produce a dataset that has the potential to perform multiple quantitative analyses that are relevant and informed; and it is from this point that we will now follow the flow of a data science analysis. "
   ]
  },
  {
   "cell_type": "markdown",
   "metadata": {},
   "source": [
    "#### Process\n",
    "\n",
    "Reminder: I will at times use technical language, but I encourage you to keep reading through, because I will also accompany every scientific insight with an explanation in simple language, relevant to the question at hand.\n",
    "\n",
    "We will begin by exploring the variables, the average values and basic correlations, visualizing how characteristics behave with one another. Following our exploratory phase, we will inspect cause and effect relationships between pairs of variables, as well as predict specific variables using all available data. I will use multiple techniques to perform this analysis of causality in hopes of providing variable importance in the prediction of key factors of the poor. The result will be a set of priorities for aid workers to pursue in the betterment of certain economic or societal indicators.\n",
    "\n",
    "\n",
    "The succeeding analysis will be that of understanding natural segments that exist within the poorest of the poor. Again, using multiple techniques, I will attempt to determine the groups of people that exist within those surveyed. What commonalities do certain segments have? How can we target aid campaigns to help certain groups? These are a few of the many questions a segmentation analysis will help us answer.\n",
    "\n",
    "Our quantitative and qualitative analyses will come to fruition in the final recommendation portion of this process. We will present questions and provide actionable insight into those questions, as determined by our analysis. We will build a road map for aid, a list of how we can help, who we can help and the logistical suggestions to do so. Our intent is to tie every insight to action and offer suggestions as to the best action available given what we have learned from the analysis. So, let’s get started!"
   ]
  },
  {
   "cell_type": "markdown",
   "metadata": {},
   "source": [
    "#### Import Packages"
   ]
  },
  {
   "cell_type": "code",
   "execution_count": 818,
   "metadata": {},
   "outputs": [],
   "source": [
    "# core\n",
    "import pandas as pd\n",
    "import numpy as np\n",
    "import os\n",
    "import operator\n",
    "\n",
    "# visualization\n",
    "import seaborn as sns\n",
    "import matplotlib.pyplot as plt\n",
    "\n",
    "# logistical regression\n",
    "from sklearn.cross_validation import train_test_split\n",
    "from sklearn.linear_model import LogisticRegression\n",
    "from sklearn import metrics\n",
    "\n",
    "# linear regression\n",
    "from sklearn import linear_model\n",
    "import statsmodels.api as sm\n",
    "from scipy.stats import zscore"
   ]
  },
  {
   "cell_type": "markdown",
   "metadata": {},
   "source": [
    "Ingest the raw data from its github location"
   ]
  },
  {
   "cell_type": "code",
   "execution_count": 819,
   "metadata": {},
   "outputs": [],
   "source": [
    "github_file_location = \"https://raw.githubusercontent.com/showmalley/SeanOMalleyCodePortfolio/master/Development%20Economics/PovertySurveys/CDA_FULL_2018.csv\"\n",
    "\n",
    "df = pd.read_csv(github_file_location, encoding=\"ISO-8859-1\").iloc[:,1:]"
   ]
  },
  {
   "cell_type": "markdown",
   "metadata": {},
   "source": [
    "We need to explore the datatypes to unsure correct formatting. It looks like we only need to alter the FAM_N and DIRECCION variables to be categorical. "
   ]
  },
  {
   "cell_type": "code",
   "execution_count": 820,
   "metadata": {},
   "outputs": [
    {
     "name": "stdout",
     "output_type": "stream",
     "text": [
      "FAM_N               category\n",
      "internet             float64\n",
      "agua                 float64\n",
      "banco                float64\n",
      "iglesia              float64\n",
      "dejar_hijos          float64\n",
      "cuantas_personas       int64\n",
      "tiempo_casa          float64\n",
      "primer_hijo          float64\n",
      "cuantas_trabajan     float64\n",
      "tiempo_trabajan      float64\n",
      "pierden_colegio      float64\n",
      "ingreso              float64\n",
      "bautizadas           float64\n",
      "DIRECCION           category\n",
      "PADRE                float64\n",
      "MADRE                float64\n",
      "F                    float64\n",
      "M                    float64\n",
      "NINOS                float64\n",
      "MAYORES              float64\n",
      "dtype: object\n"
     ]
    }
   ],
   "source": [
    "df.FAM_N = df.FAM_N.astype('category')\n",
    "df.DIRECCION = df.DIRECCION.astype('category')\n",
    "print(df.dtypes)"
   ]
  },
  {
   "cell_type": "markdown",
   "metadata": {},
   "source": [
    "All looks well, lets move on to explore the data itself. First with summary statistics. "
   ]
  },
  {
   "cell_type": "code",
   "execution_count": 821,
   "metadata": {},
   "outputs": [
    {
     "data": {
      "text/html": [
       "<div>\n",
       "<style scoped>\n",
       "    .dataframe tbody tr th:only-of-type {\n",
       "        vertical-align: middle;\n",
       "    }\n",
       "\n",
       "    .dataframe tbody tr th {\n",
       "        vertical-align: top;\n",
       "    }\n",
       "\n",
       "    .dataframe thead th {\n",
       "        text-align: right;\n",
       "    }\n",
       "</style>\n",
       "<table border=\"1\" class=\"dataframe\">\n",
       "  <thead>\n",
       "    <tr style=\"text-align: right;\">\n",
       "      <th></th>\n",
       "      <th>internet</th>\n",
       "      <th>agua</th>\n",
       "      <th>banco</th>\n",
       "      <th>iglesia</th>\n",
       "      <th>dejar_hijos</th>\n",
       "      <th>cuantas_personas</th>\n",
       "      <th>tiempo_casa</th>\n",
       "      <th>primer_hijo</th>\n",
       "      <th>cuantas_trabajan</th>\n",
       "      <th>tiempo_trabajan</th>\n",
       "      <th>pierden_colegio</th>\n",
       "      <th>ingreso</th>\n",
       "      <th>bautizadas</th>\n",
       "      <th>PADRE</th>\n",
       "      <th>MADRE</th>\n",
       "      <th>F</th>\n",
       "      <th>M</th>\n",
       "      <th>NINOS</th>\n",
       "      <th>MAYORES</th>\n",
       "    </tr>\n",
       "  </thead>\n",
       "  <tbody>\n",
       "    <tr>\n",
       "      <th>count</th>\n",
       "      <td>498.000000</td>\n",
       "      <td>493.000000</td>\n",
       "      <td>503.000000</td>\n",
       "      <td>500.000000</td>\n",
       "      <td>486.000000</td>\n",
       "      <td>505.000000</td>\n",
       "      <td>495.000000</td>\n",
       "      <td>476.000000</td>\n",
       "      <td>479.000000</td>\n",
       "      <td>409.000000</td>\n",
       "      <td>344.000000</td>\n",
       "      <td>441.000000</td>\n",
       "      <td>440.000000</td>\n",
       "      <td>502.000000</td>\n",
       "      <td>502.000000</td>\n",
       "      <td>499.000000</td>\n",
       "      <td>499.000000</td>\n",
       "      <td>499.000000</td>\n",
       "      <td>499.000000</td>\n",
       "    </tr>\n",
       "    <tr>\n",
       "      <th>mean</th>\n",
       "      <td>0.106426</td>\n",
       "      <td>0.705882</td>\n",
       "      <td>0.035785</td>\n",
       "      <td>0.874000</td>\n",
       "      <td>0.403292</td>\n",
       "      <td>5.043564</td>\n",
       "      <td>14.225859</td>\n",
       "      <td>20.918067</td>\n",
       "      <td>1.281837</td>\n",
       "      <td>1.171883</td>\n",
       "      <td>1.962791</td>\n",
       "      <td>682.380952</td>\n",
       "      <td>2.650000</td>\n",
       "      <td>0.551793</td>\n",
       "      <td>0.970120</td>\n",
       "      <td>2.543086</td>\n",
       "      <td>2.036072</td>\n",
       "      <td>2.603206</td>\n",
       "      <td>0.058116</td>\n",
       "    </tr>\n",
       "    <tr>\n",
       "      <th>std</th>\n",
       "      <td>0.308692</td>\n",
       "      <td>0.456108</td>\n",
       "      <td>0.185939</td>\n",
       "      <td>0.332182</td>\n",
       "      <td>0.491064</td>\n",
       "      <td>1.958418</td>\n",
       "      <td>8.601098</td>\n",
       "      <td>4.806532</td>\n",
       "      <td>0.763925</td>\n",
       "      <td>0.690369</td>\n",
       "      <td>2.318429</td>\n",
       "      <td>576.150332</td>\n",
       "      <td>1.838651</td>\n",
       "      <td>0.497806</td>\n",
       "      <td>0.170427</td>\n",
       "      <td>1.240080</td>\n",
       "      <td>1.270100</td>\n",
       "      <td>1.521885</td>\n",
       "      <td>0.258644</td>\n",
       "    </tr>\n",
       "    <tr>\n",
       "      <th>min</th>\n",
       "      <td>0.000000</td>\n",
       "      <td>0.000000</td>\n",
       "      <td>0.000000</td>\n",
       "      <td>0.000000</td>\n",
       "      <td>0.000000</td>\n",
       "      <td>0.000000</td>\n",
       "      <td>0.200000</td>\n",
       "      <td>0.000000</td>\n",
       "      <td>0.000000</td>\n",
       "      <td>0.000000</td>\n",
       "      <td>0.000000</td>\n",
       "      <td>0.000000</td>\n",
       "      <td>0.000000</td>\n",
       "      <td>0.000000</td>\n",
       "      <td>0.000000</td>\n",
       "      <td>0.000000</td>\n",
       "      <td>0.000000</td>\n",
       "      <td>0.000000</td>\n",
       "      <td>0.000000</td>\n",
       "    </tr>\n",
       "    <tr>\n",
       "      <th>25%</th>\n",
       "      <td>0.000000</td>\n",
       "      <td>0.000000</td>\n",
       "      <td>0.000000</td>\n",
       "      <td>1.000000</td>\n",
       "      <td>0.000000</td>\n",
       "      <td>4.000000</td>\n",
       "      <td>6.000000</td>\n",
       "      <td>18.000000</td>\n",
       "      <td>1.000000</td>\n",
       "      <td>0.600000</td>\n",
       "      <td>0.000000</td>\n",
       "      <td>430.000000</td>\n",
       "      <td>1.000000</td>\n",
       "      <td>0.000000</td>\n",
       "      <td>1.000000</td>\n",
       "      <td>2.000000</td>\n",
       "      <td>1.000000</td>\n",
       "      <td>2.000000</td>\n",
       "      <td>0.000000</td>\n",
       "    </tr>\n",
       "    <tr>\n",
       "      <th>50%</th>\n",
       "      <td>0.000000</td>\n",
       "      <td>1.000000</td>\n",
       "      <td>0.000000</td>\n",
       "      <td>1.000000</td>\n",
       "      <td>0.000000</td>\n",
       "      <td>5.000000</td>\n",
       "      <td>15.000000</td>\n",
       "      <td>20.000000</td>\n",
       "      <td>1.000000</td>\n",
       "      <td>1.000000</td>\n",
       "      <td>2.000000</td>\n",
       "      <td>700.000000</td>\n",
       "      <td>2.000000</td>\n",
       "      <td>1.000000</td>\n",
       "      <td>1.000000</td>\n",
       "      <td>2.000000</td>\n",
       "      <td>2.000000</td>\n",
       "      <td>3.000000</td>\n",
       "      <td>0.000000</td>\n",
       "    </tr>\n",
       "    <tr>\n",
       "      <th>75%</th>\n",
       "      <td>0.000000</td>\n",
       "      <td>1.000000</td>\n",
       "      <td>0.000000</td>\n",
       "      <td>1.000000</td>\n",
       "      <td>1.000000</td>\n",
       "      <td>6.000000</td>\n",
       "      <td>18.000000</td>\n",
       "      <td>23.000000</td>\n",
       "      <td>1.000000</td>\n",
       "      <td>2.000000</td>\n",
       "      <td>3.000000</td>\n",
       "      <td>850.000000</td>\n",
       "      <td>4.000000</td>\n",
       "      <td>1.000000</td>\n",
       "      <td>1.000000</td>\n",
       "      <td>3.000000</td>\n",
       "      <td>3.000000</td>\n",
       "      <td>3.000000</td>\n",
       "      <td>0.000000</td>\n",
       "    </tr>\n",
       "    <tr>\n",
       "      <th>max</th>\n",
       "      <td>1.000000</td>\n",
       "      <td>1.000000</td>\n",
       "      <td>1.000000</td>\n",
       "      <td>1.000000</td>\n",
       "      <td>1.000000</td>\n",
       "      <td>15.000000</td>\n",
       "      <td>50.000000</td>\n",
       "      <td>45.000000</td>\n",
       "      <td>7.000000</td>\n",
       "      <td>3.000000</td>\n",
       "      <td>22.000000</td>\n",
       "      <td>8500.000000</td>\n",
       "      <td>10.000000</td>\n",
       "      <td>1.000000</td>\n",
       "      <td>1.000000</td>\n",
       "      <td>8.000000</td>\n",
       "      <td>6.000000</td>\n",
       "      <td>8.000000</td>\n",
       "      <td>2.000000</td>\n",
       "    </tr>\n",
       "  </tbody>\n",
       "</table>\n",
       "</div>"
      ],
      "text/plain": [
       "         internet        agua       banco     iglesia  dejar_hijos  \\\n",
       "count  498.000000  493.000000  503.000000  500.000000   486.000000   \n",
       "mean     0.106426    0.705882    0.035785    0.874000     0.403292   \n",
       "std      0.308692    0.456108    0.185939    0.332182     0.491064   \n",
       "min      0.000000    0.000000    0.000000    0.000000     0.000000   \n",
       "25%      0.000000    0.000000    0.000000    1.000000     0.000000   \n",
       "50%      0.000000    1.000000    0.000000    1.000000     0.000000   \n",
       "75%      0.000000    1.000000    0.000000    1.000000     1.000000   \n",
       "max      1.000000    1.000000    1.000000    1.000000     1.000000   \n",
       "\n",
       "       cuantas_personas  tiempo_casa  primer_hijo  cuantas_trabajan  \\\n",
       "count        505.000000   495.000000   476.000000        479.000000   \n",
       "mean           5.043564    14.225859    20.918067          1.281837   \n",
       "std            1.958418     8.601098     4.806532          0.763925   \n",
       "min            0.000000     0.200000     0.000000          0.000000   \n",
       "25%            4.000000     6.000000    18.000000          1.000000   \n",
       "50%            5.000000    15.000000    20.000000          1.000000   \n",
       "75%            6.000000    18.000000    23.000000          1.000000   \n",
       "max           15.000000    50.000000    45.000000          7.000000   \n",
       "\n",
       "       tiempo_trabajan  pierden_colegio      ingreso  bautizadas       PADRE  \\\n",
       "count       409.000000       344.000000   441.000000  440.000000  502.000000   \n",
       "mean          1.171883         1.962791   682.380952    2.650000    0.551793   \n",
       "std           0.690369         2.318429   576.150332    1.838651    0.497806   \n",
       "min           0.000000         0.000000     0.000000    0.000000    0.000000   \n",
       "25%           0.600000         0.000000   430.000000    1.000000    0.000000   \n",
       "50%           1.000000         2.000000   700.000000    2.000000    1.000000   \n",
       "75%           2.000000         3.000000   850.000000    4.000000    1.000000   \n",
       "max           3.000000        22.000000  8500.000000   10.000000    1.000000   \n",
       "\n",
       "            MADRE           F           M       NINOS     MAYORES  \n",
       "count  502.000000  499.000000  499.000000  499.000000  499.000000  \n",
       "mean     0.970120    2.543086    2.036072    2.603206    0.058116  \n",
       "std      0.170427    1.240080    1.270100    1.521885    0.258644  \n",
       "min      0.000000    0.000000    0.000000    0.000000    0.000000  \n",
       "25%      1.000000    2.000000    1.000000    2.000000    0.000000  \n",
       "50%      1.000000    2.000000    2.000000    3.000000    0.000000  \n",
       "75%      1.000000    3.000000    3.000000    3.000000    0.000000  \n",
       "max      1.000000    8.000000    6.000000    8.000000    2.000000  "
      ]
     },
     "execution_count": 821,
     "metadata": {},
     "output_type": "execute_result"
    }
   ],
   "source": [
    "df.describe()"
   ]
  },
  {
   "cell_type": "markdown",
   "metadata": {},
   "source": [
    "Looking above, we have a few checks we need to take care of. Look to min and max to identify unreasonable outliers. Once this is controlled for, looking at the mean values can give us our first brief insight into the lives of the data we have ingested\n",
    "\n",
    "__Outliers__\n",
    "\n",
    "The only data changes I see that need changed is the age of the first child and people living in each house. \n",
    "* We know no one at age 0 can have a child, so lets control for this by saying any value under 11 is NaN. \n",
    "* Also, 0 people cannot live in a household, so where the value is 0, lets impute 1\n",
    "* Additionally, there are two observations that are upwards of 5 standard deviations above the next highest income result, this is presumably a typo or someone that absolutely does not apply to this population sample, so I have made the choice to remove it."
   ]
  },
  {
   "cell_type": "code",
   "execution_count": 822,
   "metadata": {},
   "outputs": [],
   "source": [
    "df.loc[df.primer_hijo < 12, 'primer_hijo'] = np.nan\n",
    "df.loc[df.cuantas_personas < 1, 'primer_hijo'] = 1\n",
    "df = df[(df['ingreso'] < 3000)]"
   ]
  },
  {
   "cell_type": "code",
   "execution_count": 823,
   "metadata": {},
   "outputs": [
    {
     "data": {
      "text/html": [
       "<div>\n",
       "<style scoped>\n",
       "    .dataframe tbody tr th:only-of-type {\n",
       "        vertical-align: middle;\n",
       "    }\n",
       "\n",
       "    .dataframe tbody tr th {\n",
       "        vertical-align: top;\n",
       "    }\n",
       "\n",
       "    .dataframe thead th {\n",
       "        text-align: right;\n",
       "    }\n",
       "</style>\n",
       "<table border=\"1\" class=\"dataframe\">\n",
       "  <thead>\n",
       "    <tr style=\"text-align: right;\">\n",
       "      <th></th>\n",
       "      <th>internet</th>\n",
       "      <th>agua</th>\n",
       "      <th>banco</th>\n",
       "      <th>iglesia</th>\n",
       "      <th>dejar_hijos</th>\n",
       "      <th>cuantas_personas</th>\n",
       "      <th>tiempo_casa</th>\n",
       "      <th>primer_hijo</th>\n",
       "      <th>cuantas_trabajan</th>\n",
       "      <th>tiempo_trabajan</th>\n",
       "      <th>pierden_colegio</th>\n",
       "      <th>ingreso</th>\n",
       "      <th>bautizadas</th>\n",
       "      <th>PADRE</th>\n",
       "      <th>MADRE</th>\n",
       "      <th>F</th>\n",
       "      <th>M</th>\n",
       "      <th>NINOS</th>\n",
       "      <th>MAYORES</th>\n",
       "    </tr>\n",
       "  </thead>\n",
       "  <tbody>\n",
       "    <tr>\n",
       "      <th>count</th>\n",
       "      <td>434.000000</td>\n",
       "      <td>430.000000</td>\n",
       "      <td>437.000000</td>\n",
       "      <td>434.000000</td>\n",
       "      <td>423.000000</td>\n",
       "      <td>439.000000</td>\n",
       "      <td>434.000000</td>\n",
       "      <td>417.000000</td>\n",
       "      <td>433.000000</td>\n",
       "      <td>384.000000</td>\n",
       "      <td>313.000000</td>\n",
       "      <td>439.000000</td>\n",
       "      <td>396.000000</td>\n",
       "      <td>436.000000</td>\n",
       "      <td>436.000000</td>\n",
       "      <td>434.000000</td>\n",
       "      <td>434.000000</td>\n",
       "      <td>434.000000</td>\n",
       "      <td>434.000000</td>\n",
       "    </tr>\n",
       "    <tr>\n",
       "      <th>mean</th>\n",
       "      <td>0.110599</td>\n",
       "      <td>0.700000</td>\n",
       "      <td>0.038902</td>\n",
       "      <td>0.887097</td>\n",
       "      <td>0.425532</td>\n",
       "      <td>5.109339</td>\n",
       "      <td>14.098618</td>\n",
       "      <td>21.105516</td>\n",
       "      <td>1.295612</td>\n",
       "      <td>1.164844</td>\n",
       "      <td>1.940895</td>\n",
       "      <td>649.043280</td>\n",
       "      <td>2.585859</td>\n",
       "      <td>0.548165</td>\n",
       "      <td>0.965596</td>\n",
       "      <td>2.589862</td>\n",
       "      <td>2.023041</td>\n",
       "      <td>2.633641</td>\n",
       "      <td>0.052995</td>\n",
       "    </tr>\n",
       "    <tr>\n",
       "      <th>std</th>\n",
       "      <td>0.313997</td>\n",
       "      <td>0.458791</td>\n",
       "      <td>0.193582</td>\n",
       "      <td>0.316840</td>\n",
       "      <td>0.495009</td>\n",
       "      <td>1.986686</td>\n",
       "      <td>8.730716</td>\n",
       "      <td>4.750343</td>\n",
       "      <td>0.779009</td>\n",
       "      <td>0.688559</td>\n",
       "      <td>2.393338</td>\n",
       "      <td>294.448824</td>\n",
       "      <td>1.836398</td>\n",
       "      <td>0.498246</td>\n",
       "      <td>0.182473</td>\n",
       "      <td>1.246700</td>\n",
       "      <td>1.258477</td>\n",
       "      <td>1.539885</td>\n",
       "      <td>0.234354</td>\n",
       "    </tr>\n",
       "    <tr>\n",
       "      <th>min</th>\n",
       "      <td>0.000000</td>\n",
       "      <td>0.000000</td>\n",
       "      <td>0.000000</td>\n",
       "      <td>0.000000</td>\n",
       "      <td>0.000000</td>\n",
       "      <td>0.000000</td>\n",
       "      <td>0.200000</td>\n",
       "      <td>1.000000</td>\n",
       "      <td>0.000000</td>\n",
       "      <td>0.000000</td>\n",
       "      <td>0.000000</td>\n",
       "      <td>0.000000</td>\n",
       "      <td>0.000000</td>\n",
       "      <td>0.000000</td>\n",
       "      <td>0.000000</td>\n",
       "      <td>0.000000</td>\n",
       "      <td>0.000000</td>\n",
       "      <td>0.000000</td>\n",
       "      <td>0.000000</td>\n",
       "    </tr>\n",
       "    <tr>\n",
       "      <th>25%</th>\n",
       "      <td>0.000000</td>\n",
       "      <td>0.000000</td>\n",
       "      <td>0.000000</td>\n",
       "      <td>1.000000</td>\n",
       "      <td>0.000000</td>\n",
       "      <td>4.000000</td>\n",
       "      <td>6.000000</td>\n",
       "      <td>18.000000</td>\n",
       "      <td>1.000000</td>\n",
       "      <td>0.600000</td>\n",
       "      <td>0.000000</td>\n",
       "      <td>425.000000</td>\n",
       "      <td>1.000000</td>\n",
       "      <td>0.000000</td>\n",
       "      <td>1.000000</td>\n",
       "      <td>2.000000</td>\n",
       "      <td>1.000000</td>\n",
       "      <td>2.000000</td>\n",
       "      <td>0.000000</td>\n",
       "    </tr>\n",
       "    <tr>\n",
       "      <th>50%</th>\n",
       "      <td>0.000000</td>\n",
       "      <td>1.000000</td>\n",
       "      <td>0.000000</td>\n",
       "      <td>1.000000</td>\n",
       "      <td>0.000000</td>\n",
       "      <td>5.000000</td>\n",
       "      <td>15.000000</td>\n",
       "      <td>20.000000</td>\n",
       "      <td>1.000000</td>\n",
       "      <td>1.000000</td>\n",
       "      <td>2.000000</td>\n",
       "      <td>680.000000</td>\n",
       "      <td>2.000000</td>\n",
       "      <td>1.000000</td>\n",
       "      <td>1.000000</td>\n",
       "      <td>2.500000</td>\n",
       "      <td>2.000000</td>\n",
       "      <td>3.000000</td>\n",
       "      <td>0.000000</td>\n",
       "    </tr>\n",
       "    <tr>\n",
       "      <th>75%</th>\n",
       "      <td>0.000000</td>\n",
       "      <td>1.000000</td>\n",
       "      <td>0.000000</td>\n",
       "      <td>1.000000</td>\n",
       "      <td>1.000000</td>\n",
       "      <td>6.000000</td>\n",
       "      <td>18.000000</td>\n",
       "      <td>23.000000</td>\n",
       "      <td>1.000000</td>\n",
       "      <td>1.562500</td>\n",
       "      <td>3.000000</td>\n",
       "      <td>850.000000</td>\n",
       "      <td>4.000000</td>\n",
       "      <td>1.000000</td>\n",
       "      <td>1.000000</td>\n",
       "      <td>3.000000</td>\n",
       "      <td>3.000000</td>\n",
       "      <td>4.000000</td>\n",
       "      <td>0.000000</td>\n",
       "    </tr>\n",
       "    <tr>\n",
       "      <th>max</th>\n",
       "      <td>1.000000</td>\n",
       "      <td>1.000000</td>\n",
       "      <td>1.000000</td>\n",
       "      <td>1.000000</td>\n",
       "      <td>1.000000</td>\n",
       "      <td>15.000000</td>\n",
       "      <td>50.000000</td>\n",
       "      <td>45.000000</td>\n",
       "      <td>7.000000</td>\n",
       "      <td>3.000000</td>\n",
       "      <td>22.000000</td>\n",
       "      <td>2080.000000</td>\n",
       "      <td>10.000000</td>\n",
       "      <td>1.000000</td>\n",
       "      <td>1.000000</td>\n",
       "      <td>8.000000</td>\n",
       "      <td>6.000000</td>\n",
       "      <td>8.000000</td>\n",
       "      <td>2.000000</td>\n",
       "    </tr>\n",
       "  </tbody>\n",
       "</table>\n",
       "</div>"
      ],
      "text/plain": [
       "         internet        agua       banco     iglesia  dejar_hijos  \\\n",
       "count  434.000000  430.000000  437.000000  434.000000   423.000000   \n",
       "mean     0.110599    0.700000    0.038902    0.887097     0.425532   \n",
       "std      0.313997    0.458791    0.193582    0.316840     0.495009   \n",
       "min      0.000000    0.000000    0.000000    0.000000     0.000000   \n",
       "25%      0.000000    0.000000    0.000000    1.000000     0.000000   \n",
       "50%      0.000000    1.000000    0.000000    1.000000     0.000000   \n",
       "75%      0.000000    1.000000    0.000000    1.000000     1.000000   \n",
       "max      1.000000    1.000000    1.000000    1.000000     1.000000   \n",
       "\n",
       "       cuantas_personas  tiempo_casa  primer_hijo  cuantas_trabajan  \\\n",
       "count        439.000000   434.000000   417.000000        433.000000   \n",
       "mean           5.109339    14.098618    21.105516          1.295612   \n",
       "std            1.986686     8.730716     4.750343          0.779009   \n",
       "min            0.000000     0.200000     1.000000          0.000000   \n",
       "25%            4.000000     6.000000    18.000000          1.000000   \n",
       "50%            5.000000    15.000000    20.000000          1.000000   \n",
       "75%            6.000000    18.000000    23.000000          1.000000   \n",
       "max           15.000000    50.000000    45.000000          7.000000   \n",
       "\n",
       "       tiempo_trabajan  pierden_colegio      ingreso  bautizadas       PADRE  \\\n",
       "count       384.000000       313.000000   439.000000  396.000000  436.000000   \n",
       "mean          1.164844         1.940895   649.043280    2.585859    0.548165   \n",
       "std           0.688559         2.393338   294.448824    1.836398    0.498246   \n",
       "min           0.000000         0.000000     0.000000    0.000000    0.000000   \n",
       "25%           0.600000         0.000000   425.000000    1.000000    0.000000   \n",
       "50%           1.000000         2.000000   680.000000    2.000000    1.000000   \n",
       "75%           1.562500         3.000000   850.000000    4.000000    1.000000   \n",
       "max           3.000000        22.000000  2080.000000   10.000000    1.000000   \n",
       "\n",
       "            MADRE           F           M       NINOS     MAYORES  \n",
       "count  436.000000  434.000000  434.000000  434.000000  434.000000  \n",
       "mean     0.965596    2.589862    2.023041    2.633641    0.052995  \n",
       "std      0.182473    1.246700    1.258477    1.539885    0.234354  \n",
       "min      0.000000    0.000000    0.000000    0.000000    0.000000  \n",
       "25%      1.000000    2.000000    1.000000    2.000000    0.000000  \n",
       "50%      1.000000    2.500000    2.000000    3.000000    0.000000  \n",
       "75%      1.000000    3.000000    3.000000    4.000000    0.000000  \n",
       "max      1.000000    8.000000    6.000000    8.000000    2.000000  "
      ]
     },
     "execution_count": 823,
     "metadata": {},
     "output_type": "execute_result"
    }
   ],
   "source": [
    "df.describe()"
   ]
  },
  {
   "cell_type": "markdown",
   "metadata": {},
   "source": [
    "Now looking to the binary values, lets get the proportion of YES to NO answers."
   ]
  },
  {
   "cell_type": "code",
   "execution_count": 824,
   "metadata": {},
   "outputs": [
    {
     "name": "stdout",
     "output_type": "stream",
     "text": [
      "---\n",
      "11.06% of those surveyed answered YES to internet\n",
      "---\n",
      "70.0% of those surveyed answered YES to agua\n",
      "---\n",
      "3.89% of those surveyed answered YES to banco\n",
      "---\n",
      "88.71% of those surveyed answered YES to iglesia\n",
      "---\n",
      "42.55% of those surveyed answered YES to dejar_hijos\n",
      "---\n",
      "54.82% of those surveyed answered YES to PADRE\n",
      "---\n",
      "96.56% of those surveyed answered YES to MADRE\n",
      "---\n"
     ]
    }
   ],
   "source": [
    "binaries = ['internet','agua','banco','iglesia','dejar_hijos','PADRE','MADRE']\n",
    "\n",
    "for i in range(len(binaries)):\n",
    "    print('---')\n",
    "    print(str(round(df[binaries[i]].mean()*100,2)) + \"% of those surveyed answered YES to \" + str(binaries[i]))\n",
    "    \n",
    "print('---')"
   ]
  },
  {
   "cell_type": "markdown",
   "metadata": {},
   "source": [
    "We can see that a small proportion of those surveyed had bank accounts and internet access, while a large proportion went to church regularly and a majority had access to drinkable water though not overwhelmingly so. In terms of family dynamics, we see that only half of fathers are present in the home and most homes have a mother present. \n",
    "\n",
    "The initial pulse we get from the binary proportional averages is that we can affirm some of our pre-conceived ideas surrounding broken families and presence of a dark economy implying sparse routes to traditional credit sources. \n",
    "\n",
    "Next, let's take a look at the average values of our numeric survey variables."
   ]
  },
  {
   "cell_type": "code",
   "execution_count": 825,
   "metadata": {},
   "outputs": [
    {
     "name": "stdout",
     "output_type": "stream",
     "text": [
      "---\n",
      "The average value for cuantas_personas is 5.11\n",
      "---\n",
      "The average value for tiempo_casa is 14.1\n",
      "---\n",
      "The average value for primer_hijo is 21.11\n",
      "---\n",
      "The average value for cuantas_trabajan is 1.3\n",
      "---\n",
      "The average value for tiempo_trabajan is 1.16\n",
      "---\n",
      "The average value for pierden_colegio is 1.94\n",
      "---\n",
      "The average value for ingreso is 649.04\n",
      "---\n",
      "The average value for bautizadas is 2.59\n",
      "---\n",
      "The average value for F is 2.59\n",
      "---\n",
      "The average value for M is 2.02\n",
      "---\n",
      "The average value for NINOS is 2.63\n",
      "---\n",
      "The average value for MAYORES is 0.05\n",
      "---\n"
     ]
    }
   ],
   "source": [
    "numerics = ['cuantas_personas','tiempo_casa','primer_hijo','cuantas_trabajan','tiempo_trabajan','pierden_colegio','ingreso','bautizadas', 'F','M','NINOS','MAYORES']\n",
    "\n",
    "for i in range(len(numerics)):\n",
    "    print('---')\n",
    "    print(\"The average value for \" + str(numerics[i]) + \" is \" + str(round(df[numerics[i]].mean(),2)))\n",
    "    \n",
    "print('---')"
   ]
  },
  {
   "cell_type": "markdown",
   "metadata": {},
   "source": [
    "Inspecting the numeric means of our survey results, we can begin to get a sense of the lives lead by the poorest of the poor in Pamplona Alta. We see that the average age of the first child is 21, which is young by developed world standards, but not nearly as young as our qualitative guess would have assumed; thus looking into the distribution of this variable could provide further insight.\n",
    "\n",
    "We see that the average time in the home is nearly triple the required 5 year requirement of the government for ownership, which is one good step forward. However, we also see that the average household of 5 is usually living off of the salary of a single person, and that average value is only 682 soles a month ($6.60 USD a day). \n",
    "\n",
    "Looking to the religious aspects of the survey, it is also interesting to note that on average only 2/5 members of households are baptized though a majority attend church services regularly.\n",
    "\n",
    "Now, we do not want to make any extraneous assumptions from these averages, nevertheless, these initial figures have allowed us to paint a faint picture of the lives lead by those surveyed."
   ]
  },
  {
   "cell_type": "markdown",
   "metadata": {},
   "source": [
    "#### Distributions\n",
    "\n",
    "Average values can give us a glimpse into the character of a variable, however, the distribution can tell us even more. Given the above results I wanted to take the time to look into certain variables of intrigue. This process gives shape to the values within, as well as helps us spot outliers that may have significantly affected our larger groups at whole. \n",
    "\n",
    "Given the average values of these two _Time in Home_ and _Age of First Child_ I was curious as to the distribution of those variables. "
   ]
  },
  {
   "cell_type": "code",
   "execution_count": 826,
   "metadata": {},
   "outputs": [],
   "source": [
    "sns.set_style('darkgrid')\n",
    "sns.set(color_codes = True)"
   ]
  },
  {
   "cell_type": "code",
   "execution_count": 827,
   "metadata": {},
   "outputs": [
    {
     "data": {
      "image/png": "[encoded data removed]",
      "text/plain": [
       "<Figure size 576x432 with 1 Axes>"
      ]
     },
     "metadata": {},
     "output_type": "display_data"
    }
   ],
   "source": [
    "fig, ax = plt.subplots(figsize=(8,6))\n",
    "sns.distplot(df.tiempo_casa[df['tiempo_casa'].isna() == False],ax=ax, color = '#97694F', bins = 10)\n",
    "ax.set(xlabel = \"Time in Home\",ylabel = \"Density\", title = \"Distribution of Time in Home\")\n",
    "plt.show()"
   ]
  },
  {
   "cell_type": "code",
   "execution_count": 828,
   "metadata": {},
   "outputs": [
    {
     "data": {
      "image/png": "[encoded data removed]",
      "text/plain": [
       "<Figure size 576x432 with 1 Axes>"
      ]
     },
     "metadata": {},
     "output_type": "display_data"
    }
   ],
   "source": [
    "fig, ax = plt.subplots(figsize=(8,6))\n",
    "sns.distplot(df.primer_hijo[df['primer_hijo'].isna() == False],ax=ax, color = 'teal', bins = 20)\n",
    "ax.set(xlabel = \"Age of First Child\", xlim=(10,47), ylabel = \"Density\", title = \"Distribution of Age of First Child\")\n",
    "plt.show()"
   ]
  },
  {
   "cell_type": "markdown",
   "metadata": {},
   "source": [
    "The third distribution is household size, the values are, more or less, normally distributed, with a majority of the households being between 4 and 6 people per household. We can see that there are some houses with as many as 15, but that number is small enough that those outliers should hold little weight to our predictive modeling further on."
   ]
  },
  {
   "cell_type": "code",
   "execution_count": 829,
   "metadata": {},
   "outputs": [
    {
     "data": {
      "image/png": "[encoded data removed]",
      "text/plain": [
       "<Figure size 576x432 with 1 Axes>"
      ]
     },
     "metadata": {},
     "output_type": "display_data"
    }
   ],
   "source": [
    "fig, ax = plt.subplots(figsize=(8,6))\n",
    "sns.distplot(df['cuantas_personas'],ax=ax, color = 'g', bins = 15)\n",
    "ax.set(xlabel = \"Number in Household\",ylabel = \"Density\", title = \"Distribution of Household Size\")\n",
    "plt.show()"
   ]
  },
  {
   "cell_type": "markdown",
   "metadata": {},
   "source": [
    "Next, looking to commute time, we see a mostly bi-modal distribution, with a majority of people traveling just over an hour to work, and another traveling over two hours to work. This confirms the difficulty we’ve seen for people in Pamplona Alta to find employment near to home."
   ]
  },
  {
   "cell_type": "code",
   "execution_count": 830,
   "metadata": {},
   "outputs": [
    {
     "data": {
      "image/png": "[encoded data removed]",
      "text/plain": [
       "<Figure size 576x432 with 1 Axes>"
      ]
     },
     "metadata": {},
     "output_type": "display_data"
    }
   ],
   "source": [
    "fig, ax = plt.subplots(figsize=(8,6))\n",
    "sns.distplot(df.tiempo_trabajan[df['tiempo_trabajan'].isna() == False],ax=ax, color = 'tan', bins = 6)\n",
    "ax.set(xlabel = \"Commute Time\",ylabel = \"Density\", title = \"Distribution of Commute Time\")\n",
    "plt.show()"
   ]
  },
  {
   "cell_type": "markdown",
   "metadata": {},
   "source": [
    "Lastly, we see the distribution of household income below, and something feels a little off. We see that there are two significant outliers of income to the group at large. This suggests that our average value of income has been significantly pulled upward by these two observations. Moving forward, we will have to proceed with caution as we attempt to measure the reality of the large majority of those in Pamplona Alta, and not allow outliers to affect our understanding of the community at large."
   ]
  },
  {
   "cell_type": "code",
   "execution_count": 831,
   "metadata": {},
   "outputs": [
    {
     "data": {
      "image/png": "[encoded data removed]",
      "text/plain": [
       "<Figure size 1080x432 with 1 Axes>"
      ]
     },
     "metadata": {},
     "output_type": "display_data"
    }
   ],
   "source": [
    "fig, ax = plt.subplots(figsize=(15,6))\n",
    "sns.distplot(df.ingreso[(df['ingreso'].isna() == False)],ax=ax, color = 'b', rug = True)\n",
    "ax.set(xlabel = \"Income\",ylabel = \"Density\", title = \"Distribution of Household Income\")\n",
    "plt.show()"
   ]
  },
  {
   "cell_type": "code",
   "execution_count": 832,
   "metadata": {},
   "outputs": [
    {
     "data": {
      "image/png": "[encoded data removed]",
      "text/plain": [
       "<Figure size 864x864 with 1 Axes>"
      ]
     },
     "metadata": {},
     "output_type": "display_data"
    }
   ],
   "source": [
    "# correlation heatmap\n",
    "fig, ax = plt.subplots(figsize=(12, 12))\n",
    "sns.heatmap(df.corr(), cbar=False, cmap=\"BuGn\",annot=True, fmt=\".2f\")\n",
    "plt.yticks(rotation=0)\n",
    "plt.xticks(rotation=90)\n",
    "plt.show()"
   ]
  },
  {
   "cell_type": "markdown",
   "metadata": {},
   "source": [
    "The plot above is discouraging, we are seeing largely weak correlations between variables, meaning that the predictive power of models ahead could be difficult to come by. Nevertheless, we see stronger correlations between factors like income and internet, number of workers and leaving kids at home, as well as fathers in home and household size.\n",
    "\n",
    "Due to the correlation matrix not giving us solid results, we will have to keep in mind the stronger positive / negative correlations and move forward with more analysis.\n",
    "\n",
    "### Pre-Process Data for Regression"
   ]
  },
  {
   "cell_type": "code",
   "execution_count": 833,
   "metadata": {},
   "outputs": [
    {
     "data": {
      "text/plain": [
       "{'DIRECCION': 3,\n",
       " 'F': 5,\n",
       " 'FAM_N': 3,\n",
       " 'M': 5,\n",
       " 'MADRE': 3,\n",
       " 'MAYORES': 5,\n",
       " 'NINOS': 5,\n",
       " 'PADRE': 3,\n",
       " 'agua': 9,\n",
       " 'banco': 2,\n",
       " 'bautizadas': 43,\n",
       " 'cuantas_personas': 0,\n",
       " 'cuantas_trabajan': 6,\n",
       " 'dejar_hijos': 16,\n",
       " 'iglesia': 5,\n",
       " 'ingreso': 0,\n",
       " 'internet': 5,\n",
       " 'pierden_colegio': 126,\n",
       " 'primer_hijo': 22,\n",
       " 'tiempo_casa': 5,\n",
       " 'tiempo_trabajan': 55}"
      ]
     },
     "execution_count": 833,
     "metadata": {},
     "output_type": "execute_result"
    }
   ],
   "source": [
    "# Optimize dataset for modeling\n",
    "    # impute & remove missing values for modeling\n",
    "    \n",
    "imp_dict = dict(df.isnull().sum())\n",
    "imp_dict"
   ]
  },
  {
   "cell_type": "code",
   "execution_count": 834,
   "metadata": {},
   "outputs": [],
   "source": [
    "# create column of data frame we will use later for imputation\n",
    "df_imp = df"
   ]
  },
  {
   "cell_type": "code",
   "execution_count": 835,
   "metadata": {},
   "outputs": [
    {
     "data": {
      "text/plain": [
       "dict_items([('FAM_N', 3), ('internet', 5), ('agua', 9), ('banco', 2), ('iglesia', 5), ('dejar_hijos', 16), ('cuantas_personas', 0), ('tiempo_casa', 5), ('primer_hijo', 22), ('cuantas_trabajan', 6), ('tiempo_trabajan', 55), ('pierden_colegio', 126), ('ingreso', 0), ('bautizadas', 43), ('DIRECCION', 3), ('PADRE', 3), ('MADRE', 3), ('F', 5), ('M', 5), ('NINOS', 5), ('MAYORES', 5)])"
      ]
     },
     "execution_count": 835,
     "metadata": {},
     "output_type": "execute_result"
    }
   ],
   "source": [
    "imp_dict.items()"
   ]
  },
  {
   "cell_type": "code",
   "execution_count": 836,
   "metadata": {},
   "outputs": [],
   "source": [
    "# Remove if NA's <= 5\n",
    "\n",
    "reduce = [k for k, v in imp_dict.items() if v <= 5] + ['dejar_hijos','agua']\n",
    "\n",
    "for i in reduce:\n",
    "    df_imp = df_imp[df_imp.loc[:,i].isnull() == False]"
   ]
  },
  {
   "cell_type": "code",
   "execution_count": 837,
   "metadata": {},
   "outputs": [],
   "source": [
    "impute = [k for k, v in imp_dict.items() if v > 5][2:]"
   ]
  },
  {
   "cell_type": "code",
   "execution_count": 838,
   "metadata": {},
   "outputs": [],
   "source": [
    "# Impute mean values on numeric variables\n",
    "\n",
    "for j in df_imp.index:\n",
    "    for i in impute:\n",
    "        if np.isnan(df_imp.loc[j,i]) == True:\n",
    "            df_imp.loc[j,i] = df_imp.loc[:,i].mean()\n",
    "            "
   ]
  },
  {
   "cell_type": "code",
   "execution_count": 839,
   "metadata": {},
   "outputs": [
    {
     "data": {
      "text/html": [
       "<div>\n",
       "<style scoped>\n",
       "    .dataframe tbody tr th:only-of-type {\n",
       "        vertical-align: middle;\n",
       "    }\n",
       "\n",
       "    .dataframe tbody tr th {\n",
       "        vertical-align: top;\n",
       "    }\n",
       "\n",
       "    .dataframe thead th {\n",
       "        text-align: right;\n",
       "    }\n",
       "</style>\n",
       "<table border=\"1\" class=\"dataframe\">\n",
       "  <thead>\n",
       "    <tr style=\"text-align: right;\">\n",
       "      <th></th>\n",
       "      <th>FAM_N</th>\n",
       "      <th>internet</th>\n",
       "      <th>agua</th>\n",
       "      <th>banco</th>\n",
       "      <th>iglesia</th>\n",
       "      <th>dejar_hijos</th>\n",
       "      <th>cuantas_personas</th>\n",
       "      <th>tiempo_casa</th>\n",
       "      <th>primer_hijo</th>\n",
       "      <th>cuantas_trabajan</th>\n",
       "      <th>...</th>\n",
       "      <th>pierden_colegio</th>\n",
       "      <th>ingreso</th>\n",
       "      <th>bautizadas</th>\n",
       "      <th>DIRECCION</th>\n",
       "      <th>PADRE</th>\n",
       "      <th>MADRE</th>\n",
       "      <th>F</th>\n",
       "      <th>M</th>\n",
       "      <th>NINOS</th>\n",
       "      <th>MAYORES</th>\n",
       "    </tr>\n",
       "  </thead>\n",
       "  <tbody>\n",
       "    <tr>\n",
       "      <th>0</th>\n",
       "      <td>792.0</td>\n",
       "      <td>1.0</td>\n",
       "      <td>0.0</td>\n",
       "      <td>1.0</td>\n",
       "      <td>0.0</td>\n",
       "      <td>0.0</td>\n",
       "      <td>8</td>\n",
       "      <td>50.0</td>\n",
       "      <td>20.0</td>\n",
       "      <td>3.0</td>\n",
       "      <td>...</td>\n",
       "      <td>1.950847</td>\n",
       "      <td>2000.0</td>\n",
       "      <td>6.0</td>\n",
       "      <td>OTRO CASO</td>\n",
       "      <td>0.0</td>\n",
       "      <td>1.0</td>\n",
       "      <td>5.0</td>\n",
       "      <td>4.0</td>\n",
       "      <td>3.0</td>\n",
       "      <td>0.0</td>\n",
       "    </tr>\n",
       "    <tr>\n",
       "      <th>1</th>\n",
       "      <td>791.0</td>\n",
       "      <td>0.0</td>\n",
       "      <td>1.0</td>\n",
       "      <td>1.0</td>\n",
       "      <td>0.0</td>\n",
       "      <td>1.0</td>\n",
       "      <td>10</td>\n",
       "      <td>20.0</td>\n",
       "      <td>19.0</td>\n",
       "      <td>2.0</td>\n",
       "      <td>...</td>\n",
       "      <td>1.950847</td>\n",
       "      <td>2000.0</td>\n",
       "      <td>10.0</td>\n",
       "      <td>OTRO CASO</td>\n",
       "      <td>0.0</td>\n",
       "      <td>1.0</td>\n",
       "      <td>2.0</td>\n",
       "      <td>4.0</td>\n",
       "      <td>5.0</td>\n",
       "      <td>0.0</td>\n",
       "    </tr>\n",
       "    <tr>\n",
       "      <th>3</th>\n",
       "      <td>793.0</td>\n",
       "      <td>0.0</td>\n",
       "      <td>1.0</td>\n",
       "      <td>1.0</td>\n",
       "      <td>1.0</td>\n",
       "      <td>1.0</td>\n",
       "      <td>6</td>\n",
       "      <td>0.3</td>\n",
       "      <td>21.0</td>\n",
       "      <td>3.0</td>\n",
       "      <td>...</td>\n",
       "      <td>1.950847</td>\n",
       "      <td>1200.0</td>\n",
       "      <td>3.0</td>\n",
       "      <td>OTRO CASO</td>\n",
       "      <td>1.0</td>\n",
       "      <td>1.0</td>\n",
       "      <td>3.0</td>\n",
       "      <td>3.0</td>\n",
       "      <td>2.0</td>\n",
       "      <td>0.0</td>\n",
       "    </tr>\n",
       "    <tr>\n",
       "      <th>4</th>\n",
       "      <td>234.0</td>\n",
       "      <td>0.0</td>\n",
       "      <td>1.0</td>\n",
       "      <td>0.0</td>\n",
       "      <td>1.0</td>\n",
       "      <td>1.0</td>\n",
       "      <td>3</td>\n",
       "      <td>18.0</td>\n",
       "      <td>21.0</td>\n",
       "      <td>1.0</td>\n",
       "      <td>...</td>\n",
       "      <td>1.950847</td>\n",
       "      <td>400.0</td>\n",
       "      <td>2.0</td>\n",
       "      <td>OTRO CASO</td>\n",
       "      <td>0.0</td>\n",
       "      <td>1.0</td>\n",
       "      <td>3.0</td>\n",
       "      <td>0.0</td>\n",
       "      <td>2.0</td>\n",
       "      <td>0.0</td>\n",
       "    </tr>\n",
       "    <tr>\n",
       "      <th>5</th>\n",
       "      <td>794.0</td>\n",
       "      <td>0.0</td>\n",
       "      <td>0.0</td>\n",
       "      <td>0.0</td>\n",
       "      <td>1.0</td>\n",
       "      <td>0.0</td>\n",
       "      <td>4</td>\n",
       "      <td>3.0</td>\n",
       "      <td>20.0</td>\n",
       "      <td>1.0</td>\n",
       "      <td>...</td>\n",
       "      <td>2.000000</td>\n",
       "      <td>900.0</td>\n",
       "      <td>0.0</td>\n",
       "      <td>OTRO CASO</td>\n",
       "      <td>1.0</td>\n",
       "      <td>1.0</td>\n",
       "      <td>2.0</td>\n",
       "      <td>2.0</td>\n",
       "      <td>2.0</td>\n",
       "      <td>0.0</td>\n",
       "    </tr>\n",
       "  </tbody>\n",
       "</table>\n",
       "<p>5 rows × 21 columns</p>\n",
       "</div>"
      ],
      "text/plain": [
       "   FAM_N  internet  agua  banco  iglesia  dejar_hijos  cuantas_personas  \\\n",
       "0  792.0       1.0   0.0    1.0      0.0          0.0                 8   \n",
       "1  791.0       0.0   1.0    1.0      0.0          1.0                10   \n",
       "3  793.0       0.0   1.0    1.0      1.0          1.0                 6   \n",
       "4  234.0       0.0   1.0    0.0      1.0          1.0                 3   \n",
       "5  794.0       0.0   0.0    0.0      1.0          0.0                 4   \n",
       "\n",
       "   tiempo_casa  primer_hijo  cuantas_trabajan   ...     pierden_colegio  \\\n",
       "0         50.0         20.0               3.0   ...            1.950847   \n",
       "1         20.0         19.0               2.0   ...            1.950847   \n",
       "3          0.3         21.0               3.0   ...            1.950847   \n",
       "4         18.0         21.0               1.0   ...            1.950847   \n",
       "5          3.0         20.0               1.0   ...            2.000000   \n",
       "\n",
       "   ingreso  bautizadas  DIRECCION PADRE  MADRE    F    M  NINOS  MAYORES  \n",
       "0   2000.0         6.0  OTRO CASO   0.0    1.0  5.0  4.0    3.0      0.0  \n",
       "1   2000.0        10.0  OTRO CASO   0.0    1.0  2.0  4.0    5.0      0.0  \n",
       "3   1200.0         3.0  OTRO CASO   1.0    1.0  3.0  3.0    2.0      0.0  \n",
       "4    400.0         2.0  OTRO CASO   0.0    1.0  3.0  0.0    2.0      0.0  \n",
       "5    900.0         0.0  OTRO CASO   1.0    1.0  2.0  2.0    2.0      0.0  \n",
       "\n",
       "[5 rows x 21 columns]"
      ]
     },
     "execution_count": 839,
     "metadata": {},
     "output_type": "execute_result"
    }
   ],
   "source": [
    "df_imp.head(5)"
   ]
  },
  {
   "cell_type": "code",
   "execution_count": 840,
   "metadata": {},
   "outputs": [
    {
     "data": {
      "image/png": "[encoded data removed]",
      "text/plain": [
       "<Figure size 432x288 with 1 Axes>"
      ]
     },
     "metadata": {},
     "output_type": "display_data"
    }
   ],
   "source": [
    "plt.hist(df_imp.tiempo_casa)\n",
    "plt.show()"
   ]
  },
  {
   "cell_type": "code",
   "execution_count": 841,
   "metadata": {},
   "outputs": [
    {
     "name": "stdout",
     "output_type": "stream",
     "text": [
      "Okay, we can see that by having a length of 400,\n",
      "that we have sufficient data to try an model, and that below we no longer have NA values.\n",
      "---------------------------\n",
      "{'FAM_N': 0, 'internet': 0, 'agua': 0, 'banco': 0, 'iglesia': 0, 'dejar_hijos': 0, 'cuantas_personas': 0, 'tiempo_casa': 0, 'primer_hijo': 0, 'cuantas_trabajan': 0, 'tiempo_trabajan': 0, 'pierden_colegio': 0, 'ingreso': 0, 'bautizadas': 0, 'DIRECCION': 0, 'PADRE': 0, 'MADRE': 0, 'F': 0, 'M': 0, 'NINOS': 0, 'MAYORES': 0}\n"
     ]
    }
   ],
   "source": [
    "print(\"Okay, we can see that by having a length of \" + str(len(df_imp)) + \",\")\n",
    "print(\"that we have sufficient data to try an model, and that below we no longer have NA values.\")\n",
    "print('---------------------------')\n",
    "print(dict(df_imp.isnull().sum()))"
   ]
  },
  {
   "cell_type": "markdown",
   "metadata": {},
   "source": [
    "### Logistic Regression\n",
    "\n",
    "Logistic regression is a statistical method that can be used to determines the relationship between one dependent variable and one independent variable, specifically for predicting binary classes. The target variable can only have 2 possible answers and the logistic regression predicts the probability of occurrence of a binary event utilizing a logit function.\n",
    "\n",
    "Some important factors to keep in mind as we attempt to determine the accuracy of these logit models are:\n",
    "\n",
    "Accuracy\n",
    "* ability to predict classifications correctly\n",
    "\n",
    "Precision\n",
    "* ability to identify only the relevant data points\n",
    "* $precision = TruePos / (TruePos + FalsePos)$\n",
    "\n",
    "Recall\n",
    "* ability to find all relevant cases in a dataset\n",
    "* $recall = TruePos/(TruePos + FalseNeg)$\n",
    "\n",
    "F1\n",
    "* harmonic mean of precision and recall taking both metrics into account\n",
    "* $F1 = 2 * ((precision * recall)/(precision + recall))$\n",
    "\n",
    "ROC Curve:\n",
    "* receiver operating characteristic curve\n",
    "* a plot of the true positive rate, showing tradeoff between sensitivity and specificity\n",
    "* AUC, area under the curve, score is 0 to 1, with 1 being a perfect classifier"
   ]
  },
  {
   "cell_type": "markdown",
   "metadata": {},
   "source": [
    "#### Logistic Regression: _Bank Account -- Build model and Predict_ "
   ]
  },
  {
   "cell_type": "code",
   "execution_count": 842,
   "metadata": {},
   "outputs": [],
   "source": [
    "# Feature Selection:\n",
    "\n",
    "# Features\n",
    "feature_cols = ['internet', 'PADRE', 'agua', 'iglesia', 'dejar_hijos','cuantas_personas', 'tiempo_casa', \n",
    "                'primer_hijo', 'cuantas_trabajan','tiempo_trabajan', 'pierden_colegio', 'ingreso', \n",
    "                'bautizadas','MADRE', 'F', 'M', 'NINOS', 'MAYORES']\n",
    "\n",
    "X = df_imp[feature_cols]\n",
    "\n",
    "# Target Variable\n",
    "y = df_imp.banco\n",
    "\n",
    "# Train/Test Split\n",
    "    # 75% for model, 25% for testing\n",
    "\n",
    "X_train,X_test,y_train,y_test = train_test_split(X,y,test_size=0.25,random_state=0)"
   ]
  },
  {
   "cell_type": "code",
   "execution_count": 843,
   "metadata": {},
   "outputs": [],
   "source": [
    "# Model Developement:\n",
    "\n",
    "# create logistic regression classifier object to instanciate model\n",
    "logreg = LogisticRegression()\n",
    "\n",
    "# fit model with data\n",
    "logreg.fit(X_train,y_train)\n",
    "\n",
    "# prediction\n",
    "y_pred = logreg.predict(X_test)"
   ]
  },
  {
   "cell_type": "code",
   "execution_count": 844,
   "metadata": {},
   "outputs": [
    {
     "name": "stdout",
     "output_type": "stream",
     "text": [
      "[[96  0]\n",
      " [ 3  1]]\n",
      "----------------\n"
     ]
    },
    {
     "data": {
      "text/plain": [
       "Text(0.5, 257.44, 'Predicted')"
      ]
     },
     "execution_count": 844,
     "metadata": {},
     "output_type": "execute_result"
    },
    {
     "data": {
      "image/png": "[encoded data removed]",
      "text/plain": [
       "<Figure size 432x288 with 2 Axes>"
      ]
     },
     "metadata": {},
     "output_type": "display_data"
    }
   ],
   "source": [
    "# Model Evaluation using Confusion Matrix\n",
    "\n",
    "# Basic\n",
    "cnf_matrix = metrics.confusion_matrix(y_test, y_pred)\n",
    "print(cnf_matrix)\n",
    "print(\"----------------\")\n",
    "\n",
    "# Complex\n",
    "class_names=[0,1]\n",
    "\n",
    "fig, ax = plt.subplots()\n",
    "tick_marks = np.arange(len(class_names))\n",
    "plt.xticks(tick_marks, class_names)\n",
    "plt.yticks(tick_marks, class_names)\n",
    "\n",
    "sns.heatmap(pd.DataFrame(cnf_matrix), annot=True, cmap=\"GnBu\", fmt='g')\n",
    "ax.xaxis.set_label_position(\"top\")\n",
    "\n",
    "plt.tight_layout()\n",
    "plt.title('Confusion matrix', y=1.1)\n",
    "plt.ylabel('Actual')\n",
    "plt.xlabel('Predicted')"
   ]
  },
  {
   "cell_type": "code",
   "execution_count": 845,
   "metadata": {},
   "outputs": [
    {
     "name": "stdout",
     "output_type": "stream",
     "text": [
      "Accuracy: 0.97\n",
      "Precision: 1.0\n",
      "Recall: 0.25\n",
      "F1: 0.4\n"
     ]
    },
    {
     "data": {
      "image/png": "[encoded data removed]",
      "text/plain": [
       "<Figure size 432x288 with 1 Axes>"
      ]
     },
     "metadata": {},
     "output_type": "display_data"
    }
   ],
   "source": [
    "# Confusion Matrix Evaluation\n",
    "\n",
    "print(\"Accuracy:\",metrics.accuracy_score(y_test, y_pred))\n",
    "print(\"Precision:\",metrics.precision_score(y_test, y_pred))\n",
    "print(\"Recall:\",metrics.recall_score(y_test, y_pred))\n",
    "print(\"F1:\",metrics.f1_score(y_test, y_pred))\n",
    "\n",
    "# ROC Curve\n",
    "\n",
    "y_pred_proba = logreg.predict_proba(X_test)[::,1]\n",
    "fpr, tpr, _ = metrics.roc_curve(y_test,  y_pred_proba)\n",
    "auc = metrics.roc_auc_score(y_test, y_pred_proba)\n",
    "plt.plot(fpr,tpr,label=\"data 1, auc=\"+str(auc))\n",
    "plt.legend(loc=4)\n",
    "plt.show()"
   ]
  },
  {
   "cell_type": "code",
   "execution_count": 846,
   "metadata": {},
   "outputs": [
    {
     "name": "stdout",
     "output_type": "stream",
     "text": [
      "----------------------------------\n",
      "Top 10 Factors Responsible for predicting if they have a bank account\n"
     ]
    },
    {
     "data": {
      "text/html": [
       "<div>\n",
       "<style scoped>\n",
       "    .dataframe tbody tr th:only-of-type {\n",
       "        vertical-align: middle;\n",
       "    }\n",
       "\n",
       "    .dataframe tbody tr th {\n",
       "        vertical-align: top;\n",
       "    }\n",
       "\n",
       "    .dataframe thead th {\n",
       "        text-align: right;\n",
       "    }\n",
       "</style>\n",
       "<table border=\"1\" class=\"dataframe\">\n",
       "  <thead>\n",
       "    <tr style=\"text-align: right;\">\n",
       "      <th></th>\n",
       "      <th>names</th>\n",
       "      <th>values</th>\n",
       "      <th>absval</th>\n",
       "    </tr>\n",
       "  </thead>\n",
       "  <tbody>\n",
       "    <tr>\n",
       "      <th>16</th>\n",
       "      <td>NINOS</td>\n",
       "      <td>-1.057174</td>\n",
       "      <td>1.057174</td>\n",
       "    </tr>\n",
       "    <tr>\n",
       "      <th>14</th>\n",
       "      <td>F</td>\n",
       "      <td>1.054163</td>\n",
       "      <td>1.054163</td>\n",
       "    </tr>\n",
       "    <tr>\n",
       "      <th>7</th>\n",
       "      <td>primer_hijo</td>\n",
       "      <td>-0.961856</td>\n",
       "      <td>0.961856</td>\n",
       "    </tr>\n",
       "    <tr>\n",
       "      <th>15</th>\n",
       "      <td>M</td>\n",
       "      <td>0.713575</td>\n",
       "      <td>0.713575</td>\n",
       "    </tr>\n",
       "    <tr>\n",
       "      <th>11</th>\n",
       "      <td>ingreso</td>\n",
       "      <td>0.695465</td>\n",
       "      <td>0.695465</td>\n",
       "    </tr>\n",
       "    <tr>\n",
       "      <th>6</th>\n",
       "      <td>tiempo_casa</td>\n",
       "      <td>-0.613859</td>\n",
       "      <td>0.613859</td>\n",
       "    </tr>\n",
       "    <tr>\n",
       "      <th>12</th>\n",
       "      <td>bautizadas</td>\n",
       "      <td>0.386364</td>\n",
       "      <td>0.386364</td>\n",
       "    </tr>\n",
       "    <tr>\n",
       "      <th>3</th>\n",
       "      <td>iglesia</td>\n",
       "      <td>-0.261324</td>\n",
       "      <td>0.261324</td>\n",
       "    </tr>\n",
       "    <tr>\n",
       "      <th>1</th>\n",
       "      <td>PADRE</td>\n",
       "      <td>-0.261234</td>\n",
       "      <td>0.261234</td>\n",
       "    </tr>\n",
       "    <tr>\n",
       "      <th>4</th>\n",
       "      <td>dejar_hijos</td>\n",
       "      <td>0.212341</td>\n",
       "      <td>0.212341</td>\n",
       "    </tr>\n",
       "  </tbody>\n",
       "</table>\n",
       "</div>"
      ],
      "text/plain": [
       "          names    values    absval\n",
       "16        NINOS -1.057174  1.057174\n",
       "14            F  1.054163  1.054163\n",
       "7   primer_hijo -0.961856  0.961856\n",
       "15            M  0.713575  0.713575\n",
       "11      ingreso  0.695465  0.695465\n",
       "6   tiempo_casa -0.613859  0.613859\n",
       "12   bautizadas  0.386364  0.386364\n",
       "3       iglesia -0.261324  0.261324\n",
       "1         PADRE -0.261234  0.261234\n",
       "4   dejar_hijos  0.212341  0.212341"
      ]
     },
     "execution_count": 846,
     "metadata": {},
     "output_type": "execute_result"
    }
   ],
   "source": [
    "# Those values, however, will show that the second parameter is more influential\n",
    "# consider the magnitude of its coefficient times the standard deviation of the corresponding parameter in the data.\n",
    "\n",
    "dad_logit = list(np.array(np.std(X_train, 0)* logreg.coef_[0]))\n",
    "dad_logit_n = feature_cols\n",
    "dad_logit_d = pd.DataFrame({\"names\":dad_logit_n, \"values\":dad_logit, \"absval\":np.absolute(dad_logit)}).sort_values('absval', ascending=False)\n",
    "print(\"----------------------------------\")\n",
    "print(\"Top 10 Factors Responsible for predicting if they have a bank account\")\n",
    "dad_logit_d.head(10)"
   ]
  },
  {
   "cell_type": "markdown",
   "metadata": {},
   "source": [
    "#### Logistic Regression: _Bank Account -- Summary_ \n",
    "\n",
    "Logistic regressions struggle when faced with a really lopsided proportion between the binary target variable. This is one of those cases. We see that the model predicted all results to be 0, and though this appears very accurate, it does not imply much intelligence on the part of the model. \n",
    "\n",
    "Nevertheless, one number that pops out in the coefficients is the number of females in the house having a strong postivive value in 'predicting' whether someone has a bank account. This could very heuristically confirm thoughts of some of organizations like the Grameen bank, in that women are better stewards of the family financially; but given the limitations of this model I only feel comfortable keeping that in mind and not betting on it by any means."
   ]
  },
  {
   "cell_type": "markdown",
   "metadata": {},
   "source": [
    "#### Logistic Regression: _Water Access -- Build model and Predict_ "
   ]
  },
  {
   "cell_type": "code",
   "execution_count": 847,
   "metadata": {},
   "outputs": [],
   "source": [
    "# Feature Selection:\n",
    "\n",
    "# Features\n",
    "feature_cols = ['internet', 'PADRE', 'banco', 'iglesia', 'dejar_hijos','cuantas_personas', 'tiempo_casa', \n",
    "                'primer_hijo', 'cuantas_trabajan','tiempo_trabajan', 'pierden_colegio', 'ingreso', \n",
    "                'bautizadas','MADRE', 'F', 'M', 'NINOS', 'MAYORES']\n",
    "\n",
    "X = df_imp[feature_cols]\n",
    "\n",
    "# Target Variable\n",
    "y = df_imp.agua\n",
    "\n",
    "# Train/Test Split\n",
    "    # 75% for model, 25% for testing\n",
    "\n",
    "X_train,X_test,y_train,y_test = train_test_split(X,y,test_size=0.25,random_state=0)"
   ]
  },
  {
   "cell_type": "code",
   "execution_count": 848,
   "metadata": {},
   "outputs": [],
   "source": [
    "# Model Developement:\n",
    "\n",
    "# create logistic regression classifier object to instanciate model\n",
    "logreg = LogisticRegression()\n",
    "\n",
    "# fit model with data\n",
    "logreg.fit(X_train,y_train)\n",
    "\n",
    "# prediction\n",
    "y_pred = logreg.predict(X_test)"
   ]
  },
  {
   "cell_type": "code",
   "execution_count": 849,
   "metadata": {},
   "outputs": [
    {
     "name": "stdout",
     "output_type": "stream",
     "text": [
      "[[ 4 26]\n",
      " [ 5 65]]\n",
      "----------------\n"
     ]
    },
    {
     "data": {
      "text/plain": [
       "Text(0.5, 257.44, 'Predicted')"
      ]
     },
     "execution_count": 849,
     "metadata": {},
     "output_type": "execute_result"
    },
    {
     "data": {
      "image/png": "[encoded data removed]",
      "text/plain": [
       "<Figure size 432x288 with 2 Axes>"
      ]
     },
     "metadata": {},
     "output_type": "display_data"
    }
   ],
   "source": [
    "# Model Evaluation using Confusion Matrix\n",
    "\n",
    "# Basic\n",
    "cnf_matrix = metrics.confusion_matrix(y_test, y_pred)\n",
    "print(cnf_matrix)\n",
    "print(\"----------------\")\n",
    "\n",
    "# Complex\n",
    "class_names=[0,1]\n",
    "\n",
    "fig, ax = plt.subplots()\n",
    "tick_marks = np.arange(len(class_names))\n",
    "plt.xticks(tick_marks, class_names)\n",
    "plt.yticks(tick_marks, class_names)\n",
    "\n",
    "sns.heatmap(pd.DataFrame(cnf_matrix), annot=True, cmap=\"GnBu\", fmt='g')\n",
    "ax.xaxis.set_label_position(\"top\")\n",
    "\n",
    "plt.tight_layout()\n",
    "plt.title('Confusion matrix', y=1.1)\n",
    "plt.ylabel('Actual')\n",
    "plt.xlabel('Predicted')"
   ]
  },
  {
   "cell_type": "code",
   "execution_count": 850,
   "metadata": {},
   "outputs": [
    {
     "name": "stdout",
     "output_type": "stream",
     "text": [
      "Accuracy: 0.69\n",
      "Precision: 0.7142857142857143\n",
      "Recall: 0.9285714285714286\n",
      "F1: 0.8074534161490684\n"
     ]
    },
    {
     "data": {
      "image/png": "[encoded data removed]",
      "text/plain": [
       "<Figure size 432x288 with 1 Axes>"
      ]
     },
     "metadata": {},
     "output_type": "display_data"
    }
   ],
   "source": [
    "# Confusion Matrix Evaluation\n",
    "\n",
    "print(\"Accuracy:\",metrics.accuracy_score(y_test, y_pred))\n",
    "print(\"Precision:\",metrics.precision_score(y_test, y_pred))\n",
    "print(\"Recall:\",metrics.recall_score(y_test, y_pred))\n",
    "print(\"F1:\",metrics.f1_score(y_test, y_pred))\n",
    "\n",
    "# ROC Curve\n",
    "\n",
    "y_pred_proba = logreg.predict_proba(X_test)[::,1]\n",
    "fpr, tpr, _ = metrics.roc_curve(y_test,  y_pred_proba)\n",
    "auc = metrics.roc_auc_score(y_test, y_pred_proba)\n",
    "plt.plot(fpr,tpr,label=\"data 1, auc=\"+str(auc))\n",
    "plt.legend(loc=4)\n",
    "plt.show()"
   ]
  },
  {
   "cell_type": "code",
   "execution_count": 851,
   "metadata": {},
   "outputs": [
    {
     "name": "stdout",
     "output_type": "stream",
     "text": [
      "----------------------------------\n",
      "Top 10 Factors Responsible for predicting if there was water access\n"
     ]
    },
    {
     "data": {
      "text/html": [
       "<div>\n",
       "<style scoped>\n",
       "    .dataframe tbody tr th:only-of-type {\n",
       "        vertical-align: middle;\n",
       "    }\n",
       "\n",
       "    .dataframe tbody tr th {\n",
       "        vertical-align: top;\n",
       "    }\n",
       "\n",
       "    .dataframe thead th {\n",
       "        text-align: right;\n",
       "    }\n",
       "</style>\n",
       "<table border=\"1\" class=\"dataframe\">\n",
       "  <thead>\n",
       "    <tr style=\"text-align: right;\">\n",
       "      <th></th>\n",
       "      <th>names</th>\n",
       "      <th>values</th>\n",
       "      <th>absval</th>\n",
       "    </tr>\n",
       "  </thead>\n",
       "  <tbody>\n",
       "    <tr>\n",
       "      <th>16</th>\n",
       "      <td>NINOS</td>\n",
       "      <td>0.303589</td>\n",
       "      <td>0.303589</td>\n",
       "    </tr>\n",
       "    <tr>\n",
       "      <th>6</th>\n",
       "      <td>tiempo_casa</td>\n",
       "      <td>0.250338</td>\n",
       "      <td>0.250338</td>\n",
       "    </tr>\n",
       "    <tr>\n",
       "      <th>11</th>\n",
       "      <td>ingreso</td>\n",
       "      <td>-0.234413</td>\n",
       "      <td>0.234413</td>\n",
       "    </tr>\n",
       "    <tr>\n",
       "      <th>17</th>\n",
       "      <td>MAYORES</td>\n",
       "      <td>0.216178</td>\n",
       "      <td>0.216178</td>\n",
       "    </tr>\n",
       "    <tr>\n",
       "      <th>5</th>\n",
       "      <td>cuantas_personas</td>\n",
       "      <td>-0.196332</td>\n",
       "      <td>0.196332</td>\n",
       "    </tr>\n",
       "    <tr>\n",
       "      <th>14</th>\n",
       "      <td>F</td>\n",
       "      <td>0.168426</td>\n",
       "      <td>0.168426</td>\n",
       "    </tr>\n",
       "    <tr>\n",
       "      <th>9</th>\n",
       "      <td>tiempo_trabajan</td>\n",
       "      <td>-0.140180</td>\n",
       "      <td>0.140180</td>\n",
       "    </tr>\n",
       "    <tr>\n",
       "      <th>10</th>\n",
       "      <td>pierden_colegio</td>\n",
       "      <td>0.136564</td>\n",
       "      <td>0.136564</td>\n",
       "    </tr>\n",
       "    <tr>\n",
       "      <th>15</th>\n",
       "      <td>M</td>\n",
       "      <td>0.134063</td>\n",
       "      <td>0.134063</td>\n",
       "    </tr>\n",
       "    <tr>\n",
       "      <th>7</th>\n",
       "      <td>primer_hijo</td>\n",
       "      <td>0.108037</td>\n",
       "      <td>0.108037</td>\n",
       "    </tr>\n",
       "  </tbody>\n",
       "</table>\n",
       "</div>"
      ],
      "text/plain": [
       "               names    values    absval\n",
       "16             NINOS  0.303589  0.303589\n",
       "6        tiempo_casa  0.250338  0.250338\n",
       "11           ingreso -0.234413  0.234413\n",
       "17           MAYORES  0.216178  0.216178\n",
       "5   cuantas_personas -0.196332  0.196332\n",
       "14                 F  0.168426  0.168426\n",
       "9    tiempo_trabajan -0.140180  0.140180\n",
       "10   pierden_colegio  0.136564  0.136564\n",
       "15                 M  0.134063  0.134063\n",
       "7        primer_hijo  0.108037  0.108037"
      ]
     },
     "execution_count": 851,
     "metadata": {},
     "output_type": "execute_result"
    }
   ],
   "source": [
    "# Those values, however, will show that the second parameter is more influential\n",
    "# consider the magnitude of its coefficient times the standard deviation of the corresponding parameter in the data.\n",
    "\n",
    "dad_logit = list(np.array(np.std(X_train, 0)* logreg.coef_[0]))\n",
    "dad_logit_n = feature_cols\n",
    "dad_logit_d = pd.DataFrame({\"names\":dad_logit_n, \"values\":dad_logit, \"absval\":np.absolute(dad_logit)}).sort_values('absval', ascending=False)\n",
    "print(\"----------------------------------\")\n",
    "print(\"Top 10 Factors Responsible for predicting if there was water access\")\n",
    "dad_logit_d.head(10)"
   ]
  },
  {
   "cell_type": "markdown",
   "metadata": {},
   "source": [
    "#### Logistic Regression: _Water Access -- Summary_ \n",
    "\n",
    "Looking toward the logistic regression results for the prediction of water access, we see that we have 67% accuracy, which is largely dragged down by a large number of false positives. The predictive power of this model is moderate to low, however, looking at the coefficient results I want to call a couple things to attention.\n",
    "\n",
    "Note the time in house coefficient, we can see that the longer someone has been in the house, the more likely they are to have water access. Given our experience in the slums of Pamplona Alta, we see that this could serve as a proxy for where the people live on the mountain. The newest members of Pamplona Alta live higher on the mountain, and the water truck has more difficulty getting to those homes (hence the building of roads for water access). This notion can be heuristically affirmed by the higher number of older people and inverse relationship of income, insofar as income is not why people don't have water, but it is where they are on the mountain. "
   ]
  },
  {
   "cell_type": "code",
   "execution_count": 852,
   "metadata": {},
   "outputs": [
    {
     "data": {
      "image/png": "[encoded data removed]",
      "text/plain": [
       "<Figure size 288x576 with 1 Axes>"
      ]
     },
     "metadata": {},
     "output_type": "display_data"
    },
    {
     "data": {
      "text/plain": [
       "<Figure size 432x288 with 0 Axes>"
      ]
     },
     "metadata": {},
     "output_type": "display_data"
    }
   ],
   "source": [
    "fig, ax = plt.subplots(figsize=(4,8))\n",
    "sns.boxplot(data=df, x='agua', y='tiempo_casa', palette='BrBG')\n",
    "ax.set(xlabel = \"Water Access\",ylabel = \"Time in Home\", title = \"Water Access and Time in Home\")\n",
    "\n",
    "medians = df.groupby(['agua'])['tiempo_casa'].median().values\n",
    "median_labels = [str(np.round(s, 2)) for s in medians]\n",
    "\n",
    "pos = range(len(medians))\n",
    "for tick,label in zip(pos,ax.get_xticklabels()):\n",
    "    ax.text(pos[tick], medians[tick] + 0.5, median_labels[tick], \n",
    "            horizontalalignment='center', size='small', color='w', weight='semibold')\n",
    "\n",
    "\n",
    "plt.show()\n",
    "plt.clf()"
   ]
  },
  {
   "cell_type": "markdown",
   "metadata": {},
   "source": [
    "#### Logistic Regression: _Internet Access -- Build model and Predict_ "
   ]
  },
  {
   "cell_type": "code",
   "execution_count": 853,
   "metadata": {},
   "outputs": [],
   "source": [
    "# Feature Selection:\n",
    "\n",
    "# Features\n",
    "feature_cols = ['agua', 'PADRE', 'banco', 'iglesia', 'dejar_hijos','cuantas_personas', 'tiempo_casa', \n",
    "                'primer_hijo', 'cuantas_trabajan','tiempo_trabajan', 'pierden_colegio', 'ingreso', \n",
    "                'bautizadas','MADRE', 'F', 'M', 'NINOS', 'MAYORES']\n",
    "\n",
    "X = df_imp[feature_cols]\n",
    "\n",
    "# Target Variable\n",
    "y = df_imp.internet\n",
    "\n",
    "# Train/Test Split\n",
    "    # 75% for model, 25% for testing\n",
    "\n",
    "X_train,X_test,y_train,y_test = train_test_split(X,y,test_size=0.25,random_state=0)"
   ]
  },
  {
   "cell_type": "code",
   "execution_count": 854,
   "metadata": {},
   "outputs": [],
   "source": [
    "# Model Developement:\n",
    "\n",
    "# create logistic regression classifier object to instanciate model\n",
    "logreg = LogisticRegression()\n",
    "\n",
    "# fit model with data\n",
    "logreg.fit(X_train,y_train)\n",
    "\n",
    "# prediction\n",
    "y_pred = logreg.predict(X_test)"
   ]
  },
  {
   "cell_type": "code",
   "execution_count": 855,
   "metadata": {},
   "outputs": [
    {
     "name": "stdout",
     "output_type": "stream",
     "text": [
      "[[84  2]\n",
      " [14  0]]\n",
      "----------------\n"
     ]
    },
    {
     "data": {
      "text/plain": [
       "Text(0.5, 257.44, 'Predicted')"
      ]
     },
     "execution_count": 855,
     "metadata": {},
     "output_type": "execute_result"
    },
    {
     "data": {
      "image/png": "[encoded data removed]",
      "text/plain": [
       "<Figure size 432x288 with 2 Axes>"
      ]
     },
     "metadata": {},
     "output_type": "display_data"
    }
   ],
   "source": [
    "# Model Evaluation using Confusion Matrix\n",
    "\n",
    "# Basic\n",
    "cnf_matrix = metrics.confusion_matrix(y_test, y_pred)\n",
    "print(cnf_matrix)\n",
    "print(\"----------------\")\n",
    "\n",
    "# Complex\n",
    "class_names=[0,1]\n",
    "\n",
    "fig, ax = plt.subplots()\n",
    "tick_marks = np.arange(len(class_names))\n",
    "plt.xticks(tick_marks, class_names)\n",
    "plt.yticks(tick_marks, class_names)\n",
    "\n",
    "sns.heatmap(pd.DataFrame(cnf_matrix), annot=True, cmap=\"GnBu\", fmt='g')\n",
    "ax.xaxis.set_label_position(\"top\")\n",
    "\n",
    "plt.tight_layout()\n",
    "plt.title('Confusion matrix', y=1.1)\n",
    "plt.ylabel('Actual')\n",
    "plt.xlabel('Predicted')"
   ]
  },
  {
   "cell_type": "code",
   "execution_count": 856,
   "metadata": {},
   "outputs": [
    {
     "name": "stdout",
     "output_type": "stream",
     "text": [
      "Accuracy: 0.84\n",
      "Precision: 0.0\n",
      "Recall: 0.0\n",
      "F1: 0.0\n"
     ]
    },
    {
     "data": {
      "image/png": "[encoded data removed]",
      "text/plain": [
       "<Figure size 432x288 with 1 Axes>"
      ]
     },
     "metadata": {},
     "output_type": "display_data"
    }
   ],
   "source": [
    "# Confusion Matrix Evaluation\n",
    "\n",
    "print(\"Accuracy:\",metrics.accuracy_score(y_test, y_pred))\n",
    "print(\"Precision:\",metrics.precision_score(y_test, y_pred))\n",
    "print(\"Recall:\",metrics.recall_score(y_test, y_pred))\n",
    "print(\"F1:\",metrics.f1_score(y_test, y_pred))\n",
    "\n",
    "# ROC Curve\n",
    "\n",
    "y_pred_proba = logreg.predict_proba(X_test)[::,1]\n",
    "fpr, tpr, _ = metrics.roc_curve(y_test,  y_pred_proba)\n",
    "auc = metrics.roc_auc_score(y_test, y_pred_proba)\n",
    "plt.plot(fpr,tpr,label=\"data 1, auc=\"+str(auc))\n",
    "plt.legend(loc=4)\n",
    "plt.show()"
   ]
  },
  {
   "cell_type": "code",
   "execution_count": 857,
   "metadata": {},
   "outputs": [
    {
     "name": "stdout",
     "output_type": "stream",
     "text": [
      "----------------------------------\n",
      "Top 10 Factors Responsible for predicting if there was internet access\n"
     ]
    },
    {
     "data": {
      "text/html": [
       "<div>\n",
       "<style scoped>\n",
       "    .dataframe tbody tr th:only-of-type {\n",
       "        vertical-align: middle;\n",
       "    }\n",
       "\n",
       "    .dataframe tbody tr th {\n",
       "        vertical-align: top;\n",
       "    }\n",
       "\n",
       "    .dataframe thead th {\n",
       "        text-align: right;\n",
       "    }\n",
       "</style>\n",
       "<table border=\"1\" class=\"dataframe\">\n",
       "  <thead>\n",
       "    <tr style=\"text-align: right;\">\n",
       "      <th></th>\n",
       "      <th>names</th>\n",
       "      <th>values</th>\n",
       "      <th>absval</th>\n",
       "    </tr>\n",
       "  </thead>\n",
       "  <tbody>\n",
       "    <tr>\n",
       "      <th>11</th>\n",
       "      <td>ingreso</td>\n",
       "      <td>0.735552</td>\n",
       "      <td>0.735552</td>\n",
       "    </tr>\n",
       "    <tr>\n",
       "      <th>14</th>\n",
       "      <td>F</td>\n",
       "      <td>-0.527660</td>\n",
       "      <td>0.527660</td>\n",
       "    </tr>\n",
       "    <tr>\n",
       "      <th>15</th>\n",
       "      <td>M</td>\n",
       "      <td>-0.434808</td>\n",
       "      <td>0.434808</td>\n",
       "    </tr>\n",
       "    <tr>\n",
       "      <th>7</th>\n",
       "      <td>primer_hijo</td>\n",
       "      <td>-0.358771</td>\n",
       "      <td>0.358771</td>\n",
       "    </tr>\n",
       "    <tr>\n",
       "      <th>16</th>\n",
       "      <td>NINOS</td>\n",
       "      <td>0.349746</td>\n",
       "      <td>0.349746</td>\n",
       "    </tr>\n",
       "    <tr>\n",
       "      <th>1</th>\n",
       "      <td>PADRE</td>\n",
       "      <td>0.265672</td>\n",
       "      <td>0.265672</td>\n",
       "    </tr>\n",
       "    <tr>\n",
       "      <th>6</th>\n",
       "      <td>tiempo_casa</td>\n",
       "      <td>-0.158129</td>\n",
       "      <td>0.158129</td>\n",
       "    </tr>\n",
       "    <tr>\n",
       "      <th>3</th>\n",
       "      <td>iglesia</td>\n",
       "      <td>-0.149175</td>\n",
       "      <td>0.149175</td>\n",
       "    </tr>\n",
       "    <tr>\n",
       "      <th>5</th>\n",
       "      <td>cuantas_personas</td>\n",
       "      <td>0.124620</td>\n",
       "      <td>0.124620</td>\n",
       "    </tr>\n",
       "    <tr>\n",
       "      <th>10</th>\n",
       "      <td>pierden_colegio</td>\n",
       "      <td>0.111948</td>\n",
       "      <td>0.111948</td>\n",
       "    </tr>\n",
       "  </tbody>\n",
       "</table>\n",
       "</div>"
      ],
      "text/plain": [
       "               names    values    absval\n",
       "11           ingreso  0.735552  0.735552\n",
       "14                 F -0.527660  0.527660\n",
       "15                 M -0.434808  0.434808\n",
       "7        primer_hijo -0.358771  0.358771\n",
       "16             NINOS  0.349746  0.349746\n",
       "1              PADRE  0.265672  0.265672\n",
       "6        tiempo_casa -0.158129  0.158129\n",
       "3            iglesia -0.149175  0.149175\n",
       "5   cuantas_personas  0.124620  0.124620\n",
       "10   pierden_colegio  0.111948  0.111948"
      ]
     },
     "execution_count": 857,
     "metadata": {},
     "output_type": "execute_result"
    }
   ],
   "source": [
    "# Those values, however, will show that the second parameter is more influential\n",
    "# consider the magnitude of its coefficient times the standard deviation of the corresponding parameter in the data.\n",
    "\n",
    "dad_logit = list(np.array(np.std(X_train, 0)* logreg.coef_[0]))\n",
    "dad_logit_n = feature_cols\n",
    "dad_logit_d = pd.DataFrame({\"names\":dad_logit_n, \"values\":dad_logit, \"absval\":np.absolute(dad_logit)}).sort_values('absval', ascending=False)\n",
    "print(\"----------------------------------\")\n",
    "print(\"Top 10 Factors Responsible for predicting if there was internet access\")\n",
    "dad_logit_d.head(10)"
   ]
  },
  {
   "cell_type": "markdown",
   "metadata": {},
   "source": [
    "#### Logistic Regression: _Internet Access -- Summary_ \n",
    "\n",
    "Knowing only answers to the other survey questions, we were able to predict with 84% accuracy whether a family had access to the internet. Due to the high rate of people not having internet and a meager sample size, our model appeared to be fairly accurate, but not in a provable way. This is shown by our confusion matrix, which shows 0 true positives.\n",
    "\n",
    "Nevertheless, we can see in the top 10 largest factor coefficients in the logistic regression that income and internet are very closely linked. Confirming previous thoughts that internet was something that only the wealthier (of this poor segment) can afford."
   ]
  },
  {
   "cell_type": "markdown",
   "metadata": {},
   "source": [
    "#### Logistic Regression: _Father in Home -- Build model and Predict_"
   ]
  },
  {
   "cell_type": "code",
   "execution_count": 858,
   "metadata": {},
   "outputs": [],
   "source": [
    "# Feature Selection:\n",
    "\n",
    "# Features\n",
    "feature_cols = ['internet', 'agua', 'banco', 'iglesia', 'dejar_hijos','cuantas_personas', 'tiempo_casa', \n",
    "                'primer_hijo', 'cuantas_trabajan','tiempo_trabajan', 'pierden_colegio', 'ingreso', \n",
    "                'bautizadas','MADRE', 'F', 'M', 'NINOS', 'MAYORES']\n",
    "\n",
    "X = df_imp[feature_cols].reset_index()\n",
    "\n",
    "# Target Variable\n",
    "y = df_imp.PADRE\n",
    "\n",
    "# Train/Test Split\n",
    "    # 75% for model, 25% for testing\n",
    "\n",
    "X_train,X_test,y_train,y_test = train_test_split(X,y,test_size=0.25,random_state=0)\n"
   ]
  },
  {
   "cell_type": "code",
   "execution_count": 859,
   "metadata": {},
   "outputs": [],
   "source": [
    "# Model Developement:\n",
    "\n",
    "# create logistic regression classifier object to instanciate model\n",
    "logreg = LogisticRegression()\n",
    "\n",
    "# fit model with data\n",
    "logreg.fit(X_train,y_train)\n",
    "\n",
    "# prediction\n",
    "y_pred = logreg.predict(X_test)"
   ]
  },
  {
   "cell_type": "code",
   "execution_count": 860,
   "metadata": {},
   "outputs": [
    {
     "name": "stdout",
     "output_type": "stream",
     "text": [
      "[[31 12]\n",
      " [ 3 54]]\n",
      "----------------\n"
     ]
    },
    {
     "data": {
      "text/plain": [
       "Text(0.5, 257.44, 'Predicted')"
      ]
     },
     "execution_count": 860,
     "metadata": {},
     "output_type": "execute_result"
    },
    {
     "data": {
      "image/png": "[encoded data removed]",
      "text/plain": [
       "<Figure size 432x288 with 2 Axes>"
      ]
     },
     "metadata": {},
     "output_type": "display_data"
    }
   ],
   "source": [
    "# Model Evaluation using Confusion Matrix\n",
    "\n",
    "# Basic\n",
    "cnf_matrix = metrics.confusion_matrix(y_test, y_pred)\n",
    "print(cnf_matrix)\n",
    "print(\"----------------\")\n",
    "\n",
    "# Complex\n",
    "class_names=[0,1]\n",
    "\n",
    "fig, ax = plt.subplots()\n",
    "tick_marks = np.arange(len(class_names))\n",
    "plt.xticks(tick_marks, class_names)\n",
    "plt.yticks(tick_marks, class_names)\n",
    "\n",
    "sns.heatmap(pd.DataFrame(cnf_matrix), annot=True, cmap=\"GnBu\", fmt='g')\n",
    "ax.xaxis.set_label_position(\"top\")\n",
    "\n",
    "plt.tight_layout()\n",
    "plt.title('Confusion matrix', y=1.1)\n",
    "plt.ylabel('Actual')\n",
    "plt.xlabel('Predicted')"
   ]
  },
  {
   "cell_type": "code",
   "execution_count": 861,
   "metadata": {},
   "outputs": [
    {
     "name": "stdout",
     "output_type": "stream",
     "text": [
      "Accuracy: 0.85\n",
      "Precision: 0.8181818181818182\n",
      "Recall: 0.9473684210526315\n",
      "F1: 0.8780487804878049\n"
     ]
    }
   ],
   "source": [
    "# Confusion Matrix Evaluation\n",
    "\n",
    "print(\"Accuracy:\",metrics.accuracy_score(y_test, y_pred))\n",
    "print(\"Precision:\",metrics.precision_score(y_test, y_pred))\n",
    "print(\"Recall:\",metrics.recall_score(y_test, y_pred))\n",
    "print(\"F1:\",metrics.f1_score(y_test, y_pred))"
   ]
  },
  {
   "cell_type": "code",
   "execution_count": 862,
   "metadata": {},
   "outputs": [
    {
     "data": {
      "image/png": "[encoded data removed]",
      "text/plain": [
       "<Figure size 432x288 with 1 Axes>"
      ]
     },
     "metadata": {},
     "output_type": "display_data"
    }
   ],
   "source": [
    "# ROC Curve\n",
    "\n",
    "y_pred_proba = logreg.predict_proba(X_test)[::,1]\n",
    "fpr, tpr, _ = metrics.roc_curve(y_test,  y_pred_proba)\n",
    "auc = metrics.roc_auc_score(y_test, y_pred_proba)\n",
    "plt.plot(fpr,tpr,label=\"data 1, auc=\"+str(auc))\n",
    "plt.legend(loc=4)\n",
    "plt.show()"
   ]
  },
  {
   "cell_type": "code",
   "execution_count": 863,
   "metadata": {},
   "outputs": [
    {
     "name": "stdout",
     "output_type": "stream",
     "text": [
      "----------------------------------\n",
      "Top 10 Factors Responsible for predicting whether father was in home\n"
     ]
    },
    {
     "data": {
      "text/html": [
       "<div>\n",
       "<style scoped>\n",
       "    .dataframe tbody tr th:only-of-type {\n",
       "        vertical-align: middle;\n",
       "    }\n",
       "\n",
       "    .dataframe tbody tr th {\n",
       "        vertical-align: top;\n",
       "    }\n",
       "\n",
       "    .dataframe thead th {\n",
       "        text-align: right;\n",
       "    }\n",
       "</style>\n",
       "<table border=\"1\" class=\"dataframe\">\n",
       "  <thead>\n",
       "    <tr style=\"text-align: right;\">\n",
       "      <th></th>\n",
       "      <th>names</th>\n",
       "      <th>values</th>\n",
       "      <th>absval</th>\n",
       "    </tr>\n",
       "  </thead>\n",
       "  <tbody>\n",
       "    <tr>\n",
       "      <th>15</th>\n",
       "      <td>M</td>\n",
       "      <td>2.320752</td>\n",
       "      <td>2.320752</td>\n",
       "    </tr>\n",
       "    <tr>\n",
       "      <th>16</th>\n",
       "      <td>NINOS</td>\n",
       "      <td>-2.251413</td>\n",
       "      <td>2.251413</td>\n",
       "    </tr>\n",
       "    <tr>\n",
       "      <th>14</th>\n",
       "      <td>F</td>\n",
       "      <td>1.686425</td>\n",
       "      <td>1.686425</td>\n",
       "    </tr>\n",
       "    <tr>\n",
       "      <th>6</th>\n",
       "      <td>tiempo_casa</td>\n",
       "      <td>-0.400091</td>\n",
       "      <td>0.400091</td>\n",
       "    </tr>\n",
       "    <tr>\n",
       "      <th>13</th>\n",
       "      <td>MADRE</td>\n",
       "      <td>-0.361743</td>\n",
       "      <td>0.361743</td>\n",
       "    </tr>\n",
       "    <tr>\n",
       "      <th>11</th>\n",
       "      <td>ingreso</td>\n",
       "      <td>0.330013</td>\n",
       "      <td>0.330013</td>\n",
       "    </tr>\n",
       "    <tr>\n",
       "      <th>17</th>\n",
       "      <td>MAYORES</td>\n",
       "      <td>-0.265765</td>\n",
       "      <td>0.265765</td>\n",
       "    </tr>\n",
       "    <tr>\n",
       "      <th>5</th>\n",
       "      <td>cuantas_personas</td>\n",
       "      <td>0.265124</td>\n",
       "      <td>0.265124</td>\n",
       "    </tr>\n",
       "    <tr>\n",
       "      <th>4</th>\n",
       "      <td>dejar_hijos</td>\n",
       "      <td>-0.203270</td>\n",
       "      <td>0.203270</td>\n",
       "    </tr>\n",
       "    <tr>\n",
       "      <th>2</th>\n",
       "      <td>banco</td>\n",
       "      <td>-0.145178</td>\n",
       "      <td>0.145178</td>\n",
       "    </tr>\n",
       "  </tbody>\n",
       "</table>\n",
       "</div>"
      ],
      "text/plain": [
       "               names    values    absval\n",
       "15                 M  2.320752  2.320752\n",
       "16             NINOS -2.251413  2.251413\n",
       "14                 F  1.686425  1.686425\n",
       "6        tiempo_casa -0.400091  0.400091\n",
       "13             MADRE -0.361743  0.361743\n",
       "11           ingreso  0.330013  0.330013\n",
       "17           MAYORES -0.265765  0.265765\n",
       "5   cuantas_personas  0.265124  0.265124\n",
       "4        dejar_hijos -0.203270  0.203270\n",
       "2              banco -0.145178  0.145178"
      ]
     },
     "execution_count": 863,
     "metadata": {},
     "output_type": "execute_result"
    }
   ],
   "source": [
    "# Those values, however, will show that the second parameter is more influential\n",
    "# consider the magnitude of its coefficient times the standard deviation of the corresponding parameter in the data.\n",
    "\n",
    "dad_logit = list(np.array(np.std(X_train, 0)* logreg.coef_[0]))[1:]\n",
    "dad_logit_n = list(feature_cols)\n",
    "dad_logit_d = pd.DataFrame({\"names\":dad_logit_n, \"values\":dad_logit, \"absval\":np.absolute(dad_logit)}).sort_values('absval', ascending=False)\n",
    "print(\"----------------------------------\")\n",
    "print(\"Top 10 Factors Responsible for predicting whether father was in home\")\n",
    "dad_logit_d.head(10)"
   ]
  },
  {
   "cell_type": "markdown",
   "metadata": {},
   "source": [
    "#### Logistic Regression: _Father in Home -- Summary_"
   ]
  },
  {
   "cell_type": "markdown",
   "metadata": {},
   "source": [
    "This is interesting. Knowing only answers to the other survey questions, we were able to predict with 84% accuracy whether the father was present in the home or not. We can see by our confusion matrix that this accuracy could improve in terms of false positives (where we predicted wrongly that the fateher was at home). However the fact that with a simple logistic regression model, we can make this accurate of a prediction is pretty good.\n",
    "\n",
    "We also have determined the top 10 largest factor coefficients in the logistic regression in determining whether the father is present in the home. What this means in laymen's terms is that this is another way to understand the relationship of the father's presence on other variables. \n",
    "\n",
    "Given this analysis, we see that having a father present is determined by a positive relationship of all the variables involving household size, essentially, having a father present means a bigger household size and most are children. The income also has a positive coefficient with the father's presence, confirming previous analysis that havin the father home has a significant increase on household income.\n",
    "\n",
    "__one more visualization to understand father's influence__"
   ]
  },
  {
   "cell_type": "code",
   "execution_count": 864,
   "metadata": {},
   "outputs": [],
   "source": [
    "w_pops = df.ingreso[df.PADRE == 1]\n",
    "wo_pops = df.ingreso[df.PADRE == 0]\n",
    "pops = pd.DataFrame"
   ]
  },
  {
   "cell_type": "code",
   "execution_count": 865,
   "metadata": {},
   "outputs": [
    {
     "data": {
      "image/png": "[encoded data removed]",
      "text/plain": [
       "<Figure size 288x576 with 1 Axes>"
      ]
     },
     "metadata": {},
     "output_type": "display_data"
    },
    {
     "data": {
      "text/plain": [
       "<Figure size 432x288 with 0 Axes>"
      ]
     },
     "metadata": {},
     "output_type": "display_data"
    }
   ],
   "source": [
    "fig, ax = plt.subplots(figsize=(4,8))\n",
    "sns.boxplot(data=df, x='PADRE', y='ingreso', palette='GnBu')\n",
    "ax.set(xlabel = \"Presence of Father\",ylabel = \"Income\", title = \"Father's Influence on Household Income\")\n",
    "\n",
    "medians = df.groupby(['PADRE'])['ingreso'].median().values\n",
    "median_labels = [str(np.round(s, 2)) for s in medians]\n",
    "\n",
    "pos = range(len(medians))\n",
    "for tick,label in zip(pos,ax.get_xticklabels()):\n",
    "    ax.text(pos[tick], medians[tick] + 0.5, median_labels[tick], \n",
    "            horizontalalignment='center', size='small', color='w', weight='semibold')\n",
    "\n",
    "\n",
    "plt.show()\n",
    "plt.clf()"
   ]
  },
  {
   "cell_type": "markdown",
   "metadata": {},
   "source": [
    "### Linear Regression\n",
    "\n",
    "* is a statistical model that examines the linear relationship between a dependent and one or more independent variables a relationship between x and y can be summed up as:\n",
    "    * $Y’i = mX +b$\n",
    "    * $depvar = unit * indvar + yint$\n",
    "\n",
    "* simple linear regression:\n",
    "    * just an x and y relationship\n",
    "    * residuals are the differences between the true value of y and the predicted value of y\n",
    "    * linear regression of a continuous variable is trying to minimize errors and find the line of best fit\n",
    "* multiple linear regression\n",
    "    * in most cases, we will have more than one independent variable\n",
    "    * $Y’i = b0 + b1X1i + b2X2i …$\n",
    "\n",
    "* Linear Regression with SKLearn\n",
    "    * SKLearn is the gold standard of ML in python\n",
    "\n",
    "#### Simple Linear Regression: _Commute Time and Income_"
   ]
  },
  {
   "cell_type": "code",
   "execution_count": 866,
   "metadata": {},
   "outputs": [
    {
     "data": {
      "image/png": "[encoded data removed]",
      "text/plain": [
       "<Figure size 360x360 with 1 Axes>"
      ]
     },
     "metadata": {},
     "output_type": "display_data"
    }
   ],
   "source": [
    "# time to work and income\n",
    "i = sns.lmplot(data=df,x=\"tiempo_trabajan\", y=\"ingreso\", x_estimator=np.mean, order = 2, line_kws={'color': 'teal'})\n",
    "i.set(xlabel = \"Commute Time\",ylabel = \"Income\", title = \"Relationship of Commute Time and Income\")\n",
    "plt.show()"
   ]
  },
  {
   "cell_type": "markdown",
   "metadata": {},
   "source": [
    "#### Simple Linear Regression & Density Plot: _Household Size and Income_"
   ]
  },
  {
   "cell_type": "code",
   "execution_count": 867,
   "metadata": {},
   "outputs": [
    {
     "data": {
      "image/png": "[encoded data removed]",
      "text/plain": [
       "<Figure size 360x360 with 1 Axes>"
      ]
     },
     "metadata": {},
     "output_type": "display_data"
    }
   ],
   "source": [
    "# simple linear regressions\n",
    "# income and family size\n",
    "g = sns.lmplot(data=df,x=\"cuantas_personas\", y=\"ingreso\", line_kws={'color': 'green'}, order = 2)\n",
    "g.set(xlabel = \"Household Size\",ylabel = \"Income\", title = \"Relationship of Household Size and Income\")\n",
    "plt.show()"
   ]
  },
  {
   "cell_type": "code",
   "execution_count": 868,
   "metadata": {},
   "outputs": [
    {
     "data": {
      "image/png": "[encoded data removed]",
      "text/plain": [
       "<Figure size 432x432 with 3 Axes>"
      ]
     },
     "metadata": {},
     "output_type": "display_data"
    }
   ],
   "source": [
    "# income and family size\n",
    "h = sns.jointplot(data = df, x = \"cuantas_personas\", y = \"ingreso\", kind = \"hex\", color = 'g')\n",
    "h.set_axis_labels(\"Household Size\", \"Income\")\n",
    "h.fig.suptitle(\"Relationship of Household Size and Income\")\n",
    "plt.show()"
   ]
  },
  {
   "cell_type": "markdown",
   "metadata": {},
   "source": [
    "#### Multiple Linear Regression: _Use All Variable to Predict Income_"
   ]
  },
  {
   "cell_type": "code",
   "execution_count": 869,
   "metadata": {},
   "outputs": [],
   "source": [
    "X = df_imp.drop(['ingreso', 'FAM_N','DIRECCION'], axis=1)\n",
    "Y = df_imp.loc[:,\"ingreso\"]"
   ]
  },
  {
   "cell_type": "code",
   "execution_count": 870,
   "metadata": {},
   "outputs": [
    {
     "name": "stdout",
     "output_type": "stream",
     "text": [
      "Intercept: \n",
      " 320.9620672785639\n",
      "Coefficients: \n",
      " [163.15173962 -18.25188791 274.74958991 -52.61154907 -12.00835403\n",
      "  31.05563008  -0.84002807   4.82869603  40.13516449  35.71019506\n",
      " -16.52464638   4.37632329  82.58582569 -26.55252095   9.92438813\n",
      "  16.61851182 -14.51156998 -34.99896275]\n",
      "                            OLS Regression Results                            \n",
      "==============================================================================\n",
      "Dep. Variable:                ingreso   R-squared:                       0.870\n",
      "Model:                            OLS   Adj. R-squared:                  0.864\n",
      "Method:                 Least Squares   F-statistic:                     141.8\n",
      "Date:                Sun, 25 Nov 2018   Prob (F-statistic):          1.34e-156\n",
      "Time:                        16:13:37   Log-Likelihood:                -2786.3\n",
      "No. Observations:                 400   AIC:                             5609.\n",
      "Df Residuals:                     382   BIC:                             5680.\n",
      "Df Model:                          18                                         \n",
      "Covariance Type:            nonrobust                                         \n",
      "====================================================================================\n",
      "                       coef    std err          t      P>|t|      [0.025      0.975]\n",
      "------------------------------------------------------------------------------------\n",
      "internet           168.5123     43.533      3.871      0.000      82.918     254.107\n",
      "agua                -9.7391     29.199     -0.334      0.739     -67.151      47.672\n",
      "banco              286.8782     75.562      3.797      0.000     138.308     435.448\n",
      "iglesia            -22.8956     42.061     -0.544      0.587    -105.595      59.804\n",
      "dejar_hijos         -6.6438     27.986     -0.237      0.812     -61.671      48.383\n",
      "cuantas_personas    31.2315     11.228      2.782      0.006       9.155      53.308\n",
      "tiempo_casa         -0.3994      1.650     -0.242      0.809      -3.644       2.845\n",
      "primer_hijo          8.9581      2.629      3.408      0.001       3.790      14.127\n",
      "cuantas_trabajan    46.8683     17.498      2.678      0.008      12.463      81.273\n",
      "tiempo_trabajan     45.0232     19.962      2.255      0.025       5.774      84.273\n",
      "pierden_colegio    -16.1359      6.479     -2.491      0.013     -28.875      -3.397\n",
      "bautizadas           6.4734      8.108      0.798      0.425      -9.468      22.415\n",
      "PADRE               88.6680     33.593      2.639      0.009      22.618     154.718\n",
      "MADRE              113.9980     61.336      1.859      0.064      -6.601     234.597\n",
      "F                   16.2763     22.085      0.737      0.462     -27.146      59.699\n",
      "M                   22.1235     21.995      1.006      0.315     -21.123      65.370\n",
      "NINOS              -16.5605     20.209     -0.819      0.413     -56.295      23.174\n",
      "MAYORES            -49.0266     61.781     -0.794      0.428    -170.499      72.446\n",
      "==============================================================================\n",
      "Omnibus:                       49.888   Durbin-Watson:                   1.358\n",
      "Prob(Omnibus):                  0.000   Jarque-Bera (JB):              177.911\n",
      "Skew:                           0.497   Prob(JB):                     2.33e-39\n",
      "Kurtosis:                       6.112   Cond. No.                         162.\n",
      "==============================================================================\n",
      "\n",
      "Warnings:\n",
      "[1] Standard Errors assume that the covariance matrix of the errors is correctly specified.\n"
     ]
    }
   ],
   "source": [
    "regr = linear_model.LinearRegression()\n",
    "regr.fit(X, Y)\n",
    "\n",
    "print('Intercept: \\n', regr.intercept_)\n",
    "print('Coefficients: \\n', regr.coef_)\n",
    " \n",
    "model = sm.OLS(Y, X).fit()\n",
    "predictions = model.predict(X) \n",
    " \n",
    "print_model = model.summary()\n",
    "print(print_model)"
   ]
  },
  {
   "cell_type": "markdown",
   "metadata": {},
   "source": [
    "Not stellar explanation of the variance in the model, however not too bad. Lets dive into the coefficients to see what we can learn about how we could predict income with such accuracy."
   ]
  },
  {
   "cell_type": "code",
   "execution_count": 877,
   "metadata": {},
   "outputs": [],
   "source": [
    "df_res_ml1 = df_imp\n",
    "df_res_ml1['ingreso_pred'] = list(predictions)"
   ]
  },
  {
   "cell_type": "code",
   "execution_count": 878,
   "metadata": {},
   "outputs": [],
   "source": [
    "df_res_ml1['ingreso_pred_diff'] = df_res_ml1['ingreso_pred'] - df_res_ml1['ingreso']"
   ]
  },
  {
   "cell_type": "code",
   "execution_count": 885,
   "metadata": {},
   "outputs": [
    {
     "data": {
      "image/png": "[encoded data removed]",
      "text/plain": [
       "<Figure size 432x288 with 1 Axes>"
      ]
     },
     "metadata": {},
     "output_type": "display_data"
    },
    {
     "name": "stdout",
     "output_type": "stream",
     "text": [
      "-3.93871809739682\n"
     ]
    }
   ],
   "source": [
    "# visualize how far are predictions were off\n",
    "plt.hist(df_res_ml1['ingreso_pred_diff'], bins = 15)\n",
    "plt.show()\n",
    "\n",
    "print(df_res_ml1['ingreso_pred_diff'].mean())"
   ]
  },
  {
   "cell_type": "code",
   "execution_count": 888,
   "metadata": {},
   "outputs": [
    {
     "data": {
      "text/plain": [
       "[168.5123285866964,\n",
       " -9.739116175004455,\n",
       " 286.87820228983526,\n",
       " -22.895619922372966,\n",
       " -6.643753738489577,\n",
       " 31.231511748552435,\n",
       " -0.39941978657239585,\n",
       " 8.958098672481078,\n",
       " 46.86825877449506,\n",
       " 45.02324959029899,\n",
       " -16.135928656670636,\n",
       " 6.473420555141129,\n",
       " 88.66803647151856,\n",
       " 113.99801011497526,\n",
       " 16.27631389106599,\n",
       " 22.12354408878158,\n",
       " -16.560514885368285,\n",
       " -49.02663825791331]"
      ]
     },
     "execution_count": 888,
     "metadata": {},
     "output_type": "execute_result"
    }
   ],
   "source": []
  },
  {
   "cell_type": "code",
   "execution_count": 891,
   "metadata": {},
   "outputs": [
    {
     "name": "stdout",
     "output_type": "stream",
     "text": [
      "----------------------------------\n",
      "Top 10 Factors Responsible for predicting whether income in household\n"
     ]
    },
    {
     "data": {
      "text/html": [
       "<div>\n",
       "<style scoped>\n",
       "    .dataframe tbody tr th:only-of-type {\n",
       "        vertical-align: middle;\n",
       "    }\n",
       "\n",
       "    .dataframe tbody tr th {\n",
       "        vertical-align: top;\n",
       "    }\n",
       "\n",
       "    .dataframe thead th {\n",
       "        text-align: right;\n",
       "    }\n",
       "</style>\n",
       "<table border=\"1\" class=\"dataframe\">\n",
       "  <thead>\n",
       "    <tr style=\"text-align: right;\">\n",
       "      <th></th>\n",
       "      <th>names</th>\n",
       "      <th>values</th>\n",
       "    </tr>\n",
       "  </thead>\n",
       "  <tbody>\n",
       "    <tr>\n",
       "      <th>2</th>\n",
       "      <td>banco</td>\n",
       "      <td>286.878202</td>\n",
       "    </tr>\n",
       "    <tr>\n",
       "      <th>0</th>\n",
       "      <td>internet</td>\n",
       "      <td>168.512329</td>\n",
       "    </tr>\n",
       "    <tr>\n",
       "      <th>13</th>\n",
       "      <td>MADRE</td>\n",
       "      <td>113.998010</td>\n",
       "    </tr>\n",
       "    <tr>\n",
       "      <th>12</th>\n",
       "      <td>bautizadas</td>\n",
       "      <td>88.668036</td>\n",
       "    </tr>\n",
       "    <tr>\n",
       "      <th>17</th>\n",
       "      <td>MAYORES</td>\n",
       "      <td>-49.026638</td>\n",
       "    </tr>\n",
       "    <tr>\n",
       "      <th>8</th>\n",
       "      <td>cuantas_trabajan</td>\n",
       "      <td>46.868259</td>\n",
       "    </tr>\n",
       "    <tr>\n",
       "      <th>9</th>\n",
       "      <td>tiempo_trabajan</td>\n",
       "      <td>45.023250</td>\n",
       "    </tr>\n",
       "    <tr>\n",
       "      <th>5</th>\n",
       "      <td>cuantas_personas</td>\n",
       "      <td>31.231512</td>\n",
       "    </tr>\n",
       "    <tr>\n",
       "      <th>3</th>\n",
       "      <td>iglesia</td>\n",
       "      <td>-22.895620</td>\n",
       "    </tr>\n",
       "    <tr>\n",
       "      <th>15</th>\n",
       "      <td>M</td>\n",
       "      <td>22.123544</td>\n",
       "    </tr>\n",
       "  </tbody>\n",
       "</table>\n",
       "</div>"
      ],
      "text/plain": [
       "               names      values\n",
       "2              banco  286.878202\n",
       "0           internet  168.512329\n",
       "13             MADRE  113.998010\n",
       "12        bautizadas   88.668036\n",
       "17           MAYORES  -49.026638\n",
       "8   cuantas_trabajan   46.868259\n",
       "9    tiempo_trabajan   45.023250\n",
       "5   cuantas_personas   31.231512\n",
       "3            iglesia  -22.895620\n",
       "15                 M   22.123544"
      ]
     },
     "execution_count": 891,
     "metadata": {},
     "output_type": "execute_result"
    }
   ],
   "source": [
    "# Those values, however, will show that the second parameter is more influential\n",
    "# consider the magnitude of its coefficient times the standard deviation of the corresponding parameter in the data.\n",
    "\n",
    "coefs = list(model.params)\n",
    "cols = list(feature_cols)\n",
    "mlr_coefs = pd.DataFrame({\"names\":cols, \"values\":coefs, \"absval\":np.absolute(coefs)}).sort_values('absval', ascending=False)\n",
    "print(\"----------------------------------\")\n",
    "print(\"Top 10 Factors Responsible for predicting whether income in household\")\n",
    "mlr_coefs.iloc[:,:2].head(10)\n"
   ]
  },
  {
   "cell_type": "markdown",
   "metadata": {},
   "source": [
    "Looking at the coefficients is a super important process for us as we attempt to consider options to improve the situations of those living in Pamplona Alta. This output is an incredibly intriguing output that does not offer a straightforward answer given what we've seen with the logistic regression analyses. \n",
    "\n",
    "We see, more strongly than ever that to have a bank account has a + S/286 increase on income; and that having internet has a + S/168 coefficient with income. The presence of the mother also plays a big part, but given that over 97% of homes have mothers in them, this statistic is a little tough to act on.\n",
    "\n",
    "Usually more people being baptized is associated with an increase of income, the more older members in the household actually has a negative coefficient with income. \n",
    "\n",
    "It is interesting to see that the more people who work in the house has only a meager + S/46.89 coefficient with income. This could suggest that earning power in most households is distinctly ordinal. There is a bread-winner and from there, every additional worker provides less income to the top line wealth of the household; mutin gthis coefficient. \n",
    "\n",
    "The last variable I find significant meaning is is the time from work. The model suggests, that there is an increase in household income the further someone has to travel from their work. This affirms our previous visualizations and beliefs that good jobs, are very far commutes from Pamplona Alta, and if someone wants to make decent money, little opportunty exists within Pamplona Alta."
   ]
  },
  {
   "cell_type": "markdown",
   "metadata": {},
   "source": [
    "### Normalize Data to Improve Model\n",
    "\n",
    "Now, this model is not too bad, but I think we can do better, lets see what model improvements we can do.\n",
    "\n",
    "1. Normalise your data, i.e., shift it to have a mean of zero, and a spread of 1 standard deviation\n",
    "2. Turn categorical data into variables via, e.g., OneHotEncoding\n",
    "3. Do feature engineering:\n",
    "     * Are my features collinear?\n",
    "     * Do any of my features have cross terms/higher-order terms?\n",
    "6. Regularisation of the features to reduce possible overfitting\n",
    "7. Look at alternative models given the underlying features and the aim of the project\n"
   ]
  },
  {
   "cell_type": "code",
   "execution_count": 789,
   "metadata": {},
   "outputs": [
    {
     "data": {
      "text/html": [
       "<div>\n",
       "<style scoped>\n",
       "    .dataframe tbody tr th:only-of-type {\n",
       "        vertical-align: middle;\n",
       "    }\n",
       "\n",
       "    .dataframe tbody tr th {\n",
       "        vertical-align: top;\n",
       "    }\n",
       "\n",
       "    .dataframe thead th {\n",
       "        text-align: right;\n",
       "    }\n",
       "</style>\n",
       "<table border=\"1\" class=\"dataframe\">\n",
       "  <thead>\n",
       "    <tr style=\"text-align: right;\">\n",
       "      <th></th>\n",
       "      <th>internet</th>\n",
       "      <th>agua</th>\n",
       "      <th>banco</th>\n",
       "      <th>iglesia</th>\n",
       "      <th>dejar_hijos</th>\n",
       "      <th>cuantas_personas</th>\n",
       "      <th>tiempo_casa</th>\n",
       "      <th>primer_hijo</th>\n",
       "      <th>cuantas_trabajan</th>\n",
       "      <th>tiempo_trabajan</th>\n",
       "      <th>pierden_colegio</th>\n",
       "      <th>ingreso</th>\n",
       "      <th>bautizadas</th>\n",
       "      <th>PADRE</th>\n",
       "      <th>MADRE</th>\n",
       "      <th>F</th>\n",
       "      <th>M</th>\n",
       "      <th>NINOS</th>\n",
       "      <th>MAYORES</th>\n",
       "    </tr>\n",
       "  </thead>\n",
       "  <tbody>\n",
       "    <tr>\n",
       "      <th>count</th>\n",
       "      <td>400.000000</td>\n",
       "      <td>400.000000</td>\n",
       "      <td>400.00000</td>\n",
       "      <td>400.000000</td>\n",
       "      <td>400.000000</td>\n",
       "      <td>400.00000</td>\n",
       "      <td>400.000000</td>\n",
       "      <td>400.000000</td>\n",
       "      <td>400.000000</td>\n",
       "      <td>400.000000</td>\n",
       "      <td>400.000000</td>\n",
       "      <td>400.000000</td>\n",
       "      <td>400.000000</td>\n",
       "      <td>400.000000</td>\n",
       "      <td>400.000000</td>\n",
       "      <td>400.000000</td>\n",
       "      <td>400.00000</td>\n",
       "      <td>400.000000</td>\n",
       "      <td>400.000000</td>\n",
       "    </tr>\n",
       "    <tr>\n",
       "      <th>mean</th>\n",
       "      <td>0.107500</td>\n",
       "      <td>0.700000</td>\n",
       "      <td>0.03500</td>\n",
       "      <td>0.887500</td>\n",
       "      <td>0.430000</td>\n",
       "      <td>5.23250</td>\n",
       "      <td>13.744500</td>\n",
       "      <td>20.987113</td>\n",
       "      <td>1.306329</td>\n",
       "      <td>1.169034</td>\n",
       "      <td>1.950847</td>\n",
       "      <td>648.975000</td>\n",
       "      <td>2.638122</td>\n",
       "      <td>0.560000</td>\n",
       "      <td>0.970000</td>\n",
       "      <td>2.660000</td>\n",
       "      <td>2.09000</td>\n",
       "      <td>2.767500</td>\n",
       "      <td>0.050000</td>\n",
       "    </tr>\n",
       "    <tr>\n",
       "      <th>std</th>\n",
       "      <td>0.310136</td>\n",
       "      <td>0.458831</td>\n",
       "      <td>0.18401</td>\n",
       "      <td>0.316376</td>\n",
       "      <td>0.495696</td>\n",
       "      <td>1.95525</td>\n",
       "      <td>8.730827</td>\n",
       "      <td>4.528090</td>\n",
       "      <td>0.800899</td>\n",
       "      <td>0.657752</td>\n",
       "      <td>2.093993</td>\n",
       "      <td>289.817719</td>\n",
       "      <td>1.773937</td>\n",
       "      <td>0.497009</td>\n",
       "      <td>0.170801</td>\n",
       "      <td>1.234183</td>\n",
       "      <td>1.23925</td>\n",
       "      <td>1.486259</td>\n",
       "      <td>0.229416</td>\n",
       "    </tr>\n",
       "    <tr>\n",
       "      <th>min</th>\n",
       "      <td>0.000000</td>\n",
       "      <td>0.000000</td>\n",
       "      <td>0.00000</td>\n",
       "      <td>0.000000</td>\n",
       "      <td>0.000000</td>\n",
       "      <td>0.00000</td>\n",
       "      <td>0.200000</td>\n",
       "      <td>1.000000</td>\n",
       "      <td>0.000000</td>\n",
       "      <td>0.000000</td>\n",
       "      <td>0.000000</td>\n",
       "      <td>0.000000</td>\n",
       "      <td>0.000000</td>\n",
       "      <td>0.000000</td>\n",
       "      <td>0.000000</td>\n",
       "      <td>0.000000</td>\n",
       "      <td>0.00000</td>\n",
       "      <td>0.000000</td>\n",
       "      <td>0.000000</td>\n",
       "    </tr>\n",
       "    <tr>\n",
       "      <th>25%</th>\n",
       "      <td>0.000000</td>\n",
       "      <td>0.000000</td>\n",
       "      <td>0.00000</td>\n",
       "      <td>1.000000</td>\n",
       "      <td>0.000000</td>\n",
       "      <td>4.00000</td>\n",
       "      <td>6.000000</td>\n",
       "      <td>18.000000</td>\n",
       "      <td>1.000000</td>\n",
       "      <td>0.750000</td>\n",
       "      <td>1.000000</td>\n",
       "      <td>450.000000</td>\n",
       "      <td>2.000000</td>\n",
       "      <td>0.000000</td>\n",
       "      <td>1.000000</td>\n",
       "      <td>2.000000</td>\n",
       "      <td>1.00000</td>\n",
       "      <td>2.000000</td>\n",
       "      <td>0.000000</td>\n",
       "    </tr>\n",
       "    <tr>\n",
       "      <th>50%</th>\n",
       "      <td>0.000000</td>\n",
       "      <td>1.000000</td>\n",
       "      <td>0.00000</td>\n",
       "      <td>1.000000</td>\n",
       "      <td>0.000000</td>\n",
       "      <td>5.00000</td>\n",
       "      <td>15.000000</td>\n",
       "      <td>20.000000</td>\n",
       "      <td>1.000000</td>\n",
       "      <td>1.000000</td>\n",
       "      <td>1.950847</td>\n",
       "      <td>690.000000</td>\n",
       "      <td>2.638122</td>\n",
       "      <td>1.000000</td>\n",
       "      <td>1.000000</td>\n",
       "      <td>3.000000</td>\n",
       "      <td>2.00000</td>\n",
       "      <td>3.000000</td>\n",
       "      <td>0.000000</td>\n",
       "    </tr>\n",
       "    <tr>\n",
       "      <th>75%</th>\n",
       "      <td>0.000000</td>\n",
       "      <td>1.000000</td>\n",
       "      <td>0.00000</td>\n",
       "      <td>1.000000</td>\n",
       "      <td>1.000000</td>\n",
       "      <td>6.00000</td>\n",
       "      <td>18.000000</td>\n",
       "      <td>23.000000</td>\n",
       "      <td>1.000000</td>\n",
       "      <td>1.500000</td>\n",
       "      <td>2.000000</td>\n",
       "      <td>850.000000</td>\n",
       "      <td>4.000000</td>\n",
       "      <td>1.000000</td>\n",
       "      <td>1.000000</td>\n",
       "      <td>3.000000</td>\n",
       "      <td>3.00000</td>\n",
       "      <td>4.000000</td>\n",
       "      <td>0.000000</td>\n",
       "    </tr>\n",
       "    <tr>\n",
       "      <th>max</th>\n",
       "      <td>1.000000</td>\n",
       "      <td>1.000000</td>\n",
       "      <td>1.00000</td>\n",
       "      <td>1.000000</td>\n",
       "      <td>1.000000</td>\n",
       "      <td>15.00000</td>\n",
       "      <td>50.000000</td>\n",
       "      <td>38.000000</td>\n",
       "      <td>7.000000</td>\n",
       "      <td>3.000000</td>\n",
       "      <td>22.000000</td>\n",
       "      <td>2080.000000</td>\n",
       "      <td>10.000000</td>\n",
       "      <td>1.000000</td>\n",
       "      <td>1.000000</td>\n",
       "      <td>8.000000</td>\n",
       "      <td>6.00000</td>\n",
       "      <td>8.000000</td>\n",
       "      <td>2.000000</td>\n",
       "    </tr>\n",
       "  </tbody>\n",
       "</table>\n",
       "</div>"
      ],
      "text/plain": [
       "         internet        agua      banco     iglesia  dejar_hijos  \\\n",
       "count  400.000000  400.000000  400.00000  400.000000   400.000000   \n",
       "mean     0.107500    0.700000    0.03500    0.887500     0.430000   \n",
       "std      0.310136    0.458831    0.18401    0.316376     0.495696   \n",
       "min      0.000000    0.000000    0.00000    0.000000     0.000000   \n",
       "25%      0.000000    0.000000    0.00000    1.000000     0.000000   \n",
       "50%      0.000000    1.000000    0.00000    1.000000     0.000000   \n",
       "75%      0.000000    1.000000    0.00000    1.000000     1.000000   \n",
       "max      1.000000    1.000000    1.00000    1.000000     1.000000   \n",
       "\n",
       "       cuantas_personas  tiempo_casa  primer_hijo  cuantas_trabajan  \\\n",
       "count         400.00000   400.000000   400.000000        400.000000   \n",
       "mean            5.23250    13.744500    20.987113          1.306329   \n",
       "std             1.95525     8.730827     4.528090          0.800899   \n",
       "min             0.00000     0.200000     1.000000          0.000000   \n",
       "25%             4.00000     6.000000    18.000000          1.000000   \n",
       "50%             5.00000    15.000000    20.000000          1.000000   \n",
       "75%             6.00000    18.000000    23.000000          1.000000   \n",
       "max            15.00000    50.000000    38.000000          7.000000   \n",
       "\n",
       "       tiempo_trabajan  pierden_colegio      ingreso  bautizadas       PADRE  \\\n",
       "count       400.000000       400.000000   400.000000  400.000000  400.000000   \n",
       "mean          1.169034         1.950847   648.975000    2.638122    0.560000   \n",
       "std           0.657752         2.093993   289.817719    1.773937    0.497009   \n",
       "min           0.000000         0.000000     0.000000    0.000000    0.000000   \n",
       "25%           0.750000         1.000000   450.000000    2.000000    0.000000   \n",
       "50%           1.000000         1.950847   690.000000    2.638122    1.000000   \n",
       "75%           1.500000         2.000000   850.000000    4.000000    1.000000   \n",
       "max           3.000000        22.000000  2080.000000   10.000000    1.000000   \n",
       "\n",
       "            MADRE           F          M       NINOS     MAYORES  \n",
       "count  400.000000  400.000000  400.00000  400.000000  400.000000  \n",
       "mean     0.970000    2.660000    2.09000    2.767500    0.050000  \n",
       "std      0.170801    1.234183    1.23925    1.486259    0.229416  \n",
       "min      0.000000    0.000000    0.00000    0.000000    0.000000  \n",
       "25%      1.000000    2.000000    1.00000    2.000000    0.000000  \n",
       "50%      1.000000    3.000000    2.00000    3.000000    0.000000  \n",
       "75%      1.000000    3.000000    3.00000    4.000000    0.000000  \n",
       "max      1.000000    8.000000    6.00000    8.000000    2.000000  "
      ]
     },
     "execution_count": 789,
     "metadata": {},
     "output_type": "execute_result"
    }
   ],
   "source": [
    "df_imp.describe()"
   ]
  },
  {
   "cell_type": "code",
   "execution_count": 790,
   "metadata": {},
   "outputs": [
    {
     "data": {
      "text/plain": [
       "FAM_N               category\n",
       "internet             float64\n",
       "agua                 float64\n",
       "banco                float64\n",
       "iglesia              float64\n",
       "dejar_hijos          float64\n",
       "cuantas_personas       int64\n",
       "tiempo_casa          float64\n",
       "primer_hijo          float64\n",
       "cuantas_trabajan     float64\n",
       "tiempo_trabajan      float64\n",
       "pierden_colegio      float64\n",
       "ingreso              float64\n",
       "bautizadas           float64\n",
       "DIRECCION           category\n",
       "PADRE                float64\n",
       "MADRE                float64\n",
       "F                    float64\n",
       "M                    float64\n",
       "NINOS                float64\n",
       "MAYORES              float64\n",
       "dtype: object"
      ]
     },
     "execution_count": 790,
     "metadata": {},
     "output_type": "execute_result"
    }
   ],
   "source": [
    "df_imp.dtypes"
   ]
  },
  {
   "cell_type": "code",
   "execution_count": 813,
   "metadata": {},
   "outputs": [],
   "source": [
    "# convert float of binaries to integers\n",
    "w = ['internet','agua','banco','iglesia','dejar_hijos','PADRE','MADRE']\n",
    "df_imp.loc[:,w] = df_imp.loc[:,w].astype('int')"
   ]
  },
  {
   "cell_type": "code",
   "execution_count": 792,
   "metadata": {},
   "outputs": [],
   "source": [
    "# convert floats to z score of float for normalization\n",
    "#z = ['cuantas_personas','tiempo_casa','primer_hijo','cuantas_trabajan','tiempo_trabajan','pierden_colegio','ingreso','bautizadas','F','M','NINOS','MAYORES']\n",
    "#df_imp.loc[:,z] = df_imp.loc[:,z].apply(zscore)     "
   ]
  },
  {
   "cell_type": "code",
   "execution_count": 814,
   "metadata": {},
   "outputs": [],
   "source": [
    "z = ['cuantas_personas','tiempo_casa','primer_hijo','cuantas_trabajan','tiempo_trabajan','pierden_colegio','ingreso','bautizadas','F','M','NINOS','MAYORES']\n",
    "\n",
    "for i in z:\n",
    "    # = (df_imp.loc[:,i]-df_imp.loc[:,i].mean())/df_imp.loc[:,i].std()\n",
    "    df_imp.loc[:,i] = (df_imp.loc[:,i]-df_imp.loc[:,i].min())/(df_imp.loc[:,i].max()-df_imp.loc[:,i].min())\n"
   ]
  },
  {
   "cell_type": "code",
   "execution_count": 815,
   "metadata": {},
   "outputs": [
    {
     "data": {
      "text/html": [
       "<div>\n",
       "<style scoped>\n",
       "    .dataframe tbody tr th:only-of-type {\n",
       "        vertical-align: middle;\n",
       "    }\n",
       "\n",
       "    .dataframe tbody tr th {\n",
       "        vertical-align: top;\n",
       "    }\n",
       "\n",
       "    .dataframe thead th {\n",
       "        text-align: right;\n",
       "    }\n",
       "</style>\n",
       "<table border=\"1\" class=\"dataframe\">\n",
       "  <thead>\n",
       "    <tr style=\"text-align: right;\">\n",
       "      <th></th>\n",
       "      <th>FAM_N</th>\n",
       "      <th>internet</th>\n",
       "      <th>agua</th>\n",
       "      <th>banco</th>\n",
       "      <th>iglesia</th>\n",
       "      <th>dejar_hijos</th>\n",
       "      <th>cuantas_personas</th>\n",
       "      <th>tiempo_casa</th>\n",
       "      <th>primer_hijo</th>\n",
       "      <th>cuantas_trabajan</th>\n",
       "      <th>...</th>\n",
       "      <th>pierden_colegio</th>\n",
       "      <th>ingreso</th>\n",
       "      <th>bautizadas</th>\n",
       "      <th>DIRECCION</th>\n",
       "      <th>PADRE</th>\n",
       "      <th>MADRE</th>\n",
       "      <th>F</th>\n",
       "      <th>M</th>\n",
       "      <th>NINOS</th>\n",
       "      <th>MAYORES</th>\n",
       "    </tr>\n",
       "  </thead>\n",
       "  <tbody>\n",
       "    <tr>\n",
       "      <th>0</th>\n",
       "      <td>792.0</td>\n",
       "      <td>1</td>\n",
       "      <td>0</td>\n",
       "      <td>1</td>\n",
       "      <td>0</td>\n",
       "      <td>0</td>\n",
       "      <td>0.533333</td>\n",
       "      <td>1.000000</td>\n",
       "      <td>0.513514</td>\n",
       "      <td>0.428571</td>\n",
       "      <td>...</td>\n",
       "      <td>0.088675</td>\n",
       "      <td>0.961538</td>\n",
       "      <td>0.6</td>\n",
       "      <td>OTRO CASO</td>\n",
       "      <td>0</td>\n",
       "      <td>1</td>\n",
       "      <td>0.625</td>\n",
       "      <td>0.666667</td>\n",
       "      <td>0.375</td>\n",
       "      <td>0.0</td>\n",
       "    </tr>\n",
       "    <tr>\n",
       "      <th>1</th>\n",
       "      <td>791.0</td>\n",
       "      <td>0</td>\n",
       "      <td>1</td>\n",
       "      <td>1</td>\n",
       "      <td>0</td>\n",
       "      <td>1</td>\n",
       "      <td>0.666667</td>\n",
       "      <td>0.397590</td>\n",
       "      <td>0.486486</td>\n",
       "      <td>0.285714</td>\n",
       "      <td>...</td>\n",
       "      <td>0.088675</td>\n",
       "      <td>0.961538</td>\n",
       "      <td>1.0</td>\n",
       "      <td>OTRO CASO</td>\n",
       "      <td>0</td>\n",
       "      <td>1</td>\n",
       "      <td>0.250</td>\n",
       "      <td>0.666667</td>\n",
       "      <td>0.625</td>\n",
       "      <td>0.0</td>\n",
       "    </tr>\n",
       "    <tr>\n",
       "      <th>3</th>\n",
       "      <td>793.0</td>\n",
       "      <td>0</td>\n",
       "      <td>1</td>\n",
       "      <td>1</td>\n",
       "      <td>1</td>\n",
       "      <td>1</td>\n",
       "      <td>0.400000</td>\n",
       "      <td>0.002008</td>\n",
       "      <td>0.540541</td>\n",
       "      <td>0.428571</td>\n",
       "      <td>...</td>\n",
       "      <td>0.088675</td>\n",
       "      <td>0.576923</td>\n",
       "      <td>0.3</td>\n",
       "      <td>OTRO CASO</td>\n",
       "      <td>1</td>\n",
       "      <td>1</td>\n",
       "      <td>0.375</td>\n",
       "      <td>0.500000</td>\n",
       "      <td>0.250</td>\n",
       "      <td>0.0</td>\n",
       "    </tr>\n",
       "    <tr>\n",
       "      <th>4</th>\n",
       "      <td>234.0</td>\n",
       "      <td>0</td>\n",
       "      <td>1</td>\n",
       "      <td>0</td>\n",
       "      <td>1</td>\n",
       "      <td>1</td>\n",
       "      <td>0.200000</td>\n",
       "      <td>0.357430</td>\n",
       "      <td>0.540541</td>\n",
       "      <td>0.142857</td>\n",
       "      <td>...</td>\n",
       "      <td>0.088675</td>\n",
       "      <td>0.192308</td>\n",
       "      <td>0.2</td>\n",
       "      <td>OTRO CASO</td>\n",
       "      <td>0</td>\n",
       "      <td>1</td>\n",
       "      <td>0.375</td>\n",
       "      <td>0.000000</td>\n",
       "      <td>0.250</td>\n",
       "      <td>0.0</td>\n",
       "    </tr>\n",
       "    <tr>\n",
       "      <th>5</th>\n",
       "      <td>794.0</td>\n",
       "      <td>0</td>\n",
       "      <td>0</td>\n",
       "      <td>0</td>\n",
       "      <td>1</td>\n",
       "      <td>0</td>\n",
       "      <td>0.266667</td>\n",
       "      <td>0.056225</td>\n",
       "      <td>0.513514</td>\n",
       "      <td>0.142857</td>\n",
       "      <td>...</td>\n",
       "      <td>0.090909</td>\n",
       "      <td>0.432692</td>\n",
       "      <td>0.0</td>\n",
       "      <td>OTRO CASO</td>\n",
       "      <td>1</td>\n",
       "      <td>1</td>\n",
       "      <td>0.250</td>\n",
       "      <td>0.333333</td>\n",
       "      <td>0.250</td>\n",
       "      <td>0.0</td>\n",
       "    </tr>\n",
       "  </tbody>\n",
       "</table>\n",
       "<p>5 rows × 21 columns</p>\n",
       "</div>"
      ],
      "text/plain": [
       "   FAM_N  internet  agua  banco  iglesia  dejar_hijos  cuantas_personas  \\\n",
       "0  792.0         1     0      1        0            0          0.533333   \n",
       "1  791.0         0     1      1        0            1          0.666667   \n",
       "3  793.0         0     1      1        1            1          0.400000   \n",
       "4  234.0         0     1      0        1            1          0.200000   \n",
       "5  794.0         0     0      0        1            0          0.266667   \n",
       "\n",
       "   tiempo_casa  primer_hijo  cuantas_trabajan   ...     pierden_colegio  \\\n",
       "0     1.000000     0.513514          0.428571   ...            0.088675   \n",
       "1     0.397590     0.486486          0.285714   ...            0.088675   \n",
       "3     0.002008     0.540541          0.428571   ...            0.088675   \n",
       "4     0.357430     0.540541          0.142857   ...            0.088675   \n",
       "5     0.056225     0.513514          0.142857   ...            0.090909   \n",
       "\n",
       "    ingreso  bautizadas  DIRECCION PADRE  MADRE      F         M  NINOS  \\\n",
       "0  0.961538         0.6  OTRO CASO     0      1  0.625  0.666667  0.375   \n",
       "1  0.961538         1.0  OTRO CASO     0      1  0.250  0.666667  0.625   \n",
       "3  0.576923         0.3  OTRO CASO     1      1  0.375  0.500000  0.250   \n",
       "4  0.192308         0.2  OTRO CASO     0      1  0.375  0.000000  0.250   \n",
       "5  0.432692         0.0  OTRO CASO     1      1  0.250  0.333333  0.250   \n",
       "\n",
       "   MAYORES  \n",
       "0      0.0  \n",
       "1      0.0  \n",
       "3      0.0  \n",
       "4      0.0  \n",
       "5      0.0  \n",
       "\n",
       "[5 rows x 21 columns]"
      ]
     },
     "execution_count": 815,
     "metadata": {},
     "output_type": "execute_result"
    }
   ],
   "source": [
    "df_imp.head()"
   ]
  },
  {
   "cell_type": "markdown",
   "metadata": {},
   "source": [
    "### Run model Again with z-score normalized data"
   ]
  },
  {
   "cell_type": "code",
   "execution_count": 816,
   "metadata": {},
   "outputs": [],
   "source": [
    "X = df_imp.drop(['ingreso', 'FAM_N','DIRECCION'], axis=1)\n",
    "Y = df_imp.loc[:,\"ingreso\"]"
   ]
  },
  {
   "cell_type": "code",
   "execution_count": 817,
   "metadata": {},
   "outputs": [
    {
     "name": "stdout",
     "output_type": "stream",
     "text": [
      "Intercept: \n",
      " 0.1565494027397385\n",
      "Coefficients: \n",
      " [ 0.07843834 -0.00877495  0.13209115 -0.02529401 -0.00577325  0.22395887\n",
      " -0.02011221  0.08589507  0.13507027  0.05150509 -0.17477991  0.02104002\n",
      "  0.03970472 -0.01276564  0.03817072  0.04793801 -0.05581373 -0.03365285]\n",
      "                            OLS Regression Results                            \n",
      "==============================================================================\n",
      "Dep. Variable:                ingreso   R-squared:                       0.870\n",
      "Model:                            OLS   Adj. R-squared:                  0.864\n",
      "Method:                 Least Squares   F-statistic:                     141.6\n",
      "Date:                Sun, 25 Nov 2018   Prob (F-statistic):          1.65e-156\n",
      "Time:                        16:07:39   Log-Likelihood:                 269.56\n",
      "No. Observations:                 400   AIC:                            -503.1\n",
      "Df Residuals:                     382   BIC:                            -431.3\n",
      "Df Model:                          18                                         \n",
      "Covariance Type:            nonrobust                                         \n",
      "====================================================================================\n",
      "                       coef    std err          t      P>|t|      [0.025      0.975]\n",
      "------------------------------------------------------------------------------------\n",
      "internet             0.0811      0.021      3.874      0.000       0.040       0.122\n",
      "agua                -0.0045      0.014     -0.319      0.750      -0.032       0.023\n",
      "banco                0.1380      0.036      3.796      0.000       0.067       0.209\n",
      "iglesia             -0.0102      0.020     -0.506      0.613      -0.050       0.029\n",
      "dejar_hijos         -0.0030      0.013     -0.226      0.821      -0.030       0.023\n",
      "cuantas_personas     0.2252      0.081      2.780      0.006       0.066       0.384\n",
      "tiempo_casa         -0.0092      0.040     -0.233      0.816      -0.087       0.069\n",
      "primer_hijo          0.1585      0.047      3.346      0.001       0.065       0.252\n",
      "cuantas_trabajan     0.1583      0.059      2.686      0.008       0.042       0.274\n",
      "tiempo_trabajan      0.0656      0.029      2.280      0.023       0.009       0.122\n",
      "pierden_colegio     -0.1701      0.069     -2.482      0.014      -0.305      -0.035\n",
      "bautizadas           0.0316      0.039      0.810      0.418      -0.045       0.108\n",
      "PADRE                0.0428      0.016      2.651      0.008       0.011       0.075\n",
      "MADRE                0.0574      0.029      1.963      0.050      -0.000       0.115\n",
      "F                    0.0639      0.085      0.752      0.453      -0.103       0.231\n",
      "M                    0.0647      0.063      1.019      0.309      -0.060       0.189\n",
      "NINOS               -0.0646      0.078     -0.831      0.407      -0.217       0.088\n",
      "MAYORES             -0.0475      0.059     -0.799      0.425      -0.164       0.069\n",
      "==============================================================================\n",
      "Omnibus:                       49.654   Durbin-Watson:                   1.358\n",
      "Prob(Omnibus):                  0.000   Jarque-Bera (JB):              176.707\n",
      "Skew:                           0.495   Prob(JB):                     4.25e-39\n",
      "Kurtosis:                       6.102   Cond. No.                         39.3\n",
      "==============================================================================\n",
      "\n",
      "Warnings:\n",
      "[1] Standard Errors assume that the covariance matrix of the errors is correctly specified.\n"
     ]
    }
   ],
   "source": [
    "regr = linear_model.LinearRegression()\n",
    "regr.fit(X, Y)\n",
    "\n",
    "print('Intercept: \\n', regr.intercept_)\n",
    "print('Coefficients: \\n', regr.coef_)\n",
    " \n",
    "model = sm.OLS(Y, X).fit()\n",
    "predictions = model.predict(X) \n",
    " \n",
    "print_model = model.summary()\n",
    "print(print_model)"
   ]
  },
  {
   "cell_type": "markdown",
   "metadata": {},
   "source": [
    "Interesting, with min/max normalization we attained the exact same r squared value, with the only change being to minuscule changes to the f-statistic. We may have to explore more options into improving the continuous variable prediction of income model."
   ]
  },
  {
   "cell_type": "code",
   "execution_count": 17,
   "metadata": {},
   "outputs": [],
   "source": [
    "# decision tree"
   ]
  },
  {
   "cell_type": "code",
   "execution_count": 18,
   "metadata": {},
   "outputs": [],
   "source": [
    "# random forest"
   ]
  },
  {
   "cell_type": "code",
   "execution_count": 19,
   "metadata": {},
   "outputs": [],
   "source": [
    "# variable importance"
   ]
  },
  {
   "cell_type": "code",
   "execution_count": 20,
   "metadata": {},
   "outputs": [],
   "source": [
    "# ensemble modeling"
   ]
  },
  {
   "cell_type": "code",
   "execution_count": 21,
   "metadata": {},
   "outputs": [],
   "source": [
    "# root cause analysis"
   ]
  },
  {
   "cell_type": "code",
   "execution_count": 22,
   "metadata": {},
   "outputs": [],
   "source": [
    "# hierarchical cluster analysis"
   ]
  },
  {
   "cell_type": "code",
   "execution_count": 23,
   "metadata": {},
   "outputs": [],
   "source": [
    "# k-means cluster analysis"
   ]
  },
  {
   "cell_type": "code",
   "execution_count": 24,
   "metadata": {},
   "outputs": [],
   "source": [
    "# putting it all together\n",
    "    # visualizations\n",
    "    # important factors and indicators\n",
    "    # groups\n",
    "    # priority associated to neighborhoods\n",
    "    # master dataset\n",
    "    # conclusion, way forward"
   ]
  },
  {
   "cell_type": "markdown",
   "metadata": {},
   "source": [
    "Solution Ideas:\n",
    "* Support men\n",
    "    * How do we help keep men in the household? Because they are better top-line earners and provide significant strength to the family income in a way that allows them to also support bigger families.\n",
    "\n",
    "* Abuelos y Ninos:\n",
    "    * Provide support to families with multiple older family members\n",
    "    * What are the largest obstacles faced by those with long commutes? How could we provide assistance to them in the way of childcare home support so they can go work better paying jobs in the city? What are those jobs? What skills do they require?\n",
    "    * Could we provide a service to where one could serve the other here????\n",
    "\n",
    "* Finance & Information\n",
    "    * Internet and bank accounts are massive indicators of increased wealth, and yes causality is not perfectly determined; however providing education on the usefulness of these resources with the correct connections; along with the psychological efffect of financial planning. Not to mention ending people working only in the dark economy; this gives us further leverage for the government helping people more in the shantytowns by proving their credit/societal worthiness."
   ]
  },
  {
   "cell_type": "code",
   "execution_count": null,
   "metadata": {},
   "outputs": [],
   "source": []
  }
 ],
 "metadata": {
  "kernelspec": {
   "display_name": "Python 3",
   "language": "python",
   "name": "python3"
  },
  "language_info": {
   "codemirror_mode": {
    "name": "ipython",
    "version": 3
   },
   "file_extension": ".py",
   "mimetype": "text/x-python",
   "name": "python",
   "nbconvert_exporter": "python",
   "pygments_lexer": "ipython3",
   "version": "3.6.4"
  }
 },
 "nbformat": 4,
 "nbformat_minor": 2
}
