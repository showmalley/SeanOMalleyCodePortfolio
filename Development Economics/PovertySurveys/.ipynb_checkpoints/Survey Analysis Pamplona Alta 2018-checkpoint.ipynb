{
 "cells": [
  {
   "cell_type": "markdown",
   "metadata": {},
   "source": [
    "## Poverty Assessment: Pamplona Alta\n",
    "### Caja del Amor Survey Results\n",
    "### Sean O'Malley"
   ]
  },
  {
   "cell_type": "markdown",
   "metadata": {},
   "source": [
    "#### Project\n",
    "\n",
    "Every year, in partnership with the Solidaridad en Marcha, Catholic churches throughout the city of Lima, Peru deliver thousands of Christmas gift boxes to the poorest residents in the city. The campaign, called Caja Del Amor, has been in operation for years and has subsequently built long-term and well-sustained relationships with many community leaders in these areas. \n",
    "\n",
    "\n",
    "The list of gift recipients is built in coordination with the local community leaders, most of whom oversee around 150 families. These leaders choose the 5 to 10 families in most need of assistance in their respective community to receive the gift boxes.\n",
    "\n",
    "\n",
    "These networks served as a point of strength when we began to explore the creation of an in-depth survey to better understand the poorest urban populations in Peru. However, our focus needed to also be on action-ability of insight and the concrete opportunity of enacting positive change in the lives those we surveyed. \n",
    "\n",
    "\n",
    "Therefore, we decided to focus on a region of high need, and an area where Solidaridad en Marcha had a significant footprint. This process of elimination lead us to the region of Pamplona Alta near the San Juan de Miraflores municipality of Lima."
   ]
  },
  {
   "cell_type": "markdown",
   "metadata": {},
   "source": [
    "#### Understand Pamplona Alta\n",
    "\n",
    "Pamplona Alta is a shanty town riddled with extreme poverty, it has an absence of infrastructure, and a large portion of its community is without access to many basic human needs. The region has no public works, no paved roads, no public electricity, nor public access to water and sewage. If these services exist at all, they are provided by private companies at a premium price.\n",
    "\n",
    "\n",
    "Water trucks provide the only (non-drinkable) water and they often cannot access many of the homes, especially in the upper portions of the region. Shallow latrines serve as a poor substitute for sewage and along with the pig farms, contribute to a high rate of parasitic infections, particularly among children.\n",
    "\n",
    "\n",
    "The area was first populated in the 1990’s as a result of a decade of terrorism that affected the entire country of Peru. During that period, populations from the surrounding regions began a mass migration to the outskirts of Lima, leaving the lives they knew to find safety in the proximity of the city. Many only spoke Quechua, few had employment for years after arrival, and none of these new residents owned the land on the edge of Lima where they would now call home.\n",
    "\n",
    "In the opinion of many close to the matter, it has predominantly been this issue of land ownership that has ensured the continued impoverishment of the people of Pamplona Alta. Why land ownership? Well, owning the land is necessary, according to the government of Peru, for those in Pamplona Alta to receive basic municipal services. In order to attain roads, plumbing, water, schools and many other basic human needs, they must first own the land on which their homes sit.\n",
    "\n",
    "The land is rocky, mountainous and un-arable, yet to the people of Pamplona Alta, it is home. Inside of this difficult landscape, there are two prevailing realities: those who squatted on public land and those who squatted on private land.\n",
    "\n",
    "The valleys of this mountainous region were owned predominantly by pig farmers upon arrival, and even today many families live side by side to pigs in the lower part of Pamplona Alta. The owners of the land have lacked the resources to forcibly evict their unwanted tenants since their arrival, yet these tenants have now called Pamplona Alta home for over 20 years and despite their best hopes, still, have a nearly impossible chance of owning the land on which their homes sit. As a result, many of these structures lack stewardship, the inability to own does not reasonably warrant investment and in turn, the homes exist in squalor.\n",
    "\n",
    "\n",
    "The story of those in the upper mountain portions of Pamplona Alta is a different, yet only a slightly less dire narrative. For people who have built their homes on government-owned land, ownership is possible, however, only after a laundry list of nearly impossible requirements, given by the government of Peru, is achieved. Land ownership is possible to those who squatted on government land if they have: \n",
    "\n",
    "*\tbeen there for longer than 5 years\n",
    "*\taccess to water\n",
    "*\taccess to electricity\n",
    "*\tsafe access to home\n",
    "*\tcommunity centers/parks within close proximity of their house\n",
    "\n",
    "\n",
    "In practice, the government of Peru is asking the poorest and least advantaged people in their country to not only sustain life on a few dollars a day, but also build a road to create access for a privately priced water truck to get to their home, to pay to bring privately priced electricity to their home, to build community centers and to construct safe access to their homes from the bottom of the mountain. \n",
    "\n",
    "This task is absolutely impossible on their own, and organizations like Solidaridad en Marcha have helped make home ownership a reality to some of the people of Pamplona Alta, however, this battle is still uphill, and full of rocks and mud.\n",
    "\n",
    "The subsequent reality for the people of Pamplona Alta is that their children are frequently sick, their jobs are too far away, their under-education is inevitable, many families are broken and the lack of government support ensures the existence of a dark economy, thus extending their lack of access to upward mobility. \n",
    "\n",
    "Deeper than these economic indicators of poverty, the people of Pamplona suffer from the poverty of dignity. Many members refer to themselves as “the forgotten ones,” election promises come and go without much change and through the confusing red tape and legalities, they still find themselves without access to basic human needs."
   ]
  },
  {
   "cell_type": "markdown",
   "metadata": {},
   "source": [
    "#### Data\n",
    "\n",
    "Understanding the many facets of those in Pamplona Alta was integral in the way we built our survey, the questions we asked, and the way we asked them. We raised some questions that we heuristically had an intuitive idea of the answer, but needed to understand the severity. Yet, others we asked in order to gain insight into the tools we may have available to us within our solution set. \n",
    "\n",
    "Lastly, we inquired of economic indicators, religious factors and family structure. All intended to paint a picture of the lives of those in Pamplona Alta and to possibly determine causality between the various characteristics.  \n",
    "\n",
    "We were able to fully survey over 500 families and after extracting all personably identifiable data, we built a dataset that held great potential for a greater understanding of the lives of those in Pamplona Alta and the possible routes available to help them.\n",
    "\n",
    "The completed dataset built from the original survey contains 21 variables and 507 observations of which to explore, visualize and perform analysis on. The complete dataset can be found on my GitHub account, here. Also note, for binary variables, 1 is yes and 0 is no.\n",
    "\n",
    "1.\t__fam_n__\t– _numeric factor_ – Unique identifier for each family.\n",
    "2.\t__internet__ – _binary_ – Does your phone have internet?\n",
    "3.\t__agua__ –\t_binary_ – Can the water truck get to your house?\n",
    "4.\t__banco__ – _binary_ – Do you have a bank account?\n",
    "5.\t__iglesia__ – _binary_ – Do you go to church at least once a month?\n",
    "6.\t__dejar_hijos__ –  _binary_ – Do you leave your children home alone (when you go to work)?\n",
    "7.\t__cuantas_personas__ – _numeric_ – How many people live in your house?\n",
    "8.\t__tiempo_casa__ – _numeric_ – How long have you lived in your house?\n",
    "9.\t__primer_hijo__ – _numeric_ – At what age did you have your first child?\n",
    "10.\t__cuantas_trabajan__ – _numeric_ – How many people in your house work?\n",
    "11.\t__tiempo_trabajan__ – _numeric_ – How long does it take to get to your job?\t\n",
    "12.\t__pierden_colegio__ – _numeric_ – How many days a month do your children miss school?\n",
    "13.\t__ingreso__ – _numeric_ – What is your monthly household income?\n",
    "14.\t__bautizadas__ – _numeric_ – How many people in your family are baptized?\n",
    "15.\t__direccion__ – _character factor_ – Name of neighborhood.\n",
    "16.\t__padre__ – _binary_ – Does the father of the children live in the home?\n",
    "17.\t__madre__ – _binary_ – Does the mother of the children live in the home?\n",
    "18.\t__F__ – _numeric_ – Count of females in the home.\n",
    "19.\t__M__ – _numeric_ – Count of males in the home.\n",
    "20.\t__niños__ – _numeric_ – Count of children 18 and younger in the home.\n",
    "21.\t__mayores__ – _numeric_ – Count of adults 65 and older in the home.\n",
    "\n",
    "Months of conversations, meetings, reading and collaboration with community members came into building this survey. Qualitative analysis helped us produce a dataset that has the potential to perform multiple quantitative analyses that are relevant and informed; and it is from this point that we will now follow the flow of a data science analysis. "
   ]
  },
  {
   "cell_type": "markdown",
   "metadata": {},
   "source": [
    "#### Process\n",
    "\n",
    "Reminder: I will at times use technical language, but I encourage you to keep reading through, because I will also accompany every scientific insight with an explanation in simple language, relevant to the question at hand.\n",
    "\n",
    "We will begin by exploring the variables, the average values and basic correlations, visualizing how characteristics behave with one another. Following our exploratory phase, we will inspect cause and effect relationships between pairs of variables, as well as predict specific variables using all available data. I will use multiple techniques to perform this analysis of causality in hopes of providing variable importance in the prediction of key factors of the poor. The result will be a set of priorities for aid workers to pursue in the betterment of certain economic or societal indicators.\n",
    "\n",
    "\n",
    "The succeeding analysis will be that of understanding natural segments that exist within the poorest of the poor. Again, using multiple techniques, I will attempt to determine the groups of people that exist within those surveyed. What commonalities do certain segments have? How can we target aid campaigns to help certain groups? These are a few of the many questions a segmentation analysis will help us answer.\n",
    "\n",
    "Our quantitative and qualitative analyses will come to fruition in the final recommendation portion of this process. We will present questions and provide actionable insight into those questions, as determined by our analysis. We will build a road map for aid, a list of how we can help, who we can help and the logistical suggestions to do so. Our intent is to tie every insight to action and offer suggestions as to the best action available given what we have learned from the analysis. So, let’s get started!"
   ]
  },
  {
   "cell_type": "markdown",
   "metadata": {},
   "source": [
    "Import the necessary packages"
   ]
  },
  {
   "cell_type": "code",
   "execution_count": 220,
   "metadata": {},
   "outputs": [],
   "source": [
    "# core\n",
    "import pandas as pd\n",
    "import numpy as np\n",
    "import os\n",
    "\n",
    "# visualization\n",
    "import seaborn as sns\n",
    "import matplotlib.pyplot as plt\n",
    "\n",
    "# logistical regression\n",
    "from sklearn.cross_validation import train_test_split\n",
    "from sklearn.linear_model import LogisticRegression\n",
    "from sklearn import metrics"
   ]
  },
  {
   "cell_type": "markdown",
   "metadata": {},
   "source": [
    "Ingest the raw data from its github location"
   ]
  },
  {
   "cell_type": "code",
   "execution_count": 221,
   "metadata": {},
   "outputs": [],
   "source": [
    "github_file_location = \"https://raw.githubusercontent.com/showmalley/SeanOMalleyCodePortfolio/master/Development%20Economics/PovertySurveys/CDA_FULL_2018.csv\"\n",
    "\n",
    "df = pd.read_csv(github_file_location, encoding=\"ISO-8859-1\").iloc[:,1:]"
   ]
  },
  {
   "cell_type": "markdown",
   "metadata": {},
   "source": [
    "We need to explore the datatypes to unsure correct formatting. It looks like we only need to alter the FAM_N and DIRECCION variables to be categorical. "
   ]
  },
  {
   "cell_type": "code",
   "execution_count": 222,
   "metadata": {},
   "outputs": [
    {
     "name": "stdout",
     "output_type": "stream",
     "text": [
      "FAM_N               category\n",
      "internet             float64\n",
      "agua                 float64\n",
      "banco                float64\n",
      "iglesia              float64\n",
      "dejar_hijos          float64\n",
      "cuantas_personas       int64\n",
      "tiempo_casa          float64\n",
      "primer_hijo          float64\n",
      "cuantas_trabajan     float64\n",
      "tiempo_trabajan      float64\n",
      "pierden_colegio      float64\n",
      "ingreso              float64\n",
      "bautizadas           float64\n",
      "DIRECCION           category\n",
      "PADRE                float64\n",
      "MADRE                float64\n",
      "F                    float64\n",
      "M                    float64\n",
      "NINOS                float64\n",
      "MAYORES              float64\n",
      "dtype: object\n"
     ]
    }
   ],
   "source": [
    "df.FAM_N = df.FAM_N.astype('category')\n",
    "df.DIRECCION = df.DIRECCION.astype('category')\n",
    "print(df.dtypes)"
   ]
  },
  {
   "cell_type": "markdown",
   "metadata": {},
   "source": [
    "All looks well, lets move on to explore the data itself. First with summary statistics. "
   ]
  },
  {
   "cell_type": "code",
   "execution_count": 223,
   "metadata": {},
   "outputs": [
    {
     "data": {
      "text/html": [
       "<div>\n",
       "<style scoped>\n",
       "    .dataframe tbody tr th:only-of-type {\n",
       "        vertical-align: middle;\n",
       "    }\n",
       "\n",
       "    .dataframe tbody tr th {\n",
       "        vertical-align: top;\n",
       "    }\n",
       "\n",
       "    .dataframe thead th {\n",
       "        text-align: right;\n",
       "    }\n",
       "</style>\n",
       "<table border=\"1\" class=\"dataframe\">\n",
       "  <thead>\n",
       "    <tr style=\"text-align: right;\">\n",
       "      <th></th>\n",
       "      <th>internet</th>\n",
       "      <th>agua</th>\n",
       "      <th>banco</th>\n",
       "      <th>iglesia</th>\n",
       "      <th>dejar_hijos</th>\n",
       "      <th>cuantas_personas</th>\n",
       "      <th>tiempo_casa</th>\n",
       "      <th>primer_hijo</th>\n",
       "      <th>cuantas_trabajan</th>\n",
       "      <th>tiempo_trabajan</th>\n",
       "      <th>pierden_colegio</th>\n",
       "      <th>ingreso</th>\n",
       "      <th>bautizadas</th>\n",
       "      <th>PADRE</th>\n",
       "      <th>MADRE</th>\n",
       "      <th>F</th>\n",
       "      <th>M</th>\n",
       "      <th>NINOS</th>\n",
       "      <th>MAYORES</th>\n",
       "    </tr>\n",
       "  </thead>\n",
       "  <tbody>\n",
       "    <tr>\n",
       "      <th>count</th>\n",
       "      <td>498.000000</td>\n",
       "      <td>493.000000</td>\n",
       "      <td>503.000000</td>\n",
       "      <td>500.000000</td>\n",
       "      <td>486.000000</td>\n",
       "      <td>505.000000</td>\n",
       "      <td>495.000000</td>\n",
       "      <td>476.000000</td>\n",
       "      <td>479.000000</td>\n",
       "      <td>409.000000</td>\n",
       "      <td>344.000000</td>\n",
       "      <td>441.000000</td>\n",
       "      <td>440.000000</td>\n",
       "      <td>502.000000</td>\n",
       "      <td>502.000000</td>\n",
       "      <td>499.000000</td>\n",
       "      <td>499.000000</td>\n",
       "      <td>499.000000</td>\n",
       "      <td>499.000000</td>\n",
       "    </tr>\n",
       "    <tr>\n",
       "      <th>mean</th>\n",
       "      <td>0.106426</td>\n",
       "      <td>0.705882</td>\n",
       "      <td>0.035785</td>\n",
       "      <td>0.874000</td>\n",
       "      <td>0.403292</td>\n",
       "      <td>5.043564</td>\n",
       "      <td>14.225859</td>\n",
       "      <td>20.918067</td>\n",
       "      <td>1.281837</td>\n",
       "      <td>1.171883</td>\n",
       "      <td>1.962791</td>\n",
       "      <td>682.380952</td>\n",
       "      <td>2.650000</td>\n",
       "      <td>0.551793</td>\n",
       "      <td>0.970120</td>\n",
       "      <td>2.543086</td>\n",
       "      <td>2.036072</td>\n",
       "      <td>2.603206</td>\n",
       "      <td>0.058116</td>\n",
       "    </tr>\n",
       "    <tr>\n",
       "      <th>std</th>\n",
       "      <td>0.308692</td>\n",
       "      <td>0.456108</td>\n",
       "      <td>0.185939</td>\n",
       "      <td>0.332182</td>\n",
       "      <td>0.491064</td>\n",
       "      <td>1.958418</td>\n",
       "      <td>8.601098</td>\n",
       "      <td>4.806532</td>\n",
       "      <td>0.763925</td>\n",
       "      <td>0.690369</td>\n",
       "      <td>2.318429</td>\n",
       "      <td>576.150332</td>\n",
       "      <td>1.838651</td>\n",
       "      <td>0.497806</td>\n",
       "      <td>0.170427</td>\n",
       "      <td>1.240080</td>\n",
       "      <td>1.270100</td>\n",
       "      <td>1.521885</td>\n",
       "      <td>0.258644</td>\n",
       "    </tr>\n",
       "    <tr>\n",
       "      <th>min</th>\n",
       "      <td>0.000000</td>\n",
       "      <td>0.000000</td>\n",
       "      <td>0.000000</td>\n",
       "      <td>0.000000</td>\n",
       "      <td>0.000000</td>\n",
       "      <td>0.000000</td>\n",
       "      <td>0.200000</td>\n",
       "      <td>0.000000</td>\n",
       "      <td>0.000000</td>\n",
       "      <td>0.000000</td>\n",
       "      <td>0.000000</td>\n",
       "      <td>0.000000</td>\n",
       "      <td>0.000000</td>\n",
       "      <td>0.000000</td>\n",
       "      <td>0.000000</td>\n",
       "      <td>0.000000</td>\n",
       "      <td>0.000000</td>\n",
       "      <td>0.000000</td>\n",
       "      <td>0.000000</td>\n",
       "    </tr>\n",
       "    <tr>\n",
       "      <th>25%</th>\n",
       "      <td>0.000000</td>\n",
       "      <td>0.000000</td>\n",
       "      <td>0.000000</td>\n",
       "      <td>1.000000</td>\n",
       "      <td>0.000000</td>\n",
       "      <td>4.000000</td>\n",
       "      <td>6.000000</td>\n",
       "      <td>18.000000</td>\n",
       "      <td>1.000000</td>\n",
       "      <td>0.600000</td>\n",
       "      <td>0.000000</td>\n",
       "      <td>430.000000</td>\n",
       "      <td>1.000000</td>\n",
       "      <td>0.000000</td>\n",
       "      <td>1.000000</td>\n",
       "      <td>2.000000</td>\n",
       "      <td>1.000000</td>\n",
       "      <td>2.000000</td>\n",
       "      <td>0.000000</td>\n",
       "    </tr>\n",
       "    <tr>\n",
       "      <th>50%</th>\n",
       "      <td>0.000000</td>\n",
       "      <td>1.000000</td>\n",
       "      <td>0.000000</td>\n",
       "      <td>1.000000</td>\n",
       "      <td>0.000000</td>\n",
       "      <td>5.000000</td>\n",
       "      <td>15.000000</td>\n",
       "      <td>20.000000</td>\n",
       "      <td>1.000000</td>\n",
       "      <td>1.000000</td>\n",
       "      <td>2.000000</td>\n",
       "      <td>700.000000</td>\n",
       "      <td>2.000000</td>\n",
       "      <td>1.000000</td>\n",
       "      <td>1.000000</td>\n",
       "      <td>2.000000</td>\n",
       "      <td>2.000000</td>\n",
       "      <td>3.000000</td>\n",
       "      <td>0.000000</td>\n",
       "    </tr>\n",
       "    <tr>\n",
       "      <th>75%</th>\n",
       "      <td>0.000000</td>\n",
       "      <td>1.000000</td>\n",
       "      <td>0.000000</td>\n",
       "      <td>1.000000</td>\n",
       "      <td>1.000000</td>\n",
       "      <td>6.000000</td>\n",
       "      <td>18.000000</td>\n",
       "      <td>23.000000</td>\n",
       "      <td>1.000000</td>\n",
       "      <td>2.000000</td>\n",
       "      <td>3.000000</td>\n",
       "      <td>850.000000</td>\n",
       "      <td>4.000000</td>\n",
       "      <td>1.000000</td>\n",
       "      <td>1.000000</td>\n",
       "      <td>3.000000</td>\n",
       "      <td>3.000000</td>\n",
       "      <td>3.000000</td>\n",
       "      <td>0.000000</td>\n",
       "    </tr>\n",
       "    <tr>\n",
       "      <th>max</th>\n",
       "      <td>1.000000</td>\n",
       "      <td>1.000000</td>\n",
       "      <td>1.000000</td>\n",
       "      <td>1.000000</td>\n",
       "      <td>1.000000</td>\n",
       "      <td>15.000000</td>\n",
       "      <td>50.000000</td>\n",
       "      <td>45.000000</td>\n",
       "      <td>7.000000</td>\n",
       "      <td>3.000000</td>\n",
       "      <td>22.000000</td>\n",
       "      <td>8500.000000</td>\n",
       "      <td>10.000000</td>\n",
       "      <td>1.000000</td>\n",
       "      <td>1.000000</td>\n",
       "      <td>8.000000</td>\n",
       "      <td>6.000000</td>\n",
       "      <td>8.000000</td>\n",
       "      <td>2.000000</td>\n",
       "    </tr>\n",
       "  </tbody>\n",
       "</table>\n",
       "</div>"
      ],
      "text/plain": [
       "         internet        agua       banco     iglesia  dejar_hijos  \\\n",
       "count  498.000000  493.000000  503.000000  500.000000   486.000000   \n",
       "mean     0.106426    0.705882    0.035785    0.874000     0.403292   \n",
       "std      0.308692    0.456108    0.185939    0.332182     0.491064   \n",
       "min      0.000000    0.000000    0.000000    0.000000     0.000000   \n",
       "25%      0.000000    0.000000    0.000000    1.000000     0.000000   \n",
       "50%      0.000000    1.000000    0.000000    1.000000     0.000000   \n",
       "75%      0.000000    1.000000    0.000000    1.000000     1.000000   \n",
       "max      1.000000    1.000000    1.000000    1.000000     1.000000   \n",
       "\n",
       "       cuantas_personas  tiempo_casa  primer_hijo  cuantas_trabajan  \\\n",
       "count        505.000000   495.000000   476.000000        479.000000   \n",
       "mean           5.043564    14.225859    20.918067          1.281837   \n",
       "std            1.958418     8.601098     4.806532          0.763925   \n",
       "min            0.000000     0.200000     0.000000          0.000000   \n",
       "25%            4.000000     6.000000    18.000000          1.000000   \n",
       "50%            5.000000    15.000000    20.000000          1.000000   \n",
       "75%            6.000000    18.000000    23.000000          1.000000   \n",
       "max           15.000000    50.000000    45.000000          7.000000   \n",
       "\n",
       "       tiempo_trabajan  pierden_colegio      ingreso  bautizadas       PADRE  \\\n",
       "count       409.000000       344.000000   441.000000  440.000000  502.000000   \n",
       "mean          1.171883         1.962791   682.380952    2.650000    0.551793   \n",
       "std           0.690369         2.318429   576.150332    1.838651    0.497806   \n",
       "min           0.000000         0.000000     0.000000    0.000000    0.000000   \n",
       "25%           0.600000         0.000000   430.000000    1.000000    0.000000   \n",
       "50%           1.000000         2.000000   700.000000    2.000000    1.000000   \n",
       "75%           2.000000         3.000000   850.000000    4.000000    1.000000   \n",
       "max           3.000000        22.000000  8500.000000   10.000000    1.000000   \n",
       "\n",
       "            MADRE           F           M       NINOS     MAYORES  \n",
       "count  502.000000  499.000000  499.000000  499.000000  499.000000  \n",
       "mean     0.970120    2.543086    2.036072    2.603206    0.058116  \n",
       "std      0.170427    1.240080    1.270100    1.521885    0.258644  \n",
       "min      0.000000    0.000000    0.000000    0.000000    0.000000  \n",
       "25%      1.000000    2.000000    1.000000    2.000000    0.000000  \n",
       "50%      1.000000    2.000000    2.000000    3.000000    0.000000  \n",
       "75%      1.000000    3.000000    3.000000    3.000000    0.000000  \n",
       "max      1.000000    8.000000    6.000000    8.000000    2.000000  "
      ]
     },
     "execution_count": 223,
     "metadata": {},
     "output_type": "execute_result"
    }
   ],
   "source": [
    "df.describe()"
   ]
  },
  {
   "cell_type": "markdown",
   "metadata": {},
   "source": [
    "Looking above, we have a few checks we need to take care of. Look to min and max to identify unreasonable outliers. Once this is controlled for, looking at the mean values can give us our first brief insight into the lives of the data we have ingested\n",
    "\n",
    "__Outliers__\n",
    "\n",
    "The only data changes I see that need changed is the age of the first child and people living in each house. \n",
    "* We know no one at age 0 can have a child, so lets control for this by saying any value under 11 is NaN. \n",
    "* Also, 0 people cannot live in a household, so where the value is 0, lets impute 1\n",
    "* Additionally, there are two observations that are upwards of 5 standard deviations above the next highest income result, this is presumably a typo or someone that absolutely does not apply to this population sample, so I have made the choice to remove it."
   ]
  },
  {
   "cell_type": "code",
   "execution_count": 224,
   "metadata": {},
   "outputs": [],
   "source": [
    "df.loc[df.primer_hijo < 12, 'primer_hijo'] = np.nan\n",
    "df.loc[df.cuantas_personas < 1, 'primer_hijo'] = 1\n",
    "df = df[(df['ingreso'] < 3000)]"
   ]
  },
  {
   "cell_type": "code",
   "execution_count": 225,
   "metadata": {},
   "outputs": [
    {
     "data": {
      "text/html": [
       "<div>\n",
       "<style scoped>\n",
       "    .dataframe tbody tr th:only-of-type {\n",
       "        vertical-align: middle;\n",
       "    }\n",
       "\n",
       "    .dataframe tbody tr th {\n",
       "        vertical-align: top;\n",
       "    }\n",
       "\n",
       "    .dataframe thead th {\n",
       "        text-align: right;\n",
       "    }\n",
       "</style>\n",
       "<table border=\"1\" class=\"dataframe\">\n",
       "  <thead>\n",
       "    <tr style=\"text-align: right;\">\n",
       "      <th></th>\n",
       "      <th>internet</th>\n",
       "      <th>agua</th>\n",
       "      <th>banco</th>\n",
       "      <th>iglesia</th>\n",
       "      <th>dejar_hijos</th>\n",
       "      <th>cuantas_personas</th>\n",
       "      <th>tiempo_casa</th>\n",
       "      <th>primer_hijo</th>\n",
       "      <th>cuantas_trabajan</th>\n",
       "      <th>tiempo_trabajan</th>\n",
       "      <th>pierden_colegio</th>\n",
       "      <th>ingreso</th>\n",
       "      <th>bautizadas</th>\n",
       "      <th>PADRE</th>\n",
       "      <th>MADRE</th>\n",
       "      <th>F</th>\n",
       "      <th>M</th>\n",
       "      <th>NINOS</th>\n",
       "      <th>MAYORES</th>\n",
       "    </tr>\n",
       "  </thead>\n",
       "  <tbody>\n",
       "    <tr>\n",
       "      <th>count</th>\n",
       "      <td>434.000000</td>\n",
       "      <td>430.000000</td>\n",
       "      <td>437.000000</td>\n",
       "      <td>434.000000</td>\n",
       "      <td>423.000000</td>\n",
       "      <td>439.000000</td>\n",
       "      <td>434.000000</td>\n",
       "      <td>417.000000</td>\n",
       "      <td>433.000000</td>\n",
       "      <td>384.000000</td>\n",
       "      <td>313.000000</td>\n",
       "      <td>439.000000</td>\n",
       "      <td>396.000000</td>\n",
       "      <td>436.000000</td>\n",
       "      <td>436.000000</td>\n",
       "      <td>434.000000</td>\n",
       "      <td>434.000000</td>\n",
       "      <td>434.000000</td>\n",
       "      <td>434.000000</td>\n",
       "    </tr>\n",
       "    <tr>\n",
       "      <th>mean</th>\n",
       "      <td>0.110599</td>\n",
       "      <td>0.700000</td>\n",
       "      <td>0.038902</td>\n",
       "      <td>0.887097</td>\n",
       "      <td>0.425532</td>\n",
       "      <td>5.109339</td>\n",
       "      <td>14.098618</td>\n",
       "      <td>21.105516</td>\n",
       "      <td>1.295612</td>\n",
       "      <td>1.164844</td>\n",
       "      <td>1.940895</td>\n",
       "      <td>649.043280</td>\n",
       "      <td>2.585859</td>\n",
       "      <td>0.548165</td>\n",
       "      <td>0.965596</td>\n",
       "      <td>2.589862</td>\n",
       "      <td>2.023041</td>\n",
       "      <td>2.633641</td>\n",
       "      <td>0.052995</td>\n",
       "    </tr>\n",
       "    <tr>\n",
       "      <th>std</th>\n",
       "      <td>0.313997</td>\n",
       "      <td>0.458791</td>\n",
       "      <td>0.193582</td>\n",
       "      <td>0.316840</td>\n",
       "      <td>0.495009</td>\n",
       "      <td>1.986686</td>\n",
       "      <td>8.730716</td>\n",
       "      <td>4.750343</td>\n",
       "      <td>0.779009</td>\n",
       "      <td>0.688559</td>\n",
       "      <td>2.393338</td>\n",
       "      <td>294.448824</td>\n",
       "      <td>1.836398</td>\n",
       "      <td>0.498246</td>\n",
       "      <td>0.182473</td>\n",
       "      <td>1.246700</td>\n",
       "      <td>1.258477</td>\n",
       "      <td>1.539885</td>\n",
       "      <td>0.234354</td>\n",
       "    </tr>\n",
       "    <tr>\n",
       "      <th>min</th>\n",
       "      <td>0.000000</td>\n",
       "      <td>0.000000</td>\n",
       "      <td>0.000000</td>\n",
       "      <td>0.000000</td>\n",
       "      <td>0.000000</td>\n",
       "      <td>0.000000</td>\n",
       "      <td>0.200000</td>\n",
       "      <td>1.000000</td>\n",
       "      <td>0.000000</td>\n",
       "      <td>0.000000</td>\n",
       "      <td>0.000000</td>\n",
       "      <td>0.000000</td>\n",
       "      <td>0.000000</td>\n",
       "      <td>0.000000</td>\n",
       "      <td>0.000000</td>\n",
       "      <td>0.000000</td>\n",
       "      <td>0.000000</td>\n",
       "      <td>0.000000</td>\n",
       "      <td>0.000000</td>\n",
       "    </tr>\n",
       "    <tr>\n",
       "      <th>25%</th>\n",
       "      <td>0.000000</td>\n",
       "      <td>0.000000</td>\n",
       "      <td>0.000000</td>\n",
       "      <td>1.000000</td>\n",
       "      <td>0.000000</td>\n",
       "      <td>4.000000</td>\n",
       "      <td>6.000000</td>\n",
       "      <td>18.000000</td>\n",
       "      <td>1.000000</td>\n",
       "      <td>0.600000</td>\n",
       "      <td>0.000000</td>\n",
       "      <td>425.000000</td>\n",
       "      <td>1.000000</td>\n",
       "      <td>0.000000</td>\n",
       "      <td>1.000000</td>\n",
       "      <td>2.000000</td>\n",
       "      <td>1.000000</td>\n",
       "      <td>2.000000</td>\n",
       "      <td>0.000000</td>\n",
       "    </tr>\n",
       "    <tr>\n",
       "      <th>50%</th>\n",
       "      <td>0.000000</td>\n",
       "      <td>1.000000</td>\n",
       "      <td>0.000000</td>\n",
       "      <td>1.000000</td>\n",
       "      <td>0.000000</td>\n",
       "      <td>5.000000</td>\n",
       "      <td>15.000000</td>\n",
       "      <td>20.000000</td>\n",
       "      <td>1.000000</td>\n",
       "      <td>1.000000</td>\n",
       "      <td>2.000000</td>\n",
       "      <td>680.000000</td>\n",
       "      <td>2.000000</td>\n",
       "      <td>1.000000</td>\n",
       "      <td>1.000000</td>\n",
       "      <td>2.500000</td>\n",
       "      <td>2.000000</td>\n",
       "      <td>3.000000</td>\n",
       "      <td>0.000000</td>\n",
       "    </tr>\n",
       "    <tr>\n",
       "      <th>75%</th>\n",
       "      <td>0.000000</td>\n",
       "      <td>1.000000</td>\n",
       "      <td>0.000000</td>\n",
       "      <td>1.000000</td>\n",
       "      <td>1.000000</td>\n",
       "      <td>6.000000</td>\n",
       "      <td>18.000000</td>\n",
       "      <td>23.000000</td>\n",
       "      <td>1.000000</td>\n",
       "      <td>1.562500</td>\n",
       "      <td>3.000000</td>\n",
       "      <td>850.000000</td>\n",
       "      <td>4.000000</td>\n",
       "      <td>1.000000</td>\n",
       "      <td>1.000000</td>\n",
       "      <td>3.000000</td>\n",
       "      <td>3.000000</td>\n",
       "      <td>4.000000</td>\n",
       "      <td>0.000000</td>\n",
       "    </tr>\n",
       "    <tr>\n",
       "      <th>max</th>\n",
       "      <td>1.000000</td>\n",
       "      <td>1.000000</td>\n",
       "      <td>1.000000</td>\n",
       "      <td>1.000000</td>\n",
       "      <td>1.000000</td>\n",
       "      <td>15.000000</td>\n",
       "      <td>50.000000</td>\n",
       "      <td>45.000000</td>\n",
       "      <td>7.000000</td>\n",
       "      <td>3.000000</td>\n",
       "      <td>22.000000</td>\n",
       "      <td>2080.000000</td>\n",
       "      <td>10.000000</td>\n",
       "      <td>1.000000</td>\n",
       "      <td>1.000000</td>\n",
       "      <td>8.000000</td>\n",
       "      <td>6.000000</td>\n",
       "      <td>8.000000</td>\n",
       "      <td>2.000000</td>\n",
       "    </tr>\n",
       "  </tbody>\n",
       "</table>\n",
       "</div>"
      ],
      "text/plain": [
       "         internet        agua       banco     iglesia  dejar_hijos  \\\n",
       "count  434.000000  430.000000  437.000000  434.000000   423.000000   \n",
       "mean     0.110599    0.700000    0.038902    0.887097     0.425532   \n",
       "std      0.313997    0.458791    0.193582    0.316840     0.495009   \n",
       "min      0.000000    0.000000    0.000000    0.000000     0.000000   \n",
       "25%      0.000000    0.000000    0.000000    1.000000     0.000000   \n",
       "50%      0.000000    1.000000    0.000000    1.000000     0.000000   \n",
       "75%      0.000000    1.000000    0.000000    1.000000     1.000000   \n",
       "max      1.000000    1.000000    1.000000    1.000000     1.000000   \n",
       "\n",
       "       cuantas_personas  tiempo_casa  primer_hijo  cuantas_trabajan  \\\n",
       "count        439.000000   434.000000   417.000000        433.000000   \n",
       "mean           5.109339    14.098618    21.105516          1.295612   \n",
       "std            1.986686     8.730716     4.750343          0.779009   \n",
       "min            0.000000     0.200000     1.000000          0.000000   \n",
       "25%            4.000000     6.000000    18.000000          1.000000   \n",
       "50%            5.000000    15.000000    20.000000          1.000000   \n",
       "75%            6.000000    18.000000    23.000000          1.000000   \n",
       "max           15.000000    50.000000    45.000000          7.000000   \n",
       "\n",
       "       tiempo_trabajan  pierden_colegio      ingreso  bautizadas       PADRE  \\\n",
       "count       384.000000       313.000000   439.000000  396.000000  436.000000   \n",
       "mean          1.164844         1.940895   649.043280    2.585859    0.548165   \n",
       "std           0.688559         2.393338   294.448824    1.836398    0.498246   \n",
       "min           0.000000         0.000000     0.000000    0.000000    0.000000   \n",
       "25%           0.600000         0.000000   425.000000    1.000000    0.000000   \n",
       "50%           1.000000         2.000000   680.000000    2.000000    1.000000   \n",
       "75%           1.562500         3.000000   850.000000    4.000000    1.000000   \n",
       "max           3.000000        22.000000  2080.000000   10.000000    1.000000   \n",
       "\n",
       "            MADRE           F           M       NINOS     MAYORES  \n",
       "count  436.000000  434.000000  434.000000  434.000000  434.000000  \n",
       "mean     0.965596    2.589862    2.023041    2.633641    0.052995  \n",
       "std      0.182473    1.246700    1.258477    1.539885    0.234354  \n",
       "min      0.000000    0.000000    0.000000    0.000000    0.000000  \n",
       "25%      1.000000    2.000000    1.000000    2.000000    0.000000  \n",
       "50%      1.000000    2.500000    2.000000    3.000000    0.000000  \n",
       "75%      1.000000    3.000000    3.000000    4.000000    0.000000  \n",
       "max      1.000000    8.000000    6.000000    8.000000    2.000000  "
      ]
     },
     "execution_count": 225,
     "metadata": {},
     "output_type": "execute_result"
    }
   ],
   "source": [
    "df.describe()"
   ]
  },
  {
   "cell_type": "markdown",
   "metadata": {},
   "source": [
    "Now looking to the binary values, lets get the proportion of YES to NO answers."
   ]
  },
  {
   "cell_type": "code",
   "execution_count": 226,
   "metadata": {},
   "outputs": [
    {
     "name": "stdout",
     "output_type": "stream",
     "text": [
      "---\n",
      "11.06% of those surveyed answered YES to internet\n",
      "---\n",
      "70.0% of those surveyed answered YES to agua\n",
      "---\n",
      "3.89% of those surveyed answered YES to banco\n",
      "---\n",
      "88.71% of those surveyed answered YES to iglesia\n",
      "---\n",
      "42.55% of those surveyed answered YES to dejar_hijos\n",
      "---\n",
      "54.82% of those surveyed answered YES to PADRE\n",
      "---\n",
      "96.56% of those surveyed answered YES to MADRE\n",
      "---\n"
     ]
    }
   ],
   "source": [
    "binaries = ['internet','agua','banco','iglesia','dejar_hijos','PADRE','MADRE']\n",
    "\n",
    "for i in range(len(binaries)):\n",
    "    print('---')\n",
    "    print(str(round(df[binaries[i]].mean()*100,2)) + \"% of those surveyed answered YES to \" + str(binaries[i]))\n",
    "    \n",
    "print('---')"
   ]
  },
  {
   "cell_type": "markdown",
   "metadata": {},
   "source": [
    "We can see that a small proportion of those surveyed had bank accounts and internet access, while a large proportion went to church regularly and a majority had access to drinkable water though not overwhelmingly so. In terms of family dynamics, we see that only half of fathers are present in the home and most homes have a mother present. \n",
    "\n",
    "The initial pulse we get from the binary proportional averages is that we can affirm some of our pre-conceived ideas surrounding broken families and presence of a dark economy implying sparse routes to traditional credit sources. \n",
    "\n",
    "Next, let's take a look at the average values of our numeric survey variables."
   ]
  },
  {
   "cell_type": "code",
   "execution_count": 227,
   "metadata": {},
   "outputs": [
    {
     "name": "stdout",
     "output_type": "stream",
     "text": [
      "---\n",
      "The average value for cuantas_personas is 5.11\n",
      "---\n",
      "The average value for tiempo_casa is 14.1\n",
      "---\n",
      "The average value for primer_hijo is 21.11\n",
      "---\n",
      "The average value for cuantas_trabajan is 1.3\n",
      "---\n",
      "The average value for tiempo_trabajan is 1.16\n",
      "---\n",
      "The average value for pierden_colegio is 1.94\n",
      "---\n",
      "The average value for ingreso is 649.04\n",
      "---\n",
      "The average value for bautizadas is 2.59\n",
      "---\n",
      "The average value for F is 2.59\n",
      "---\n",
      "The average value for M is 2.02\n",
      "---\n",
      "The average value for NINOS is 2.63\n",
      "---\n",
      "The average value for MAYORES is 0.05\n",
      "---\n"
     ]
    }
   ],
   "source": [
    "numerics = ['cuantas_personas','tiempo_casa','primer_hijo','cuantas_trabajan','tiempo_trabajan','pierden_colegio','ingreso','bautizadas', 'F','M','NINOS','MAYORES']\n",
    "\n",
    "for i in range(len(numerics)):\n",
    "    print('---')\n",
    "    print(\"The average value for \" + str(numerics[i]) + \" is \" + str(round(df[numerics[i]].mean(),2)))\n",
    "    \n",
    "print('---')"
   ]
  },
  {
   "cell_type": "markdown",
   "metadata": {},
   "source": [
    "Inspecting the numeric means of our survey results, we can begin to get a sense of the lives lead by the poorest of the poor in Pamplona Alta. We see that the average age of the first child is 21, which is young by developed world standards, but not nearly as young as our qualitative guess would have assumed; thus looking into the distribution of this variable could provide further insight.\n",
    "\n",
    "We see that the average time in the home is nearly triple the required 5 year requirement of the government for ownership, which is one good step forward. However, we also see that the average household of 5 is usually living off of the salary of a single person, and that average value is only 682 soles a month ($6.60 USD a day). \n",
    "\n",
    "Looking to the religious aspects of the survey, it is also interesting to note that on average only 2/5 members of households are baptized though a majority attend church services regularly.\n",
    "\n",
    "Now, we do not want to make any extraneous assumptions from these averages, nevertheless, these initial figures have allowed us to paint a faint picture of the lives lead by those surveyed."
   ]
  },
  {
   "cell_type": "markdown",
   "metadata": {},
   "source": [
    "#### Distributions\n",
    "\n",
    "Average values can give us a glimpse into the character of a variable, however, the distribution can tell us even more. Given the above results I wanted to take the time to look into certain variables of intrigue. This process gives shape to the values within, as well as helps us spot outliers that may have significantly affected our larger groups at whole. \n",
    "\n",
    "Given the average values of these two _Time in Home_ and _Age of First Child_ I was curious as to the distribution of those variables. "
   ]
  },
  {
   "cell_type": "code",
   "execution_count": 228,
   "metadata": {},
   "outputs": [],
   "source": [
    "sns.set_style('darkgrid')\n",
    "sns.set(color_codes = True)"
   ]
  },
  {
   "cell_type": "code",
   "execution_count": null,
   "metadata": {},
   "outputs": [],
   "source": [
    "fig, ax = plt.subplots(figsize=(8,6))\n",
    "sns.distplot(df.tiempo_casa[df['tiempo_casa'].isna() == False],ax=ax, color = '#97694F', bins = 10)\n",
    "ax.set(xlabel = \"Time in Home\",ylabel = \"Density\", title = \"Distribution of Time in Home\")\n",
    "plt.show()"
   ]
  },
  {
   "cell_type": "code",
   "execution_count": null,
   "metadata": {},
   "outputs": [],
   "source": [
    "fig, ax = plt.subplots(figsize=(8,6))\n",
    "sns.distplot(df.primer_hijo[df['primer_hijo'].isna() == False],ax=ax, color = 'teal', bins = 20)\n",
    "ax.set(xlabel = \"Age of First Child\", xlim=(10,47), ylabel = \"Density\", title = \"Distribution of Age of First Child\")\n",
    "plt.show()"
   ]
  },
  {
   "cell_type": "markdown",
   "metadata": {},
   "source": [
    "The third distribution is household size, the values are, more or less, normally distributed, with a majority of the households being between 4 and 6 people per household. We can see that there are some houses with as many as 15, but that number is small enough that those outliers should hold little weight to our predictive modeling further on."
   ]
  },
  {
   "cell_type": "code",
   "execution_count": null,
   "metadata": {},
   "outputs": [],
   "source": [
    "fig, ax = plt.subplots(figsize=(8,6))\n",
    "sns.distplot(df['cuantas_personas'],ax=ax, color = 'g', bins = 15)\n",
    "ax.set(xlabel = \"Number in Household\",ylabel = \"Density\", title = \"Distribution of Household Size\")\n",
    "plt.show()"
   ]
  },
  {
   "cell_type": "markdown",
   "metadata": {},
   "source": [
    "Next, looking to commute time, we see a mostly bi-modal distribution, with a majority of people traveling just over an hour to work, and another traveling over two hours to work. This confirms the difficulty we’ve seen for people in Pamplona Alta to find employment near to home."
   ]
  },
  {
   "cell_type": "code",
   "execution_count": null,
   "metadata": {},
   "outputs": [],
   "source": [
    "fig, ax = plt.subplots(figsize=(8,6))\n",
    "sns.distplot(df.tiempo_trabajan[df['tiempo_trabajan'].isna() == False],ax=ax, color = 'tan', bins = 6)\n",
    "ax.set(xlabel = \"Commute Time\",ylabel = \"Density\", title = \"Distribution of Commute Time\")\n",
    "plt.show()"
   ]
  },
  {
   "cell_type": "markdown",
   "metadata": {},
   "source": [
    "Lastly, we see the distribution of household income below, and something feels a little off. We see that there are two significant outliers of income to the group at large. This suggests that our average value of income has been significantly pulled upward by these two observations. Moving forward, we will have to proceed with caution as we attempt to measure the reality of the large majority of those in Pamplona Alta, and not allow outliers to affect our understanding of the community at large."
   ]
  },
  {
   "cell_type": "code",
   "execution_count": null,
   "metadata": {},
   "outputs": [],
   "source": [
    "fig, ax = plt.subplots(figsize=(15,6))\n",
    "sns.distplot(df.ingreso[(df['ingreso'].isna() == False)],ax=ax, color = 'b', rug = True)\n",
    "ax.set(xlabel = \"Income\",ylabel = \"Density\", title = \"Distribution of Household Income\")\n",
    "plt.show()"
   ]
  },
  {
   "cell_type": "code",
   "execution_count": null,
   "metadata": {},
   "outputs": [],
   "source": [
    "# correlation heatmap\n",
    "fig, ax = plt.subplots(figsize=(12, 12))\n",
    "sns.heatmap(df.corr(), cbar=False, cmap=\"BuGn\",annot=True, fmt=\".2f\")\n",
    "plt.yticks(rotation=0)\n",
    "plt.xticks(rotation=90)\n",
    "plt.show()"
   ]
  },
  {
   "cell_type": "markdown",
   "metadata": {},
   "source": [
    "The plot above is discouraging, we are seeing largely weak correlations between variables, meaning that the predictive power of models ahead could be difficult to come by. Nevertheless, we see stronger correlations between factors like income and internet, number of workers and leaving kids at home, as well as fathers in home and household size.\n",
    "\n",
    "Due to the correlation matrix not giving us solid results, we will have to keep in mind the stronger positive / negative correlations and move forward with more analysis."
   ]
  },
  {
   "cell_type": "code",
   "execution_count": null,
   "metadata": {},
   "outputs": [],
   "source": [
    "# Optimize dataset for modeling\n",
    "    # impute & remove missing values for modeling\n",
    "    \n",
    "imp_dict = dict(df.isnull().sum())\n",
    "imp_dict"
   ]
  },
  {
   "cell_type": "code",
   "execution_count": null,
   "metadata": {},
   "outputs": [],
   "source": [
    "# create column of data frame we will use later for imputation\n",
    "df_imp = df"
   ]
  },
  {
   "cell_type": "code",
   "execution_count": null,
   "metadata": {},
   "outputs": [],
   "source": [
    "# Remove if NA's <= 5, else impute with average value\n",
    "\n",
    "for k, v in imp_dict.items():\n",
    "    if v <= 5 or k in binaries:\n",
    "        df_imp = df_imp[df_imp.loc[:,k].isnull() == False]\n",
    "    else:\n",
    "        df_imp.loc[:,k] = df_imp.loc[:,'PADRE'].mean()"
   ]
  },
  {
   "cell_type": "code",
   "execution_count": null,
   "metadata": {},
   "outputs": [],
   "source": [
    "print(\"Okay, we can see that by having a length of \" + str(len(df_imp)) + \",\")\n",
    "print(\"that we have sufficient data to try an model, and that below we no longer have NA values.\")\n",
    "print('---------------------------')\n",
    "print(dict(df_imp.isnull().sum()))"
   ]
  },
  {
   "cell_type": "markdown",
   "metadata": {},
   "source": [
    "### Logistic Regression\n",
    "\n",
    "Explain things here about how it works\n",
    "\n",
    "Accuracy\n",
    "* ability to predict classifications correctly\n",
    "\n",
    "Precision\n",
    "* ability to identify only the relevant data points\n",
    "* $precision = TruePos / (TruePos + FalsePos)$\n",
    "\n",
    "Recall\n",
    "* ability to find all relevant cases in a dataset\n",
    "* $recall = TruePos/(TruePos + FalseNeg)$\n",
    "\n",
    "F1\n",
    "* harmonic mean of precision and recall taking both metrics into account\n",
    "* $F1 = 2 * ((precision * recall)/(precision + recall))$\n",
    "\n",
    "ROC Curve:\n",
    "* receiver operating characteristic curve\n",
    "* a plot of the true positive rate, showing tradeoff between sensitivity and specificity\n",
    "* AUC, area under the curve, score is 0 to 1, with 1 being a perfect classifier"
   ]
  },
  {
   "cell_type": "markdown",
   "metadata": {},
   "source": [
    "#### Logistic Regression: _Bank Account -- Build model and Predict_ "
   ]
  },
  {
   "cell_type": "code",
   "execution_count": null,
   "metadata": {},
   "outputs": [],
   "source": [
    "# Feature Selection:\n",
    "\n",
    "# Features\n",
    "feature_cols = ['internet', 'PADRE', 'agua', 'iglesia', 'dejar_hijos','cuantas_personas', 'tiempo_casa', \n",
    "                'primer_hijo', 'cuantas_trabajan','tiempo_trabajan', 'pierden_colegio', 'ingreso', \n",
    "                'bautizadas','MADRE', 'F', 'M', 'NINOS', 'MAYORES']\n",
    "\n",
    "X = df_imp[feature_cols]\n",
    "\n",
    "# Target Variable\n",
    "y = df_imp.banco\n",
    "\n",
    "# Train/Test Split\n",
    "    # 75% for model, 25% for testing\n",
    "\n",
    "X_train,X_test,y_train,y_test = train_test_split(X,y,test_size=0.25,random_state=0)"
   ]
  },
  {
   "cell_type": "code",
   "execution_count": null,
   "metadata": {},
   "outputs": [],
   "source": [
    "# Model Developement:\n",
    "\n",
    "# create logistic regression classifier object to instanciate model\n",
    "logreg = LogisticRegression()\n",
    "\n",
    "# fit model with data\n",
    "logreg.fit(X_train,y_train)\n",
    "\n",
    "# prediction\n",
    "y_pred = logreg.predict(X_test)"
   ]
  },
  {
   "cell_type": "code",
   "execution_count": null,
   "metadata": {},
   "outputs": [],
   "source": [
    "# Model Evaluation using Confusion Matrix\n",
    "\n",
    "# Basic\n",
    "cnf_matrix = metrics.confusion_matrix(y_test, y_pred)\n",
    "print(cnf_matrix)\n",
    "print(\"----------------\")\n",
    "\n",
    "# Complex\n",
    "class_names=['No Father','Father']\n",
    "\n",
    "fig, ax = plt.subplots()\n",
    "tick_marks = np.arange(len(class_names))\n",
    "plt.xticks(tick_marks, class_names)\n",
    "plt.yticks(tick_marks, class_names)\n",
    "\n",
    "sns.heatmap(pd.DataFrame(cnf_matrix), annot=True, cmap=\"GnBu\", fmt='g')\n",
    "ax.xaxis.set_label_position(\"top\")\n",
    "\n",
    "plt.tight_layout()\n",
    "plt.title('Confusion matrix', y=1.1)\n",
    "plt.ylabel('Actual')\n",
    "plt.xlabel('Predicted')"
   ]
  },
  {
   "cell_type": "code",
   "execution_count": null,
   "metadata": {},
   "outputs": [],
   "source": [
    "# Confusion Matrix Evaluation\n",
    "\n",
    "print(\"Accuracy:\",metrics.accuracy_score(y_test, y_pred))\n",
    "print(\"Precision:\",metrics.precision_score(y_test, y_pred))\n",
    "print(\"Recall:\",metrics.recall_score(y_test, y_pred))\n",
    "print(\"F1:\",metrics.f1_score(y_test, y_pred))\n",
    "\n",
    "# ROC Curve\n",
    "\n",
    "y_pred_proba = logreg.predict_proba(X_test)[::,1]\n",
    "fpr, tpr, _ = metrics.roc_curve(y_test,  y_pred_proba)\n",
    "auc = metrics.roc_auc_score(y_test, y_pred_proba)\n",
    "plt.plot(fpr,tpr,label=\"data 1, auc=\"+str(auc))\n",
    "plt.legend(loc=4)\n",
    "plt.show()"
   ]
  },
  {
   "cell_type": "markdown",
   "metadata": {},
   "source": [
    "#### Logistic Regression: _Bank Account -- Summary_ \n",
    "\n",
    "put some words here"
   ]
  },
  {
   "cell_type": "markdown",
   "metadata": {},
   "source": [
    "#### Logistic Regression: _Water Access -- Build model and Predict_ "
   ]
  },
  {
   "cell_type": "code",
   "execution_count": null,
   "metadata": {},
   "outputs": [],
   "source": [
    "# Feature Selection:\n",
    "\n",
    "# Features\n",
    "feature_cols = ['internet', 'PADRE', 'banco', 'iglesia', 'dejar_hijos','cuantas_personas', 'tiempo_casa', \n",
    "                'primer_hijo', 'cuantas_trabajan','tiempo_trabajan', 'pierden_colegio', 'ingreso', \n",
    "                'bautizadas','MADRE', 'F', 'M', 'NINOS', 'MAYORES']\n",
    "\n",
    "X = df_imp[feature_cols]\n",
    "\n",
    "# Target Variable\n",
    "y = df_imp.agua\n",
    "\n",
    "# Train/Test Split\n",
    "    # 75% for model, 25% for testing\n",
    "\n",
    "X_train,X_test,y_train,y_test = train_test_split(X,y,test_size=0.25,random_state=0)"
   ]
  },
  {
   "cell_type": "code",
   "execution_count": null,
   "metadata": {},
   "outputs": [],
   "source": [
    "# Model Developement:\n",
    "\n",
    "# create logistic regression classifier object to instanciate model\n",
    "logreg = LogisticRegression()\n",
    "\n",
    "# fit model with data\n",
    "logreg.fit(X_train,y_train)\n",
    "\n",
    "# prediction\n",
    "y_pred = logreg.predict(X_test)"
   ]
  },
  {
   "cell_type": "code",
   "execution_count": null,
   "metadata": {},
   "outputs": [],
   "source": [
    "# Model Evaluation using Confusion Matrix\n",
    "\n",
    "# Basic\n",
    "cnf_matrix = metrics.confusion_matrix(y_test, y_pred)\n",
    "print(cnf_matrix)\n",
    "print(\"----------------\")\n",
    "\n",
    "# Complex\n",
    "class_names=['No Father','Father']\n",
    "\n",
    "fig, ax = plt.subplots()\n",
    "tick_marks = np.arange(len(class_names))\n",
    "plt.xticks(tick_marks, class_names)\n",
    "plt.yticks(tick_marks, class_names)\n",
    "\n",
    "sns.heatmap(pd.DataFrame(cnf_matrix), annot=True, cmap=\"GnBu\", fmt='g')\n",
    "ax.xaxis.set_label_position(\"top\")\n",
    "\n",
    "plt.tight_layout()\n",
    "plt.title('Confusion matrix', y=1.1)\n",
    "plt.ylabel('Actual')\n",
    "plt.xlabel('Predicted')"
   ]
  },
  {
   "cell_type": "code",
   "execution_count": null,
   "metadata": {},
   "outputs": [],
   "source": [
    "# Confusion Matrix Evaluation\n",
    "\n",
    "print(\"Accuracy:\",metrics.accuracy_score(y_test, y_pred))\n",
    "print(\"Precision:\",metrics.precision_score(y_test, y_pred))\n",
    "print(\"Recall:\",metrics.recall_score(y_test, y_pred))\n",
    "print(\"F1:\",metrics.f1_score(y_test, y_pred))\n",
    "\n",
    "# ROC Curve\n",
    "\n",
    "y_pred_proba = logreg.predict_proba(X_test)[::,1]\n",
    "fpr, tpr, _ = metrics.roc_curve(y_test,  y_pred_proba)\n",
    "auc = metrics.roc_auc_score(y_test, y_pred_proba)\n",
    "plt.plot(fpr,tpr,label=\"data 1, auc=\"+str(auc))\n",
    "plt.legend(loc=4)\n",
    "plt.show()"
   ]
  },
  {
   "cell_type": "markdown",
   "metadata": {},
   "source": [
    "#### Logistic Regression: _Water Access -- Summary_ \n",
    "\n",
    "put some words here"
   ]
  },
  {
   "cell_type": "markdown",
   "metadata": {},
   "source": [
    "#### Logistic Regression: _Internet Access -- Build model and Predict_ "
   ]
  },
  {
   "cell_type": "code",
   "execution_count": null,
   "metadata": {},
   "outputs": [],
   "source": [
    "# Feature Selection:\n",
    "\n",
    "# Features\n",
    "feature_cols = ['agua', 'PADRE', 'banco', 'iglesia', 'dejar_hijos','cuantas_personas', 'tiempo_casa', \n",
    "                'primer_hijo', 'cuantas_trabajan','tiempo_trabajan', 'pierden_colegio', 'ingreso', \n",
    "                'bautizadas','MADRE', 'F', 'M', 'NINOS', 'MAYORES']\n",
    "\n",
    "X = df_imp[feature_cols]\n",
    "\n",
    "# Target Variable\n",
    "y = df_imp.internet\n",
    "\n",
    "# Train/Test Split\n",
    "    # 75% for model, 25% for testing\n",
    "\n",
    "X_train,X_test,y_train,y_test = train_test_split(X,y,test_size=0.25,random_state=0)"
   ]
  },
  {
   "cell_type": "code",
   "execution_count": null,
   "metadata": {},
   "outputs": [],
   "source": [
    "# Model Developement:\n",
    "\n",
    "# create logistic regression classifier object to instanciate model\n",
    "logreg = LogisticRegression()\n",
    "\n",
    "# fit model with data\n",
    "logreg.fit(X_train,y_train)\n",
    "\n",
    "# prediction\n",
    "y_pred = logreg.predict(X_test)"
   ]
  },
  {
   "cell_type": "code",
   "execution_count": null,
   "metadata": {},
   "outputs": [],
   "source": [
    "# Model Evaluation using Confusion Matrix\n",
    "\n",
    "# Basic\n",
    "cnf_matrix = metrics.confusion_matrix(y_test, y_pred)\n",
    "print(cnf_matrix)\n",
    "print(\"----------------\")\n",
    "\n",
    "# Complex\n",
    "class_names=['No Father','Father']\n",
    "\n",
    "fig, ax = plt.subplots()\n",
    "tick_marks = np.arange(len(class_names))\n",
    "plt.xticks(tick_marks, class_names)\n",
    "plt.yticks(tick_marks, class_names)\n",
    "\n",
    "sns.heatmap(pd.DataFrame(cnf_matrix), annot=True, cmap=\"GnBu\", fmt='g')\n",
    "ax.xaxis.set_label_position(\"top\")\n",
    "\n",
    "plt.tight_layout()\n",
    "plt.title('Confusion matrix', y=1.1)\n",
    "plt.ylabel('Actual')\n",
    "plt.xlabel('Predicted')"
   ]
  },
  {
   "cell_type": "code",
   "execution_count": null,
   "metadata": {},
   "outputs": [],
   "source": [
    "# Confusion Matrix Evaluation\n",
    "\n",
    "print(\"Accuracy:\",metrics.accuracy_score(y_test, y_pred))\n",
    "print(\"Precision:\",metrics.precision_score(y_test, y_pred))\n",
    "print(\"Recall:\",metrics.recall_score(y_test, y_pred))\n",
    "print(\"F1:\",metrics.f1_score(y_test, y_pred))\n",
    "\n",
    "# ROC Curve\n",
    "\n",
    "y_pred_proba = logreg.predict_proba(X_test)[::,1]\n",
    "fpr, tpr, _ = metrics.roc_curve(y_test,  y_pred_proba)\n",
    "auc = metrics.roc_auc_score(y_test, y_pred_proba)\n",
    "plt.plot(fpr,tpr,label=\"data 1, auc=\"+str(auc))\n",
    "plt.legend(loc=4)\n",
    "plt.show()"
   ]
  },
  {
   "cell_type": "markdown",
   "metadata": {},
   "source": [
    "#### Logistic Regression: _Internet Access -- Summary_ \n",
    "\n",
    "put some words here"
   ]
  },
  {
   "cell_type": "markdown",
   "metadata": {},
   "source": [
    "#### Logistic Regression: _Father in Home -- Build model and Predict_"
   ]
  },
  {
   "cell_type": "code",
   "execution_count": null,
   "metadata": {},
   "outputs": [],
   "source": [
    "# Feature Selection:\n",
    "\n",
    "# Features\n",
    "feature_cols = ['internet', 'agua', 'banco', 'iglesia', 'dejar_hijos','cuantas_personas', 'tiempo_casa', \n",
    "                'primer_hijo', 'cuantas_trabajan','tiempo_trabajan', 'pierden_colegio', 'ingreso', \n",
    "                'bautizadas','MADRE', 'F', 'M', 'NINOS', 'MAYORES']\n",
    "\n",
    "X = df_imp[feature_cols].reset_index()\n",
    "\n",
    "# Target Variable\n",
    "y = df_imp.PADRE\n",
    "\n",
    "# Train/Test Split\n",
    "    # 75% for model, 25% for testing\n",
    "\n",
    "X_train,X_test,y_train,y_test = train_test_split(X,y,test_size=0.25,random_state=0)\n"
   ]
  },
  {
   "cell_type": "code",
   "execution_count": null,
   "metadata": {},
   "outputs": [],
   "source": [
    "# Model Developement:\n",
    "\n",
    "# create logistic regression classifier object to instanciate model\n",
    "logreg = LogisticRegression()\n",
    "\n",
    "# fit model with data\n",
    "logreg.fit(X_train,y_train)\n",
    "\n",
    "# prediction\n",
    "y_pred = logreg.predict(X_test)"
   ]
  },
  {
   "cell_type": "code",
   "execution_count": null,
   "metadata": {},
   "outputs": [],
   "source": [
    "# Model Evaluation using Confusion Matrix\n",
    "\n",
    "# Basic\n",
    "cnf_matrix = metrics.confusion_matrix(y_test, y_pred)\n",
    "print(cnf_matrix)\n",
    "print(\"----------------\")\n",
    "\n",
    "# Complex\n",
    "class_names=['No Father','Father']\n",
    "\n",
    "fig, ax = plt.subplots()\n",
    "tick_marks = np.arange(len(class_names))\n",
    "plt.xticks(tick_marks, class_names)\n",
    "plt.yticks(tick_marks, class_names)\n",
    "\n",
    "sns.heatmap(pd.DataFrame(cnf_matrix), annot=True, cmap=\"GnBu\", fmt='g')\n",
    "ax.xaxis.set_label_position(\"top\")\n",
    "\n",
    "plt.tight_layout()\n",
    "plt.title('Confusion matrix', y=1.1)\n",
    "plt.ylabel('Actual')\n",
    "plt.xlabel('Predicted')"
   ]
  },
  {
   "cell_type": "code",
   "execution_count": null,
   "metadata": {},
   "outputs": [],
   "source": [
    "# Confusion Matrix Evaluation\n",
    "\n",
    "print(\"Accuracy:\",metrics.accuracy_score(y_test, y_pred))\n",
    "print(\"Precision:\",metrics.precision_score(y_test, y_pred))\n",
    "print(\"Recall:\",metrics.recall_score(y_test, y_pred))\n",
    "print(\"F1:\",metrics.f1_score(y_test, y_pred))"
   ]
  },
  {
   "cell_type": "code",
   "execution_count": null,
   "metadata": {},
   "outputs": [],
   "source": [
    "# ROC Curve\n",
    "\n",
    "y_pred_proba = logreg.predict_proba(X_test)[::,1]\n",
    "fpr, tpr, _ = metrics.roc_curve(y_test,  y_pred_proba)\n",
    "auc = metrics.roc_auc_score(y_test, y_pred_proba)\n",
    "plt.plot(fpr,tpr,label=\"data 1, auc=\"+str(auc))\n",
    "plt.legend(loc=4)\n",
    "plt.show()"
   ]
  },
  {
   "cell_type": "markdown",
   "metadata": {},
   "source": [
    "#### Logistic Regression: _Father in Home -- Summary_"
   ]
  },
  {
   "cell_type": "markdown",
   "metadata": {},
   "source": [
    "put some words here"
   ]
  },
  {
   "cell_type": "markdown",
   "metadata": {},
   "source": [
    "### Simple Linear Regression\n",
    "\n",
    "Explain things here about how it works\n",
    "\n",
    "#### Simple Linear Regression: _Commute Time and Income_"
   ]
  },
  {
   "cell_type": "code",
   "execution_count": null,
   "metadata": {},
   "outputs": [],
   "source": [
    "# time to work and income\n",
    "i = sns.lmplot(data=df,x=\"tiempo_trabajan\", y=\"ingreso\", x_estimator=np.mean, order = 2, line_kws={'color': 'teal'})\n",
    "i.set(xlabel = \"Commute Time\",ylabel = \"Income\", title = \"Relationship of Commute Time and Income\")\n",
    "plt.show()"
   ]
  },
  {
   "cell_type": "markdown",
   "metadata": {},
   "source": [
    "#### Simple Linear Regression & Density Plot: _Household Size and Income_"
   ]
  },
  {
   "cell_type": "code",
   "execution_count": null,
   "metadata": {},
   "outputs": [],
   "source": [
    "# simple linear regressions\n",
    "# income and family size\n",
    "g = sns.lmplot(data=df,x=\"cuantas_personas\", y=\"ingreso\", line_kws={'color': 'green'}, order = 2)\n",
    "g.set(xlabel = \"Household Size\",ylabel = \"Income\", title = \"Relationship of Household Size and Income\")\n",
    "plt.show()"
   ]
  },
  {
   "cell_type": "code",
   "execution_count": null,
   "metadata": {},
   "outputs": [],
   "source": [
    "# income and family size\n",
    "h = sns.jointplot(data = df, x = \"cuantas_personas\", y = \"ingreso\", kind = \"hex\", color = 'g')\n",
    "h.set_axis_labels(\"Household Size\", \"Income\")\n",
    "h.fig.suptitle(\"Relationship of Household Size and Income\")\n",
    "plt.show()"
   ]
  },
  {
   "cell_type": "markdown",
   "metadata": {},
   "source": [
    "#### Multiple Linear Regression: _Use All Variable to Predict Income_"
   ]
  },
  {
   "cell_type": "code",
   "execution_count": null,
   "metadata": {},
   "outputs": [],
   "source": [
    "# outliers, applying logs\n",
    "    # https://www.kdnuggets.com/2018/08/make-machine-learning-models-robust-outliers.html"
   ]
  },
  {
   "cell_type": "code",
   "execution_count": 16,
   "metadata": {},
   "outputs": [],
   "source": [
    "# multiple regressions (linear & polynomial)"
   ]
  },
  {
   "cell_type": "code",
   "execution_count": 17,
   "metadata": {},
   "outputs": [],
   "source": [
    "# decision tree"
   ]
  },
  {
   "cell_type": "code",
   "execution_count": 18,
   "metadata": {},
   "outputs": [],
   "source": [
    "# random forest"
   ]
  },
  {
   "cell_type": "code",
   "execution_count": 19,
   "metadata": {},
   "outputs": [],
   "source": [
    "# variable importance"
   ]
  },
  {
   "cell_type": "code",
   "execution_count": 20,
   "metadata": {},
   "outputs": [],
   "source": [
    "# ensemble modeling"
   ]
  },
  {
   "cell_type": "code",
   "execution_count": 21,
   "metadata": {},
   "outputs": [],
   "source": [
    "# root cause analysis"
   ]
  },
  {
   "cell_type": "code",
   "execution_count": 22,
   "metadata": {},
   "outputs": [],
   "source": [
    "# hierarchical cluster analysis"
   ]
  },
  {
   "cell_type": "code",
   "execution_count": 23,
   "metadata": {},
   "outputs": [],
   "source": [
    "# k-means cluster analysis"
   ]
  },
  {
   "cell_type": "code",
   "execution_count": 24,
   "metadata": {},
   "outputs": [],
   "source": [
    "# putting it all together\n",
    "    # visualizations\n",
    "    # important factors and indicators\n",
    "    # groups\n",
    "    # priority associated to neighborhoods\n",
    "    # master dataset\n",
    "    # conclusion, way forward"
   ]
  },
  {
   "cell_type": "code",
   "execution_count": null,
   "metadata": {},
   "outputs": [],
   "source": []
  }
 ],
 "metadata": {
  "kernelspec": {
   "display_name": "Python 3",
   "language": "python",
   "name": "python3"
  },
  "language_info": {
   "codemirror_mode": {
    "name": "ipython",
    "version": 3
   },
   "file_extension": ".py",
   "mimetype": "text/x-python",
   "name": "python",
   "nbconvert_exporter": "python",
   "pygments_lexer": "ipython3",
   "version": "3.6.4"
  }
 },
 "nbformat": 4,
 "nbformat_minor": 2
}
